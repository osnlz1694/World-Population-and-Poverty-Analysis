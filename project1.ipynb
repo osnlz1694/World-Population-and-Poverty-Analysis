{
 "cells": [
  {
   "cell_type": "code",
   "execution_count": 106,
   "id": "3f084717",
   "metadata": {
    "deletable": false,
    "editable": false
   },
   "outputs": [],
   "source": [
    "# Initialize Otter\n",
    "import otter\n",
    "grader = otter.Notebook(\"project1.ipynb\")"
   ]
  },
  {
   "cell_type": "markdown",
   "id": "9a788426",
   "metadata": {},
   "source": [
    "<img src=\"data8logo.png\" alt=\"Data 8 Logo\" style=\"width: 15%; float: right; padding: 1%; margin-right: 2%;\"/>\n",
    "\n",
    "# Project 1: World Population and Poverty\n",
    "\n",
    "In this project, you'll explore data from [Gapminder.org](http://gapminder.org), a website dedicated to providing a fact-based view of the world and how it has changed. That site includes several data visualizations and presentations, but also publishes the raw data that we will use in this project to recreate and extend some of their most famous visualizations.\n",
    "\n",
    "The Gapminder website collects data from many sources and compiles them into tables that describe many countries around the world. All of the data they aggregate are published in the [Systema Globalis](https://github.com/open-numbers/ddf--gapminder--systema_globalis/blob/master/README.md). Their goal is \"to compile all public statistics; Social, Economic and Environmental; into a comparable total dataset.\" All data sets in this project are copied directly from the Systema Globalis without any changes.\n",
    "\n",
    "This project is dedicated to [Hans Rosling](https://en.wikipedia.org/wiki/Hans_Rosling) (1948-2017), who championed the use of data to understand and prioritize global development challenges."
   ]
  },
  {
   "cell_type": "markdown",
   "id": "c952eb6a",
   "metadata": {},
   "source": [
    "### Logistics\n",
    "\n",
    "**Deadline.**  This project is due at **5:00pm PT on Friday 10/4**. Projects will be accepted up to 1 day (24 hours) late. Projects submitted fewer than 24 hours after the deadline will receive 80% credit. It's **much** better to be early than late, so start working now.\n",
    "\n",
    "**Checkpoint.**  For full credit on the checkpoint, you must complete the questions up to the checkpoint, **pass all _public_ autograder tests** for those sections, and submit to the Gradescope Project 1 Checkpoint assignment by **5:00pm PT on Friday, 9/27**. <span style=\"color: #BC412B\">**The checkpoint is worth 5% of your entire project grade**</span>. After you've submitted the checkpoint, you may still change your project answers before the final project deadline - only your final submission, to the \"Project 1\" assignment, will be graded for correctness. You will have some lab time to work on these questions, but we recommend that you start the project before lab and leave time to finish the checkpoint afterward.\n",
    "\n",
    "**Partners.** You may work with one other partner; your partner must be from your assigned lab section. **<span style=\"color: #BC412B\">Only one partner should submit the project notebook to Gradescope.</span> If both partners submit, you will be docked 10% of your project grade. On Gradescope, the person who submits should also designate their partner so that both of you receive credit.** Once you submit, click into your submission, and there will be an option to Add Group Member in the top right corner. You may also reference [this walkthrough video](https://drive.google.com/file/d/12lBUSu5hFOZCdBE5QTQuBalT0nMgRhyC/view?usp=drive_link) on how to add partners on Gradescope.\n",
    "\n",
    "\n",
    "**Rules.** Don't share your code with anybody but your partner. You are welcome to discuss questions with other students, but don't share the answers. The experience of solving the problems in this project will prepare you for exams (and life). If someone asks you for the answer, resist! Instead, you can demonstrate how you would solve a similar problem.\n",
    "\n",
    "**Support.** You are not alone! Come to office hours, post on Ed, and talk to your classmates. If you want to ask about the details of your solution to a problem, make a private Ed post and the staff will respond. If you're ever feeling overwhelmed or don't know how to make progress, email your TA or tutor for help. You can find contact information for the staff on the [course website](https://www.data8.org/fa24/).\n",
    "\n",
    "**Tests.** <span style=\"color: #BC412B\">The tests that are given are **not comprehensive** and passing the tests for a question **does not** mean that you answered the question correctly.</span> Tests usually only check that your table has the correct column labels. However, more tests will be applied to verify the correctness of your submission in order to assign your final score, so be careful and check your work! You might want to create your own checks along the way to see if your answers make sense. Additionally, before you submit, make sure that none of your cells take a very long time to run (several minutes).\n",
    "\n",
    "**Free Response Questions:** Make sure that you put the answers to the written questions in the indicated cell we provide. **Every free response question should include an explanation** that adequately answers the question.\n",
    "\n",
    "**Tabular Thinking Guide:** Feel free to reference [Tabular Thinking Guide](https://drive.google.com/file/d/1NvbBECCBdI0Ku380oPcTUOcpjH3RI230/view) for extra guidance.\n",
    "\n",
    "**Advice.** Develop your answers incrementally. To perform a complicated table manipulation, break it up into steps, perform each step on a different line, give a new name to each result, and check that each intermediate result is what you expect. You can add any additional names or functions you want to the provided cells. Make sure that you are using distinct and meaningful variable names throughout the notebook. Along that line, **DO NOT** reuse the variable names that we use when we grade your answers. For example, in Question 1 of the Global Poverty section we ask you to assign an answer to `latest`. Do not reassign the variable name `latest` to anything else in your notebook, otherwise there is the chance that our tests grade against what `latest` was reassigned to.\n",
    "\n",
    "You are **never** restricted to using only one line of code to solve a question in this project or any others. Feel free to use intermediate variables and multiple lines as much as you would like!\n",
    "\n",
    "---\n",
    "\n",
    "The point breakdown for this assignment is given in the table below:\n",
    "| Category | Points |\n",
    "| --- | --- |\n",
    "| Autograder (Coding questions) | 60 |\n",
    "| Written | 35 |\n",
    "| Checkpoint | 5 |\n",
    "| **Total** | 100 |\n",
    "\n",
    "---\n",
    "\n",
    "To get started, load `datascience`, `numpy`, `plots`, and `otter`."
   ]
  },
  {
   "cell_type": "code",
   "execution_count": 107,
   "id": "389894dd",
   "metadata": {
    "deletable": false
   },
   "outputs": [],
   "source": [
    "# Run this cell to set up the notebook, but please don't change it. \n",
    "\n",
    "# These lines import the NumPy and Datascience modules.\n",
    "from datascience import *\n",
    "import numpy as np\n",
    "\n",
    "# These lines do some fancy plotting magic.\n",
    "%matplotlib inline\n",
    "import matplotlib.pyplot as plots\n",
    "plots.style.use('fivethirtyeight')\n",
    "\n",
    "from ipywidgets import interact, interactive, fixed, interact_manual\n",
    "import ipywidgets as widgets"
   ]
  },
  {
   "cell_type": "markdown",
   "id": "439fe89c",
   "metadata": {},
   "source": [
    "<hr style=\"border: 5px solid #003262;\" />\n",
    "<hr style=\"border: 1px solid #fdb515;\" />\n",
    "\n",
    "## 0. Hazards with `.show`\n",
    "\n",
    "As a heads up, please do not run the function `tbl.show()` in this assignment without an argument. For instance if you want to view a table, please type `tbl.show(10)` instead of `tbl.show()`. This may break your notebook and we cannot guarantee what we will have the capacity to aid you in this. Please answer the question below, and set the value to `True` to confirm you have read this and agree."
   ]
  },
  {
   "cell_type": "code",
   "execution_count": 108,
   "id": "033b27e3",
   "metadata": {
    "tags": []
   },
   "outputs": [],
   "source": [
    "i_wont_use_show_without_an_argument = True"
   ]
  },
  {
   "cell_type": "code",
   "execution_count": 109,
   "id": "712662c7",
   "metadata": {
    "deletable": false,
    "editable": false
   },
   "outputs": [
    {
     "data": {
      "text/html": [
       "<p><strong><pre style='display: inline;'>q0</pre></strong> passed! 🚀</p>"
      ],
      "text/plain": [
       "q0 results: All test cases passed!"
      ]
     },
     "execution_count": 109,
     "metadata": {},
     "output_type": "execute_result"
    }
   ],
   "source": [
    "grader.check(\"q0\")"
   ]
  },
  {
   "cell_type": "markdown",
   "id": "7e45aeb9",
   "metadata": {
    "deletable": false,
    "editable": false
   },
   "source": [
    "<hr style=\"border: 5px solid #003262;\" />\n",
    "<hr style=\"border: 1px solid #fdb515;\" />\n",
    "\n",
    "## 1. Global Population Growth\n"
   ]
  },
  {
   "cell_type": "markdown",
   "id": "6e5c9ecc",
   "metadata": {
    "deletable": false,
    "editable": false
   },
   "source": [
    "The global population of humans reached 1 billion around 1800, 3 billion around 1960, 7 billion around 2011, and 8 billion around 2022. The potential impact of population growth has concerned scientists, economists, and politicians alike.\n",
    "\n",
    "The United Nations Population Division estimates that the world population will likely continue to grow throughout the 21st century, but at a slower rate, perhaps reaching and stabilizing at 10 billion by 2100. However, the UN does not rule out scenarios of slower or more extreme growth. These projections help us understand long-term population processes, even if they leave out possible global catastrophic events like war or climate crises.\n",
    "\n",
    "<a href=\"https://population.un.org/wpp/Graphs/Probabilistic/POP/TOT/900\"> \n",
    " <img src=\"un_population_projection.png\"/> \n",
    "</a>\n",
    "\n",
    "In this part of the project, we will examine some of the factors that influence population growth and how they have been changing over the years and around the world. There are two main sub-parts of this analysis.\n",
    "\n",
    "- First, we will examine the data for one country, Poland. We will see how factors such as life expectancy, fertility rate, and child mortality have changed over time in Poland, and how they are related to the rate of population growth.\n",
    "- Next, we will examine whether the changes we have observed for Poland are particular to that country or whether they reflect general patterns observable in other countries too. We will study aspects of world population growth and see how they have been changing.\n",
    "\n",
    "The first table we will consider contains the total population of each country over time. Run the cell below.\n"
   ]
  },
  {
   "cell_type": "code",
   "execution_count": 110,
   "id": "77125722",
   "metadata": {
    "deletable": false,
    "scrolled": true
   },
   "outputs": [
    {
     "data": {
      "text/html": [
       "<table border=\"1\" class=\"dataframe\">\n",
       "    <thead>\n",
       "        <tr>\n",
       "            <th>geo</th> <th>time</th> <th>population_total</th>\n",
       "        </tr>\n",
       "    </thead>\n",
       "    <tbody>\n",
       "        <tr>\n",
       "            <td>afg </td> <td>1800</td> <td>3280000         </td>\n",
       "        </tr>\n",
       "        <tr>\n",
       "            <td>afg </td> <td>1801</td> <td>3280000         </td>\n",
       "        </tr>\n",
       "        <tr>\n",
       "            <td>afg </td> <td>1802</td> <td>3280000         </td>\n",
       "        </tr>\n",
       "    </tbody>\n",
       "</table>\n",
       "<p>... (44322 rows omitted)</p>"
      ],
      "text/plain": [
       "<IPython.core.display.HTML object>"
      ]
     },
     "metadata": {},
     "output_type": "display_data"
    }
   ],
   "source": [
    "population = Table.read_table('population.csv').where(\"time\", are.below(2025))\n",
    "population.show(3)"
   ]
  },
  {
   "cell_type": "markdown",
   "id": "4eed1dc7",
   "metadata": {},
   "source": [
    "**Note:** The population data can also be found [here](https://www.gapminder.org/data/documentation/gd003/).\n"
   ]
  },
  {
   "cell_type": "markdown",
   "id": "d7eb03c4",
   "metadata": {
    "deletable": false
   },
   "source": [
    "### Poland\n",
    "\n",
    "The Central European nation of Poland has undergone many changes over the centuries. In modern times it was (re)created as a democratic republic in 1919 after World War I. It was invaded and divided in World War II between Germany and the Soviet Union. War and the Holocaust had a devastating impact on its people. Poland was constituted in its current borders at the end of World War II (1945) under a communist government. In 1989, with the fall of the Soviet Union, Poland re-established itself as a democratic republic.\n",
    "\n",
    "In this section of the project, we will examine aspects of the population of Poland since 1900. Poland's borders have changed, so we will look at the population within its current (2024) borders.\n",
    "\n",
    "In the `population` table, the `geo` column contains three-letter codes established by the [International Organization for Standardization](https://en.wikipedia.org/wiki/International_Organization_for_Standardization) (ISO) in the [Alpha-3](https://en.wikipedia.org/wiki/ISO_3166-1_alpha-3#Current_codes) standard. **Use the Alpha-3 link to find the 3-letter code for Poland.**\n"
   ]
  },
  {
   "cell_type": "markdown",
   "id": "01983685",
   "metadata": {},
   "source": [
    "---\n",
    "\n",
    "**Question 1.** Create a table called `p_pop` that has two columns labeled `time` and `population_total`. The first column should contain the years from 1900 through 2024 (including both 1900 and 2024) and the second column should contain the population of Poland in each of those years.\n"
   ]
  },
  {
   "cell_type": "code",
   "execution_count": 111,
   "id": "7792a048",
   "metadata": {
    "deletable": false,
    "tags": []
   },
   "outputs": [
    {
     "data": {
      "text/html": [
       "<table border=\"1\" class=\"dataframe\">\n",
       "    <thead>\n",
       "        <tr>\n",
       "            <th>time</th> <th>population_total</th>\n",
       "        </tr>\n",
       "    </thead>\n",
       "    <tbody>\n",
       "        <tr>\n",
       "            <td>1900</td> <td>24308265        </td>\n",
       "        </tr>\n",
       "        <tr>\n",
       "            <td>1901</td> <td>24485193        </td>\n",
       "        </tr>\n",
       "        <tr>\n",
       "            <td>1902</td> <td>24660489        </td>\n",
       "        </tr>\n",
       "        <tr>\n",
       "            <td>1903</td> <td>24834119        </td>\n",
       "        </tr>\n",
       "        <tr>\n",
       "            <td>1904</td> <td>25008969        </td>\n",
       "        </tr>\n",
       "        <tr>\n",
       "            <td>1905</td> <td>25185047        </td>\n",
       "        </tr>\n",
       "        <tr>\n",
       "            <td>1906</td> <td>25362361        </td>\n",
       "        </tr>\n",
       "        <tr>\n",
       "            <td>1907</td> <td>25540920        </td>\n",
       "        </tr>\n",
       "        <tr>\n",
       "            <td>1908</td> <td>25720733        </td>\n",
       "        </tr>\n",
       "        <tr>\n",
       "            <td>1909</td> <td>25808244        </td>\n",
       "        </tr>\n",
       "    </tbody>\n",
       "</table>\n",
       "<p>... (115 rows omitted)</p>"
      ],
      "text/plain": [
       "time | population_total\n",
       "1900 | 24308265\n",
       "1901 | 24485193\n",
       "1902 | 24660489\n",
       "1903 | 24834119\n",
       "1904 | 25008969\n",
       "1905 | 25185047\n",
       "1906 | 25362361\n",
       "1907 | 25540920\n",
       "1908 | 25720733\n",
       "1909 | 25808244\n",
       "... (115 rows omitted)"
      ]
     },
     "execution_count": 111,
     "metadata": {},
     "output_type": "execute_result"
    }
   ],
   "source": [
    "p_pop = population.where(\"geo\", are.equal_to(\"pol\")).where(\"time\", are.above_or_equal_to(1900)).select(\"time\", \"population_total\")\n",
    "p_pop"
   ]
  },
  {
   "cell_type": "code",
   "execution_count": 112,
   "id": "dc51fdca",
   "metadata": {
    "deletable": false,
    "editable": false
   },
   "outputs": [
    {
     "data": {
      "text/html": [
       "<p><strong><pre style='display: inline;'>q1_1</pre></strong> passed! 🚀</p>"
      ],
      "text/plain": [
       "q1_1 results: All test cases passed!"
      ]
     },
     "execution_count": 112,
     "metadata": {},
     "output_type": "execute_result"
    }
   ],
   "source": [
    "grader.check(\"q1_1\")"
   ]
  },
  {
   "cell_type": "markdown",
   "id": "c4b782bc",
   "metadata": {
    "deletable": false
   },
   "source": [
    "Run the following cell to create a table called `p_five` that has the population of Poland every five years.\n"
   ]
  },
  {
   "cell_type": "code",
   "execution_count": 113,
   "id": "031e5a4f",
   "metadata": {
    "deletable": false
   },
   "outputs": [
    {
     "data": {
      "text/html": [
       "<table border=\"1\" class=\"dataframe\">\n",
       "    <thead>\n",
       "        <tr>\n",
       "            <th>time</th> <th>population_total</th>\n",
       "        </tr>\n",
       "    </thead>\n",
       "    <tbody>\n",
       "        <tr>\n",
       "            <td>1900</td> <td>24,308,265      </td>\n",
       "        </tr>\n",
       "        <tr>\n",
       "            <td>1905</td> <td>25,185,047      </td>\n",
       "        </tr>\n",
       "        <tr>\n",
       "            <td>1910</td> <td>25,803,855      </td>\n",
       "        </tr>\n",
       "    </tbody>\n",
       "</table>\n",
       "<p>... (22 rows omitted)</p>"
      ],
      "text/plain": [
       "<IPython.core.display.HTML object>"
      ]
     },
     "metadata": {},
     "output_type": "display_data"
    }
   ],
   "source": [
    "p_pop.set_format('population_total', NumberFormatter)\n",
    "\n",
    "fives = np.arange(1900, 2021, 5) # 1900, 1905, 1910, ..., 2020\n",
    "p_five = p_pop.sort('time').where('time', are.contained_in(fives))\n",
    "p_five.show(3)"
   ]
  },
  {
   "cell_type": "markdown",
   "id": "9bc45d6c",
   "metadata": {},
   "source": [
    "Run the following cell to visualize the population over time. Following the devastating effects of World War I and World War II, Poland's population increased steadily from 1950 to 2000 and then leveled off. In the following questions we'll investigate this period of population growth.\n"
   ]
  },
  {
   "cell_type": "code",
   "execution_count": 114,
   "id": "4f1b86ff",
   "metadata": {},
   "outputs": [
    {
     "data": {
      "image/png": "[encoded data removed]",
      "text/plain": [
       "<Figure size 600x600 with 1 Axes>"
      ]
     },
     "metadata": {},
     "output_type": "display_data"
    }
   ],
   "source": [
    "p_five.plot(0, 1)"
   ]
  },
  {
   "cell_type": "markdown",
   "id": "90ef4337",
   "metadata": {},
   "source": [
    "---\n",
    "\n",
    "**Question 2.** Assign `initial` to an array that contains the population for every five year interval from **1900 to 2015** (inclusive). Then, assign `changed` to an array that contains the population for every five year interval from **1905 to 2020** (inclusive). The first array should include both 1900 and 2015, and the second array should include both 1905 and 2020. You should use the `p_five` table to create both arrays, by first filtering the table to only contain the relevant years.\n",
    "\n",
    "The annual growth rate for a time period is equal to:\n",
    "\n",
    "$$\\left(\\left(\\frac{\\text{Population at end of period}}{\\text{Population at start of period}}\\right)^{\\displaystyle\\frac{1}{\\text{number of years}}}\\right) -1$$\n",
    "\n",
    "We have provided the code below that uses `initial` and `changed` in order to add a column to `p_five` called `annual_growth`. **Don't worry about the calculation of the growth rates**; run the test below to test your solution.\n",
    "\n",
    "If you are interested in how we came up with the formula for growth rates, consult the [growth rates](https://inferentialthinking.com/chapters/03/2/1/Growth.html) section of the textbook.\n"
   ]
  },
  {
   "cell_type": "code",
   "execution_count": 115,
   "id": "84dc581b",
   "metadata": {
    "tags": []
   },
   "outputs": [
    {
     "data": {
      "text/html": [
       "<table border=\"1\" class=\"dataframe\">\n",
       "    <thead>\n",
       "        <tr>\n",
       "            <th>time</th> <th>population_total</th> <th>annual_growth</th>\n",
       "        </tr>\n",
       "    </thead>\n",
       "    <tbody>\n",
       "        <tr>\n",
       "            <td>1900</td> <td>24,308,265      </td> <td>0.71%        </td>\n",
       "        </tr>\n",
       "        <tr>\n",
       "            <td>1905</td> <td>25,185,047      </td> <td>0.49%        </td>\n",
       "        </tr>\n",
       "        <tr>\n",
       "            <td>1910</td> <td>25,803,855      </td> <td>-0.87%       </td>\n",
       "        </tr>\n",
       "        <tr>\n",
       "            <td>1915</td> <td>24,696,678      </td> <td>-0.75%       </td>\n",
       "        </tr>\n",
       "        <tr>\n",
       "            <td>1920</td> <td>23,785,820      </td> <td>1.32%        </td>\n",
       "        </tr>\n",
       "        <tr>\n",
       "            <td>1925</td> <td>25,395,008      </td> <td>1.52%        </td>\n",
       "        </tr>\n",
       "        <tr>\n",
       "            <td>1930</td> <td>27,378,955      </td> <td>0.75%        </td>\n",
       "        </tr>\n",
       "        <tr>\n",
       "            <td>1935</td> <td>28,414,953      </td> <td>0.32%        </td>\n",
       "        </tr>\n",
       "        <tr>\n",
       "            <td>1940</td> <td>28,876,472      </td> <td>-1.58%       </td>\n",
       "        </tr>\n",
       "        <tr>\n",
       "            <td>1945</td> <td>26,666,588      </td> <td>-1.46%       </td>\n",
       "        </tr>\n",
       "    </tbody>\n",
       "</table>\n",
       "<p>... (14 rows omitted)</p>"
      ],
      "text/plain": [
       "time | population_total | annual_growth\n",
       "1900 | 24,308,265       | 0.71%\n",
       "1905 | 25,185,047       | 0.49%\n",
       "1910 | 25,803,855       | -0.87%\n",
       "1915 | 24,696,678       | -0.75%\n",
       "1920 | 23,785,820       | 1.32%\n",
       "1925 | 25,395,008       | 1.52%\n",
       "1930 | 27,378,955       | 0.75%\n",
       "1935 | 28,414,953       | 0.32%\n",
       "1940 | 28,876,472       | -1.58%\n",
       "1945 | 26,666,588       | -1.46%\n",
       "... (14 rows omitted)"
      ]
     },
     "execution_count": 115,
     "metadata": {},
     "output_type": "execute_result"
    }
   ],
   "source": [
    "initial = p_five.where(\"time\", are.below_or_equal_to(2015)).column(\"population_total\")\n",
    "changed = p_five.where(\"time\", are.between_or_equal_to(1905, 2020)).column(\"population_total\")\n",
    "\n",
    "p_1900_through_2015 = p_five.where('time', are.below_or_equal_to(2015)) \n",
    "p_five_growth = p_1900_through_2015.with_column('annual_growth', (changed/initial)**0.2-1)\n",
    "p_five_growth.set_format('annual_growth', PercentFormatter)"
   ]
  },
  {
   "cell_type": "code",
   "execution_count": 116,
   "id": "659e5db2",
   "metadata": {
    "deletable": false,
    "editable": false
   },
   "outputs": [
    {
     "data": {
      "text/html": [
       "<p><strong><pre style='display: inline;'>q1_2</pre></strong> passed! 🚀</p>"
      ],
      "text/plain": [
       "q1_2 results: All test cases passed!"
      ]
     },
     "execution_count": 116,
     "metadata": {},
     "output_type": "execute_result"
    }
   ],
   "source": [
    "grader.check(\"q1_2\")"
   ]
  },
  {
   "cell_type": "markdown",
   "id": "28f93c68",
   "metadata": {
    "deletable": false
   },
   "source": [
    "The annual growth rate in Poland has been declining since 1950, as shown in the table below.\n"
   ]
  },
  {
   "cell_type": "code",
   "execution_count": 117,
   "id": "8be4ed0f",
   "metadata": {},
   "outputs": [
    {
     "data": {
      "text/html": [
       "<table border=\"1\" class=\"dataframe\">\n",
       "    <thead>\n",
       "        <tr>\n",
       "            <th>time</th> <th>population_total</th> <th>annual_growth</th>\n",
       "        </tr>\n",
       "    </thead>\n",
       "    <tbody>\n",
       "        <tr>\n",
       "            <td>1950</td> <td>24,780,161      </td> <td>1.78%        </td>\n",
       "        </tr>\n",
       "        <tr>\n",
       "            <td>1955</td> <td>27,063,640      </td> <td>1.79%        </td>\n",
       "        </tr>\n",
       "        <tr>\n",
       "            <td>1960</td> <td>29,575,966      </td> <td>1.13%        </td>\n",
       "        </tr>\n",
       "        <tr>\n",
       "            <td>1965</td> <td>31,288,336      </td> <td>0.79%        </td>\n",
       "        </tr>\n",
       "        <tr>\n",
       "            <td>1970</td> <td>32,542,633      </td> <td>0.86%        </td>\n",
       "        </tr>\n",
       "        <tr>\n",
       "            <td>1975</td> <td>33,964,399      </td> <td>0.93%        </td>\n",
       "        </tr>\n",
       "        <tr>\n",
       "            <td>1980</td> <td>35,576,519      </td> <td>0.90%        </td>\n",
       "        </tr>\n",
       "        <tr>\n",
       "            <td>1985</td> <td>37,200,853      </td> <td>0.46%        </td>\n",
       "        </tr>\n",
       "        <tr>\n",
       "            <td>1990</td> <td>38,055,455      </td> <td>0.16%        </td>\n",
       "        </tr>\n",
       "        <tr>\n",
       "            <td>1995</td> <td>38,364,667      </td> <td>-0.06%       </td>\n",
       "        </tr>\n",
       "        <tr>\n",
       "            <td>2000</td> <td>38,258,071      </td> <td>-0.07%       </td>\n",
       "        </tr>\n",
       "        <tr>\n",
       "            <td>2005</td> <td>38,124,379      </td> <td>-0.02%       </td>\n",
       "        </tr>\n",
       "        <tr>\n",
       "            <td>2010</td> <td>38,095,351      </td> <td>0.09%        </td>\n",
       "        </tr>\n",
       "        <tr>\n",
       "            <td>2015</td> <td>38,266,314      </td> <td>-0.05%       </td>\n",
       "        </tr>\n",
       "    </tbody>\n",
       "</table>"
      ],
      "text/plain": [
       "<IPython.core.display.HTML object>"
      ]
     },
     "metadata": {},
     "output_type": "display_data"
    }
   ],
   "source": [
    "# Run this cell to view annual growth rates in Poland since 1950.\n",
    "p_five_growth.where('time', are.above_or_equal_to(1950)).show()"
   ]
  },
  {
   "cell_type": "markdown",
   "id": "1708f3ab",
   "metadata": {},
   "source": [
    "Next, we'll try to understand what has changed in Poland that might explain the slowing population growth rate. Run the next cell to load three additional tables of measurements about countries over time.\n"
   ]
  },
  {
   "cell_type": "code",
   "execution_count": 118,
   "id": "ab57f8b6",
   "metadata": {
    "deletable": false
   },
   "outputs": [],
   "source": [
    "life_expectancy = Table.read_table('life_expectancy.csv').where('time', are.below(2025))\n",
    "child_mortality = Table.read_table('child_mortality.csv').relabel(2, 'child_mortality_under_5_per_1000_born').where('time', are.below(2025))\n",
    "fertility = Table.read_table('fertility.csv').where('time', are.below(2025))"
   ]
  },
  {
   "cell_type": "markdown",
   "id": "65d915e7",
   "metadata": {
    "deletable": false,
    "editable": false
   },
   "source": [
    "The `life_expectancy` table contains a statistic that is often used to measure how long people live, called _life expectancy at birth_. This number, for a country in a given year, [does not measure how long babies born in that year are expected to live](http://blogs.worldbank.org/opendata/what-does-life-expectancy-birth-really-mean). Instead, it measures how long someone would live, on average, if the _mortality conditions_ in that year persisted throughout their lifetime. These \"mortality conditions\" describe what fraction of people for each age survived the year. So, it is a way of measuring the proportion of people that are staying alive, aggregated over different age groups in the population.\n"
   ]
  },
  {
   "cell_type": "markdown",
   "id": "73b73340",
   "metadata": {},
   "source": [
    "Run the following cells below to see `life_expectancy`, `child_mortality`, and `fertility`. Refer back to these tables as they will be helpful for answering further questions!\n"
   ]
  },
  {
   "cell_type": "code",
   "execution_count": 119,
   "id": "3ca97558",
   "metadata": {},
   "outputs": [
    {
     "data": {
      "text/html": [
       "<table border=\"1\" class=\"dataframe\">\n",
       "    <thead>\n",
       "        <tr>\n",
       "            <th>geo</th> <th>time</th> <th>life_expectancy_years</th>\n",
       "        </tr>\n",
       "    </thead>\n",
       "    <tbody>\n",
       "        <tr>\n",
       "            <td>afg </td> <td>1800</td> <td>28.21                </td>\n",
       "        </tr>\n",
       "        <tr>\n",
       "            <td>afg </td> <td>1801</td> <td>28.2                 </td>\n",
       "        </tr>\n",
       "        <tr>\n",
       "            <td>afg </td> <td>1802</td> <td>28.19                </td>\n",
       "        </tr>\n",
       "    </tbody>\n",
       "</table>\n",
       "<p>... (42597 rows omitted)</p>"
      ],
      "text/plain": [
       "<IPython.core.display.HTML object>"
      ]
     },
     "metadata": {},
     "output_type": "display_data"
    }
   ],
   "source": [
    "life_expectancy.show(3)"
   ]
  },
  {
   "cell_type": "code",
   "execution_count": 120,
   "id": "548f8782",
   "metadata": {},
   "outputs": [
    {
     "data": {
      "text/html": [
       "<table border=\"1\" class=\"dataframe\">\n",
       "    <thead>\n",
       "        <tr>\n",
       "            <th>geo</th> <th>time</th> <th>child_mortality_under_5_per_1000_born</th>\n",
       "        </tr>\n",
       "    </thead>\n",
       "    <tbody>\n",
       "        <tr>\n",
       "            <td>afg </td> <td>1800</td> <td>468.58                               </td>\n",
       "        </tr>\n",
       "        <tr>\n",
       "            <td>afg </td> <td>1801</td> <td>468.58                               </td>\n",
       "        </tr>\n",
       "        <tr>\n",
       "            <td>afg </td> <td>1802</td> <td>468.58                               </td>\n",
       "        </tr>\n",
       "    </tbody>\n",
       "</table>\n",
       "<p>... (42522 rows omitted)</p>"
      ],
      "text/plain": [
       "<IPython.core.display.HTML object>"
      ]
     },
     "metadata": {},
     "output_type": "display_data"
    }
   ],
   "source": [
    "child_mortality.show(3)"
   ]
  },
  {
   "cell_type": "code",
   "execution_count": 121,
   "id": "a0672288",
   "metadata": {},
   "outputs": [
    {
     "data": {
      "text/html": [
       "<table border=\"1\" class=\"dataframe\">\n",
       "    <thead>\n",
       "        <tr>\n",
       "            <th>geo</th> <th>time</th> <th>children_per_woman_total_fertility</th>\n",
       "        </tr>\n",
       "    </thead>\n",
       "    <tbody>\n",
       "        <tr>\n",
       "            <td>afg </td> <td>1800</td> <td>7                                 </td>\n",
       "        </tr>\n",
       "        <tr>\n",
       "            <td>afg </td> <td>1801</td> <td>7                                 </td>\n",
       "        </tr>\n",
       "        <tr>\n",
       "            <td>afg </td> <td>1802</td> <td>7                                 </td>\n",
       "        </tr>\n",
       "    </tbody>\n",
       "</table>\n",
       "<p>... (44322 rows omitted)</p>"
      ],
      "text/plain": [
       "<IPython.core.display.HTML object>"
      ]
     },
     "metadata": {},
     "output_type": "display_data"
    }
   ],
   "source": [
    "fertility.show(3)"
   ]
  },
  {
   "cell_type": "markdown",
   "id": "613d8276",
   "metadata": {},
   "source": [
    "<!-- BEGIN QUESTION -->\n",
    "\n",
    "---\n",
    "\n",
    "**Question 3.** Is population growing more slowly perhaps because people aren’t living as long? Use the `life_expectancy` table to draw a line graph with the years 1950 and later on the horizontal axis that shows how the _life expectancy at birth_ has changed in Poland.\n",
    "\n",
    "_Hint_: Make sure you filter the table properly; otherwise, the graph may look funky!\n"
   ]
  },
  {
   "cell_type": "code",
   "execution_count": 122,
   "id": "64d8292a",
   "metadata": {
    "deletable": false,
    "manual_grade": true,
    "manual_problem_id": "global_pop_3",
    "tags": []
   },
   "outputs": [
    {
     "data": {
      "image/png": "[encoded data removed]",
      "text/plain": [
       "<Figure size 600x600 with 1 Axes>"
      ]
     },
     "metadata": {},
     "output_type": "display_data"
    }
   ],
   "source": [
    "# Fill in code here\n",
    "post_1950_data = life_expectancy.where(\"time\", are.above_or_equal_to(1950)).where(\"geo\", are.equal_to(\"pol\"))\n",
    "post_1950_time = post_1950_data.column(\"time\")\n",
    "post_1950_leys = post_1950_data.column(\"life_expectancy_years\")\n",
    "post_1950_table = post_1950_data.with_columns(\"Post-1950 Years\", post_1950_time, \"Post-1950 LEYs (Poland)\", post_1950_leys)\n",
    "post_1950_table.plot(\"Post-1950 Years\", \"Post-1950 LEYs (Poland)\")"
   ]
  },
  {
   "cell_type": "markdown",
   "id": "2d4066e9",
   "metadata": {},
   "source": [
    "<!-- END QUESTION -->\n",
    "\n",
    "<!-- BEGIN QUESTION -->\n",
    "\n",
    "---\n",
    "\n",
    "**Question 4.** Assuming everything else stays the same, do the trends in life expectancy in the graph above directly explain why the population growth rate decreased since 1950 in Poland? Why or why not?\n"
   ]
  },
  {
   "cell_type": "markdown",
   "id": "87cd3f42",
   "metadata": {},
   "source": [
    "_The trends in life expectancy in the graph above do not directly explain the population growth rate decrease since 1950 in Poland. Life expectancy years at birth measures how long someone would live. Thus, the trends in life expectancy in the graph only expain changes in mortality rates, not the population growth rate. To show a decrease in the population growth rate, we would need to compare it with trends in birth rates._"
   ]
  },
  {
   "cell_type": "markdown",
   "id": "5efb04c2",
   "metadata": {
    "deletable": false,
    "editable": false
   },
   "source": [
    "<!-- END QUESTION -->\n",
    "\n",
    "The `fertility` table contains a statistic that is often used to measure how many babies are being born, the _total fertility rate_. This number describes the [number of children a woman would have in her lifetime](https://www.data4impactproject.org/prh/family-planning/fertility/total-fertility-rate/), on average, if the current rates of birth by age of the mother persisted throughout her child bearing years, assuming she survived through age 49.\n"
   ]
  },
  {
   "cell_type": "markdown",
   "id": "faa9e342",
   "metadata": {},
   "source": [
    "---\n",
    "\n",
    "**Question 5.** Complete the function `fertility_over_time`. It takes two input arguments, the Alpha-3 code of a country (denoted as `country_code`) and a year to `start` from (denoted as start). It returns a two-column table with the column labels `Year` and `Children per woman`. These columns can be used to generate a line chart of the country’s fertility rate each year, starting from the year given by `start`. The plot should include the start year and all later years that appear in the fertility table.\n",
    "\n",
    "Then, determine the Alpha-3 code for **Poland**. The code at the very bottom for `poland_code` and the year `1950` are inputted to your `fertility_over_time` function. The function returns a table which we use in order to plot how Poland's fertility rate has changed since `1950`. Note that the function `fertility_over_time` should not return the plot itself – it returns a two column table. The expression that draws the line plot is provided for you; please don’t change it.\n",
    "\n",
    "_Hint_: Read about `tbl.relabeled` in the [Python Reference](https://www.data8.org/fa24/reference/) to rename columns.\n"
   ]
  },
  {
   "cell_type": "code",
   "execution_count": 123,
   "id": "afb2e830",
   "metadata": {
    "deletable": false,
    "tags": []
   },
   "outputs": [
    {
     "data": {
      "text/html": [
       "<table border=\"1\" class=\"dataframe\">\n",
       "    <thead>\n",
       "        <tr>\n",
       "            <th>Year</th> <th>Children per woman</th>\n",
       "        </tr>\n",
       "    </thead>\n",
       "    <tbody>\n",
       "        <tr>\n",
       "            <td>1950</td> <td>3.66              </td>\n",
       "        </tr>\n",
       "        <tr>\n",
       "            <td>1951</td> <td>3.68              </td>\n",
       "        </tr>\n",
       "        <tr>\n",
       "            <td>1952</td> <td>3.64              </td>\n",
       "        </tr>\n",
       "        <tr>\n",
       "            <td>1953</td> <td>3.6               </td>\n",
       "        </tr>\n",
       "        <tr>\n",
       "            <td>1954</td> <td>3.56              </td>\n",
       "        </tr>\n",
       "        <tr>\n",
       "            <td>1955</td> <td>3.54              </td>\n",
       "        </tr>\n",
       "        <tr>\n",
       "            <td>1956</td> <td>3.45              </td>\n",
       "        </tr>\n",
       "        <tr>\n",
       "            <td>1957</td> <td>3.44              </td>\n",
       "        </tr>\n",
       "        <tr>\n",
       "            <td>1958</td> <td>3.34              </td>\n",
       "        </tr>\n",
       "        <tr>\n",
       "            <td>1959</td> <td>3.21              </td>\n",
       "        </tr>\n",
       "    </tbody>\n",
       "</table>\n",
       "<p>... (65 rows omitted)</p>"
      ],
      "text/plain": [
       "Year | Children per woman\n",
       "1950 | 3.66\n",
       "1951 | 3.68\n",
       "1952 | 3.64\n",
       "1953 | 3.6\n",
       "1954 | 3.56\n",
       "1955 | 3.54\n",
       "1956 | 3.45\n",
       "1957 | 3.44\n",
       "1958 | 3.34\n",
       "1959 | 3.21\n",
       "... (65 rows omitted)"
      ]
     },
     "execution_count": 123,
     "metadata": {},
     "output_type": "execute_result"
    }
   ],
   "source": [
    "def fertility_over_time(country_code, start):\n",
    "    \"\"\"Create a two-column table that describes a country's total fertility rate each year.\"\"\"\n",
    "    # It's a good idea (but not required) to use multiple lines in your solution.\n",
    "    fertility_specify = fertility.where(\"geo\", are.equal_to(country_code)).where(\"time\", are.above_or_equal_to(start)).select(\"time\", \"children_per_woman_total_fertility\")\n",
    "    country_fertility = fertility_specify.relabeled(\"time\", \"Year\").relabeled(\"children_per_woman_total_fertility\", \"Children per woman\")\n",
    "    return country_fertility\n",
    "\n",
    "\n",
    "poland_code = \"pol\"\n",
    "fertility_over_time(poland_code, 1950)"
   ]
  },
  {
   "cell_type": "code",
   "execution_count": 124,
   "id": "afa09836",
   "metadata": {
    "deletable": false,
    "editable": false
   },
   "outputs": [
    {
     "data": {
      "text/html": [
       "<p><strong><pre style='display: inline;'>q1_5</pre></strong> passed! 🍀</p>"
      ],
      "text/plain": [
       "q1_5 results: All test cases passed!"
      ]
     },
     "execution_count": 124,
     "metadata": {},
     "output_type": "execute_result"
    }
   ],
   "source": [
    "grader.check(\"q1_5\")"
   ]
  },
  {
   "cell_type": "markdown",
   "id": "2d46f126",
   "metadata": {},
   "source": [
    "Plotting the fertility rate in Poland since 1950, we see a downward trend.\n"
   ]
  },
  {
   "cell_type": "code",
   "execution_count": 125,
   "id": "c3495a99",
   "metadata": {},
   "outputs": [
    {
     "data": {
      "image/png": "[encoded data removed]",
      "text/plain": [
       "<Figure size 600x600 with 1 Axes>"
      ]
     },
     "metadata": {},
     "output_type": "display_data"
    }
   ],
   "source": [
    "fertility_over_time(poland_code, 1950).plot(0, 1)"
   ]
  },
  {
   "cell_type": "markdown",
   "id": "e2f46f2f",
   "metadata": {},
   "source": [
    "<!-- BEGIN QUESTION -->\n",
    "\n",
    "---\n",
    "\n",
    "**Question 6.** Assuming everything else is constant, do the trends in fertility in the graph above help directly explain why the population growth rate decreased from 1950 to 2020 in Poland? Why or why not?\n"
   ]
  },
  {
   "cell_type": "markdown",
   "id": "a9715f5d",
   "metadata": {},
   "source": [
    "_The trends in fertility in the graph above directly explains why the population growth rate decreased from 1950 to 2020 in Poland. The number of children per woman measures how many babies a woman has in a certain year, which explains changes in the population growth rate. In the line graph, we see a downward trend in the number of children per woman after 1950. This means that ever since 1950, Polish women gradually had less babies as the years went by, which explains Poland's slow and shrinking population growth rate._"
   ]
  },
  {
   "cell_type": "markdown",
   "id": "f6a83270",
   "metadata": {
    "deletable": false
   },
   "source": [
    "<!-- END QUESTION -->\n",
    "\n",
    "It has been [observed](https://www.ageing.ox.ac.uk/download/143) that lower fertility rates are often associated with lower child mortality rates. We can see if this association is evident in Poland by plotting the relationship between total fertility rate and [child mortality rate per 1000 children](https://en.wikipedia.org/wiki/Child_mortality).\n"
   ]
  },
  {
   "cell_type": "markdown",
   "id": "45482d7b",
   "metadata": {},
   "source": [
    "---\n",
    "\n",
    "**Question 7.** Create a table `poland_since_1950` that contains one row per year starting with 1950 and:\n",
    "\n",
    "- A column `Year` containing the year\n",
    "- A column `Children per woman` describing total fertility in Poland that year\n",
    "- A column `Child deaths per 1000 born` describing child mortality in Poland that year\n"
   ]
  },
  {
   "cell_type": "code",
   "execution_count": 126,
   "id": "bb275c21",
   "metadata": {
    "deletable": false,
    "tags": []
   },
   "outputs": [
    {
     "data": {
      "text/html": [
       "<table border=\"1\" class=\"dataframe\">\n",
       "    <thead>\n",
       "        <tr>\n",
       "            <th>Year</th> <th>Children per woman</th> <th>Child deaths per 1000 born</th>\n",
       "        </tr>\n",
       "    </thead>\n",
       "    <tbody>\n",
       "        <tr>\n",
       "            <td>1950</td> <td>3.66              </td> <td>164.08                    </td>\n",
       "        </tr>\n",
       "        <tr>\n",
       "            <td>1951</td> <td>3.68              </td> <td>177.18                    </td>\n",
       "        </tr>\n",
       "        <tr>\n",
       "            <td>1952</td> <td>3.64              </td> <td>140.16                    </td>\n",
       "        </tr>\n",
       "        <tr>\n",
       "            <td>1953</td> <td>3.6               </td> <td>127.65                    </td>\n",
       "        </tr>\n",
       "        <tr>\n",
       "            <td>1954</td> <td>3.56              </td> <td>118.9                     </td>\n",
       "        </tr>\n",
       "        <tr>\n",
       "            <td>1955</td> <td>3.54              </td> <td>110.38                    </td>\n",
       "        </tr>\n",
       "        <tr>\n",
       "            <td>1956</td> <td>3.45              </td> <td>94.19                     </td>\n",
       "        </tr>\n",
       "        <tr>\n",
       "            <td>1957</td> <td>3.44              </td> <td>86.72                     </td>\n",
       "        </tr>\n",
       "        <tr>\n",
       "            <td>1958</td> <td>3.34              </td> <td>81.28                     </td>\n",
       "        </tr>\n",
       "        <tr>\n",
       "            <td>1959</td> <td>3.21              </td> <td>72.1                      </td>\n",
       "        </tr>\n",
       "    </tbody>\n",
       "</table>\n",
       "<p>... (65 rows omitted)</p>"
      ],
      "text/plain": [
       "Year | Children per woman | Child deaths per 1000 born\n",
       "1950 | 3.66               | 164.08\n",
       "1951 | 3.68               | 177.18\n",
       "1952 | 3.64               | 140.16\n",
       "1953 | 3.6                | 127.65\n",
       "1954 | 3.56               | 118.9\n",
       "1955 | 3.54               | 110.38\n",
       "1956 | 3.45               | 94.19\n",
       "1957 | 3.44               | 86.72\n",
       "1958 | 3.34               | 81.28\n",
       "1959 | 3.21               | 72.1\n",
       "... (65 rows omitted)"
      ]
     },
     "execution_count": 126,
     "metadata": {},
     "output_type": "execute_result"
    }
   ],
   "source": [
    "pol_fertility = fertility_over_time(poland_code, 1950)  # Try starting with the table you built already!\n",
    "# It's a good idea (but not required) to use multiple lines in your solution.\n",
    "pol_child_mortality = child_mortality.where(\"geo\", are.equal_to(\"pol\")).where(\"time\", are.above_or_equal_to(1950)).column(\"child_mortality_under_5_per_1000_born\")\n",
    "pol_fertility_and_child_mortality = pol_fertility.with_columns(\"Child deaths per 1000 born\", pol_child_mortality)\n",
    "poland_since_1950 = pol_fertility_and_child_mortality\n",
    "poland_since_1950"
   ]
  },
  {
   "cell_type": "code",
   "execution_count": 127,
   "id": "bde66a48",
   "metadata": {
    "deletable": false,
    "editable": false
   },
   "outputs": [
    {
     "data": {
      "text/html": [
       "<p><strong><pre style='display: inline;'>q1_7</pre></strong> passed! 🌟</p>"
      ],
      "text/plain": [
       "q1_7 results: All test cases passed!"
      ]
     },
     "execution_count": 127,
     "metadata": {},
     "output_type": "execute_result"
    }
   ],
   "source": [
    "grader.check(\"q1_7\")"
   ]
  },
  {
   "cell_type": "markdown",
   "id": "2bc54a33",
   "metadata": {},
   "source": [
    "Run the following cell to generate a scatter plot from the `poland_since_1950` table you created.\n",
    "\n",
    "The plot uses **color** to encode data about the `Year` column. The colors, ranging from dark blue to white, represent the passing of time between 1950 and 2024. For example, a point on the scatter plot representing data from the 1950s would appear as **dark blue** and a point from the 2010s would appear as **light blue**.\n"
   ]
  },
  {
   "cell_type": "code",
   "execution_count": 128,
   "id": "185ebcad",
   "metadata": {},
   "outputs": [
    {
     "data": {
      "image/png": "[encoded data removed]",
      "text/plain": [
       "<Figure size 600x600 with 2 Axes>"
      ]
     },
     "metadata": {},
     "output_type": "display_data"
    }
   ],
   "source": [
    "x_births = poland_since_1950.column(\"Children per woman\")\n",
    "y_deaths = poland_since_1950.column(\"Child deaths per 1000 born\")\n",
    "time_colors = poland_since_1950.column(\"Year\")\n",
    "\n",
    "plots.figure(figsize=(6,6))\n",
    "plots.scatter(x_births, y_deaths, c=time_colors, cmap=\"Blues_r\")\n",
    "plots.colorbar()                  \n",
    "plots.xlabel(\"Children per woman\")\n",
    "plots.ylabel(\"Child deaths per 1000 born\");"
   ]
  },
  {
   "cell_type": "markdown",
   "id": "37b46844",
   "metadata": {},
   "source": [
    "<!-- BEGIN QUESTION -->\n",
    "\n",
    "---\n",
    "\n",
    "**Question 8.** In one or two sentences, describe the association (if any) that is illustrated by this scatter plot. Does the diagram show any causal relation between between fertility and child mortality?\n"
   ]
  },
  {
   "cell_type": "markdown",
   "id": "c46b8f03",
   "metadata": {},
   "source": [
    "_There is a positive association between higher fertility rates and higher child mortality rates. The scatter plot does not show any causal relation between fertility and child mortality; it only observes the relationship between those two variables._"
   ]
  },
  {
   "cell_type": "markdown",
   "id": "6eadf48f",
   "metadata": {},
   "source": [
    "<!-- END QUESTION -->\n",
    "\n",
    "_Optional food for thought_: What other context or information you would need in order to better understand the factors affecting life expectancy, child mortality, and fertility?\n"
   ]
  },
  {
   "attachments": {},
   "cell_type": "markdown",
   "id": "b8dea5a5",
   "metadata": {},
   "source": [
    "### Checkpoint (due Friday 9/27 by 5:00 PM PT)\n",
    "\n",
    "<img src=\"harvey.png\" alt=\"Close-up photo of a golden retriever looking at the camera\" width=\"300\"/>\n",
    "\n",
    "**WOOOHOO!!!** Harvey wants to congratulate you on reaching the checkpoint!\n",
    "\n",
    "**Run the following cells and submit to the Gradescope assignment corresponding to the checkpoint: <u>Project 1 Checkpoint</u>**\n",
    "\n",
    "**<span style=\"color: #BC412B\">Remember to add your project partner to your submission on Gradescope!</span>** <u>Only one partner should submit to Gradescope.</u>"
   ]
  },
  {
   "cell_type": "markdown",
   "id": "44f82ad7",
   "metadata": {},
   "source": [
    "--- \n",
    "\n",
    "To double check your work, the cell below will rerun all of the autograder tests for Section 1. "
   ]
  },
  {
   "cell_type": "code",
   "execution_count": 129,
   "id": "729cb90f",
   "metadata": {},
   "outputs": [
    {
     "data": {
      "text/html": [
       "<p><strong><pre style='display: inline;'>q1_1</pre></strong> passed! ✨</p>"
      ],
      "text/plain": [
       "q1_1 results: All test cases passed!"
      ]
     },
     "metadata": {},
     "output_type": "display_data"
    },
    {
     "data": {
      "text/html": [
       "<p><strong><pre style='display: inline;'>q1_2</pre></strong> passed! 🙌</p>"
      ],
      "text/plain": [
       "q1_2 results: All test cases passed!"
      ]
     },
     "metadata": {},
     "output_type": "display_data"
    },
    {
     "data": {
      "text/html": [
       "<p><strong><pre style='display: inline;'>q1_5</pre></strong> passed! 🍀</p>"
      ],
      "text/plain": [
       "q1_5 results: All test cases passed!"
      ]
     },
     "metadata": {},
     "output_type": "display_data"
    },
    {
     "data": {
      "text/html": [
       "<p><strong><pre style='display: inline;'>q1_7</pre></strong> passed! 🌟</p>"
      ],
      "text/plain": [
       "q1_7 results: All test cases passed!"
      ]
     },
     "metadata": {},
     "output_type": "display_data"
    }
   ],
   "source": [
    "checkpoint_tests = [\"q1_1\", \"q1_2\", \"q1_5\", \"q1_7\"]\n",
    "for test in checkpoint_tests:\n",
    "    display(grader.check(test))"
   ]
  },
  {
   "cell_type": "markdown",
   "id": "27860a42",
   "metadata": {},
   "source": [
    "## Submission\n",
    "\n",
    "Make sure you have run all cells in your notebook in order before running the cell below, so that all images/graphs appear in the output. The cell below will generate a zip file for you to submit. You only need to submit the zip file for the checkpoint. **Please save before exporting!**"
   ]
  },
  {
   "cell_type": "code",
   "execution_count": 130,
   "id": "fc3f1741",
   "metadata": {},
   "outputs": [
    {
     "data": {
      "text/html": [
       "\n",
       "            <p>Your submission has been exported. Click <a href=\"project1_2024_09_27T02_18_33_144236.zip\" download=\"project1_2024_09_27T02_18_33_144236.zip\" target=\"_blank\">here</a>\n",
       "            to download the zip file.</p>\n",
       "            "
      ],
      "text/plain": [
       "<IPython.core.display.HTML object>"
      ]
     },
     "metadata": {},
     "output_type": "display_data"
    }
   ],
   "source": [
    "# Save your notebook first, then run this cell to export your submission.\n",
    "grader.export(pdf=False)"
   ]
  },
  {
   "cell_type": "markdown",
   "id": "88f37097",
   "metadata": {
    "deletable": false
   },
   "source": [
    "<hr style=\"border: 1px solid #fdb515;\" />\n",
    "\n",
    "### The World\n",
    "\n",
    "The changes observed in Poland can also be observed in many other countries: except during periods of extended war, famine, and social chaos, health services generally improve, life expectancy increases, and child mortality decreases. At the same time, the fertility rate often plummets, and where it does, the population growth rate decreases despite increasing longevity."
   ]
  },
  {
   "cell_type": "markdown",
   "id": "afdf7e33",
   "metadata": {
    "deletable": false
   },
   "source": [
    "Run the cell below to generate two overlaid histograms, one for 1962 and one for 2010, that show the distributions of total fertility rates for these two years among all 201 countries in the `fertility` table."
   ]
  },
  {
   "cell_type": "code",
   "execution_count": 131,
   "id": "e454c2ca",
   "metadata": {
    "deletable": false
   },
   "outputs": [
    {
     "data": {
      "image/png": "[encoded data removed]",
      "text/plain": [
       "<Figure size 600x400 with 1 Axes>"
      ]
     },
     "metadata": {},
     "output_type": "display_data"
    }
   ],
   "source": [
    "Table().with_columns( \n",
    "    '1962', fertility.where('time', 1962).column(2),\n",
    "    '2010', fertility.where('time', 2010).column(2)\n",
    ").hist(bins=np.arange(0, 10, 0.5), unit='child per woman')\n",
    "_ = plots.xlabel('Children per woman')\n",
    "_ = plots.ylabel('Percent per children per woman')\n",
    "_ = plots.xticks(np.arange(10))"
   ]
  },
  {
   "cell_type": "markdown",
   "id": "59bb92e0",
   "metadata": {},
   "source": [
    "---\n",
    "\n",
    "**Question 9.** Assign `fertility_statements` to an **array** of the numbers of each statement below that can be correctly inferred from these histograms.\n",
    "\n",
    "1. About the same number of countries had a fertility rate between 3.5 and 4.5 in both 1962 and 2010.\n",
    "1. In 1962, less than 20% of countries had a fertility rate below 3.\n",
    "1. At least half of countries had a fertility rate between 5 and 8 in 1962.\n",
    "1. In 2010, about 40% of countries had a fertility rate between 1.5 and 2.\n",
    "1. At least half of countries had a fertility rate below 3 in 2010.\n",
    "1. More countries had a fertility rate above 3 in 1962 than in 2010.\n"
   ]
  },
  {
   "cell_type": "code",
   "execution_count": 132,
   "id": "ebebe423",
   "metadata": {
    "deletable": false,
    "tags": []
   },
   "outputs": [],
   "source": [
    "fertility_statements = make_array(2, 3, 4, 5, 6)"
   ]
  },
  {
   "cell_type": "code",
   "execution_count": 133,
   "id": "51de3292",
   "metadata": {
    "deletable": false,
    "editable": false
   },
   "outputs": [
    {
     "data": {
      "text/html": [
       "<p><strong><pre style='display: inline;'>q1_9</pre></strong> passed! 🙌</p>"
      ],
      "text/plain": [
       "q1_9 results: All test cases passed!"
      ]
     },
     "execution_count": 133,
     "metadata": {},
     "output_type": "execute_result"
    }
   ],
   "source": [
    "grader.check(\"q1_9\")"
   ]
  },
  {
   "cell_type": "markdown",
   "id": "25b4b8d0",
   "metadata": {},
   "source": [
    "<!-- BEGIN QUESTION -->\n",
    "\n",
    "---\n",
    "\n",
    "**Question 10.** Draw a line plot of the **world population** from 1800 through 2024 (inclusive of both endpoints). The world population is the sum of all of the countries' populations. You should use the `population` table defined earlier in the project. \n"
   ]
  },
  {
   "cell_type": "code",
   "execution_count": 134,
   "id": "b0222c70",
   "metadata": {
    "deletable": false,
    "manual_grade": true,
    "manual_problem_id": "global_pop_10",
    "tags": []
   },
   "outputs": [
    {
     "data": {
      "image/png": "[encoded data removed]",
      "text/plain": [
       "<Figure size 600x600 with 1 Axes>"
      ]
     },
     "metadata": {},
     "output_type": "display_data"
    }
   ],
   "source": [
    "#Fill in code here\n",
    "population_specified = population.where(\"time\", are.between_or_equal_to(1800, 2024))\n",
    "population_specified.plot(\"time\", \"population_total\")"
   ]
  },
  {
   "attachments": {},
   "cell_type": "markdown",
   "id": "14a6ae4f",
   "metadata": {},
   "source": [
    "<!-- END QUESTION -->\n",
    "\n",
    "---\n",
    "\n",
    "**Question 11.** Create a function `stats_for_year` that takes a `year` and returns a table of statistics. The table it returns should have four columns: `geo`, `population_total`, `children_per_woman_total_fertility`, and `child_mortality_under_5_per_1000_born`. Each row should contain one unique Alpha-3 country code and three statistics: population, fertility rate, and child mortality for that `year` from the `population`, `fertility` and `child_mortality` tables. Only include rows for which all three statistics are available for the country and year.\n",
    "\n",
    "In addition, restrict the result to country codes that appears in `big_50`, an array of the 50 most populous countries in 2024. This restriction will speed up computations later in the project.\n",
    "\n",
    "After you write `stats_for_year`, try calling `stats_for_year` on any year between 1960 and 2024. Try to understand the output of stats_for_year.\n",
    "\n",
    "*Hint*: The tests for this question are quite comprehensive, so if you pass the tests, your function is probably correct. However, without calling your function yourself and looking at the output, it will be very difficult to understand any problems you have, so try your best to write the function correctly and check that it works before you rely on the `grader` tests to confirm your work.\n",
    "\n",
    "*Hint*: What do all three tables have in common (pay attention to column names)?\n",
    "\n",
    "*Hint*: Create additional cells before directly writing the function.\n"
   ]
  },
  {
   "cell_type": "code",
   "execution_count": 135,
   "id": "4a7adddf",
   "metadata": {
    "deletable": false,
    "tags": []
   },
   "outputs": [
    {
     "data": {
      "text/html": [
       "<table border=\"1\" class=\"dataframe\">\n",
       "    <thead>\n",
       "        <tr>\n",
       "            <th>geo</th> <th>population_total</th> <th>children_per_woman_total_fertility</th> <th>child_mortality_under_5_per_1000_born</th>\n",
       "        </tr>\n",
       "    </thead>\n",
       "    <tbody>\n",
       "        <tr>\n",
       "            <td>afg </td> <td>11017409        </td> <td>7.4                               </td> <td>308.06                               </td>\n",
       "        </tr>\n",
       "        <tr>\n",
       "            <td>ago </td> <td>5763685         </td> <td>7.39                              </td> <td>275.21                               </td>\n",
       "        </tr>\n",
       "        <tr>\n",
       "            <td>arg </td> <td>23508711        </td> <td>3.05                              </td> <td>72.81                                </td>\n",
       "        </tr>\n",
       "        <tr>\n",
       "            <td>bgd </td> <td>67294133        </td> <td>6.81                              </td> <td>224.1                                </td>\n",
       "        </tr>\n",
       "        <tr>\n",
       "            <td>bra </td> <td>93045777        </td> <td>5.04                              </td> <td>135.74                               </td>\n",
       "        </tr>\n",
       "        <tr>\n",
       "            <td>can </td> <td>21037618        </td> <td>2.36                              </td> <td>22.96                                </td>\n",
       "        </tr>\n",
       "        <tr>\n",
       "            <td>chn </td> <td>802140332       </td> <td>6.16                              </td> <td>118.61                               </td>\n",
       "        </tr>\n",
       "        <tr>\n",
       "            <td>civ </td> <td>5192221         </td> <td>7.93                              </td> <td>251.45                               </td>\n",
       "        </tr>\n",
       "        <tr>\n",
       "            <td>cod </td> <td>19570445        </td> <td>6.3                               </td> <td>249.31                               </td>\n",
       "        </tr>\n",
       "        <tr>\n",
       "            <td>col </td> <td>20291942        </td> <td>5.51                              </td> <td>101.46                               </td>\n",
       "        </tr>\n",
       "    </tbody>\n",
       "</table>\n",
       "<p>... (40 rows omitted)</p>"
      ],
      "text/plain": [
       "geo  | population_total | children_per_woman_total_fertility | child_mortality_under_5_per_1000_born\n",
       "afg  | 11017409         | 7.4                                | 308.06\n",
       "ago  | 5763685          | 7.39                               | 275.21\n",
       "arg  | 23508711         | 3.05                               | 72.81\n",
       "bgd  | 67294133         | 6.81                               | 224.1\n",
       "bra  | 93045777         | 5.04                               | 135.74\n",
       "can  | 21037618         | 2.36                               | 22.96\n",
       "chn  | 802140332        | 6.16                               | 118.61\n",
       "civ  | 5192221          | 7.93                               | 251.45\n",
       "cod  | 19570445         | 6.3                                | 249.31\n",
       "col  | 20291942         | 5.51                               | 101.46\n",
       "... (40 rows omitted)"
      ]
     },
     "execution_count": 135,
     "metadata": {},
     "output_type": "execute_result"
    }
   ],
   "source": [
    "# We first create a population table that only includes the \n",
    "# 50 countries with the largest 2024 populations. We focus on \n",
    "# these 50 countries only so that plotting later will run faster.\n",
    "big_50 = population.where('time', are.equal_to(2024)).sort(\"population_total\", descending=True).take(np.arange(50)).column('geo')\n",
    "population_of_big_50 = population.where('time', are.above(1959)).where('geo', are.contained_in(big_50))\n",
    "\n",
    "def stats_for_year(year):\n",
    "    \"\"\"Return a table of the stats for each country that year.\"\"\"\n",
    "    p = population_of_big_50.where('time', are.equal_to(year)).drop('time')\n",
    "    f = fertility.where('time', are.equal_to(year)).drop('time')\n",
    "    c = child_mortality.where('time', are.equal_to(year)).drop('time')\n",
    "    country_stats = p.join(\"geo\", f).join(\"geo\", c)\n",
    "    return country_stats\n",
    "\n",
    "stats_for_year(1969)"
   ]
  },
  {
   "cell_type": "code",
   "execution_count": 136,
   "id": "814b3980",
   "metadata": {
    "deletable": false,
    "editable": false
   },
   "outputs": [
    {
     "data": {
      "text/html": [
       "<p><strong><pre style='display: inline;'>q1_11</pre></strong> passed! 💯</p>"
      ],
      "text/plain": [
       "q1_11 results: All test cases passed!"
      ]
     },
     "execution_count": 136,
     "metadata": {},
     "output_type": "execute_result"
    }
   ],
   "source": [
    "grader.check(\"q1_11\")"
   ]
  },
  {
   "cell_type": "markdown",
   "id": "756793a7",
   "metadata": {},
   "source": [
    "---\n",
    "\n",
    "**Question 12.** Create a table called `pop_by_decade` with two columns called `decade` and `population`, in this order. It has a row for each year that starts a decade, in increasing order starting with 1960 and ending with 2020. For example, 1960 is the start of the 1960's decade. The `population` column contains the total population of all countries included in the result of `stats_for_year(year)` for the first `year` of the decade. You should see that these countries contain most of the world's population.\n",
    "\n",
    "*Hint:* One approach is to define a function `pop_for_year` that computes this total population, then `apply` it to the `decade` column.  **Think about how you can use the `stats_for_year` function** from the previous question if you want to implement `pop_for_year`.\n",
    "\n",
    "This first test is just a sanity check for your helper function if you choose to use it. **You will not lose points for not implementing the function `pop_for_year`**.\n",
    "\n",
    "**Note:** The cell where you will generate the `pop_by_decade` table is below the cell where you can choose to define the helper function `pop_for_year`. You should define your `pop_by_decade` table in the cell that starts with the table `decades` being defined. \n"
   ]
  },
  {
   "cell_type": "code",
   "execution_count": 137,
   "id": "58d37996",
   "metadata": {
    "tags": []
   },
   "outputs": [],
   "source": [
    "def pop_for_year(year):\n",
    "    \"\"\"Return the total population for the specified year.\"\"\"\n",
    "    return np.sum(stats_for_year(year).column(\"population_total\"))"
   ]
  },
  {
   "cell_type": "code",
   "execution_count": 138,
   "id": "50b0606a",
   "metadata": {
    "deletable": false,
    "editable": false
   },
   "outputs": [
    {
     "data": {
      "text/html": [
       "<p><strong><pre style='display: inline;'>q1_12_0</pre></strong> passed! 🎉</p>"
      ],
      "text/plain": [
       "q1_12_0 results: All test cases passed!"
      ]
     },
     "execution_count": 138,
     "metadata": {},
     "output_type": "execute_result"
    }
   ],
   "source": [
    "grader.check(\"q1_12_0\")"
   ]
  },
  {
   "cell_type": "markdown",
   "id": "41afb5ac",
   "metadata": {},
   "source": [
    "---\n",
    "\n",
    "Now that you've defined your helper function (if you've chosen to do so), define the `pop_by_decade` table."
   ]
  },
  {
   "cell_type": "code",
   "execution_count": 139,
   "id": "4dfe7f5d",
   "metadata": {
    "deletable": false,
    "tags": []
   },
   "outputs": [
    {
     "data": {
      "text/html": [
       "<table border=\"1\" class=\"dataframe\">\n",
       "    <thead>\n",
       "        <tr>\n",
       "            <th>decade</th> <th>population</th>\n",
       "        </tr>\n",
       "    </thead>\n",
       "    <tbody>\n",
       "        <tr>\n",
       "            <td>1960  </td> <td>2,604,997,601</td>\n",
       "        </tr>\n",
       "        <tr>\n",
       "            <td>1970  </td> <td>3,202,277,698</td>\n",
       "        </tr>\n",
       "        <tr>\n",
       "            <td>1980  </td> <td>3,863,485,128</td>\n",
       "        </tr>\n",
       "        <tr>\n",
       "            <td>1990  </td> <td>4,639,963,324</td>\n",
       "        </tr>\n",
       "        <tr>\n",
       "            <td>2000  </td> <td>5,381,686,829</td>\n",
       "        </tr>\n",
       "        <tr>\n",
       "            <td>2010  </td> <td>6,107,215,351</td>\n",
       "        </tr>\n",
       "        <tr>\n",
       "            <td>2020  </td> <td>6,840,687,359</td>\n",
       "        </tr>\n",
       "    </tbody>\n",
       "</table>"
      ],
      "text/plain": [
       "decade | population\n",
       "1960   | 2,604,997,601\n",
       "1970   | 3,202,277,698\n",
       "1980   | 3,863,485,128\n",
       "1990   | 4,639,963,324\n",
       "2000   | 5,381,686,829\n",
       "2010   | 6,107,215,351\n",
       "2020   | 6,840,687,359"
      ]
     },
     "execution_count": 139,
     "metadata": {},
     "output_type": "execute_result"
    }
   ],
   "source": [
    "decades = Table().with_column('decade', np.arange(1960, 2021, 10))\n",
    "\n",
    "pop_by_decade = decades.with_columns(\"population\", decades.apply(pop_for_year, \"decade\"))\n",
    "pop_by_decade.set_format(1, NumberFormatter)"
   ]
  },
  {
   "cell_type": "code",
   "execution_count": 140,
   "id": "d00cb4b1",
   "metadata": {
    "deletable": false,
    "editable": false
   },
   "outputs": [
    {
     "data": {
      "text/html": [
       "<p><strong><pre style='display: inline;'>q1_12</pre></strong> passed! 🌈</p>"
      ],
      "text/plain": [
       "q1_12 results: All test cases passed!"
      ]
     },
     "execution_count": 140,
     "metadata": {},
     "output_type": "execute_result"
    }
   ],
   "source": [
    "grader.check(\"q1_12\")"
   ]
  },
  {
   "cell_type": "markdown",
   "id": "2dade9e4",
   "metadata": {
    "deletable": false,
    "editable": false
   },
   "source": [
    "The `countries` table describes various characteristics of countries. The `country` column contains the same codes as the `geo` column in each of the other data tables (`population`, `fertility`, and `child_mortality`). The `world_6region` column classifies each country into a region of the world. Run the cell below to inspect the data."
   ]
  },
  {
   "cell_type": "code",
   "execution_count": 141,
   "id": "7b617643",
   "metadata": {},
   "outputs": [
    {
     "data": {
      "text/html": [
       "<table border=\"1\" class=\"dataframe\">\n",
       "    <thead>\n",
       "        <tr>\n",
       "            <th>country</th> <th>name</th> <th>world_6region</th>\n",
       "        </tr>\n",
       "    </thead>\n",
       "    <tbody>\n",
       "        <tr>\n",
       "            <td>afg    </td> <td>Afghanistan         </td> <td>south_asia              </td>\n",
       "        </tr>\n",
       "        <tr>\n",
       "            <td>ago    </td> <td>Angola              </td> <td>sub_saharan_africa      </td>\n",
       "        </tr>\n",
       "        <tr>\n",
       "            <td>alb    </td> <td>Albania             </td> <td>europe_central_asia     </td>\n",
       "        </tr>\n",
       "        <tr>\n",
       "            <td>and    </td> <td>Andorra             </td> <td>europe_central_asia     </td>\n",
       "        </tr>\n",
       "        <tr>\n",
       "            <td>are    </td> <td>United Arab Emirates</td> <td>middle_east_north_africa</td>\n",
       "        </tr>\n",
       "        <tr>\n",
       "            <td>arg    </td> <td>Argentina           </td> <td>america                 </td>\n",
       "        </tr>\n",
       "        <tr>\n",
       "            <td>arm    </td> <td>Armenia             </td> <td>europe_central_asia     </td>\n",
       "        </tr>\n",
       "        <tr>\n",
       "            <td>atg    </td> <td>Antigua and Barbuda </td> <td>america                 </td>\n",
       "        </tr>\n",
       "        <tr>\n",
       "            <td>aus    </td> <td>Australia           </td> <td>east_asia_pacific       </td>\n",
       "        </tr>\n",
       "        <tr>\n",
       "            <td>aut    </td> <td>Austria             </td> <td>europe_central_asia     </td>\n",
       "        </tr>\n",
       "    </tbody>\n",
       "</table>\n",
       "<p>... (187 rows omitted)</p>"
      ],
      "text/plain": [
       "country | name                 | world_6region\n",
       "afg     | Afghanistan          | south_asia\n",
       "ago     | Angola               | sub_saharan_africa\n",
       "alb     | Albania              | europe_central_asia\n",
       "and     | Andorra              | europe_central_asia\n",
       "are     | United Arab Emirates | middle_east_north_africa\n",
       "arg     | Argentina            | america\n",
       "arm     | Armenia              | europe_central_asia\n",
       "atg     | Antigua and Barbuda  | america\n",
       "aus     | Australia            | east_asia_pacific\n",
       "aut     | Austria              | europe_central_asia\n",
       "... (187 rows omitted)"
      ]
     },
     "execution_count": 141,
     "metadata": {},
     "output_type": "execute_result"
    }
   ],
   "source": [
    "countries = Table.read_table('countries.csv').where('country', are.contained_in(population.group('geo').column('geo')))\n",
    "countries.select('country', 'name', 'world_6region')"
   ]
  },
  {
   "cell_type": "markdown",
   "id": "38b51688",
   "metadata": {},
   "source": [
    "---\n",
    "\n",
    "**Question 13.** Create a table called `region_counts`. It should contain two columns called `region` and `count`. The `region` column should contain regions of the world, and the `count` column should contain the number of countries in each region that appears in the result of `stats_for_year(2024)`. \n",
    "\n",
    "For example, one row would have `south_asia` as its `region` value and an integer as its `count` value: the number of large South Asian countries for which we have population, fertility, and child mortality numbers from 2024.\n",
    "\n",
    "*Hint*: You may have to relabel a column to name it `region`. \n"
   ]
  },
  {
   "cell_type": "code",
   "execution_count": 142,
   "id": "8c7d695b",
   "metadata": {
    "deletable": false,
    "tags": []
   },
   "outputs": [
    {
     "data": {
      "text/html": [
       "<table border=\"1\" class=\"dataframe\">\n",
       "    <thead>\n",
       "        <tr>\n",
       "            <th>region</th> <th>count</th>\n",
       "        </tr>\n",
       "    </thead>\n",
       "    <tbody>\n",
       "        <tr>\n",
       "            <td>america                 </td> <td>7    </td>\n",
       "        </tr>\n",
       "        <tr>\n",
       "            <td>east_asia_pacific       </td> <td>9    </td>\n",
       "        </tr>\n",
       "        <tr>\n",
       "            <td>europe_central_asia     </td> <td>10   </td>\n",
       "        </tr>\n",
       "        <tr>\n",
       "            <td>middle_east_north_africa</td> <td>7    </td>\n",
       "        </tr>\n",
       "        <tr>\n",
       "            <td>south_asia              </td> <td>4    </td>\n",
       "        </tr>\n",
       "        <tr>\n",
       "            <td>sub_saharan_africa      </td> <td>13   </td>\n",
       "        </tr>\n",
       "    </tbody>\n",
       "</table>"
      ],
      "text/plain": [
       "region                   | count\n",
       "america                  | 7\n",
       "east_asia_pacific        | 9\n",
       "europe_central_asia      | 10\n",
       "middle_east_north_africa | 7\n",
       "south_asia               | 4\n",
       "sub_saharan_africa       | 13"
      ]
     },
     "execution_count": 142,
     "metadata": {},
     "output_type": "execute_result"
    }
   ],
   "source": [
    "stats_for_2024 = stats_for_year(2024)\n",
    "region_counts = stats_for_2024.join(\"geo\", countries, \"country\").group(\"world_6region\").relabeled(\"world_6region\", \"region\")\n",
    "region_counts"
   ]
  },
  {
   "cell_type": "code",
   "execution_count": 143,
   "id": "b1956d3d",
   "metadata": {
    "deletable": false,
    "editable": false
   },
   "outputs": [
    {
     "data": {
      "text/html": [
       "<p><strong><pre style='display: inline;'>q1_13</pre></strong> passed! 🙌</p>"
      ],
      "text/plain": [
       "q1_13 results: All test cases passed!"
      ]
     },
     "execution_count": 143,
     "metadata": {},
     "output_type": "execute_result"
    }
   ],
   "source": [
    "grader.check(\"q1_13\")"
   ]
  },
  {
   "cell_type": "markdown",
   "id": "9fad2092",
   "metadata": {
    "deletable": false
   },
   "source": [
    "The following scatter diagram compares total fertility rate and child mortality rate for each country in 1960. The area of each dot represents the population of the country, and the color represents its region of the world. Run the cell. Do you think you can identify any of the dots?"
   ]
  },
  {
   "cell_type": "code",
   "execution_count": 144,
   "id": "4ab9c6ce",
   "metadata": {
    "deletable": false
   },
   "outputs": [
    {
     "data": {
      "image/png": "[encoded data removed]",
      "text/plain": [
       "<Figure size 500x500 with 1 Axes>"
      ]
     },
     "metadata": {},
     "output_type": "display_data"
    }
   ],
   "source": [
    "from functools import lru_cache as cache\n",
    "\n",
    "# This cache annotation makes sure that if the same year\n",
    "# is passed as an argument twice, the work of computing\n",
    "# the result is only carried out once.\n",
    "@cache(None)\n",
    "def stats_relabeled(year):\n",
    "    \"\"\"Relabeled and cached version of stats_for_year.\"\"\"\n",
    "    return stats_for_year(year).relabel(2, 'Children per woman').relabel(3, 'Child deaths per 1000 born')\n",
    "\n",
    "def fertility_vs_child_mortality(year):\n",
    "    \"\"\"Draw a color scatter diagram comparing child mortality and fertility.\"\"\"\n",
    "    with_region = stats_relabeled(year).join('geo', countries.select('country', 'world_6region'), 'country')\n",
    "    with_region.scatter(2, 3, sizes=1, group=4, s=500)\n",
    "    plots.xlim(0,10)\n",
    "    plots.ylim(-50, 500)\n",
    "    plots.title(year)\n",
    "    plots.show()\n",
    "\n",
    "fertility_vs_child_mortality(1960)"
   ]
  },
  {
   "cell_type": "markdown",
   "id": "40146618",
   "metadata": {},
   "source": [
    "---\n",
    "\n",
    "**Question 14.** Assign `scatter_statements` to an array of the numbers of each statement below that can be inferred from this scatter diagram for 1960. \n",
    "1. All countries in `europe_central_asia` had uniformly low fertility rates.\n",
    "1. The lowest child mortality rate of any country was from an `east_asia_pacific` country.\n",
    "1. Most countries had a fertility rate above 5.\n",
    "1. There was an association between child mortality and fertility.\n",
    "1. The two largest countries by population also had the two highest child mortality rates.\n"
   ]
  },
  {
   "cell_type": "code",
   "execution_count": 145,
   "id": "0e09ef58",
   "metadata": {
    "deletable": false,
    "tags": []
   },
   "outputs": [],
   "source": [
    "scatter_statements = make_array(2, 3, 4)"
   ]
  },
  {
   "cell_type": "code",
   "execution_count": 146,
   "id": "90e4474a",
   "metadata": {
    "deletable": false,
    "editable": false
   },
   "outputs": [
    {
     "data": {
      "text/html": [
       "<p><strong><pre style='display: inline;'>q1_14</pre></strong> passed! 💯</p>"
      ],
      "text/plain": [
       "q1_14 results: All test cases passed!"
      ]
     },
     "execution_count": 146,
     "metadata": {},
     "output_type": "execute_result"
    }
   ],
   "source": [
    "grader.check(\"q1_14\")"
   ]
  },
  {
   "cell_type": "markdown",
   "id": "40e3ba47",
   "metadata": {
    "deletable": false
   },
   "source": [
    "The result of the cell below is interactive. Drag the slider to the right to see how countries have changed over time. You’ll find that in terms of population growth, the divide between the countries of the global North and global South that existed in the 1960s has shrunk significantly. \n",
    "\n",
    "This shift in fertility rates is the reason that the global population is expected to grow more slowly in the 21st century than it did in the 19th and 20th centuries. Fertility rates change for reasons that include cultural patterns, better prospects for children surviving to adulthood, and family planning (such as contraception and women’s greater control over their reproduction).\n",
    "\n",
    "**Note:** Don't worry if a red warning pops up when running the cell below. You'll still be able to run the cell!"
   ]
  },
  {
   "cell_type": "code",
   "execution_count": 147,
   "id": "3de5fb5a",
   "metadata": {
    "deletable": false,
    "scrolled": true
   },
   "outputs": [
    {
     "data": {
      "application/vnd.jupyter.widget-view+json": {
       "model_id": "d8238ab6da0c4b4fb5eac4a8271f144e",
       "version_major": 2,
       "version_minor": 0
      },
      "text/plain": [
       "interactive(children=(IntSlider(value=1960, description='year', max=2024, min=1960), Output()), _dom_classes=(…"
      ]
     },
     "metadata": {},
     "output_type": "display_data"
    }
   ],
   "source": [
    "_ = widgets.interact(fertility_vs_child_mortality, \n",
    "                     year=widgets.IntSlider(min=1960, max=2024, value=1960))"
   ]
  },
  {
   "cell_type": "markdown",
   "id": "be0abc37",
   "metadata": {
    "deletable": false,
    "editable": false
   },
   "source": [
    "Now is a great time to take a break and watch the same data presented by [Hans Rosling in a 2010 TEDx talk](https://www.gapminder.org/videos/reducing-child-mortality-a-moral-and-environmental-imperative) with smoother animation and witty commentary."
   ]
  },
  {
   "cell_type": "markdown",
   "id": "e81c325e",
   "metadata": {},
   "source": [
    "When we look at population and fertility as data scientists, we need to learn about the experiences of people in real life, not just abstractly as data. We should also recognize that population studies have sometimes had political undercurrents. Those undercurrents have included population control, control of women’s reproduction, or fears of shifts between racial groups. To do better as data scientists, we should check our assumptions to avoid unthinkingly reproducing past patterns."
   ]
  },
  {
   "cell_type": "markdown",
   "id": "cb0deee6",
   "metadata": {
    "deletable": false
   },
   "source": [
    "<hr style=\"border: 5px solid #003262;\" />\n",
    "<hr style=\"border: 1px solid #fdb515;\" />\n",
    "\n",
    "## 2. Global Poverty"
   ]
  },
  {
   "cell_type": "markdown",
   "id": "3f0dd532",
   "metadata": {
    "deletable": false
   },
   "source": [
    "In 1800, 85% of the world's 1 billion people lived in [extreme poverty](https://en.wikipedia.org/wiki/Extreme_poverty), defined by the United Nations as \"a condition characterized by severe deprivation of basic human needs, including food, safe drinking water, sanitation facilities, health, shelter, education and information.\" At the time when the data in this project were gathered, a common definition of extreme poverty was a person living on less than \\$1.25 a day.\n",
    "\n",
    "In 2018, the proportion of people living in extreme poverty was estimated to be [about 9\\%](https://unstats.un.org/sdgs/report/2019/goal-01/). Although the world rate of extreme poverty has declined consistently for hundreds of years, the number of people living in extreme poverty is still over 600 million. The United Nations adopted an [ambitious goal](http://www.un.org/sustainabledevelopment/poverty/): \"By 2030, eradicate extreme poverty for all people everywhere.\"\n",
    "\n",
    "In this part of the project, we will examine some aspects of global poverty that might affect whether the goal is achievable. The causes of poverty are complex. They include global histories, such as colonialism, as well as factors such as health care, economics, and social inequality in each country."
   ]
  },
  {
   "cell_type": "markdown",
   "id": "d9844a49",
   "metadata": {
    "deletable": false,
    "editable": false
   },
   "source": [
    "First, load the population and poverty rate by country and year and the country descriptions. While the `population` table has values for every recent year for many countries, the `poverty` table only includes certain years for each country in which a measurement of the rate of extreme poverty was available."
   ]
  },
  {
   "cell_type": "code",
   "execution_count": 148,
   "id": "2603da4e",
   "metadata": {},
   "outputs": [
    {
     "data": {
      "text/html": [
       "<table border=\"1\" class=\"dataframe\">\n",
       "    <thead>\n",
       "        <tr>\n",
       "            <th>geo</th> <th>time</th> <th>extreme_poverty_percent_people_below_125_a_day</th>\n",
       "        </tr>\n",
       "    </thead>\n",
       "    <tbody>\n",
       "        <tr>\n",
       "            <td>alb </td> <td>1996</td> <td>0.2                                           </td>\n",
       "        </tr>\n",
       "        <tr>\n",
       "            <td>alb </td> <td>2002</td> <td>0.73                                          </td>\n",
       "        </tr>\n",
       "        <tr>\n",
       "            <td>alb </td> <td>2004</td> <td>0.53                                          </td>\n",
       "        </tr>\n",
       "    </tbody>\n",
       "</table>\n",
       "<p>... (1096 rows omitted)</p>"
      ],
      "text/plain": [
       "<IPython.core.display.HTML object>"
      ]
     },
     "metadata": {},
     "output_type": "display_data"
    }
   ],
   "source": [
    "population = Table.read_table('population.csv') \n",
    "countries = Table.read_table('countries.csv').where('country', are.contained_in(population.group('geo').column('geo')))\n",
    "poverty = Table.read_table('poverty.csv')\n",
    "poverty.show(3)"
   ]
  },
  {
   "cell_type": "markdown",
   "id": "eab8c416",
   "metadata": {},
   "source": [
    "---\n",
    "\n",
    "**Question 1.** Assign `latest_poverty` to a three-column table with one row for each country that appears in the `poverty` table. The first column should contain the 3-letter code for the country. The second column should contain the most recent year for which an extreme poverty rate is available for the country. The third column should contain the poverty rate in that year. **Do not change the last line, so that the labels of your table are set correctly.**\n",
    "\n",
    "*Hint*: think about how ```group``` works: it does a sequential search of the table (from top to bottom) and collects values in the array in the order in which they appear, and then applies a function to that array. The `first` function may be helpful, but you are not required to use it.\n"
   ]
  },
  {
   "cell_type": "code",
   "execution_count": 149,
   "id": "5c8ddc00",
   "metadata": {
    "deletable": false,
    "tags": []
   },
   "outputs": [
    {
     "data": {
      "text/html": [
       "<table border=\"1\" class=\"dataframe\">\n",
       "    <thead>\n",
       "        <tr>\n",
       "            <th>geo</th> <th>time</th> <th>poverty_percent</th>\n",
       "        </tr>\n",
       "    </thead>\n",
       "    <tbody>\n",
       "        <tr>\n",
       "            <td>ago </td> <td>2009</td> <td>43.37          </td>\n",
       "        </tr>\n",
       "        <tr>\n",
       "            <td>alb </td> <td>2012</td> <td>0.46           </td>\n",
       "        </tr>\n",
       "        <tr>\n",
       "            <td>arg </td> <td>2011</td> <td>1.41           </td>\n",
       "        </tr>\n",
       "        <tr>\n",
       "            <td>arm </td> <td>2012</td> <td>1.75           </td>\n",
       "        </tr>\n",
       "        <tr>\n",
       "            <td>aus </td> <td>2003</td> <td>1.36           </td>\n",
       "        </tr>\n",
       "        <tr>\n",
       "            <td>aut </td> <td>2004</td> <td>0.34           </td>\n",
       "        </tr>\n",
       "        <tr>\n",
       "            <td>aze </td> <td>2008</td> <td>0.31           </td>\n",
       "        </tr>\n",
       "        <tr>\n",
       "            <td>bdi </td> <td>2006</td> <td>81.32          </td>\n",
       "        </tr>\n",
       "        <tr>\n",
       "            <td>bel </td> <td>2000</td> <td>0.5            </td>\n",
       "        </tr>\n",
       "        <tr>\n",
       "            <td>ben </td> <td>2012</td> <td>51.61          </td>\n",
       "        </tr>\n",
       "    </tbody>\n",
       "</table>\n",
       "<p>... (135 rows omitted)</p>"
      ],
      "text/plain": [
       "geo  | time | poverty_percent\n",
       "ago  | 2009 | 43.37\n",
       "alb  | 2012 | 0.46\n",
       "arg  | 2011 | 1.41\n",
       "arm  | 2012 | 1.75\n",
       "aus  | 2003 | 1.36\n",
       "aut  | 2004 | 0.34\n",
       "aze  | 2008 | 0.31\n",
       "bdi  | 2006 | 81.32\n",
       "bel  | 2000 | 0.5\n",
       "ben  | 2012 | 51.61\n",
       "... (135 rows omitted)"
      ]
     },
     "execution_count": 149,
     "metadata": {},
     "output_type": "execute_result"
    }
   ],
   "source": [
    "def first(values):\n",
    "    return values.item(0)\n",
    "\n",
    "latest_poverty = poverty.sort(\"time\", descending=True).group(\"geo\", first)\n",
    "latest_poverty = latest_poverty.relabeled(0, 'geo').relabeled(1, 'time').relabeled(2, 'poverty_percent') # You should *not* change this line.\n",
    "latest_poverty"
   ]
  },
  {
   "cell_type": "code",
   "execution_count": 150,
   "id": "9a472d62",
   "metadata": {
    "deletable": false,
    "editable": false
   },
   "outputs": [
    {
     "data": {
      "text/html": [
       "<p><strong><pre style='display: inline;'>q2_1</pre></strong> passed! 🚀</p>"
      ],
      "text/plain": [
       "q2_1 results: All test cases passed!"
      ]
     },
     "execution_count": 150,
     "metadata": {},
     "output_type": "execute_result"
    }
   ],
   "source": [
    "grader.check(\"q2_1\")"
   ]
  },
  {
   "cell_type": "markdown",
   "id": "e823af3d",
   "metadata": {},
   "source": [
    "---\n",
    "\n",
    "**Question 2.** Using both `latest_poverty` and `population`, create a four-column table called `recent_poverty_total` with one row for each country in `latest_poverty`. The four columns should have the following labels and contents:\n",
    "1. `geo` contains the 3-letter country code,\n",
    "1. `poverty_percent` contains the most recent poverty percent,\n",
    "1. `population_total` contains the population of the country in 2010,\n",
    "1. `poverty_total` contains the number of people in poverty **rounded to the nearest integer**, based on the 2010 population and most recent poverty rate.\n",
    "\n",
    "*Hint*: You are not required to use `poverty_and_pop`, and you are always welcome to add any additional names. "
   ]
  },
  {
   "cell_type": "code",
   "execution_count": 151,
   "id": "3288b895",
   "metadata": {
    "deletable": false,
    "tags": []
   },
   "outputs": [
    {
     "data": {
      "text/html": [
       "<table border=\"1\" class=\"dataframe\">\n",
       "    <thead>\n",
       "        <tr>\n",
       "            <th>geo</th> <th>poverty_percent</th> <th>population_total</th> <th>poverty_total</th>\n",
       "        </tr>\n",
       "    </thead>\n",
       "    <tbody>\n",
       "        <tr>\n",
       "            <td>ago </td> <td>43.37          </td> <td>23294825        </td> <td>1.0103e+07   </td>\n",
       "        </tr>\n",
       "        <tr>\n",
       "            <td>alb </td> <td>0.46           </td> <td>2928722         </td> <td>13472        </td>\n",
       "        </tr>\n",
       "        <tr>\n",
       "            <td>arg </td> <td>1.41           </td> <td>41288694        </td> <td>582171       </td>\n",
       "        </tr>\n",
       "        <tr>\n",
       "            <td>arm </td> <td>1.75           </td> <td>2931078         </td> <td>51294        </td>\n",
       "        </tr>\n",
       "        <tr>\n",
       "            <td>aus </td> <td>1.36           </td> <td>22141581        </td> <td>301126       </td>\n",
       "        </tr>\n",
       "        <tr>\n",
       "            <td>aut </td> <td>0.34           </td> <td>8365092         </td> <td>28441        </td>\n",
       "        </tr>\n",
       "        <tr>\n",
       "            <td>aze </td> <td>0.31           </td> <td>9146851         </td> <td>28355        </td>\n",
       "        </tr>\n",
       "        <tr>\n",
       "            <td>bdi </td> <td>81.32          </td> <td>9376444         </td> <td>7.62492e+06  </td>\n",
       "        </tr>\n",
       "        <tr>\n",
       "            <td>bel </td> <td>0.5            </td> <td>10936626        </td> <td>54683        </td>\n",
       "        </tr>\n",
       "        <tr>\n",
       "            <td>ben </td> <td>51.61          </td> <td>9797484         </td> <td>5.05648e+06  </td>\n",
       "        </tr>\n",
       "    </tbody>\n",
       "</table>\n",
       "<p>... (135 rows omitted)</p>"
      ],
      "text/plain": [
       "geo  | poverty_percent | population_total | poverty_total\n",
       "ago  | 43.37           | 23294825         | 1.0103e+07\n",
       "alb  | 0.46            | 2928722          | 13472\n",
       "arg  | 1.41            | 41288694         | 582171\n",
       "arm  | 1.75            | 2931078          | 51294\n",
       "aus  | 1.36            | 22141581         | 301126\n",
       "aut  | 0.34            | 8365092          | 28441\n",
       "aze  | 0.31            | 9146851          | 28355\n",
       "bdi  | 81.32           | 9376444          | 7.62492e+06\n",
       "bel  | 0.5             | 10936626         | 54683\n",
       "ben  | 51.61           | 9797484          | 5.05648e+06\n",
       "... (135 rows omitted)"
      ]
     },
     "execution_count": 151,
     "metadata": {},
     "output_type": "execute_result"
    }
   ],
   "source": [
    "poverty_and_pop = latest_poverty.join(\"geo\", population.where(\"time\", are.equal_to(2010)), \"geo\")\n",
    "poverty_total = (poverty_and_pop.column(\"poverty_percent\") / 100) * poverty_and_pop.column(\"population_total\")\n",
    "poverty_total_rounded = np.round(poverty_total)\n",
    "recent_poverty_total = poverty_and_pop.select(\"geo\", \"poverty_percent\", \"population_total\").with_columns(\n",
    "    \"poverty_total\", poverty_total_rounded)\n",
    "recent_poverty_total"
   ]
  },
  {
   "cell_type": "code",
   "execution_count": 152,
   "id": "38de27dd",
   "metadata": {
    "deletable": false,
    "editable": false
   },
   "outputs": [
    {
     "data": {
      "text/html": [
       "<p><strong><pre style='display: inline;'>q2_2</pre></strong> passed! 🌈</p>"
      ],
      "text/plain": [
       "q2_2 results: All test cases passed!"
      ]
     },
     "execution_count": 152,
     "metadata": {},
     "output_type": "execute_result"
    }
   ],
   "source": [
    "grader.check(\"q2_2\")"
   ]
  },
  {
   "cell_type": "markdown",
   "id": "07cf7984",
   "metadata": {},
   "source": [
    "---\n",
    "\n",
    "**Question 3.** Assign the name `poverty_percent` to the known percentage of the world’s 2010 population that were living in extreme poverty. Assume that the `poverty_total` numbers in the `recent_poverty_total` table describe **all** people in 2010 living in extreme poverty. You should get a number that is above the 2018 global estimate of 9%, since many country-specific poverty rates are older than 2018.\n",
    "\n",
    "*Hint*: The sum of the `population_total` column in the `recent_poverty_total` table is not the world population, because only a subset of the world's countries are included in the `recent_poverty_total` table (only some countries have known poverty rates). Use the `population` table to compute the world's 2010 total population.\n",
    "\n",
    "*Hint*: We are computing a percentage (value between 0 and 100), not a proportion (value between 0 and 1).\n"
   ]
  },
  {
   "cell_type": "code",
   "execution_count": 153,
   "id": "cd319d20",
   "metadata": {
    "deletable": false,
    "tags": []
   },
   "outputs": [
    {
     "data": {
      "text/plain": [
       "14.429159949245513"
      ]
     },
     "execution_count": 153,
     "metadata": {},
     "output_type": "execute_result"
    }
   ],
   "source": [
    "poverty_percent = (sum(recent_poverty_total.column(\"poverty_total\")) / sum(population.where(\"time\", are.equal_to(2010)).column(\"population_total\"))) * 100\n",
    "poverty_percent"
   ]
  },
  {
   "cell_type": "code",
   "execution_count": 154,
   "id": "90c6f71f",
   "metadata": {
    "deletable": false,
    "editable": false
   },
   "outputs": [
    {
     "data": {
      "text/html": [
       "<p><strong><pre style='display: inline;'>q2_3</pre></strong> passed! ✨</p>"
      ],
      "text/plain": [
       "q2_3 results: All test cases passed!"
      ]
     },
     "execution_count": 154,
     "metadata": {},
     "output_type": "execute_result"
    }
   ],
   "source": [
    "grader.check(\"q2_3\")"
   ]
  },
  {
   "cell_type": "markdown",
   "id": "c02047db",
   "metadata": {
    "deletable": false,
    "editable": false
   },
   "source": [
    "The `countries` table includes not only the name and region of countries, but also their positions on the globe."
   ]
  },
  {
   "cell_type": "code",
   "execution_count": 155,
   "id": "6265286c",
   "metadata": {
    "deletable": false,
    "editable": false
   },
   "outputs": [
    {
     "data": {
      "text/html": [
       "<table border=\"1\" class=\"dataframe\">\n",
       "    <thead>\n",
       "        <tr>\n",
       "            <th>country</th> <th>name</th> <th>world_4region</th> <th>latitude</th> <th>longitude</th>\n",
       "        </tr>\n",
       "    </thead>\n",
       "    <tbody>\n",
       "        <tr>\n",
       "            <td>afg    </td> <td>Afghanistan         </td> <td>asia         </td> <td>33      </td> <td>66       </td>\n",
       "        </tr>\n",
       "        <tr>\n",
       "            <td>ago    </td> <td>Angola              </td> <td>africa       </td> <td>-12.5   </td> <td>18.5     </td>\n",
       "        </tr>\n",
       "        <tr>\n",
       "            <td>alb    </td> <td>Albania             </td> <td>europe       </td> <td>41      </td> <td>20       </td>\n",
       "        </tr>\n",
       "        <tr>\n",
       "            <td>and    </td> <td>Andorra             </td> <td>europe       </td> <td>42.5078 </td> <td>1.52109  </td>\n",
       "        </tr>\n",
       "        <tr>\n",
       "            <td>are    </td> <td>United Arab Emirates</td> <td>asia         </td> <td>23.75   </td> <td>54.5     </td>\n",
       "        </tr>\n",
       "        <tr>\n",
       "            <td>arg    </td> <td>Argentina           </td> <td>americas     </td> <td>-34     </td> <td>-64      </td>\n",
       "        </tr>\n",
       "        <tr>\n",
       "            <td>arm    </td> <td>Armenia             </td> <td>europe       </td> <td>40.25   </td> <td>45       </td>\n",
       "        </tr>\n",
       "        <tr>\n",
       "            <td>atg    </td> <td>Antigua and Barbuda </td> <td>americas     </td> <td>17.05   </td> <td>-61.8    </td>\n",
       "        </tr>\n",
       "        <tr>\n",
       "            <td>aus    </td> <td>Australia           </td> <td>asia         </td> <td>-25     </td> <td>135      </td>\n",
       "        </tr>\n",
       "        <tr>\n",
       "            <td>aut    </td> <td>Austria             </td> <td>europe       </td> <td>47.3333 </td> <td>13.3333  </td>\n",
       "        </tr>\n",
       "    </tbody>\n",
       "</table>\n",
       "<p>... (187 rows omitted)</p>"
      ],
      "text/plain": [
       "country | name                 | world_4region | latitude | longitude\n",
       "afg     | Afghanistan          | asia          | 33       | 66\n",
       "ago     | Angola               | africa        | -12.5    | 18.5\n",
       "alb     | Albania              | europe        | 41       | 20\n",
       "and     | Andorra              | europe        | 42.5078  | 1.52109\n",
       "are     | United Arab Emirates | asia          | 23.75    | 54.5\n",
       "arg     | Argentina            | americas      | -34      | -64\n",
       "arm     | Armenia              | europe        | 40.25    | 45\n",
       "atg     | Antigua and Barbuda  | americas      | 17.05    | -61.8\n",
       "aus     | Australia            | asia          | -25      | 135\n",
       "aut     | Austria              | europe        | 47.3333  | 13.3333\n",
       "... (187 rows omitted)"
      ]
     },
     "execution_count": 155,
     "metadata": {},
     "output_type": "execute_result"
    }
   ],
   "source": [
    "countries.select('country', 'name', 'world_4region', 'latitude', 'longitude')"
   ]
  },
  {
   "cell_type": "markdown",
   "id": "1dbf0f47",
   "metadata": {},
   "source": [
    "---\n",
    "\n",
    "**Question 4.** Using both `countries` and `recent_poverty_total`, create a five-column table called `poverty_map` with one row for every country in `recent_poverty_total`.  The five columns should have the following labels and contents, in this order:\n",
    "1. `latitude` contains the country's latitude,\n",
    "1. `longitude` contains the country's longitude,\n",
    "1. `name` contains the country's name,\n",
    "1. `region` contains the country's region from the `world_4region` column of `countries`,\n",
    "1. `poverty_total` contains the country's poverty total.\n"
   ]
  },
  {
   "cell_type": "code",
   "execution_count": 156,
   "id": "d8ff9d6f",
   "metadata": {
    "deletable": false,
    "tags": []
   },
   "outputs": [
    {
     "data": {
      "text/html": [
       "<table border=\"1\" class=\"dataframe\">\n",
       "    <thead>\n",
       "        <tr>\n",
       "            <th>latitude</th> <th>longitude</th> <th>name</th> <th>region</th> <th>poverty_total</th>\n",
       "        </tr>\n",
       "    </thead>\n",
       "    <tbody>\n",
       "        <tr>\n",
       "            <td>-12.5   </td> <td>18.5     </td> <td>Angola    </td> <td>africa  </td> <td>1.0103e+07   </td>\n",
       "        </tr>\n",
       "        <tr>\n",
       "            <td>41      </td> <td>20       </td> <td>Albania   </td> <td>europe  </td> <td>13472        </td>\n",
       "        </tr>\n",
       "        <tr>\n",
       "            <td>-34     </td> <td>-64      </td> <td>Argentina </td> <td>americas</td> <td>582171       </td>\n",
       "        </tr>\n",
       "        <tr>\n",
       "            <td>40.25   </td> <td>45       </td> <td>Armenia   </td> <td>europe  </td> <td>51294        </td>\n",
       "        </tr>\n",
       "        <tr>\n",
       "            <td>-25     </td> <td>135      </td> <td>Australia </td> <td>asia    </td> <td>301126       </td>\n",
       "        </tr>\n",
       "        <tr>\n",
       "            <td>47.3333 </td> <td>13.3333  </td> <td>Austria   </td> <td>europe  </td> <td>28441        </td>\n",
       "        </tr>\n",
       "        <tr>\n",
       "            <td>40.5    </td> <td>47.5     </td> <td>Azerbaijan</td> <td>europe  </td> <td>28355        </td>\n",
       "        </tr>\n",
       "        <tr>\n",
       "            <td>-3.5    </td> <td>30       </td> <td>Burundi   </td> <td>africa  </td> <td>7.62492e+06  </td>\n",
       "        </tr>\n",
       "        <tr>\n",
       "            <td>50.75   </td> <td>4.5      </td> <td>Belgium   </td> <td>europe  </td> <td>54683        </td>\n",
       "        </tr>\n",
       "        <tr>\n",
       "            <td>9.5     </td> <td>2.25     </td> <td>Benin     </td> <td>africa  </td> <td>5.05648e+06  </td>\n",
       "        </tr>\n",
       "    </tbody>\n",
       "</table>\n",
       "<p>... (135 rows omitted)</p>"
      ],
      "text/plain": [
       "latitude | longitude | name       | region   | poverty_total\n",
       "-12.5    | 18.5      | Angola     | africa   | 1.0103e+07\n",
       "41       | 20        | Albania    | europe   | 13472\n",
       "-34      | -64       | Argentina  | americas | 582171\n",
       "40.25    | 45        | Armenia    | europe   | 51294\n",
       "-25      | 135       | Australia  | asia     | 301126\n",
       "47.3333  | 13.3333   | Austria    | europe   | 28441\n",
       "40.5     | 47.5      | Azerbaijan | europe   | 28355\n",
       "-3.5     | 30        | Burundi    | africa   | 7.62492e+06\n",
       "50.75    | 4.5       | Belgium    | europe   | 54683\n",
       "9.5      | 2.25      | Benin      | africa   | 5.05648e+06\n",
       "... (135 rows omitted)"
      ]
     },
     "execution_count": 156,
     "metadata": {},
     "output_type": "execute_result"
    }
   ],
   "source": [
    "poverty_map = recent_poverty_total.join(\"geo\", countries, \"country\").relabeled(\"world_4region\", \"region\").select(\"latitude\", \"longitude\", \"name\", \"region\", \"poverty_total\")\n",
    "poverty_map"
   ]
  },
  {
   "cell_type": "code",
   "execution_count": 157,
   "id": "00b8ff39",
   "metadata": {
    "deletable": false,
    "editable": false
   },
   "outputs": [
    {
     "data": {
      "text/html": [
       "<p><strong><pre style='display: inline;'>q2_4</pre></strong> passed! 💯</p>"
      ],
      "text/plain": [
       "q2_4 results: All test cases passed!"
      ]
     },
     "execution_count": 157,
     "metadata": {},
     "output_type": "execute_result"
    }
   ],
   "source": [
    "grader.check(\"q2_4\")"
   ]
  },
  {
   "cell_type": "markdown",
   "id": "9faada9b",
   "metadata": {
    "deletable": false,
    "editable": false
   },
   "source": [
    "Run the cell below to draw a map of the world in which the areas of circles represent the number of people living in extreme poverty. Double-click on the map to zoom in.\n",
    "\n",
    "> ***Note:*** If the cell below isn't loading, you can view the output [here](https://github.jonathanferrari.com/static/poverty_map.html)"
   ]
  },
  {
   "cell_type": "code",
   "execution_count": 158,
   "id": "3482016c",
   "metadata": {
    "deletable": false,
    "editable": false,
    "scrolled": true
   },
   "outputs": [
    {
     "data": {
      "text/html": [
       "<div style=\"width:100%;\"><div style=\"position:relative;width:100%;height:0;padding-bottom:60%;\"><span style=\"color:#565656\">Make this Notebook Trusted to load map: File -> Trust Notebook</span><iframe srcdoc=\"&lt;!DOCTYPE html&gt;\n",
       "&lt;html&gt;\n",
       "&lt;head&gt;\n",
       "    \n",
       "    &lt;meta http-equiv=&quot;content-type&quot; content=&quot;text/html; charset=UTF-8&quot; /&gt;\n",
       "    \n",
       "        &lt;script&gt;\n",
       "            L_NO_TOUCH = false;\n",
       "            L_DISABLE_3D = false;\n",
       "        &lt;/script&gt;\n",
       "    \n",
       "    &lt;style&gt;html, body {width: 100%;height: 100%;margin: 0;padding: 0;}&lt;/style&gt;\n",
       "    &lt;style&gt;#map {position:absolute;top:0;bottom:0;right:0;left:0;}&lt;/style&gt;\n",
       "    &lt;script src=&quot;https://cdn.jsdelivr.net/npm/leaflet@1.9.3/dist/leaflet.js&quot;&gt;&lt;/script&gt;\n",
       "    &lt;script src=&quot;https://code.jquery.com/jquery-3.7.1.min.js&quot;&gt;&lt;/script&gt;\n",
       "    &lt;script src=&quot;https://cdn.jsdelivr.net/npm/bootstrap@5.2.2/dist/js/bootstrap.bundle.min.js&quot;&gt;&lt;/script&gt;\n",
       "    &lt;script src=&quot;https://cdnjs.cloudflare.com/ajax/libs/Leaflet.awesome-markers/2.0.2/leaflet.awesome-markers.js&quot;&gt;&lt;/script&gt;\n",
       "    &lt;link rel=&quot;stylesheet&quot; href=&quot;https://cdn.jsdelivr.net/npm/leaflet@1.9.3/dist/leaflet.css&quot;/&gt;\n",
       "    &lt;link rel=&quot;stylesheet&quot; href=&quot;https://cdn.jsdelivr.net/npm/bootstrap@5.2.2/dist/css/bootstrap.min.css&quot;/&gt;\n",
       "    &lt;link rel=&quot;stylesheet&quot; href=&quot;https://netdna.bootstrapcdn.com/bootstrap/3.0.0/css/bootstrap.min.css&quot;/&gt;\n",
       "    &lt;link rel=&quot;stylesheet&quot; href=&quot;https://cdn.jsdelivr.net/npm/@fortawesome/fontawesome-free@6.2.0/css/all.min.css&quot;/&gt;\n",
       "    &lt;link rel=&quot;stylesheet&quot; href=&quot;https://cdnjs.cloudflare.com/ajax/libs/Leaflet.awesome-markers/2.0.2/leaflet.awesome-markers.css&quot;/&gt;\n",
       "    &lt;link rel=&quot;stylesheet&quot; href=&quot;https://cdn.jsdelivr.net/gh/python-visualization/folium/folium/templates/leaflet.awesome.rotate.min.css&quot;/&gt;\n",
       "    \n",
       "            &lt;meta name=&quot;viewport&quot; content=&quot;width=device-width,\n",
       "                initial-scale=1.0, maximum-scale=1.0, user-scalable=no&quot; /&gt;\n",
       "            &lt;style&gt;\n",
       "                #map_8be889e5344c14c640c84fd71ab2b34a {\n",
       "                    position: relative;\n",
       "                    width: 960.0px;\n",
       "                    height: 500.0px;\n",
       "                    left: 0.0%;\n",
       "                    top: 0.0%;\n",
       "                }\n",
       "                .leaflet-container { font-size: 1rem; }\n",
       "            &lt;/style&gt;\n",
       "        \n",
       "&lt;/head&gt;\n",
       "&lt;body&gt;\n",
       "    \n",
       "    \n",
       "            &lt;div class=&quot;folium-map&quot; id=&quot;map_8be889e5344c14c640c84fd71ab2b34a&quot; &gt;&lt;/div&gt;\n",
       "        \n",
       "&lt;/body&gt;\n",
       "&lt;script&gt;\n",
       "    \n",
       "    \n",
       "            var map_8be889e5344c14c640c84fd71ab2b34a = L.map(\n",
       "                &quot;map_8be889e5344c14c640c84fd71ab2b34a&quot;,\n",
       "                {\n",
       "                    center: [15.0, 32.17871],\n",
       "                    crs: L.CRS.EPSG3857,\n",
       "                    zoom: 1,\n",
       "                    zoomControl: true,\n",
       "                    preferCanvas: false,\n",
       "                    clusteredMarker: false,\n",
       "                    includeColorScaleOutliers: true,\n",
       "                    radiusInMeters: false,\n",
       "                }\n",
       "            );\n",
       "\n",
       "            \n",
       "\n",
       "        \n",
       "    \n",
       "            var tile_layer_85fb0dad2a996be8e67a0fcb8842a9fb = L.tileLayer(\n",
       "                &quot;https://tile.openstreetmap.org/{z}/{x}/{y}.png&quot;,\n",
       "                {&quot;attribution&quot;: &quot;\\u0026copy; \\u003ca href=\\&quot;https://www.openstreetmap.org/copyright\\&quot;\\u003eOpenStreetMap\\u003c/a\\u003e contributors&quot;, &quot;detectRetina&quot;: false, &quot;maxNativeZoom&quot;: 19, &quot;maxZoom&quot;: 19, &quot;minZoom&quot;: -1, &quot;noWrap&quot;: false, &quot;opacity&quot;: 1, &quot;subdomains&quot;: &quot;abc&quot;, &quot;tms&quot;: false}\n",
       "            );\n",
       "        \n",
       "    \n",
       "            tile_layer_85fb0dad2a996be8e67a0fcb8842a9fb.addTo(map_8be889e5344c14c640c84fd71ab2b34a);\n",
       "        \n",
       "    \n",
       "            var circle_marker_9674fb09232d3ddbc2e18fc0c876431a = L.circleMarker(\n",
       "                [-12.5, 18.5],\n",
       "                {&quot;bubblingMouseEvents&quot;: true, &quot;color&quot;: &quot;blue&quot;, &quot;dashArray&quot;: null, &quot;dashOffset&quot;: null, &quot;fill&quot;: true, &quot;fillColor&quot;: &quot;blue&quot;, &quot;fillOpacity&quot;: 0.2, &quot;fillRule&quot;: &quot;evenodd&quot;, &quot;lineCap&quot;: &quot;round&quot;, &quot;lineJoin&quot;: &quot;round&quot;, &quot;opacity&quot;: 1.0, &quot;radius&quot;: 17.932857991906104, &quot;stroke&quot;: true, &quot;weight&quot;: 3}\n",
       "            ).addTo(map_8be889e5344c14c640c84fd71ab2b34a);\n",
       "        \n",
       "    \n",
       "        var popup_58785e2e848e590f39618ef1b57676a5 = L.popup({&quot;maxWidth&quot;: &quot;100%&quot;});\n",
       "\n",
       "        \n",
       "            \n",
       "                var html_84271d30ccbd1f12f7c0e91899d47e91 = $(`&lt;div id=&quot;html_84271d30ccbd1f12f7c0e91899d47e91&quot; style=&quot;width: 100.0%; height: 100.0%;&quot;&gt;Angola&lt;/div&gt;`)[0];\n",
       "                popup_58785e2e848e590f39618ef1b57676a5.setContent(html_84271d30ccbd1f12f7c0e91899d47e91);\n",
       "            \n",
       "        \n",
       "\n",
       "        circle_marker_9674fb09232d3ddbc2e18fc0c876431a.bindPopup(popup_58785e2e848e590f39618ef1b57676a5)\n",
       "        ;\n",
       "\n",
       "        \n",
       "    \n",
       "    \n",
       "            var circle_marker_869986405abd8fce71ce81f25133784a = L.circleMarker(\n",
       "                [41.0, 20.0],\n",
       "                {&quot;bubblingMouseEvents&quot;: true, &quot;color&quot;: &quot;black&quot;, &quot;dashArray&quot;: null, &quot;dashOffset&quot;: null, &quot;fill&quot;: true, &quot;fillColor&quot;: &quot;black&quot;, &quot;fillOpacity&quot;: 0.2, &quot;fillRule&quot;: &quot;evenodd&quot;, &quot;lineCap&quot;: &quot;round&quot;, &quot;lineJoin&quot;: &quot;round&quot;, &quot;opacity&quot;: 1.0, &quot;radius&quot;: 0.6548488975838647, &quot;stroke&quot;: true, &quot;weight&quot;: 3}\n",
       "            ).addTo(map_8be889e5344c14c640c84fd71ab2b34a);\n",
       "        \n",
       "    \n",
       "        var popup_456e1e2e9ae3c45eb4b626f6e2cc7ddd = L.popup({&quot;maxWidth&quot;: &quot;100%&quot;});\n",
       "\n",
       "        \n",
       "            \n",
       "                var html_26637a665a99fc4e61957c135464f722 = $(`&lt;div id=&quot;html_26637a665a99fc4e61957c135464f722&quot; style=&quot;width: 100.0%; height: 100.0%;&quot;&gt;Albania&lt;/div&gt;`)[0];\n",
       "                popup_456e1e2e9ae3c45eb4b626f6e2cc7ddd.setContent(html_26637a665a99fc4e61957c135464f722);\n",
       "            \n",
       "        \n",
       "\n",
       "        circle_marker_869986405abd8fce71ce81f25133784a.bindPopup(popup_456e1e2e9ae3c45eb4b626f6e2cc7ddd)\n",
       "        ;\n",
       "\n",
       "        \n",
       "    \n",
       "    \n",
       "            var circle_marker_4045d32615ab722c9195a50d25ed7249 = L.circleMarker(\n",
       "                [-34.0, -64.0],\n",
       "                {&quot;bubblingMouseEvents&quot;: true, &quot;color&quot;: &quot;green&quot;, &quot;dashArray&quot;: null, &quot;dashOffset&quot;: null, &quot;fill&quot;: true, &quot;fillColor&quot;: &quot;green&quot;, &quot;fillOpacity&quot;: 0.2, &quot;fillRule&quot;: &quot;evenodd&quot;, &quot;lineCap&quot;: &quot;round&quot;, &quot;lineJoin&quot;: &quot;round&quot;, &quot;opacity&quot;: 1.0, &quot;radius&quot;: 4.304773916821923, &quot;stroke&quot;: true, &quot;weight&quot;: 3}\n",
       "            ).addTo(map_8be889e5344c14c640c84fd71ab2b34a);\n",
       "        \n",
       "    \n",
       "        var popup_fde20e2acca65fcaf69e14ea4449b19a = L.popup({&quot;maxWidth&quot;: &quot;100%&quot;});\n",
       "\n",
       "        \n",
       "            \n",
       "                var html_7af87e644675853239a948cc538224d9 = $(`&lt;div id=&quot;html_7af87e644675853239a948cc538224d9&quot; style=&quot;width: 100.0%; height: 100.0%;&quot;&gt;Argentina&lt;/div&gt;`)[0];\n",
       "                popup_fde20e2acca65fcaf69e14ea4449b19a.setContent(html_7af87e644675853239a948cc538224d9);\n",
       "            \n",
       "        \n",
       "\n",
       "        circle_marker_4045d32615ab722c9195a50d25ed7249.bindPopup(popup_fde20e2acca65fcaf69e14ea4449b19a)\n",
       "        ;\n",
       "\n",
       "        \n",
       "    \n",
       "    \n",
       "            var circle_marker_49a140b4613744996a408ef9ae4dad1d = L.circleMarker(\n",
       "                [40.25, 45.0],\n",
       "                {&quot;bubblingMouseEvents&quot;: true, &quot;color&quot;: &quot;black&quot;, &quot;dashArray&quot;: null, &quot;dashOffset&quot;: null, &quot;fill&quot;: true, &quot;fillColor&quot;: &quot;black&quot;, &quot;fillOpacity&quot;: 0.2, &quot;fillRule&quot;: &quot;evenodd&quot;, &quot;lineCap&quot;: &quot;round&quot;, &quot;lineJoin&quot;: &quot;round&quot;, &quot;opacity&quot;: 1.0, &quot;radius&quot;: 1.277786652845903, &quot;stroke&quot;: true, &quot;weight&quot;: 3}\n",
       "            ).addTo(map_8be889e5344c14c640c84fd71ab2b34a);\n",
       "        \n",
       "    \n",
       "        var popup_8064bdffc0223f80da5a0f596ce4fbce = L.popup({&quot;maxWidth&quot;: &quot;100%&quot;});\n",
       "\n",
       "        \n",
       "            \n",
       "                var html_2ecfc7d0dc7d6129d6c8fc215cc4ce04 = $(`&lt;div id=&quot;html_2ecfc7d0dc7d6129d6c8fc215cc4ce04&quot; style=&quot;width: 100.0%; height: 100.0%;&quot;&gt;Armenia&lt;/div&gt;`)[0];\n",
       "                popup_8064bdffc0223f80da5a0f596ce4fbce.setContent(html_2ecfc7d0dc7d6129d6c8fc215cc4ce04);\n",
       "            \n",
       "        \n",
       "\n",
       "        circle_marker_49a140b4613744996a408ef9ae4dad1d.bindPopup(popup_8064bdffc0223f80da5a0f596ce4fbce)\n",
       "        ;\n",
       "\n",
       "        \n",
       "    \n",
       "    \n",
       "            var circle_marker_f3a7f20cbb94078202e4db96abb83965 = L.circleMarker(\n",
       "                [-25.0, 135.0],\n",
       "                {&quot;bubblingMouseEvents&quot;: true, &quot;color&quot;: &quot;red&quot;, &quot;dashArray&quot;: null, &quot;dashOffset&quot;: null, &quot;fill&quot;: true, &quot;fillColor&quot;: &quot;red&quot;, &quot;fillOpacity&quot;: 0.2, &quot;fillRule&quot;: &quot;evenodd&quot;, &quot;lineCap&quot;: &quot;round&quot;, &quot;lineJoin&quot;: &quot;round&quot;, &quot;opacity&quot;: 1.0, &quot;radius&quot;: 3.0959874480847005, &quot;stroke&quot;: true, &quot;weight&quot;: 3}\n",
       "            ).addTo(map_8be889e5344c14c640c84fd71ab2b34a);\n",
       "        \n",
       "    \n",
       "        var popup_93d8e6d1af42d1e2f00b623a59a67cc4 = L.popup({&quot;maxWidth&quot;: &quot;100%&quot;});\n",
       "\n",
       "        \n",
       "            \n",
       "                var html_a97b32f44822329cc44e5dd602aab33c = $(`&lt;div id=&quot;html_a97b32f44822329cc44e5dd602aab33c&quot; style=&quot;width: 100.0%; height: 100.0%;&quot;&gt;Australia&lt;/div&gt;`)[0];\n",
       "                popup_93d8e6d1af42d1e2f00b623a59a67cc4.setContent(html_a97b32f44822329cc44e5dd602aab33c);\n",
       "            \n",
       "        \n",
       "\n",
       "        circle_marker_f3a7f20cbb94078202e4db96abb83965.bindPopup(popup_93d8e6d1af42d1e2f00b623a59a67cc4)\n",
       "        ;\n",
       "\n",
       "        \n",
       "    \n",
       "    \n",
       "            var circle_marker_1619eb7afca12aae6730320868967969 = L.circleMarker(\n",
       "                [47.33333, 13.33333],\n",
       "                {&quot;bubblingMouseEvents&quot;: true, &quot;color&quot;: &quot;black&quot;, &quot;dashArray&quot;: null, &quot;dashOffset&quot;: null, &quot;fill&quot;: true, &quot;fillColor&quot;: &quot;black&quot;, &quot;fillOpacity&quot;: 0.2, &quot;fillRule&quot;: &quot;evenodd&quot;, &quot;lineCap&quot;: &quot;round&quot;, &quot;lineJoin&quot;: &quot;round&quot;, &quot;opacity&quot;: 1.0, &quot;radius&quot;: 0.9514752478626646, &quot;stroke&quot;: true, &quot;weight&quot;: 3}\n",
       "            ).addTo(map_8be889e5344c14c640c84fd71ab2b34a);\n",
       "        \n",
       "    \n",
       "        var popup_0ee1abf857709eeceec62f90272b4182 = L.popup({&quot;maxWidth&quot;: &quot;100%&quot;});\n",
       "\n",
       "        \n",
       "            \n",
       "                var html_113e52dc7327c4804bc2f8dca127e85d = $(`&lt;div id=&quot;html_113e52dc7327c4804bc2f8dca127e85d&quot; style=&quot;width: 100.0%; height: 100.0%;&quot;&gt;Austria&lt;/div&gt;`)[0];\n",
       "                popup_0ee1abf857709eeceec62f90272b4182.setContent(html_113e52dc7327c4804bc2f8dca127e85d);\n",
       "            \n",
       "        \n",
       "\n",
       "        circle_marker_1619eb7afca12aae6730320868967969.bindPopup(popup_0ee1abf857709eeceec62f90272b4182)\n",
       "        ;\n",
       "\n",
       "        \n",
       "    \n",
       "    \n",
       "            var circle_marker_0e6be99292ab1e75d4df74c54aff02d5 = L.circleMarker(\n",
       "                [40.5, 47.5],\n",
       "                {&quot;bubblingMouseEvents&quot;: true, &quot;color&quot;: &quot;black&quot;, &quot;dashArray&quot;: null, &quot;dashOffset&quot;: null, &quot;fill&quot;: true, &quot;fillColor&quot;: &quot;black&quot;, &quot;fillOpacity&quot;: 0.2, &quot;fillRule&quot;: &quot;evenodd&quot;, &quot;lineCap&quot;: &quot;round&quot;, &quot;lineJoin&quot;: &quot;round&quot;, &quot;opacity&quot;: 1.0, &quot;radius&quot;: 0.9500356215817061, &quot;stroke&quot;: true, &quot;weight&quot;: 3}\n",
       "            ).addTo(map_8be889e5344c14c640c84fd71ab2b34a);\n",
       "        \n",
       "    \n",
       "        var popup_b39f440aa9946fa442264aabe73d1294 = L.popup({&quot;maxWidth&quot;: &quot;100%&quot;});\n",
       "\n",
       "        \n",
       "            \n",
       "                var html_873d48265373c2de48af56f807112921 = $(`&lt;div id=&quot;html_873d48265373c2de48af56f807112921&quot; style=&quot;width: 100.0%; height: 100.0%;&quot;&gt;Azerbaijan&lt;/div&gt;`)[0];\n",
       "                popup_b39f440aa9946fa442264aabe73d1294.setContent(html_873d48265373c2de48af56f807112921);\n",
       "            \n",
       "        \n",
       "\n",
       "        circle_marker_0e6be99292ab1e75d4df74c54aff02d5.bindPopup(popup_b39f440aa9946fa442264aabe73d1294)\n",
       "        ;\n",
       "\n",
       "        \n",
       "    \n",
       "    \n",
       "            var circle_marker_d8c1871bece359408f23178f68ba7cef = L.circleMarker(\n",
       "                [-3.5, 30.0],\n",
       "                {&quot;bubblingMouseEvents&quot;: true, &quot;color&quot;: &quot;blue&quot;, &quot;dashArray&quot;: null, &quot;dashOffset&quot;: null, &quot;fill&quot;: true, &quot;fillColor&quot;: &quot;blue&quot;, &quot;fillOpacity&quot;: 0.2, &quot;fillRule&quot;: &quot;evenodd&quot;, &quot;lineCap&quot;: &quot;round&quot;, &quot;lineJoin&quot;: &quot;round&quot;, &quot;opacity&quot;: 1.0, &quot;radius&quot;: 15.57911644028651, &quot;stroke&quot;: true, &quot;weight&quot;: 3}\n",
       "            ).addTo(map_8be889e5344c14c640c84fd71ab2b34a);\n",
       "        \n",
       "    \n",
       "        var popup_81d5f740fd2e4dc74066ce9a6279acd2 = L.popup({&quot;maxWidth&quot;: &quot;100%&quot;});\n",
       "\n",
       "        \n",
       "            \n",
       "                var html_ad58e138532404a566edddb8f013662d = $(`&lt;div id=&quot;html_ad58e138532404a566edddb8f013662d&quot; style=&quot;width: 100.0%; height: 100.0%;&quot;&gt;Burundi&lt;/div&gt;`)[0];\n",
       "                popup_81d5f740fd2e4dc74066ce9a6279acd2.setContent(html_ad58e138532404a566edddb8f013662d);\n",
       "            \n",
       "        \n",
       "\n",
       "        circle_marker_d8c1871bece359408f23178f68ba7cef.bindPopup(popup_81d5f740fd2e4dc74066ce9a6279acd2)\n",
       "        ;\n",
       "\n",
       "        \n",
       "    \n",
       "    \n",
       "            var circle_marker_aa9f5391914bccb38128fc17310a44bf = L.circleMarker(\n",
       "                [50.75, 4.5],\n",
       "                {&quot;bubblingMouseEvents&quot;: true, &quot;color&quot;: &quot;black&quot;, &quot;dashArray&quot;: null, &quot;dashOffset&quot;: null, &quot;fill&quot;: true, &quot;fillColor&quot;: &quot;black&quot;, &quot;fillOpacity&quot;: 0.2, &quot;fillRule&quot;: &quot;evenodd&quot;, &quot;lineCap&quot;: &quot;round&quot;, &quot;lineJoin&quot;: &quot;round&quot;, &quot;opacity&quot;: 1.0, &quot;radius&quot;: 1.3193232926841028, &quot;stroke&quot;: true, &quot;weight&quot;: 3}\n",
       "            ).addTo(map_8be889e5344c14c640c84fd71ab2b34a);\n",
       "        \n",
       "    \n",
       "        var popup_e90c449ab14f0060c8da9386d59b9a54 = L.popup({&quot;maxWidth&quot;: &quot;100%&quot;});\n",
       "\n",
       "        \n",
       "            \n",
       "                var html_a32f6b19b46e18680557d921cf6c7480 = $(`&lt;div id=&quot;html_a32f6b19b46e18680557d921cf6c7480&quot; style=&quot;width: 100.0%; height: 100.0%;&quot;&gt;Belgium&lt;/div&gt;`)[0];\n",
       "                popup_e90c449ab14f0060c8da9386d59b9a54.setContent(html_a32f6b19b46e18680557d921cf6c7480);\n",
       "            \n",
       "        \n",
       "\n",
       "        circle_marker_aa9f5391914bccb38128fc17310a44bf.bindPopup(popup_e90c449ab14f0060c8da9386d59b9a54)\n",
       "        ;\n",
       "\n",
       "        \n",
       "    \n",
       "    \n",
       "            var circle_marker_6a05b76b634f26347f55ea99e48658ab = L.circleMarker(\n",
       "                [9.5, 2.25],\n",
       "                {&quot;bubblingMouseEvents&quot;: true, &quot;color&quot;: &quot;blue&quot;, &quot;dashArray&quot;: null, &quot;dashOffset&quot;: null, &quot;fill&quot;: true, &quot;fillColor&quot;: &quot;blue&quot;, &quot;fillOpacity&quot;: 0.2, &quot;fillRule&quot;: &quot;evenodd&quot;, &quot;lineCap&quot;: &quot;round&quot;, &quot;lineJoin&quot;: &quot;round&quot;, &quot;opacity&quot;: 1.0, &quot;radius&quot;: 12.686717036335681, &quot;stroke&quot;: true, &quot;weight&quot;: 3}\n",
       "            ).addTo(map_8be889e5344c14c640c84fd71ab2b34a);\n",
       "        \n",
       "    \n",
       "        var popup_ddfe0d5679479eae17a4b707e9fe90e1 = L.popup({&quot;maxWidth&quot;: &quot;100%&quot;});\n",
       "\n",
       "        \n",
       "            \n",
       "                var html_5de69ee9d9ec5ea2628924f6c4d863a6 = $(`&lt;div id=&quot;html_5de69ee9d9ec5ea2628924f6c4d863a6&quot; style=&quot;width: 100.0%; height: 100.0%;&quot;&gt;Benin&lt;/div&gt;`)[0];\n",
       "                popup_ddfe0d5679479eae17a4b707e9fe90e1.setContent(html_5de69ee9d9ec5ea2628924f6c4d863a6);\n",
       "            \n",
       "        \n",
       "\n",
       "        circle_marker_6a05b76b634f26347f55ea99e48658ab.bindPopup(popup_ddfe0d5679479eae17a4b707e9fe90e1)\n",
       "        ;\n",
       "\n",
       "        \n",
       "    \n",
       "    \n",
       "            var circle_marker_eb9c5704af8f0741b3af46528e23b9dc = L.circleMarker(\n",
       "                [12.5, -1.66667],\n",
       "                {&quot;bubblingMouseEvents&quot;: true, &quot;color&quot;: &quot;blue&quot;, &quot;dashArray&quot;: null, &quot;dashOffset&quot;: null, &quot;fill&quot;: true, &quot;fillColor&quot;: &quot;blue&quot;, &quot;fillOpacity&quot;: 0.2, &quot;fillRule&quot;: &quot;evenodd&quot;, &quot;lineCap&quot;: &quot;round&quot;, &quot;lineJoin&quot;: &quot;round&quot;, &quot;opacity&quot;: 1.0, &quot;radius&quot;: 15.130457036837129, &quot;stroke&quot;: true, &quot;weight&quot;: 3}\n",
       "            ).addTo(map_8be889e5344c14c640c84fd71ab2b34a);\n",
       "        \n",
       "    \n",
       "        var popup_43957ad78a13cc099d43ee986e6e66cf = L.popup({&quot;maxWidth&quot;: &quot;100%&quot;});\n",
       "\n",
       "        \n",
       "            \n",
       "                var html_0c261cd1132afc2b6c37b19fb4e4348e = $(`&lt;div id=&quot;html_0c261cd1132afc2b6c37b19fb4e4348e&quot; style=&quot;width: 100.0%; height: 100.0%;&quot;&gt;Burkina Faso&lt;/div&gt;`)[0];\n",
       "                popup_43957ad78a13cc099d43ee986e6e66cf.setContent(html_0c261cd1132afc2b6c37b19fb4e4348e);\n",
       "            \n",
       "        \n",
       "\n",
       "        circle_marker_eb9c5704af8f0741b3af46528e23b9dc.bindPopup(popup_43957ad78a13cc099d43ee986e6e66cf)\n",
       "        ;\n",
       "\n",
       "        \n",
       "    \n",
       "    \n",
       "            var circle_marker_c67ccf8cb1e157d2505960c857ed4198 = L.circleMarker(\n",
       "                [24.0, 90.0],\n",
       "                {&quot;bubblingMouseEvents&quot;: true, &quot;color&quot;: &quot;red&quot;, &quot;dashArray&quot;: null, &quot;dashOffset&quot;: null, &quot;fill&quot;: true, &quot;fillColor&quot;: &quot;red&quot;, &quot;fillOpacity&quot;: 0.2, &quot;fillRule&quot;: &quot;evenodd&quot;, &quot;lineCap&quot;: &quot;round&quot;, &quot;lineJoin&quot;: &quot;round&quot;, &quot;opacity&quot;: 1.0, &quot;radius&quot;: 45.774991550463184, &quot;stroke&quot;: true, &quot;weight&quot;: 3}\n",
       "            ).addTo(map_8be889e5344c14c640c84fd71ab2b34a);\n",
       "        \n",
       "    \n",
       "        var popup_d35c300652b8020349292cccd5472856 = L.popup({&quot;maxWidth&quot;: &quot;100%&quot;});\n",
       "\n",
       "        \n",
       "            \n",
       "                var html_143bfad558a445f146bd50a49427c032 = $(`&lt;div id=&quot;html_143bfad558a445f146bd50a49427c032&quot; style=&quot;width: 100.0%; height: 100.0%;&quot;&gt;Bangladesh&lt;/div&gt;`)[0];\n",
       "                popup_d35c300652b8020349292cccd5472856.setContent(html_143bfad558a445f146bd50a49427c032);\n",
       "            \n",
       "        \n",
       "\n",
       "        circle_marker_c67ccf8cb1e157d2505960c857ed4198.bindPopup(popup_d35c300652b8020349292cccd5472856)\n",
       "        ;\n",
       "\n",
       "        \n",
       "    \n",
       "    \n",
       "            var circle_marker_375d7593209ba8c52c8e84979deb2aef = L.circleMarker(\n",
       "                [42.66667, 25.25],\n",
       "                {&quot;bubblingMouseEvents&quot;: true, &quot;color&quot;: &quot;black&quot;, &quot;dashArray&quot;: null, &quot;dashOffset&quot;: null, &quot;fill&quot;: true, &quot;fillColor&quot;: &quot;black&quot;, &quot;fillOpacity&quot;: 0.2, &quot;fillRule&quot;: &quot;evenodd&quot;, &quot;lineCap&quot;: &quot;round&quot;, &quot;lineJoin&quot;: &quot;round&quot;, &quot;opacity&quot;: 1.0, &quot;radius&quot;: 2.120887626824585, &quot;stroke&quot;: true, &quot;weight&quot;: 3}\n",
       "            ).addTo(map_8be889e5344c14c640c84fd71ab2b34a);\n",
       "        \n",
       "    \n",
       "        var popup_7fa19a2b7cb9c62455bdb07a94b217f5 = L.popup({&quot;maxWidth&quot;: &quot;100%&quot;});\n",
       "\n",
       "        \n",
       "            \n",
       "                var html_956a6a591608cb1428758f519bb58863 = $(`&lt;div id=&quot;html_956a6a591608cb1428758f519bb58863&quot; style=&quot;width: 100.0%; height: 100.0%;&quot;&gt;Bulgaria&lt;/div&gt;`)[0];\n",
       "                popup_7fa19a2b7cb9c62455bdb07a94b217f5.setContent(html_956a6a591608cb1428758f519bb58863);\n",
       "            \n",
       "        \n",
       "\n",
       "        circle_marker_375d7593209ba8c52c8e84979deb2aef.bindPopup(popup_7fa19a2b7cb9c62455bdb07a94b217f5)\n",
       "        ;\n",
       "\n",
       "        \n",
       "    \n",
       "    \n",
       "            var circle_marker_3ad215e52ba3974b5eb6008a8d5b86c6 = L.circleMarker(\n",
       "                [44.25, 17.83333],\n",
       "                {&quot;bubblingMouseEvents&quot;: true, &quot;color&quot;: &quot;black&quot;, &quot;dashArray&quot;: null, &quot;dashOffset&quot;: null, &quot;fill&quot;: true, &quot;fillColor&quot;: &quot;black&quot;, &quot;fillOpacity&quot;: 0.2, &quot;fillRule&quot;: &quot;evenodd&quot;, &quot;lineCap&quot;: &quot;round&quot;, &quot;lineJoin&quot;: &quot;round&quot;, &quot;opacity&quot;: 1.0, &quot;radius&quot;: 0.2203230756026887, &quot;stroke&quot;: true, &quot;weight&quot;: 3}\n",
       "            ).addTo(map_8be889e5344c14c640c84fd71ab2b34a);\n",
       "        \n",
       "    \n",
       "        var popup_b4b1df4ed7f03cc74fdebd227a65f874 = L.popup({&quot;maxWidth&quot;: &quot;100%&quot;});\n",
       "\n",
       "        \n",
       "            \n",
       "                var html_6f646634ca0c234de3f0ea93318bbf77 = $(`&lt;div id=&quot;html_6f646634ca0c234de3f0ea93318bbf77&quot; style=&quot;width: 100.0%; height: 100.0%;&quot;&gt;Bosnia and Herzegovina&lt;/div&gt;`)[0];\n",
       "                popup_b4b1df4ed7f03cc74fdebd227a65f874.setContent(html_6f646634ca0c234de3f0ea93318bbf77);\n",
       "            \n",
       "        \n",
       "\n",
       "        circle_marker_3ad215e52ba3974b5eb6008a8d5b86c6.bindPopup(popup_b4b1df4ed7f03cc74fdebd227a65f874)\n",
       "        ;\n",
       "\n",
       "        \n",
       "    \n",
       "    \n",
       "            var circle_marker_5e4302e08ba035231c4d3132ee2250db = L.circleMarker(\n",
       "                [53.0, 28.0],\n",
       "                {&quot;bubblingMouseEvents&quot;: true, &quot;color&quot;: &quot;black&quot;, &quot;dashArray&quot;: null, &quot;dashOffset&quot;: null, &quot;fill&quot;: true, &quot;fillColor&quot;: &quot;black&quot;, &quot;fillOpacity&quot;: 0.2, &quot;fillRule&quot;: &quot;evenodd&quot;, &quot;lineCap&quot;: &quot;round&quot;, &quot;lineJoin&quot;: &quot;round&quot;, &quot;opacity&quot;: 1.0, &quot;stroke&quot;: true, &quot;weight&quot;: 3}\n",
       "            ).addTo(map_8be889e5344c14c640c84fd71ab2b34a);\n",
       "        \n",
       "    \n",
       "        var popup_781787e4316a4fa8912cb1c65d2923fc = L.popup({&quot;maxWidth&quot;: &quot;100%&quot;});\n",
       "\n",
       "        \n",
       "            \n",
       "                var html_bae2f6a1df055fe07d90b67c7da3fcec = $(`&lt;div id=&quot;html_bae2f6a1df055fe07d90b67c7da3fcec&quot; style=&quot;width: 100.0%; height: 100.0%;&quot;&gt;Belarus&lt;/div&gt;`)[0];\n",
       "                popup_781787e4316a4fa8912cb1c65d2923fc.setContent(html_bae2f6a1df055fe07d90b67c7da3fcec);\n",
       "            \n",
       "        \n",
       "\n",
       "        circle_marker_5e4302e08ba035231c4d3132ee2250db.bindPopup(popup_781787e4316a4fa8912cb1c65d2923fc)\n",
       "        ;\n",
       "\n",
       "        \n",
       "    \n",
       "    \n",
       "            var circle_marker_0c512dc6e4d45c386eee5ce64f4ee5b0 = L.circleMarker(\n",
       "                [17.49952, -88.19756],\n",
       "                {&quot;bubblingMouseEvents&quot;: true, &quot;color&quot;: &quot;green&quot;, &quot;dashArray&quot;: null, &quot;dashOffset&quot;: null, &quot;fill&quot;: true, &quot;fillColor&quot;: &quot;green&quot;, &quot;fillOpacity&quot;: 0.2, &quot;fillRule&quot;: &quot;evenodd&quot;, &quot;lineCap&quot;: &quot;round&quot;, &quot;lineJoin&quot;: &quot;round&quot;, &quot;opacity&quot;: 1.0, &quot;radius&quot;: 1.115641213363803, &quot;stroke&quot;: true, &quot;weight&quot;: 3}\n",
       "            ).addTo(map_8be889e5344c14c640c84fd71ab2b34a);\n",
       "        \n",
       "    \n",
       "        var popup_58e74f269800b13111190f08c0849021 = L.popup({&quot;maxWidth&quot;: &quot;100%&quot;});\n",
       "\n",
       "        \n",
       "            \n",
       "                var html_a4900b733077e4de44b24ef1d24253e7 = $(`&lt;div id=&quot;html_a4900b733077e4de44b24ef1d24253e7&quot; style=&quot;width: 100.0%; height: 100.0%;&quot;&gt;Belize&lt;/div&gt;`)[0];\n",
       "                popup_58e74f269800b13111190f08c0849021.setContent(html_a4900b733077e4de44b24ef1d24253e7);\n",
       "            \n",
       "        \n",
       "\n",
       "        circle_marker_0c512dc6e4d45c386eee5ce64f4ee5b0.bindPopup(popup_58e74f269800b13111190f08c0849021)\n",
       "        ;\n",
       "\n",
       "        \n",
       "    \n",
       "    \n",
       "            var circle_marker_f7b497acae8cf67d9c88b20a59cdd524 = L.circleMarker(\n",
       "                [-17.0, -65.0],\n",
       "                {&quot;bubblingMouseEvents&quot;: true, &quot;color&quot;: &quot;green&quot;, &quot;dashArray&quot;: null, &quot;dashOffset&quot;: null, &quot;fill&quot;: true, &quot;fillColor&quot;: &quot;green&quot;, &quot;fillOpacity&quot;: 0.2, &quot;fillRule&quot;: &quot;evenodd&quot;, &quot;lineCap&quot;: &quot;round&quot;, &quot;lineJoin&quot;: &quot;round&quot;, &quot;opacity&quot;: 1.0, &quot;radius&quot;: 5.08569578650282, &quot;stroke&quot;: true, &quot;weight&quot;: 3}\n",
       "            ).addTo(map_8be889e5344c14c640c84fd71ab2b34a);\n",
       "        \n",
       "    \n",
       "        var popup_6b339777debc762c93dec78819c9e6fa = L.popup({&quot;maxWidth&quot;: &quot;100%&quot;});\n",
       "\n",
       "        \n",
       "            \n",
       "                var html_03e0a9b19757f60a8dff809ad93b8994 = $(`&lt;div id=&quot;html_03e0a9b19757f60a8dff809ad93b8994&quot; style=&quot;width: 100.0%; height: 100.0%;&quot;&gt;Bolivia&lt;/div&gt;`)[0];\n",
       "                popup_6b339777debc762c93dec78819c9e6fa.setContent(html_03e0a9b19757f60a8dff809ad93b8994);\n",
       "            \n",
       "        \n",
       "\n",
       "        circle_marker_f7b497acae8cf67d9c88b20a59cdd524.bindPopup(popup_6b339777debc762c93dec78819c9e6fa)\n",
       "        ;\n",
       "\n",
       "        \n",
       "    \n",
       "    \n",
       "            var circle_marker_792749f0b3eaef542f56a02583bce6a6 = L.circleMarker(\n",
       "                [-10.0, -55.0],\n",
       "                {&quot;bubblingMouseEvents&quot;: true, &quot;color&quot;: &quot;green&quot;, &quot;dashArray&quot;: null, &quot;dashOffset&quot;: null, &quot;fill&quot;: true, &quot;fillColor&quot;: &quot;green&quot;, &quot;fillOpacity&quot;: 0.2, &quot;fillRule&quot;: &quot;evenodd&quot;, &quot;lineCap&quot;: &quot;round&quot;, &quot;lineJoin&quot;: &quot;round&quot;, &quot;opacity&quot;: 1.0, &quot;radius&quot;: 15.205743500662225, &quot;stroke&quot;: true, &quot;weight&quot;: 3}\n",
       "            ).addTo(map_8be889e5344c14c640c84fd71ab2b34a);\n",
       "        \n",
       "    \n",
       "        var popup_069435ba856fbf5b9f706d2b1afea08e = L.popup({&quot;maxWidth&quot;: &quot;100%&quot;});\n",
       "\n",
       "        \n",
       "            \n",
       "                var html_f07d9666a691b86856385a584667e2c1 = $(`&lt;div id=&quot;html_f07d9666a691b86856385a584667e2c1&quot; style=&quot;width: 100.0%; height: 100.0%;&quot;&gt;Brazil&lt;/div&gt;`)[0];\n",
       "                popup_069435ba856fbf5b9f706d2b1afea08e.setContent(html_f07d9666a691b86856385a584667e2c1);\n",
       "            \n",
       "        \n",
       "\n",
       "        circle_marker_792749f0b3eaef542f56a02583bce6a6.bindPopup(popup_069435ba856fbf5b9f706d2b1afea08e)\n",
       "        ;\n",
       "\n",
       "        \n",
       "    \n",
       "    \n",
       "            var circle_marker_e7cdfda7016b085173f15c97ad20e3d5 = L.circleMarker(\n",
       "                [27.5, 90.5],\n",
       "                {&quot;bubblingMouseEvents&quot;: true, &quot;color&quot;: &quot;red&quot;, &quot;dashArray&quot;: null, &quot;dashOffset&quot;: null, &quot;fill&quot;: true, &quot;fillColor&quot;: &quot;red&quot;, &quot;fillOpacity&quot;: 0.2, &quot;fillRule&quot;: &quot;evenodd&quot;, &quot;lineCap&quot;: &quot;round&quot;, &quot;lineJoin&quot;: &quot;round&quot;, &quot;opacity&quot;: 1.0, &quot;radius&quot;: 0.7290717927188735, &quot;stroke&quot;: true, &quot;weight&quot;: 3}\n",
       "            ).addTo(map_8be889e5344c14c640c84fd71ab2b34a);\n",
       "        \n",
       "    \n",
       "        var popup_ae3aedc69c82e9f311af08e75b8b223b = L.popup({&quot;maxWidth&quot;: &quot;100%&quot;});\n",
       "\n",
       "        \n",
       "            \n",
       "                var html_bfbdca41eab68ec88f7c95f9bc261757 = $(`&lt;div id=&quot;html_bfbdca41eab68ec88f7c95f9bc261757&quot; style=&quot;width: 100.0%; height: 100.0%;&quot;&gt;Bhutan&lt;/div&gt;`)[0];\n",
       "                popup_ae3aedc69c82e9f311af08e75b8b223b.setContent(html_bfbdca41eab68ec88f7c95f9bc261757);\n",
       "            \n",
       "        \n",
       "\n",
       "        circle_marker_e7cdfda7016b085173f15c97ad20e3d5.bindPopup(popup_ae3aedc69c82e9f311af08e75b8b223b)\n",
       "        ;\n",
       "\n",
       "        \n",
       "    \n",
       "    \n",
       "            var circle_marker_5939aaf71d143dc357a5a12316130540 = L.circleMarker(\n",
       "                [-22.0, 24.0],\n",
       "                {&quot;bubblingMouseEvents&quot;: true, &quot;color&quot;: &quot;blue&quot;, &quot;dashArray&quot;: null, &quot;dashOffset&quot;: null, &quot;fill&quot;: true, &quot;fillColor&quot;: &quot;blue&quot;, &quot;fillOpacity&quot;: 0.2, &quot;fillRule&quot;: &quot;evenodd&quot;, &quot;lineCap&quot;: &quot;round&quot;, &quot;lineJoin&quot;: &quot;round&quot;, &quot;opacity&quot;: 1.0, &quot;radius&quot;: 2.945912547397643, &quot;stroke&quot;: true, &quot;weight&quot;: 3}\n",
       "            ).addTo(map_8be889e5344c14c640c84fd71ab2b34a);\n",
       "        \n",
       "    \n",
       "        var popup_1e3b13568c5f37dea26d083ce33d35f9 = L.popup({&quot;maxWidth&quot;: &quot;100%&quot;});\n",
       "\n",
       "        \n",
       "            \n",
       "                var html_15c9c9bf6b8a6193f14bcbabd49534b2 = $(`&lt;div id=&quot;html_15c9c9bf6b8a6193f14bcbabd49534b2&quot; style=&quot;width: 100.0%; height: 100.0%;&quot;&gt;Botswana&lt;/div&gt;`)[0];\n",
       "                popup_1e3b13568c5f37dea26d083ce33d35f9.setContent(html_15c9c9bf6b8a6193f14bcbabd49534b2);\n",
       "            \n",
       "        \n",
       "\n",
       "        circle_marker_5939aaf71d143dc357a5a12316130540.bindPopup(popup_1e3b13568c5f37dea26d083ce33d35f9)\n",
       "        ;\n",
       "\n",
       "        \n",
       "    \n",
       "    \n",
       "            var circle_marker_75e6d33b6050b1112159b0450e99ed3c = L.circleMarker(\n",
       "                [7.0, 21.0],\n",
       "                {&quot;bubblingMouseEvents&quot;: true, &quot;color&quot;: &quot;blue&quot;, &quot;dashArray&quot;: null, &quot;dashOffset&quot;: null, &quot;fill&quot;: true, &quot;fillColor&quot;: &quot;blue&quot;, &quot;fillOpacity&quot;: 0.2, &quot;fillRule&quot;: &quot;evenodd&quot;, &quot;lineCap&quot;: &quot;round&quot;, &quot;lineJoin&quot;: &quot;round&quot;, &quot;opacity&quot;: 1.0, &quot;radius&quot;: 9.479306804258663, &quot;stroke&quot;: true, &quot;weight&quot;: 3}\n",
       "            ).addTo(map_8be889e5344c14c640c84fd71ab2b34a);\n",
       "        \n",
       "    \n",
       "        var popup_302d86ef987e234f7c00779a79320e7f = L.popup({&quot;maxWidth&quot;: &quot;100%&quot;});\n",
       "\n",
       "        \n",
       "            \n",
       "                var html_38bc46cc34c2448b3cb88db85f3da0ec = $(`&lt;div id=&quot;html_38bc46cc34c2448b3cb88db85f3da0ec&quot; style=&quot;width: 100.0%; height: 100.0%;&quot;&gt;Central African Republic&lt;/div&gt;`)[0];\n",
       "                popup_302d86ef987e234f7c00779a79320e7f.setContent(html_38bc46cc34c2448b3cb88db85f3da0ec);\n",
       "            \n",
       "        \n",
       "\n",
       "        circle_marker_75e6d33b6050b1112159b0450e99ed3c.bindPopup(popup_302d86ef987e234f7c00779a79320e7f)\n",
       "        ;\n",
       "\n",
       "        \n",
       "    \n",
       "    \n",
       "            var circle_marker_cba668c8ca5b842cf5e615f6d13648ba = L.circleMarker(\n",
       "                [60.10867, -113.64258],\n",
       "                {&quot;bubblingMouseEvents&quot;: true, &quot;color&quot;: &quot;green&quot;, &quot;dashArray&quot;: null, &quot;dashOffset&quot;: null, &quot;fill&quot;: true, &quot;fillColor&quot;: &quot;green&quot;, &quot;fillOpacity&quot;: 0.2, &quot;fillRule&quot;: &quot;evenodd&quot;, &quot;lineCap&quot;: &quot;round&quot;, &quot;lineJoin&quot;: &quot;round&quot;, &quot;opacity&quot;: 1.0, &quot;radius&quot;: 1.9237872064421044, &quot;stroke&quot;: true, &quot;weight&quot;: 3}\n",
       "            ).addTo(map_8be889e5344c14c640c84fd71ab2b34a);\n",
       "        \n",
       "    \n",
       "        var popup_45bc71e3c2678d142473120f75093204 = L.popup({&quot;maxWidth&quot;: &quot;100%&quot;});\n",
       "\n",
       "        \n",
       "            \n",
       "                var html_d471dfa322ba5f755c575c75a8350ad8 = $(`&lt;div id=&quot;html_d471dfa322ba5f755c575c75a8350ad8&quot; style=&quot;width: 100.0%; height: 100.0%;&quot;&gt;Canada&lt;/div&gt;`)[0];\n",
       "                popup_45bc71e3c2678d142473120f75093204.setContent(html_d471dfa322ba5f755c575c75a8350ad8);\n",
       "            \n",
       "        \n",
       "\n",
       "        circle_marker_cba668c8ca5b842cf5e615f6d13648ba.bindPopup(popup_45bc71e3c2678d142473120f75093204)\n",
       "        ;\n",
       "\n",
       "        \n",
       "    \n",
       "    \n",
       "            var circle_marker_1d875ae6df1ce64ba68c3767aed3d3f6 = L.circleMarker(\n",
       "                [47.00016, 8.01427],\n",
       "                {&quot;bubblingMouseEvents&quot;: true, &quot;color&quot;: &quot;black&quot;, &quot;dashArray&quot;: null, &quot;dashOffset&quot;: null, &quot;fill&quot;: true, &quot;fillColor&quot;: &quot;black&quot;, &quot;fillOpacity&quot;: 0.2, &quot;fillRule&quot;: &quot;evenodd&quot;, &quot;lineCap&quot;: &quot;round&quot;, &quot;lineJoin&quot;: &quot;round&quot;, &quot;opacity&quot;: 1.0, &quot;radius&quot;: 1.2918955941667538, &quot;stroke&quot;: true, &quot;weight&quot;: 3}\n",
       "            ).addTo(map_8be889e5344c14c640c84fd71ab2b34a);\n",
       "        \n",
       "    \n",
       "        var popup_5aac220f130b54312cfffc7ce6e5f6ae = L.popup({&quot;maxWidth&quot;: &quot;100%&quot;});\n",
       "\n",
       "        \n",
       "            \n",
       "                var html_558197cd4bf0f4925c22f2552e9fbfba = $(`&lt;div id=&quot;html_558197cd4bf0f4925c22f2552e9fbfba&quot; style=&quot;width: 100.0%; height: 100.0%;&quot;&gt;Switzerland&lt;/div&gt;`)[0];\n",
       "                popup_5aac220f130b54312cfffc7ce6e5f6ae.setContent(html_558197cd4bf0f4925c22f2552e9fbfba);\n",
       "            \n",
       "        \n",
       "\n",
       "        circle_marker_1d875ae6df1ce64ba68c3767aed3d3f6.bindPopup(popup_5aac220f130b54312cfffc7ce6e5f6ae)\n",
       "        ;\n",
       "\n",
       "        \n",
       "    \n",
       "    \n",
       "            var circle_marker_c51650436b35b94ae7e59e04c711bd72 = L.circleMarker(\n",
       "                [-33.45694, -70.64827],\n",
       "                {&quot;bubblingMouseEvents&quot;: true, &quot;color&quot;: &quot;green&quot;, &quot;dashArray&quot;: null, &quot;dashOffset&quot;: null, &quot;fill&quot;: true, &quot;fillColor&quot;: &quot;green&quot;, &quot;fillOpacity&quot;: 0.2, &quot;fillRule&quot;: &quot;evenodd&quot;, &quot;lineCap&quot;: &quot;round&quot;, &quot;lineJoin&quot;: &quot;round&quot;, &quot;opacity&quot;: 1.0, &quot;radius&quot;: 2.130560950292802, &quot;stroke&quot;: true, &quot;weight&quot;: 3}\n",
       "            ).addTo(map_8be889e5344c14c640c84fd71ab2b34a);\n",
       "        \n",
       "    \n",
       "        var popup_0aa82e850641358402fe41e70be2831c = L.popup({&quot;maxWidth&quot;: &quot;100%&quot;});\n",
       "\n",
       "        \n",
       "            \n",
       "                var html_e188f852446d2a26880d76151e4fa73b = $(`&lt;div id=&quot;html_e188f852446d2a26880d76151e4fa73b&quot; style=&quot;width: 100.0%; height: 100.0%;&quot;&gt;Chile&lt;/div&gt;`)[0];\n",
       "                popup_0aa82e850641358402fe41e70be2831c.setContent(html_e188f852446d2a26880d76151e4fa73b);\n",
       "            \n",
       "        \n",
       "\n",
       "        circle_marker_c51650436b35b94ae7e59e04c711bd72.bindPopup(popup_0aa82e850641358402fe41e70be2831c)\n",
       "        ;\n",
       "\n",
       "        \n",
       "    \n",
       "    \n",
       "            var circle_marker_9194241e0583c94cf994b66fe8bcf971 = L.circleMarker(\n",
       "                [35.0, 105.0],\n",
       "                {&quot;bubblingMouseEvents&quot;: true, &quot;color&quot;: &quot;red&quot;, &quot;dashArray&quot;: null, &quot;dashOffset&quot;: null, &quot;fill&quot;: true, &quot;fillColor&quot;: &quot;red&quot;, &quot;fillOpacity&quot;: 0.2, &quot;fillRule&quot;: &quot;evenodd&quot;, &quot;lineCap&quot;: &quot;round&quot;, &quot;lineJoin&quot;: &quot;round&quot;, &quot;opacity&quot;: 1.0, &quot;radius&quot;: 51.89555240198962, &quot;stroke&quot;: true, &quot;weight&quot;: 3}\n",
       "            ).addTo(map_8be889e5344c14c640c84fd71ab2b34a);\n",
       "        \n",
       "    \n",
       "        var popup_94e7cc30b84c5d99c238c7bde0e30bd2 = L.popup({&quot;maxWidth&quot;: &quot;100%&quot;});\n",
       "\n",
       "        \n",
       "            \n",
       "                var html_b2079dd591b255c9e43d6bcdffa7c5b5 = $(`&lt;div id=&quot;html_b2079dd591b255c9e43d6bcdffa7c5b5&quot; style=&quot;width: 100.0%; height: 100.0%;&quot;&gt;China&lt;/div&gt;`)[0];\n",
       "                popup_94e7cc30b84c5d99c238c7bde0e30bd2.setContent(html_b2079dd591b255c9e43d6bcdffa7c5b5);\n",
       "            \n",
       "        \n",
       "\n",
       "        circle_marker_9194241e0583c94cf994b66fe8bcf971.bindPopup(popup_94e7cc30b84c5d99c238c7bde0e30bd2)\n",
       "        ;\n",
       "\n",
       "        \n",
       "    \n",
       "    \n",
       "            var circle_marker_fc26de26f4fab498c0fb0af69b32b165 = L.circleMarker(\n",
       "                [8.0, -5.5],\n",
       "                {&quot;bubblingMouseEvents&quot;: true, &quot;color&quot;: &quot;blue&quot;, &quot;dashArray&quot;: null, &quot;dashOffset&quot;: null, &quot;fill&quot;: true, &quot;fillColor&quot;: &quot;blue&quot;, &quot;fillOpacity&quot;: 0.2, &quot;fillRule&quot;: &quot;evenodd&quot;, &quot;lineCap&quot;: &quot;round&quot;, &quot;lineJoin&quot;: &quot;round&quot;, &quot;opacity&quot;: 1.0, &quot;radius&quot;: 15.837373427210036, &quot;stroke&quot;: true, &quot;weight&quot;: 3}\n",
       "            ).addTo(map_8be889e5344c14c640c84fd71ab2b34a);\n",
       "        \n",
       "    \n",
       "        var popup_4871a3e5190b330a552e1d49e1e3bba6 = L.popup({&quot;maxWidth&quot;: &quot;100%&quot;});\n",
       "\n",
       "        \n",
       "            \n",
       "                var html_de8a54b151645f7866d13f5f0dcc58ab = $(`&lt;div id=&quot;html_de8a54b151645f7866d13f5f0dcc58ab&quot; style=&quot;width: 100.0%; height: 100.0%;&quot;&gt;Cote d&#x27;Ivoire&lt;/div&gt;`)[0];\n",
       "                popup_4871a3e5190b330a552e1d49e1e3bba6.setContent(html_de8a54b151645f7866d13f5f0dcc58ab);\n",
       "            \n",
       "        \n",
       "\n",
       "        circle_marker_fc26de26f4fab498c0fb0af69b32b165.bindPopup(popup_4871a3e5190b330a552e1d49e1e3bba6)\n",
       "        ;\n",
       "\n",
       "        \n",
       "    \n",
       "    \n",
       "            var circle_marker_c0fb08805aaf776465b9025859029864 = L.circleMarker(\n",
       "                [6.0, 12.5],\n",
       "                {&quot;bubblingMouseEvents&quot;: true, &quot;color&quot;: &quot;blue&quot;, &quot;dashArray&quot;: null, &quot;dashOffset&quot;: null, &quot;fill&quot;: true, &quot;fillColor&quot;: &quot;blue&quot;, &quot;fillOpacity&quot;: 0.2, &quot;fillRule&quot;: &quot;evenodd&quot;, &quot;lineCap&quot;: &quot;round&quot;, &quot;lineJoin&quot;: &quot;round&quot;, &quot;opacity&quot;: 1.0, &quot;radius&quot;: 13.147376336622475, &quot;stroke&quot;: true, &quot;weight&quot;: 3}\n",
       "            ).addTo(map_8be889e5344c14c640c84fd71ab2b34a);\n",
       "        \n",
       "    \n",
       "        var popup_a14763eabf8874159cda64d21c7793dd = L.popup({&quot;maxWidth&quot;: &quot;100%&quot;});\n",
       "\n",
       "        \n",
       "            \n",
       "                var html_617884d82cb343a9734ec93c0264384a = $(`&lt;div id=&quot;html_617884d82cb343a9734ec93c0264384a&quot; style=&quot;width: 100.0%; height: 100.0%;&quot;&gt;Cameroon&lt;/div&gt;`)[0];\n",
       "                popup_a14763eabf8874159cda64d21c7793dd.setContent(html_617884d82cb343a9734ec93c0264384a);\n",
       "            \n",
       "        \n",
       "\n",
       "        circle_marker_c0fb08805aaf776465b9025859029864.bindPopup(popup_a14763eabf8874159cda64d21c7793dd)\n",
       "        ;\n",
       "\n",
       "        \n",
       "    \n",
       "    \n",
       "            var circle_marker_0d398c7bea90ea530b33fa99918e12d8 = L.circleMarker(\n",
       "                [-2.5, 23.5],\n",
       "                {&quot;bubblingMouseEvents&quot;: true, &quot;color&quot;: &quot;blue&quot;, &quot;dashArray&quot;: null, &quot;dashOffset&quot;: null, &quot;fill&quot;: true, &quot;fillColor&quot;: &quot;blue&quot;, &quot;fillOpacity&quot;: 0.2, &quot;fillRule&quot;: &quot;evenodd&quot;, &quot;lineCap&quot;: &quot;round&quot;, &quot;lineJoin&quot;: &quot;round&quot;, &quot;opacity&quot;: 1.0, &quot;radius&quot;: 43.754165155748495, &quot;stroke&quot;: true, &quot;weight&quot;: 3}\n",
       "            ).addTo(map_8be889e5344c14c640c84fd71ab2b34a);\n",
       "        \n",
       "    \n",
       "        var popup_35cc95c3ee8fe572c9cdc5e5dd0a3320 = L.popup({&quot;maxWidth&quot;: &quot;100%&quot;});\n",
       "\n",
       "        \n",
       "            \n",
       "                var html_a2815515208b6b8c8e8c8ad82ba54b45 = $(`&lt;div id=&quot;html_a2815515208b6b8c8e8c8ad82ba54b45&quot; style=&quot;width: 100.0%; height: 100.0%;&quot;&gt;Congo, Dem. Rep.&lt;/div&gt;`)[0];\n",
       "                popup_35cc95c3ee8fe572c9cdc5e5dd0a3320.setContent(html_a2815515208b6b8c8e8c8ad82ba54b45);\n",
       "            \n",
       "        \n",
       "\n",
       "        circle_marker_0d398c7bea90ea530b33fa99918e12d8.bindPopup(popup_35cc95c3ee8fe572c9cdc5e5dd0a3320)\n",
       "        ;\n",
       "\n",
       "        \n",
       "    \n",
       "    \n",
       "            var circle_marker_606950c94739bd7de25631346b1b9cf6 = L.circleMarker(\n",
       "                [-1.0, 15.5],\n",
       "                {&quot;bubblingMouseEvents&quot;: true, &quot;color&quot;: &quot;blue&quot;, &quot;dashArray&quot;: null, &quot;dashOffset&quot;: null, &quot;fill&quot;: true, &quot;fillColor&quot;: &quot;blue&quot;, &quot;fillOpacity&quot;: 0.2, &quot;fillRule&quot;: &quot;evenodd&quot;, &quot;lineCap&quot;: &quot;round&quot;, &quot;lineJoin&quot;: &quot;round&quot;, &quot;opacity&quot;: 1.0, &quot;radius&quot;: 6.827682386823731, &quot;stroke&quot;: true, &quot;weight&quot;: 3}\n",
       "            ).addTo(map_8be889e5344c14c640c84fd71ab2b34a);\n",
       "        \n",
       "    \n",
       "        var popup_65e787d54bbbe1f0c1889bfd5cd82380 = L.popup({&quot;maxWidth&quot;: &quot;100%&quot;});\n",
       "\n",
       "        \n",
       "            \n",
       "                var html_13cab2cf04d5f969fd65ee6e402bbe9e = $(`&lt;div id=&quot;html_13cab2cf04d5f969fd65ee6e402bbe9e&quot; style=&quot;width: 100.0%; height: 100.0%;&quot;&gt;Congo, Rep.&lt;/div&gt;`)[0];\n",
       "                popup_65e787d54bbbe1f0c1889bfd5cd82380.setContent(html_13cab2cf04d5f969fd65ee6e402bbe9e);\n",
       "            \n",
       "        \n",
       "\n",
       "        circle_marker_606950c94739bd7de25631346b1b9cf6.bindPopup(popup_65e787d54bbbe1f0c1889bfd5cd82380)\n",
       "        ;\n",
       "\n",
       "        \n",
       "    \n",
       "    \n",
       "            var circle_marker_c12ee07b87d72f8d80712654ebf69e65 = L.circleMarker(\n",
       "                [4.0, -73.25],\n",
       "                {&quot;bubblingMouseEvents&quot;: true, &quot;color&quot;: &quot;green&quot;, &quot;dashArray&quot;: null, &quot;dashOffset&quot;: null, &quot;fill&quot;: true, &quot;fillColor&quot;: &quot;green&quot;, &quot;fillOpacity&quot;: 0.2, &quot;fillRule&quot;: &quot;evenodd&quot;, &quot;lineCap&quot;: &quot;round&quot;, &quot;lineJoin&quot;: &quot;round&quot;, &quot;opacity&quot;: 1.0, &quot;radius&quot;: 8.957943098745089, &quot;stroke&quot;: true, &quot;weight&quot;: 3}\n",
       "            ).addTo(map_8be889e5344c14c640c84fd71ab2b34a);\n",
       "        \n",
       "    \n",
       "        var popup_0a38771d56abfa39a481b1733ac07622 = L.popup({&quot;maxWidth&quot;: &quot;100%&quot;});\n",
       "\n",
       "        \n",
       "            \n",
       "                var html_d4c5a6670904fcc178bee38a536f3f36 = $(`&lt;div id=&quot;html_d4c5a6670904fcc178bee38a536f3f36&quot; style=&quot;width: 100.0%; height: 100.0%;&quot;&gt;Colombia&lt;/div&gt;`)[0];\n",
       "                popup_0a38771d56abfa39a481b1733ac07622.setContent(html_d4c5a6670904fcc178bee38a536f3f36);\n",
       "            \n",
       "        \n",
       "\n",
       "        circle_marker_c12ee07b87d72f8d80712654ebf69e65.bindPopup(popup_0a38771d56abfa39a481b1733ac07622)\n",
       "        ;\n",
       "\n",
       "        \n",
       "    \n",
       "    \n",
       "            var circle_marker_3bfd28d384608c0e135b1e7faa9f9949 = L.circleMarker(\n",
       "                [-12.23333, 44.44553],\n",
       "                {&quot;bubblingMouseEvents&quot;: true, &quot;color&quot;: &quot;blue&quot;, &quot;dashArray&quot;: null, &quot;dashOffset&quot;: null, &quot;fill&quot;: true, &quot;fillColor&quot;: &quot;blue&quot;, &quot;fillOpacity&quot;: 0.2, &quot;fillRule&quot;: &quot;evenodd&quot;, &quot;lineCap&quot;: &quot;round&quot;, &quot;lineJoin&quot;: &quot;round&quot;, &quot;opacity&quot;: 1.0, &quot;radius&quot;: 3.1001948097460694, &quot;stroke&quot;: true, &quot;weight&quot;: 3}\n",
       "            ).addTo(map_8be889e5344c14c640c84fd71ab2b34a);\n",
       "        \n",
       "    \n",
       "        var popup_27171918f46070a6006c1f12ee2b1ac8 = L.popup({&quot;maxWidth&quot;: &quot;100%&quot;});\n",
       "\n",
       "        \n",
       "            \n",
       "                var html_14e22bcaa371d5604683aef7aff0090c = $(`&lt;div id=&quot;html_14e22bcaa371d5604683aef7aff0090c&quot; style=&quot;width: 100.0%; height: 100.0%;&quot;&gt;Comoros&lt;/div&gt;`)[0];\n",
       "                popup_27171918f46070a6006c1f12ee2b1ac8.setContent(html_14e22bcaa371d5604683aef7aff0090c);\n",
       "            \n",
       "        \n",
       "\n",
       "        circle_marker_3bfd28d384608c0e135b1e7faa9f9949.bindPopup(popup_27171918f46070a6006c1f12ee2b1ac8)\n",
       "        ;\n",
       "\n",
       "        \n",
       "    \n",
       "    \n",
       "            var circle_marker_1a86f5f75385f6b7b88ec2e00898b624 = L.circleMarker(\n",
       "                [16.0, -24.0],\n",
       "                {&quot;bubblingMouseEvents&quot;: true, &quot;color&quot;: &quot;blue&quot;, &quot;dashArray&quot;: null, &quot;dashOffset&quot;: null, &quot;fill&quot;: true, &quot;fillColor&quot;: &quot;blue&quot;, &quot;fillOpacity&quot;: 0.2, &quot;fillRule&quot;: &quot;evenodd&quot;, &quot;lineCap&quot;: &quot;round&quot;, &quot;lineJoin&quot;: &quot;round&quot;, &quot;opacity&quot;: 1.0, &quot;radius&quot;: 1.4920867957148702, &quot;stroke&quot;: true, &quot;weight&quot;: 3}\n",
       "            ).addTo(map_8be889e5344c14c640c84fd71ab2b34a);\n",
       "        \n",
       "    \n",
       "        var popup_780e9472d7cdf4d56046b0634cd44031 = L.popup({&quot;maxWidth&quot;: &quot;100%&quot;});\n",
       "\n",
       "        \n",
       "            \n",
       "                var html_db8eec03561c86a067900bb5b3f00e92 = $(`&lt;div id=&quot;html_db8eec03561c86a067900bb5b3f00e92&quot; style=&quot;width: 100.0%; height: 100.0%;&quot;&gt;Cape Verde&lt;/div&gt;`)[0];\n",
       "                popup_780e9472d7cdf4d56046b0634cd44031.setContent(html_db8eec03561c86a067900bb5b3f00e92);\n",
       "            \n",
       "        \n",
       "\n",
       "        circle_marker_1a86f5f75385f6b7b88ec2e00898b624.bindPopup(popup_780e9472d7cdf4d56046b0634cd44031)\n",
       "        ;\n",
       "\n",
       "        \n",
       "    \n",
       "    \n",
       "            var circle_marker_6085c18c45d28ec992f2da226bdad94c = L.circleMarker(\n",
       "                [10.0, -84.0],\n",
       "                {&quot;bubblingMouseEvents&quot;: true, &quot;color&quot;: &quot;green&quot;, &quot;dashArray&quot;: null, &quot;dashOffset&quot;: null, &quot;fill&quot;: true, &quot;fillColor&quot;: &quot;green&quot;, &quot;fillOpacity&quot;: 0.2, &quot;fillRule&quot;: &quot;evenodd&quot;, &quot;lineCap&quot;: &quot;round&quot;, &quot;lineJoin&quot;: &quot;round&quot;, &quot;opacity&quot;: 1.0, &quot;radius&quot;: 1.3992015419421908, &quot;stroke&quot;: true, &quot;weight&quot;: 3}\n",
       "            ).addTo(map_8be889e5344c14c640c84fd71ab2b34a);\n",
       "        \n",
       "    \n",
       "        var popup_3b7644e0bfad974425e0aab058b37da5 = L.popup({&quot;maxWidth&quot;: &quot;100%&quot;});\n",
       "\n",
       "        \n",
       "            \n",
       "                var html_eddf5ddccd34e13211de062654810e70 = $(`&lt;div id=&quot;html_eddf5ddccd34e13211de062654810e70&quot; style=&quot;width: 100.0%; height: 100.0%;&quot;&gt;Costa Rica&lt;/div&gt;`)[0];\n",
       "                popup_3b7644e0bfad974425e0aab058b37da5.setContent(html_eddf5ddccd34e13211de062654810e70);\n",
       "            \n",
       "        \n",
       "\n",
       "        circle_marker_6085c18c45d28ec992f2da226bdad94c.bindPopup(popup_3b7644e0bfad974425e0aab058b37da5)\n",
       "        ;\n",
       "\n",
       "        \n",
       "    \n",
       "    \n",
       "            var circle_marker_38bea9b5a7cbd1b0dd3dd1d211deb4e7 = L.circleMarker(\n",
       "                [49.75, 15.0],\n",
       "                {&quot;bubblingMouseEvents&quot;: true, &quot;color&quot;: &quot;black&quot;, &quot;dashArray&quot;: null, &quot;dashOffset&quot;: null, &quot;fill&quot;: true, &quot;fillColor&quot;: &quot;black&quot;, &quot;fillOpacity&quot;: 0.2, &quot;fillRule&quot;: &quot;evenodd&quot;, &quot;lineCap&quot;: &quot;round&quot;, &quot;lineJoin&quot;: &quot;round&quot;, &quot;opacity&quot;: 1.0, &quot;radius&quot;: 0.3160972528717893, &quot;stroke&quot;: true, &quot;weight&quot;: 3}\n",
       "            ).addTo(map_8be889e5344c14c640c84fd71ab2b34a);\n",
       "        \n",
       "    \n",
       "        var popup_8480d4329f801713220c7f4d5ddfab3e = L.popup({&quot;maxWidth&quot;: &quot;100%&quot;});\n",
       "\n",
       "        \n",
       "            \n",
       "                var html_2e9e266bfdf7f00b3a8f0c43e2f8df6b = $(`&lt;div id=&quot;html_2e9e266bfdf7f00b3a8f0c43e2f8df6b&quot; style=&quot;width: 100.0%; height: 100.0%;&quot;&gt;Czech Republic&lt;/div&gt;`)[0];\n",
       "                popup_8480d4329f801713220c7f4d5ddfab3e.setContent(html_2e9e266bfdf7f00b3a8f0c43e2f8df6b);\n",
       "            \n",
       "        \n",
       "\n",
       "        circle_marker_38bea9b5a7cbd1b0dd3dd1d211deb4e7.bindPopup(popup_8480d4329f801713220c7f4d5ddfab3e)\n",
       "        ;\n",
       "\n",
       "        \n",
       "    \n",
       "    \n",
       "            var circle_marker_13421245ecf443778f24a7c5bccc895c = L.circleMarker(\n",
       "                [51.5, 10.5],\n",
       "                {&quot;bubblingMouseEvents&quot;: true, &quot;color&quot;: &quot;black&quot;, &quot;dashArray&quot;: null, &quot;dashOffset&quot;: null, &quot;fill&quot;: true, &quot;fillColor&quot;: &quot;black&quot;, &quot;fillOpacity&quot;: 0.2, &quot;fillRule&quot;: &quot;evenodd&quot;, &quot;lineCap&quot;: &quot;round&quot;, &quot;lineJoin&quot;: &quot;round&quot;, &quot;opacity&quot;: 1.0, &quot;radius&quot;: 2.957693602631285, &quot;stroke&quot;: true, &quot;weight&quot;: 3}\n",
       "            ).addTo(map_8be889e5344c14c640c84fd71ab2b34a);\n",
       "        \n",
       "    \n",
       "        var popup_a1330e70537830fc29cb06debdd9419a = L.popup({&quot;maxWidth&quot;: &quot;100%&quot;});\n",
       "\n",
       "        \n",
       "            \n",
       "                var html_1c4028c725640d8e6705cf3fda26a24c = $(`&lt;div id=&quot;html_1c4028c725640d8e6705cf3fda26a24c&quot; style=&quot;width: 100.0%; height: 100.0%;&quot;&gt;Germany&lt;/div&gt;`)[0];\n",
       "                popup_a1330e70537830fc29cb06debdd9419a.setContent(html_1c4028c725640d8e6705cf3fda26a24c);\n",
       "            \n",
       "        \n",
       "\n",
       "        circle_marker_13421245ecf443778f24a7c5bccc895c.bindPopup(popup_a1330e70537830fc29cb06debdd9419a)\n",
       "        ;\n",
       "\n",
       "        \n",
       "    \n",
       "    \n",
       "            var circle_marker_daeb9cc4f9521e6f4f6667b5403d8e10 = L.circleMarker(\n",
       "                [11.58901, 43.14503],\n",
       "                {&quot;bubblingMouseEvents&quot;: true, &quot;color&quot;: &quot;blue&quot;, &quot;dashArray&quot;: null, &quot;dashOffset&quot;: null, &quot;fill&quot;: true, &quot;fillColor&quot;: &quot;blue&quot;, &quot;fillOpacity&quot;: 0.2, &quot;fillRule&quot;: &quot;evenodd&quot;, &quot;lineCap&quot;: &quot;round&quot;, &quot;lineJoin&quot;: &quot;round&quot;, &quot;opacity&quot;: 1.0, &quot;radius&quot;: 2.3612934913574355, &quot;stroke&quot;: true, &quot;weight&quot;: 3}\n",
       "            ).addTo(map_8be889e5344c14c640c84fd71ab2b34a);\n",
       "        \n",
       "    \n",
       "        var popup_d9b5403c8e8498fb16140f5179c0f03a = L.popup({&quot;maxWidth&quot;: &quot;100%&quot;});\n",
       "\n",
       "        \n",
       "            \n",
       "                var html_396d01d22b93a71e1dbf450d3e163a3d = $(`&lt;div id=&quot;html_396d01d22b93a71e1dbf450d3e163a3d&quot; style=&quot;width: 100.0%; height: 100.0%;&quot;&gt;Djibouti&lt;/div&gt;`)[0];\n",
       "                popup_d9b5403c8e8498fb16140f5179c0f03a.setContent(html_396d01d22b93a71e1dbf450d3e163a3d);\n",
       "            \n",
       "        \n",
       "\n",
       "        circle_marker_daeb9cc4f9521e6f4f6667b5403d8e10.bindPopup(popup_d9b5403c8e8498fb16140f5179c0f03a)\n",
       "        ;\n",
       "\n",
       "        \n",
       "    \n",
       "    \n",
       "            var circle_marker_556e8445ead9b25ef4ee29c78d926893 = L.circleMarker(\n",
       "                [56.0, 10.0],\n",
       "                {&quot;bubblingMouseEvents&quot;: true, &quot;color&quot;: &quot;black&quot;, &quot;dashArray&quot;: null, &quot;dashOffset&quot;: null, &quot;fill&quot;: true, &quot;fillColor&quot;: &quot;black&quot;, &quot;fillOpacity&quot;: 0.2, &quot;fillRule&quot;: &quot;evenodd&quot;, &quot;lineCap&quot;: &quot;round&quot;, &quot;lineJoin&quot;: &quot;round&quot;, &quot;opacity&quot;: 1.0, &quot;radius&quot;: 1.0877452265736534, &quot;stroke&quot;: true, &quot;weight&quot;: 3}\n",
       "            ).addTo(map_8be889e5344c14c640c84fd71ab2b34a);\n",
       "        \n",
       "    \n",
       "        var popup_7ef8725af5d778afe96585a0211e38bb = L.popup({&quot;maxWidth&quot;: &quot;100%&quot;});\n",
       "\n",
       "        \n",
       "            \n",
       "                var html_c7d20b696309acb5217bd2f2849c457c = $(`&lt;div id=&quot;html_c7d20b696309acb5217bd2f2849c457c&quot; style=&quot;width: 100.0%; height: 100.0%;&quot;&gt;Denmark&lt;/div&gt;`)[0];\n",
       "                popup_7ef8725af5d778afe96585a0211e38bb.setContent(html_c7d20b696309acb5217bd2f2849c457c);\n",
       "            \n",
       "        \n",
       "\n",
       "        circle_marker_556e8445ead9b25ef4ee29c78d926893.bindPopup(popup_7ef8725af5d778afe96585a0211e38bb)\n",
       "        ;\n",
       "\n",
       "        \n",
       "    \n",
       "    \n",
       "            var circle_marker_c5ebfdcafe2980fa604b4c162c34edbd = L.circleMarker(\n",
       "                [19.0, -70.66667],\n",
       "                {&quot;bubblingMouseEvents&quot;: true, &quot;color&quot;: &quot;green&quot;, &quot;dashArray&quot;: null, &quot;dashOffset&quot;: null, &quot;fill&quot;: true, &quot;fillColor&quot;: &quot;green&quot;, &quot;fillOpacity&quot;: 0.2, &quot;fillRule&quot;: &quot;evenodd&quot;, &quot;lineCap&quot;: &quot;round&quot;, &quot;lineJoin&quot;: &quot;round&quot;, &quot;opacity&quot;: 1.0, &quot;radius&quot;: 2.6520151317791023, &quot;stroke&quot;: true, &quot;weight&quot;: 3}\n",
       "            ).addTo(map_8be889e5344c14c640c84fd71ab2b34a);\n",
       "        \n",
       "    \n",
       "        var popup_7de3bc0480707c4e3dc7c22db6e406dc = L.popup({&quot;maxWidth&quot;: &quot;100%&quot;});\n",
       "\n",
       "        \n",
       "            \n",
       "                var html_1c60ef3a003d2c0bbe6b0d93f20bee71 = $(`&lt;div id=&quot;html_1c60ef3a003d2c0bbe6b0d93f20bee71&quot; style=&quot;width: 100.0%; height: 100.0%;&quot;&gt;Dominican Republic&lt;/div&gt;`)[0];\n",
       "                popup_7de3bc0480707c4e3dc7c22db6e406dc.setContent(html_1c60ef3a003d2c0bbe6b0d93f20bee71);\n",
       "            \n",
       "        \n",
       "\n",
       "        circle_marker_c5ebfdcafe2980fa604b4c162c34edbd.bindPopup(popup_7de3bc0480707c4e3dc7c22db6e406dc)\n",
       "        ;\n",
       "\n",
       "        \n",
       "    \n",
       "    \n",
       "            var circle_marker_e94e68390291deaeac11ba0a6bc330b4 = L.circleMarker(\n",
       "                [28.0, 3.0],\n",
       "                {&quot;bubblingMouseEvents&quot;: true, &quot;color&quot;: &quot;blue&quot;, &quot;dashArray&quot;: null, &quot;dashOffset&quot;: null, &quot;fill&quot;: true, &quot;fillColor&quot;: &quot;blue&quot;, &quot;fillOpacity&quot;: 0.2, &quot;fillRule&quot;: &quot;evenodd&quot;, &quot;lineCap&quot;: &quot;round&quot;, &quot;lineJoin&quot;: &quot;round&quot;, &quot;opacity&quot;: 1.0, &quot;radius&quot;: 8.572728445542362, &quot;stroke&quot;: true, &quot;weight&quot;: 3}\n",
       "            ).addTo(map_8be889e5344c14c640c84fd71ab2b34a);\n",
       "        \n",
       "    \n",
       "        var popup_7d14c8aa78e71e77a240299c8b93bfa1 = L.popup({&quot;maxWidth&quot;: &quot;100%&quot;});\n",
       "\n",
       "        \n",
       "            \n",
       "                var html_06b7593016622fbf93a1c2c5dca15cdf = $(`&lt;div id=&quot;html_06b7593016622fbf93a1c2c5dca15cdf&quot; style=&quot;width: 100.0%; height: 100.0%;&quot;&gt;Algeria&lt;/div&gt;`)[0];\n",
       "                popup_7d14c8aa78e71e77a240299c8b93bfa1.setContent(html_06b7593016622fbf93a1c2c5dca15cdf);\n",
       "            \n",
       "        \n",
       "\n",
       "        circle_marker_e94e68390291deaeac11ba0a6bc330b4.bindPopup(popup_7d14c8aa78e71e77a240299c8b93bfa1)\n",
       "        ;\n",
       "\n",
       "        \n",
       "    \n",
       "    \n",
       "            var circle_marker_e0c13e622bc2e93ad5746719666f5ca1 = L.circleMarker(\n",
       "                [-1.25, -78.25],\n",
       "                {&quot;bubblingMouseEvents&quot;: true, &quot;color&quot;: &quot;green&quot;, &quot;dashArray&quot;: null, &quot;dashOffset&quot;: null, &quot;fill&quot;: true, &quot;fillColor&quot;: &quot;green&quot;, &quot;fillOpacity&quot;: 0.2, &quot;fillRule&quot;: &quot;evenodd&quot;, &quot;lineCap&quot;: &quot;round&quot;, &quot;lineJoin&quot;: &quot;round&quot;, &quot;opacity&quot;: 1.0, &quot;radius&quot;: 4.353880662227051, &quot;stroke&quot;: true, &quot;weight&quot;: 3}\n",
       "            ).addTo(map_8be889e5344c14c640c84fd71ab2b34a);\n",
       "        \n",
       "    \n",
       "        var popup_93917757e58aa5dd05d5d59d17096441 = L.popup({&quot;maxWidth&quot;: &quot;100%&quot;});\n",
       "\n",
       "        \n",
       "            \n",
       "                var html_dbb930d19f0d22c0a5fcc690de346e0c = $(`&lt;div id=&quot;html_dbb930d19f0d22c0a5fcc690de346e0c&quot; style=&quot;width: 100.0%; height: 100.0%;&quot;&gt;Ecuador&lt;/div&gt;`)[0];\n",
       "                popup_93917757e58aa5dd05d5d59d17096441.setContent(html_dbb930d19f0d22c0a5fcc690de346e0c);\n",
       "            \n",
       "        \n",
       "\n",
       "        circle_marker_e0c13e622bc2e93ad5746719666f5ca1.bindPopup(popup_93917757e58aa5dd05d5d59d17096441)\n",
       "        ;\n",
       "\n",
       "        \n",
       "    \n",
       "    \n",
       "            var circle_marker_b939037c038eeab1e5d0a3de3a7f4c61 = L.circleMarker(\n",
       "                [27.0, 30.0],\n",
       "                {&quot;bubblingMouseEvents&quot;: true, &quot;color&quot;: &quot;blue&quot;, &quot;dashArray&quot;: null, &quot;dashOffset&quot;: null, &quot;fill&quot;: true, &quot;fillColor&quot;: &quot;blue&quot;, &quot;fillOpacity&quot;: 0.2, &quot;fillRule&quot;: &quot;evenodd&quot;, &quot;lineCap&quot;: &quot;round&quot;, &quot;lineJoin&quot;: &quot;round&quot;, &quot;opacity&quot;: 1.0, &quot;radius&quot;: 6.906413357069596, &quot;stroke&quot;: true, &quot;weight&quot;: 3}\n",
       "            ).addTo(map_8be889e5344c14c640c84fd71ab2b34a);\n",
       "        \n",
       "    \n",
       "        var popup_4ca7971c6d1c8ce61b6818c1f5dd9a6a = L.popup({&quot;maxWidth&quot;: &quot;100%&quot;});\n",
       "\n",
       "        \n",
       "            \n",
       "                var html_53d05f2170b86b06396ed26d4bc6ca37 = $(`&lt;div id=&quot;html_53d05f2170b86b06396ed26d4bc6ca37&quot; style=&quot;width: 100.0%; height: 100.0%;&quot;&gt;Egypt&lt;/div&gt;`)[0];\n",
       "                popup_4ca7971c6d1c8ce61b6818c1f5dd9a6a.setContent(html_53d05f2170b86b06396ed26d4bc6ca37);\n",
       "            \n",
       "        \n",
       "\n",
       "        circle_marker_b939037c038eeab1e5d0a3de3a7f4c61.bindPopup(popup_4ca7971c6d1c8ce61b6818c1f5dd9a6a)\n",
       "        ;\n",
       "\n",
       "        \n",
       "    \n",
       "    \n",
       "            var circle_marker_34f7a51e0ad9605660e9d0e9f5544714 = L.circleMarker(\n",
       "                [40.0, -4.0],\n",
       "                {&quot;bubblingMouseEvents&quot;: true, &quot;color&quot;: &quot;black&quot;, &quot;dashArray&quot;: null, &quot;dashOffset&quot;: null, &quot;fill&quot;: true, &quot;fillColor&quot;: &quot;black&quot;, &quot;fillOpacity&quot;: 0.2, &quot;fillRule&quot;: &quot;evenodd&quot;, &quot;lineCap&quot;: &quot;round&quot;, &quot;lineJoin&quot;: &quot;round&quot;, &quot;opacity&quot;: 1.0, &quot;radius&quot;: 5.906682334608904, &quot;stroke&quot;: true, &quot;weight&quot;: 3}\n",
       "            ).addTo(map_8be889e5344c14c640c84fd71ab2b34a);\n",
       "        \n",
       "    \n",
       "        var popup_8baf77fc92ed0cf41b8bfac5b6fbee5d = L.popup({&quot;maxWidth&quot;: &quot;100%&quot;});\n",
       "\n",
       "        \n",
       "            \n",
       "                var html_e5204a0ab1111e7ea3fa9cce19a5eaa7 = $(`&lt;div id=&quot;html_e5204a0ab1111e7ea3fa9cce19a5eaa7&quot; style=&quot;width: 100.0%; height: 100.0%;&quot;&gt;Spain&lt;/div&gt;`)[0];\n",
       "                popup_8baf77fc92ed0cf41b8bfac5b6fbee5d.setContent(html_e5204a0ab1111e7ea3fa9cce19a5eaa7);\n",
       "            \n",
       "        \n",
       "\n",
       "        circle_marker_34f7a51e0ad9605660e9d0e9f5544714.bindPopup(popup_8baf77fc92ed0cf41b8bfac5b6fbee5d)\n",
       "        ;\n",
       "\n",
       "        \n",
       "    \n",
       "    \n",
       "            var circle_marker_ba1cd2ddc35ce49064dea6a8c42dde1d = L.circleMarker(\n",
       "                [59.0, 26.0],\n",
       "                {&quot;bubblingMouseEvents&quot;: true, &quot;color&quot;: &quot;black&quot;, &quot;dashArray&quot;: null, &quot;dashOffset&quot;: null, &quot;fill&quot;: true, &quot;fillColor&quot;: &quot;black&quot;, &quot;fillOpacity&quot;: 0.2, &quot;fillRule&quot;: &quot;evenodd&quot;, &quot;lineCap&quot;: &quot;round&quot;, &quot;lineJoin&quot;: &quot;round&quot;, &quot;opacity&quot;: 1.0, &quot;radius&quot;: 0.6444615888418875, &quot;stroke&quot;: true, &quot;weight&quot;: 3}\n",
       "            ).addTo(map_8be889e5344c14c640c84fd71ab2b34a);\n",
       "        \n",
       "    \n",
       "        var popup_2d721fe6035d12aa7bb08c5aed181e3d = L.popup({&quot;maxWidth&quot;: &quot;100%&quot;});\n",
       "\n",
       "        \n",
       "            \n",
       "                var html_88ddbc77d72c7298b8fe4effddd7b96d = $(`&lt;div id=&quot;html_88ddbc77d72c7298b8fe4effddd7b96d&quot; style=&quot;width: 100.0%; height: 100.0%;&quot;&gt;Estonia&lt;/div&gt;`)[0];\n",
       "                popup_2d721fe6035d12aa7bb08c5aed181e3d.setContent(html_88ddbc77d72c7298b8fe4effddd7b96d);\n",
       "            \n",
       "        \n",
       "\n",
       "        circle_marker_ba1cd2ddc35ce49064dea6a8c42dde1d.bindPopup(popup_2d721fe6035d12aa7bb08c5aed181e3d)\n",
       "        ;\n",
       "\n",
       "        \n",
       "    \n",
       "    \n",
       "            var circle_marker_93c94cba8f506de2368b695e301b8274 = L.circleMarker(\n",
       "                [9.0, 39.5],\n",
       "                {&quot;bubblingMouseEvents&quot;: true, &quot;color&quot;: &quot;blue&quot;, &quot;dashArray&quot;: null, &quot;dashOffset&quot;: null, &quot;fill&quot;: true, &quot;fillColor&quot;: &quot;blue&quot;, &quot;fillOpacity&quot;: 0.2, &quot;fillRule&quot;: &quot;evenodd&quot;, &quot;lineCap&quot;: &quot;round&quot;, &quot;lineJoin&quot;: &quot;round&quot;, &quot;opacity&quot;: 1.0, &quot;radius&quot;: 32.561667460024736, &quot;stroke&quot;: true, &quot;weight&quot;: 3}\n",
       "            ).addTo(map_8be889e5344c14c640c84fd71ab2b34a);\n",
       "        \n",
       "    \n",
       "        var popup_6914ff3a20ce7dba2f1288a3503d53e2 = L.popup({&quot;maxWidth&quot;: &quot;100%&quot;});\n",
       "\n",
       "        \n",
       "            \n",
       "                var html_0cd4fdd1a210a649b7c54f0f10ad529e = $(`&lt;div id=&quot;html_0cd4fdd1a210a649b7c54f0f10ad529e&quot; style=&quot;width: 100.0%; height: 100.0%;&quot;&gt;Ethiopia&lt;/div&gt;`)[0];\n",
       "                popup_6914ff3a20ce7dba2f1288a3503d53e2.setContent(html_0cd4fdd1a210a649b7c54f0f10ad529e);\n",
       "            \n",
       "        \n",
       "\n",
       "        circle_marker_93c94cba8f506de2368b695e301b8274.bindPopup(popup_6914ff3a20ce7dba2f1288a3503d53e2)\n",
       "        ;\n",
       "\n",
       "        \n",
       "    \n",
       "    \n",
       "            var circle_marker_9be450130c7743bce8478c3566390c14 = L.circleMarker(\n",
       "                [64.0, 26.0],\n",
       "                {&quot;bubblingMouseEvents&quot;: true, &quot;color&quot;: &quot;black&quot;, &quot;dashArray&quot;: null, &quot;dashOffset&quot;: null, &quot;fill&quot;: true, &quot;fillColor&quot;: &quot;black&quot;, &quot;fillOpacity&quot;: 0.2, &quot;fillRule&quot;: &quot;evenodd&quot;, &quot;lineCap&quot;: &quot;round&quot;, &quot;lineJoin&quot;: &quot;round&quot;, &quot;opacity&quot;: 1.0, &quot;stroke&quot;: true, &quot;weight&quot;: 3}\n",
       "            ).addTo(map_8be889e5344c14c640c84fd71ab2b34a);\n",
       "        \n",
       "    \n",
       "        var popup_48abe475f1c0b9e9a86540e8eaf9e997 = L.popup({&quot;maxWidth&quot;: &quot;100%&quot;});\n",
       "\n",
       "        \n",
       "            \n",
       "                var html_c47d2c18bbaab7afd91b0744f0ca22cb = $(`&lt;div id=&quot;html_c47d2c18bbaab7afd91b0744f0ca22cb&quot; style=&quot;width: 100.0%; height: 100.0%;&quot;&gt;Finland&lt;/div&gt;`)[0];\n",
       "                popup_48abe475f1c0b9e9a86540e8eaf9e997.setContent(html_c47d2c18bbaab7afd91b0744f0ca22cb);\n",
       "            \n",
       "        \n",
       "\n",
       "        circle_marker_9be450130c7743bce8478c3566390c14.bindPopup(popup_48abe475f1c0b9e9a86540e8eaf9e997)\n",
       "        ;\n",
       "\n",
       "        \n",
       "    \n",
       "    \n",
       "            var circle_marker_7ceb1fae395662969d1e576eb6628a63 = L.circleMarker(\n",
       "                [-18.0, 178.0],\n",
       "                {&quot;bubblingMouseEvents&quot;: true, &quot;color&quot;: &quot;red&quot;, &quot;dashArray&quot;: null, &quot;dashOffset&quot;: null, &quot;fill&quot;: true, &quot;fillColor&quot;: &quot;red&quot;, &quot;fillOpacity&quot;: 0.2, &quot;fillRule&quot;: &quot;evenodd&quot;, &quot;lineCap&quot;: &quot;round&quot;, &quot;lineJoin&quot;: &quot;round&quot;, &quot;opacity&quot;: 1.0, &quot;radius&quot;: 1.305376694179763, &quot;stroke&quot;: true, &quot;weight&quot;: 3}\n",
       "            ).addTo(map_8be889e5344c14c640c84fd71ab2b34a);\n",
       "        \n",
       "    \n",
       "        var popup_099be80741138c70208c1177b9f55216 = L.popup({&quot;maxWidth&quot;: &quot;100%&quot;});\n",
       "\n",
       "        \n",
       "            \n",
       "                var html_287a6918b21f3749f98b1c6347a39bc8 = $(`&lt;div id=&quot;html_287a6918b21f3749f98b1c6347a39bc8&quot; style=&quot;width: 100.0%; height: 100.0%;&quot;&gt;Fiji&lt;/div&gt;`)[0];\n",
       "                popup_099be80741138c70208c1177b9f55216.setContent(html_287a6918b21f3749f98b1c6347a39bc8);\n",
       "            \n",
       "        \n",
       "\n",
       "        circle_marker_7ceb1fae395662969d1e576eb6628a63.bindPopup(popup_099be80741138c70208c1177b9f55216)\n",
       "        ;\n",
       "\n",
       "        \n",
       "    \n",
       "    \n",
       "            var circle_marker_b400e6441ed9a66e1e294ad05666c328 = L.circleMarker(\n",
       "                [46.0, 2.0],\n",
       "                {&quot;bubblingMouseEvents&quot;: true, &quot;color&quot;: &quot;black&quot;, &quot;dashArray&quot;: null, &quot;dashOffset&quot;: null, &quot;fill&quot;: true, &quot;fillColor&quot;: &quot;black&quot;, &quot;fillOpacity&quot;: 0.2, &quot;fillRule&quot;: &quot;evenodd&quot;, &quot;lineCap&quot;: &quot;round&quot;, &quot;lineJoin&quot;: &quot;round&quot;, &quot;opacity&quot;: 1.0, &quot;radius&quot;: 2.5809869827429424, &quot;stroke&quot;: true, &quot;weight&quot;: 3}\n",
       "            ).addTo(map_8be889e5344c14c640c84fd71ab2b34a);\n",
       "        \n",
       "    \n",
       "        var popup_776a8407f9280dc111e119666a3fdfeb = L.popup({&quot;maxWidth&quot;: &quot;100%&quot;});\n",
       "\n",
       "        \n",
       "            \n",
       "                var html_a1e9e4135ddb4109eef08b4c094b0d4c = $(`&lt;div id=&quot;html_a1e9e4135ddb4109eef08b4c094b0d4c&quot; style=&quot;width: 100.0%; height: 100.0%;&quot;&gt;France&lt;/div&gt;`)[0];\n",
       "                popup_776a8407f9280dc111e119666a3fdfeb.setContent(html_a1e9e4135ddb4109eef08b4c094b0d4c);\n",
       "            \n",
       "        \n",
       "\n",
       "        circle_marker_b400e6441ed9a66e1e294ad05666c328.bindPopup(popup_776a8407f9280dc111e119666a3fdfeb)\n",
       "        ;\n",
       "\n",
       "        \n",
       "    \n",
       "    \n",
       "            var circle_marker_cdbe1cb0240ba9755dfd9ed3a6bbc286 = L.circleMarker(\n",
       "                [6.924, 158.162],\n",
       "                {&quot;bubblingMouseEvents&quot;: true, &quot;color&quot;: &quot;red&quot;, &quot;dashArray&quot;: null, &quot;dashOffset&quot;: null, &quot;fill&quot;: true, &quot;fillColor&quot;: &quot;red&quot;, &quot;fillOpacity&quot;: 0.2, &quot;fillRule&quot;: &quot;evenodd&quot;, &quot;lineCap&quot;: &quot;round&quot;, &quot;lineJoin&quot;: &quot;round&quot;, &quot;opacity&quot;: 1.0, &quot;radius&quot;: 1.0326210765460293, &quot;stroke&quot;: true, &quot;weight&quot;: 3}\n",
       "            ).addTo(map_8be889e5344c14c640c84fd71ab2b34a);\n",
       "        \n",
       "    \n",
       "        var popup_d2b5f621035098464fa306b01f25e4de = L.popup({&quot;maxWidth&quot;: &quot;100%&quot;});\n",
       "\n",
       "        \n",
       "            \n",
       "                var html_16c8c4e905e38a565e6eb4567721f981 = $(`&lt;div id=&quot;html_16c8c4e905e38a565e6eb4567721f981&quot; style=&quot;width: 100.0%; height: 100.0%;&quot;&gt;Micronesia, Fed. Sts.&lt;/div&gt;`)[0];\n",
       "                popup_d2b5f621035098464fa306b01f25e4de.setContent(html_16c8c4e905e38a565e6eb4567721f981);\n",
       "            \n",
       "        \n",
       "\n",
       "        circle_marker_cdbe1cb0240ba9755dfd9ed3a6bbc286.bindPopup(popup_d2b5f621035098464fa306b01f25e4de)\n",
       "        ;\n",
       "\n",
       "        \n",
       "    \n",
       "    \n",
       "            var circle_marker_cb2ddf92cab6af5167e7487c31defb6c = L.circleMarker(\n",
       "                [-1.0, 11.75],\n",
       "                {&quot;bubblingMouseEvents&quot;: true, &quot;color&quot;: &quot;blue&quot;, &quot;dashArray&quot;: null, &quot;dashOffset&quot;: null, &quot;fill&quot;: true, &quot;fillColor&quot;: &quot;blue&quot;, &quot;fillOpacity&quot;: 0.2, &quot;fillRule&quot;: &quot;evenodd&quot;, &quot;lineCap&quot;: &quot;round&quot;, &quot;lineJoin&quot;: &quot;round&quot;, &quot;opacity&quot;: 1.0, &quot;radius&quot;: 1.8259270464280992, &quot;stroke&quot;: true, &quot;weight&quot;: 3}\n",
       "            ).addTo(map_8be889e5344c14c640c84fd71ab2b34a);\n",
       "        \n",
       "    \n",
       "        var popup_71570fd1883f5dc92b72ccb9525517df = L.popup({&quot;maxWidth&quot;: &quot;100%&quot;});\n",
       "\n",
       "        \n",
       "            \n",
       "                var html_be6063c53df7ae525e3626490bb5c02a = $(`&lt;div id=&quot;html_be6063c53df7ae525e3626490bb5c02a&quot; style=&quot;width: 100.0%; height: 100.0%;&quot;&gt;Gabon&lt;/div&gt;`)[0];\n",
       "                popup_71570fd1883f5dc92b72ccb9525517df.setContent(html_be6063c53df7ae525e3626490bb5c02a);\n",
       "            \n",
       "        \n",
       "\n",
       "        circle_marker_cb2ddf92cab6af5167e7487c31defb6c.bindPopup(popup_71570fd1883f5dc92b72ccb9525517df)\n",
       "        ;\n",
       "\n",
       "        \n",
       "    \n",
       "    \n",
       "            var circle_marker_24ceac380cb5b0c84028ff34f42bdef4 = L.circleMarker(\n",
       "                [54.75844, -2.69531],\n",
       "                {&quot;bubblingMouseEvents&quot;: true, &quot;color&quot;: &quot;black&quot;, &quot;dashArray&quot;: null, &quot;dashOffset&quot;: null, &quot;fill&quot;: true, &quot;fillColor&quot;: &quot;black&quot;, &quot;fillOpacity&quot;: 0.2, &quot;fillRule&quot;: &quot;evenodd&quot;, &quot;lineCap&quot;: &quot;round&quot;, &quot;lineJoin&quot;: &quot;round&quot;, &quot;opacity&quot;: 1.0, &quot;radius&quot;: 4.500680734303956, &quot;stroke&quot;: true, &quot;weight&quot;: 3}\n",
       "            ).addTo(map_8be889e5344c14c640c84fd71ab2b34a);\n",
       "        \n",
       "    \n",
       "        var popup_8e660cbde60d5e73765ed53d288357d0 = L.popup({&quot;maxWidth&quot;: &quot;100%&quot;});\n",
       "\n",
       "        \n",
       "            \n",
       "                var html_c5cf0f2ffbd4b2bab070b50f1fd6b180 = $(`&lt;div id=&quot;html_c5cf0f2ffbd4b2bab070b50f1fd6b180&quot; style=&quot;width: 100.0%; height: 100.0%;&quot;&gt;United Kingdom&lt;/div&gt;`)[0];\n",
       "                popup_8e660cbde60d5e73765ed53d288357d0.setContent(html_c5cf0f2ffbd4b2bab070b50f1fd6b180);\n",
       "            \n",
       "        \n",
       "\n",
       "        circle_marker_24ceac380cb5b0c84028ff34f42bdef4.bindPopup(popup_8e660cbde60d5e73765ed53d288357d0)\n",
       "        ;\n",
       "\n",
       "        \n",
       "    \n",
       "    \n",
       "            var circle_marker_547d4608a3970c2c997c1d1e69ff0daa = L.circleMarker(\n",
       "                [41.99998, 43.4999],\n",
       "                {&quot;bubblingMouseEvents&quot;: true, &quot;color&quot;: &quot;black&quot;, &quot;dashArray&quot;: null, &quot;dashOffset&quot;: null, &quot;fill&quot;: true, &quot;fillColor&quot;: &quot;black&quot;, &quot;fillOpacity&quot;: 0.2, &quot;fillRule&quot;: &quot;evenodd&quot;, &quot;lineCap&quot;: &quot;round&quot;, &quot;lineJoin&quot;: &quot;round&quot;, &quot;opacity&quot;: 1.0, &quot;radius&quot;: 4.187503114511933, &quot;stroke&quot;: true, &quot;weight&quot;: 3}\n",
       "            ).addTo(map_8be889e5344c14c640c84fd71ab2b34a);\n",
       "        \n",
       "    \n",
       "        var popup_6daf47c69f47f5f4d1bbbf27e7a20ae5 = L.popup({&quot;maxWidth&quot;: &quot;100%&quot;});\n",
       "\n",
       "        \n",
       "            \n",
       "                var html_d71ff9d7b4f0241e3d88f52a3fed0612 = $(`&lt;div id=&quot;html_d71ff9d7b4f0241e3d88f52a3fed0612&quot; style=&quot;width: 100.0%; height: 100.0%;&quot;&gt;Georgia&lt;/div&gt;`)[0];\n",
       "                popup_6daf47c69f47f5f4d1bbbf27e7a20ae5.setContent(html_d71ff9d7b4f0241e3d88f52a3fed0612);\n",
       "            \n",
       "        \n",
       "\n",
       "        circle_marker_547d4608a3970c2c997c1d1e69ff0daa.bindPopup(popup_6daf47c69f47f5f4d1bbbf27e7a20ae5)\n",
       "        ;\n",
       "\n",
       "        \n",
       "    \n",
       "    \n",
       "            var circle_marker_cd65b327af98dc81b7f7b14a7bb16c7e = L.circleMarker(\n",
       "                [8.1, -1.2],\n",
       "                {&quot;bubblingMouseEvents&quot;: true, &quot;color&quot;: &quot;blue&quot;, &quot;dashArray&quot;: null, &quot;dashOffset&quot;: null, &quot;fill&quot;: true, &quot;fillColor&quot;: &quot;blue&quot;, &quot;fillOpacity&quot;: 0.2, &quot;fillRule&quot;: &quot;evenodd&quot;, &quot;lineCap&quot;: &quot;round&quot;, &quot;lineJoin&quot;: &quot;round&quot;, &quot;opacity&quot;: 1.0, &quot;radius&quot;: 15.226118061910228, &quot;stroke&quot;: true, &quot;weight&quot;: 3}\n",
       "            ).addTo(map_8be889e5344c14c640c84fd71ab2b34a);\n",
       "        \n",
       "    \n",
       "        var popup_f0e62d3d619de98e7a4b4a3a8265636d = L.popup({&quot;maxWidth&quot;: &quot;100%&quot;});\n",
       "\n",
       "        \n",
       "            \n",
       "                var html_2a0079cbd7a658b7ae3804c897181d98 = $(`&lt;div id=&quot;html_2a0079cbd7a658b7ae3804c897181d98&quot; style=&quot;width: 100.0%; height: 100.0%;&quot;&gt;Ghana&lt;/div&gt;`)[0];\n",
       "                popup_f0e62d3d619de98e7a4b4a3a8265636d.setContent(html_2a0079cbd7a658b7ae3804c897181d98);\n",
       "            \n",
       "        \n",
       "\n",
       "        circle_marker_cd65b327af98dc81b7f7b14a7bb16c7e.bindPopup(popup_f0e62d3d619de98e7a4b4a3a8265636d)\n",
       "        ;\n",
       "\n",
       "        \n",
       "    \n",
       "    \n",
       "            var circle_marker_427410ae11a8fd46687b8b96810a4f21 = L.circleMarker(\n",
       "                [10.83333, -10.66667],\n",
       "                {&quot;bubblingMouseEvents&quot;: true, &quot;color&quot;: &quot;blue&quot;, &quot;dashArray&quot;: null, &quot;dashOffset&quot;: null, &quot;fill&quot;: true, &quot;fillColor&quot;: &quot;blue&quot;, &quot;fillOpacity&quot;: 0.2, &quot;fillRule&quot;: &quot;evenodd&quot;, &quot;lineCap&quot;: &quot;round&quot;, &quot;lineJoin&quot;: &quot;round&quot;, &quot;opacity&quot;: 1.0, &quot;radius&quot;: 11.629533564200177, &quot;stroke&quot;: true, &quot;weight&quot;: 3}\n",
       "            ).addTo(map_8be889e5344c14c640c84fd71ab2b34a);\n",
       "        \n",
       "    \n",
       "        var popup_db0d48839839f665b7faa201b722aa07 = L.popup({&quot;maxWidth&quot;: &quot;100%&quot;});\n",
       "\n",
       "        \n",
       "            \n",
       "                var html_1e09ec55ccc19336214d0f2a00d83a0d = $(`&lt;div id=&quot;html_1e09ec55ccc19336214d0f2a00d83a0d&quot; style=&quot;width: 100.0%; height: 100.0%;&quot;&gt;Guinea&lt;/div&gt;`)[0];\n",
       "                popup_db0d48839839f665b7faa201b722aa07.setContent(html_1e09ec55ccc19336214d0f2a00d83a0d);\n",
       "            \n",
       "        \n",
       "\n",
       "        circle_marker_427410ae11a8fd46687b8b96810a4f21.bindPopup(popup_db0d48839839f665b7faa201b722aa07)\n",
       "        ;\n",
       "\n",
       "        \n",
       "    \n",
       "    \n",
       "            var circle_marker_03bda3d8391d07aae7cf3e8755b2eb32 = L.circleMarker(\n",
       "                [13.5, -15.5],\n",
       "                {&quot;bubblingMouseEvents&quot;: true, &quot;color&quot;: &quot;blue&quot;, &quot;dashArray&quot;: null, &quot;dashOffset&quot;: null, &quot;fill&quot;: true, &quot;fillColor&quot;: &quot;blue&quot;, &quot;fillOpacity&quot;: 0.2, &quot;fillRule&quot;: &quot;evenodd&quot;, &quot;lineCap&quot;: &quot;round&quot;, &quot;lineJoin&quot;: &quot;round&quot;, &quot;opacity&quot;: 1.0, &quot;radius&quot;: 4.541379210278732, &quot;stroke&quot;: true, &quot;weight&quot;: 3}\n",
       "            ).addTo(map_8be889e5344c14c640c84fd71ab2b34a);\n",
       "        \n",
       "    \n",
       "        var popup_9c840f7a24ebdbe9d5fa5ef29a2caffd = L.popup({&quot;maxWidth&quot;: &quot;100%&quot;});\n",
       "\n",
       "        \n",
       "            \n",
       "                var html_a442f1c3ace580ff8cd2950c40f16adc = $(`&lt;div id=&quot;html_a442f1c3ace580ff8cd2950c40f16adc&quot; style=&quot;width: 100.0%; height: 100.0%;&quot;&gt;Gambia&lt;/div&gt;`)[0];\n",
       "                popup_9c840f7a24ebdbe9d5fa5ef29a2caffd.setContent(html_a442f1c3ace580ff8cd2950c40f16adc);\n",
       "            \n",
       "        \n",
       "\n",
       "        circle_marker_03bda3d8391d07aae7cf3e8755b2eb32.bindPopup(popup_9c840f7a24ebdbe9d5fa5ef29a2caffd)\n",
       "        ;\n",
       "\n",
       "        \n",
       "    \n",
       "    \n",
       "            var circle_marker_82cd4fd35e55643a08106e4bf24a3d64 = L.circleMarker(\n",
       "                [12.0, -15.0],\n",
       "                {&quot;bubblingMouseEvents&quot;: true, &quot;color&quot;: &quot;blue&quot;, &quot;dashArray&quot;: null, &quot;dashOffset&quot;: null, &quot;fill&quot;: true, &quot;fillColor&quot;: &quot;blue&quot;, &quot;fillOpacity&quot;: 0.2, &quot;fillRule&quot;: &quot;evenodd&quot;, &quot;lineCap&quot;: &quot;round&quot;, &quot;lineJoin&quot;: &quot;round&quot;, &quot;opacity&quot;: 1.0, &quot;radius&quot;: 4.937687185952117, &quot;stroke&quot;: true, &quot;weight&quot;: 3}\n",
       "            ).addTo(map_8be889e5344c14c640c84fd71ab2b34a);\n",
       "        \n",
       "    \n",
       "        var popup_7afc7971d389a611725ff7c8d9b113dc = L.popup({&quot;maxWidth&quot;: &quot;100%&quot;});\n",
       "\n",
       "        \n",
       "            \n",
       "                var html_b582d6c847ede398025e35458f6a7177 = $(`&lt;div id=&quot;html_b582d6c847ede398025e35458f6a7177&quot; style=&quot;width: 100.0%; height: 100.0%;&quot;&gt;Guinea-Bissau&lt;/div&gt;`)[0];\n",
       "                popup_7afc7971d389a611725ff7c8d9b113dc.setContent(html_b582d6c847ede398025e35458f6a7177);\n",
       "            \n",
       "        \n",
       "\n",
       "        circle_marker_82cd4fd35e55643a08106e4bf24a3d64.bindPopup(popup_7afc7971d389a611725ff7c8d9b113dc)\n",
       "        ;\n",
       "\n",
       "        \n",
       "    \n",
       "    \n",
       "            var circle_marker_8f8e7a1062a7bf3d45d7a2ea95b2b365 = L.circleMarker(\n",
       "                [39.0, 22.0],\n",
       "                {&quot;bubblingMouseEvents&quot;: true, &quot;color&quot;: &quot;black&quot;, &quot;dashArray&quot;: null, &quot;dashOffset&quot;: null, &quot;fill&quot;: true, &quot;fillColor&quot;: &quot;black&quot;, &quot;fillOpacity&quot;: 0.2, &quot;fillRule&quot;: &quot;evenodd&quot;, &quot;lineCap&quot;: &quot;round&quot;, &quot;lineJoin&quot;: &quot;round&quot;, &quot;opacity&quot;: 1.0, &quot;radius&quot;: 2.202566074684235, &quot;stroke&quot;: true, &quot;weight&quot;: 3}\n",
       "            ).addTo(map_8be889e5344c14c640c84fd71ab2b34a);\n",
       "        \n",
       "    \n",
       "        var popup_21c4c726f87e007c897b62730a6e7eb9 = L.popup({&quot;maxWidth&quot;: &quot;100%&quot;});\n",
       "\n",
       "        \n",
       "            \n",
       "                var html_1cbf059d07aa5b1d54b93fed6eb960ee = $(`&lt;div id=&quot;html_1cbf059d07aa5b1d54b93fed6eb960ee&quot; style=&quot;width: 100.0%; height: 100.0%;&quot;&gt;Greece&lt;/div&gt;`)[0];\n",
       "                popup_21c4c726f87e007c897b62730a6e7eb9.setContent(html_1cbf059d07aa5b1d54b93fed6eb960ee);\n",
       "            \n",
       "        \n",
       "\n",
       "        circle_marker_8f8e7a1062a7bf3d45d7a2ea95b2b365.bindPopup(popup_21c4c726f87e007c897b62730a6e7eb9)\n",
       "        ;\n",
       "\n",
       "        \n",
       "    \n",
       "    \n",
       "            var circle_marker_69a7d9602af3de1408b1201cbb7f697e = L.circleMarker(\n",
       "                [14.64072, -90.51327],\n",
       "                {&quot;bubblingMouseEvents&quot;: true, &quot;color&quot;: &quot;green&quot;, &quot;dashArray&quot;: null, &quot;dashOffset&quot;: null, &quot;fill&quot;: true, &quot;fillColor&quot;: &quot;green&quot;, &quot;fillOpacity&quot;: 0.2, &quot;fillRule&quot;: &quot;evenodd&quot;, &quot;lineCap&quot;: &quot;round&quot;, &quot;lineJoin&quot;: &quot;round&quot;, &quot;opacity&quot;: 1.0, &quot;radius&quot;: 7.951901430176263, &quot;stroke&quot;: true, &quot;weight&quot;: 3}\n",
       "            ).addTo(map_8be889e5344c14c640c84fd71ab2b34a);\n",
       "        \n",
       "    \n",
       "        var popup_dc32950761109b07044400763d1dbba5 = L.popup({&quot;maxWidth&quot;: &quot;100%&quot;});\n",
       "\n",
       "        \n",
       "            \n",
       "                var html_d2565970c21f8907b1cafb4c1dfe5e96 = $(`&lt;div id=&quot;html_d2565970c21f8907b1cafb4c1dfe5e96&quot; style=&quot;width: 100.0%; height: 100.0%;&quot;&gt;Guatemala&lt;/div&gt;`)[0];\n",
       "                popup_dc32950761109b07044400763d1dbba5.setContent(html_d2565970c21f8907b1cafb4c1dfe5e96);\n",
       "            \n",
       "        \n",
       "\n",
       "        circle_marker_69a7d9602af3de1408b1201cbb7f697e.bindPopup(popup_dc32950761109b07044400763d1dbba5)\n",
       "        ;\n",
       "\n",
       "        \n",
       "    \n",
       "    \n",
       "            var circle_marker_588f8e4bf272de57df7e2da9a689b9a1 = L.circleMarker(\n",
       "                [5.0, -59.0],\n",
       "                {&quot;bubblingMouseEvents&quot;: true, &quot;color&quot;: &quot;green&quot;, &quot;dashArray&quot;: null, &quot;dashOffset&quot;: null, &quot;fill&quot;: true, &quot;fillColor&quot;: &quot;green&quot;, &quot;fillOpacity&quot;: 0.2, &quot;fillRule&quot;: &quot;evenodd&quot;, &quot;lineCap&quot;: &quot;round&quot;, &quot;lineJoin&quot;: &quot;round&quot;, &quot;opacity&quot;: 1.0, &quot;radius&quot;: 1.4404523571048922, &quot;stroke&quot;: true, &quot;weight&quot;: 3}\n",
       "            ).addTo(map_8be889e5344c14c640c84fd71ab2b34a);\n",
       "        \n",
       "    \n",
       "        var popup_975b67a8b6a1c2126d36e360fbe3433c = L.popup({&quot;maxWidth&quot;: &quot;100%&quot;});\n",
       "\n",
       "        \n",
       "            \n",
       "                var html_593a364a623c62eb05c63b58c451c82f = $(`&lt;div id=&quot;html_593a364a623c62eb05c63b58c451c82f&quot; style=&quot;width: 100.0%; height: 100.0%;&quot;&gt;Guyana&lt;/div&gt;`)[0];\n",
       "                popup_975b67a8b6a1c2126d36e360fbe3433c.setContent(html_593a364a623c62eb05c63b58c451c82f);\n",
       "            \n",
       "        \n",
       "\n",
       "        circle_marker_588f8e4bf272de57df7e2da9a689b9a1.bindPopup(popup_975b67a8b6a1c2126d36e360fbe3433c)\n",
       "        ;\n",
       "\n",
       "        \n",
       "    \n",
       "    \n",
       "            var circle_marker_84887beee78cf2167032c60251e85ed4 = L.circleMarker(\n",
       "                [15.0, -86.5],\n",
       "                {&quot;bubblingMouseEvents&quot;: true, &quot;color&quot;: &quot;green&quot;, &quot;dashArray&quot;: null, &quot;dashOffset&quot;: null, &quot;fill&quot;: true, &quot;fillColor&quot;: &quot;green&quot;, &quot;fillOpacity&quot;: 0.2, &quot;fillRule&quot;: &quot;evenodd&quot;, &quot;lineCap&quot;: &quot;round&quot;, &quot;lineJoin&quot;: &quot;round&quot;, &quot;opacity&quot;: 1.0, &quot;radius&quot;: 6.624597234186647, &quot;stroke&quot;: true, &quot;weight&quot;: 3}\n",
       "            ).addTo(map_8be889e5344c14c640c84fd71ab2b34a);\n",
       "        \n",
       "    \n",
       "        var popup_07b13a3cdf0a4b56a72841d6dfbf3ed6 = L.popup({&quot;maxWidth&quot;: &quot;100%&quot;});\n",
       "\n",
       "        \n",
       "            \n",
       "                var html_622c96555072bf0ed9d959ceea0abeed = $(`&lt;div id=&quot;html_622c96555072bf0ed9d959ceea0abeed&quot; style=&quot;width: 100.0%; height: 100.0%;&quot;&gt;Honduras&lt;/div&gt;`)[0];\n",
       "                popup_07b13a3cdf0a4b56a72841d6dfbf3ed6.setContent(html_622c96555072bf0ed9d959ceea0abeed);\n",
       "            \n",
       "        \n",
       "\n",
       "        circle_marker_84887beee78cf2167032c60251e85ed4.bindPopup(popup_07b13a3cdf0a4b56a72841d6dfbf3ed6)\n",
       "        ;\n",
       "\n",
       "        \n",
       "    \n",
       "    \n",
       "            var circle_marker_0265940c25522f027e7ef69aa3890466 = L.circleMarker(\n",
       "                [45.16667, 15.5],\n",
       "                {&quot;bubblingMouseEvents&quot;: true, &quot;color&quot;: &quot;black&quot;, &quot;dashArray&quot;: null, &quot;dashOffset&quot;: null, &quot;fill&quot;: true, &quot;fillColor&quot;: &quot;black&quot;, &quot;fillOpacity&quot;: 0.2, &quot;fillRule&quot;: &quot;evenodd&quot;, &quot;lineCap&quot;: &quot;round&quot;, &quot;lineJoin&quot;: &quot;round&quot;, &quot;opacity&quot;: 1.0, &quot;stroke&quot;: true, &quot;weight&quot;: 3}\n",
       "            ).addTo(map_8be889e5344c14c640c84fd71ab2b34a);\n",
       "        \n",
       "    \n",
       "        var popup_5f908c4f16bc5ec37e36f0bdfd54d2b9 = L.popup({&quot;maxWidth&quot;: &quot;100%&quot;});\n",
       "\n",
       "        \n",
       "            \n",
       "                var html_a8f342183746041eea96f017048c60a4 = $(`&lt;div id=&quot;html_a8f342183746041eea96f017048c60a4&quot; style=&quot;width: 100.0%; height: 100.0%;&quot;&gt;Croatia&lt;/div&gt;`)[0];\n",
       "                popup_5f908c4f16bc5ec37e36f0bdfd54d2b9.setContent(html_a8f342183746041eea96f017048c60a4);\n",
       "            \n",
       "        \n",
       "\n",
       "        circle_marker_0265940c25522f027e7ef69aa3890466.bindPopup(popup_5f908c4f16bc5ec37e36f0bdfd54d2b9)\n",
       "        ;\n",
       "\n",
       "        \n",
       "    \n",
       "    \n",
       "            var circle_marker_adcb41d31c4640e45e2b15bb98612b69 = L.circleMarker(\n",
       "                [19.0, -72.41667],\n",
       "                {&quot;bubblingMouseEvents&quot;: true, &quot;color&quot;: &quot;green&quot;, &quot;dashArray&quot;: null, &quot;dashOffset&quot;: null, &quot;fill&quot;: true, &quot;fillColor&quot;: &quot;green&quot;, &quot;fillOpacity&quot;: 0.2, &quot;fillRule&quot;: &quot;evenodd&quot;, &quot;lineCap&quot;: &quot;round&quot;, &quot;lineJoin&quot;: &quot;round&quot;, &quot;opacity&quot;: 1.0, &quot;radius&quot;: 13.87678502206466, &quot;stroke&quot;: true, &quot;weight&quot;: 3}\n",
       "            ).addTo(map_8be889e5344c14c640c84fd71ab2b34a);\n",
       "        \n",
       "    \n",
       "        var popup_d9b600dc7383a50b15db737995cdd429 = L.popup({&quot;maxWidth&quot;: &quot;100%&quot;});\n",
       "\n",
       "        \n",
       "            \n",
       "                var html_7aed30e97d630b0f086663e299ed0e2e = $(`&lt;div id=&quot;html_7aed30e97d630b0f086663e299ed0e2e&quot; style=&quot;width: 100.0%; height: 100.0%;&quot;&gt;Haiti&lt;/div&gt;`)[0];\n",
       "                popup_d9b600dc7383a50b15db737995cdd429.setContent(html_7aed30e97d630b0f086663e299ed0e2e);\n",
       "            \n",
       "        \n",
       "\n",
       "        circle_marker_adcb41d31c4640e45e2b15bb98612b69.bindPopup(popup_d9b600dc7383a50b15db737995cdd429)\n",
       "        ;\n",
       "\n",
       "        \n",
       "    \n",
       "    \n",
       "            var circle_marker_d2ee29b59f217e99750e25af0da844fb = L.circleMarker(\n",
       "                [47.0, 20.0],\n",
       "                {&quot;bubblingMouseEvents&quot;: true, &quot;color&quot;: &quot;black&quot;, &quot;dashArray&quot;: null, &quot;dashOffset&quot;: null, &quot;fill&quot;: true, &quot;fillColor&quot;: &quot;black&quot;, &quot;fillOpacity&quot;: 0.2, &quot;fillRule&quot;: &quot;evenodd&quot;, &quot;lineCap&quot;: &quot;round&quot;, &quot;lineJoin&quot;: &quot;round&quot;, &quot;opacity&quot;: 1.0, &quot;radius&quot;: 0.39854313845017025, &quot;stroke&quot;: true, &quot;weight&quot;: 3}\n",
       "            ).addTo(map_8be889e5344c14c640c84fd71ab2b34a);\n",
       "        \n",
       "    \n",
       "        var popup_09359e33ead96ec46ae2b44432f6d13e = L.popup({&quot;maxWidth&quot;: &quot;100%&quot;});\n",
       "\n",
       "        \n",
       "            \n",
       "                var html_f678a30387ef93e318685f2e304b6dc9 = $(`&lt;div id=&quot;html_f678a30387ef93e318685f2e304b6dc9&quot; style=&quot;width: 100.0%; height: 100.0%;&quot;&gt;Hungary&lt;/div&gt;`)[0];\n",
       "                popup_09359e33ead96ec46ae2b44432f6d13e.setContent(html_f678a30387ef93e318685f2e304b6dc9);\n",
       "            \n",
       "        \n",
       "\n",
       "        circle_marker_d2ee29b59f217e99750e25af0da844fb.bindPopup(popup_09359e33ead96ec46ae2b44432f6d13e)\n",
       "        ;\n",
       "\n",
       "        \n",
       "    \n",
       "    \n",
       "            var circle_marker_276701bfe8e09265b8bde87f8b34519c = L.circleMarker(\n",
       "                [-5.0, 120.0],\n",
       "                {&quot;bubblingMouseEvents&quot;: true, &quot;color&quot;: &quot;red&quot;, &quot;dashArray&quot;: null, &quot;dashOffset&quot;: null, &quot;fill&quot;: true, &quot;fillColor&quot;: &quot;red&quot;, &quot;fillOpacity&quot;: 0.2, &quot;fillRule&quot;: &quot;evenodd&quot;, &quot;lineCap&quot;: &quot;round&quot;, &quot;lineJoin&quot;: &quot;round&quot;, &quot;opacity&quot;: 1.0, &quot;radius&quot;: 35.63850421634843, &quot;stroke&quot;: true, &quot;weight&quot;: 3}\n",
       "            ).addTo(map_8be889e5344c14c640c84fd71ab2b34a);\n",
       "        \n",
       "    \n",
       "        var popup_ee0b0e834a515233c2d32b5cd3b44017 = L.popup({&quot;maxWidth&quot;: &quot;100%&quot;});\n",
       "\n",
       "        \n",
       "            \n",
       "                var html_d74a566b561051e68da9ee20e25b4607 = $(`&lt;div id=&quot;html_d74a566b561051e68da9ee20e25b4607&quot; style=&quot;width: 100.0%; height: 100.0%;&quot;&gt;Indonesia&lt;/div&gt;`)[0];\n",
       "                popup_ee0b0e834a515233c2d32b5cd3b44017.setContent(html_d74a566b561051e68da9ee20e25b4607);\n",
       "            \n",
       "        \n",
       "\n",
       "        circle_marker_276701bfe8e09265b8bde87f8b34519c.bindPopup(popup_ee0b0e834a515233c2d32b5cd3b44017)\n",
       "        ;\n",
       "\n",
       "        \n",
       "    \n",
       "    \n",
       "            var circle_marker_7ef4e577c7fef6f3f071bfb071c20d34 = L.circleMarker(\n",
       "                [22.0, 79.0],\n",
       "                {&quot;bubblingMouseEvents&quot;: true, &quot;color&quot;: &quot;red&quot;, &quot;dashArray&quot;: null, &quot;dashOffset&quot;: null, &quot;fill&quot;: true, &quot;fillColor&quot;: &quot;red&quot;, &quot;fillOpacity&quot;: 0.2, &quot;fillRule&quot;: &quot;evenodd&quot;, &quot;lineCap&quot;: &quot;round&quot;, &quot;lineJoin&quot;: &quot;round&quot;, &quot;opacity&quot;: 1.0, &quot;radius&quot;: 96.71116171569287, &quot;stroke&quot;: true, &quot;weight&quot;: 3}\n",
       "            ).addTo(map_8be889e5344c14c640c84fd71ab2b34a);\n",
       "        \n",
       "    \n",
       "        var popup_946bb45532fd536140030a82324aeb1e = L.popup({&quot;maxWidth&quot;: &quot;100%&quot;});\n",
       "\n",
       "        \n",
       "            \n",
       "                var html_36553df6816bd67c417e6f914bcdbd0b = $(`&lt;div id=&quot;html_36553df6816bd67c417e6f914bcdbd0b&quot; style=&quot;width: 100.0%; height: 100.0%;&quot;&gt;India&lt;/div&gt;`)[0];\n",
       "                popup_946bb45532fd536140030a82324aeb1e.setContent(html_36553df6816bd67c417e6f914bcdbd0b);\n",
       "            \n",
       "        \n",
       "\n",
       "        circle_marker_7ef4e577c7fef6f3f071bfb071c20d34.bindPopup(popup_946bb45532fd536140030a82324aeb1e)\n",
       "        ;\n",
       "\n",
       "        \n",
       "    \n",
       "    \n",
       "            var circle_marker_e9a833de5d99183fe736d2d5964ee5b0 = L.circleMarker(\n",
       "                [53.0, -8.0],\n",
       "                {&quot;bubblingMouseEvents&quot;: true, &quot;color&quot;: &quot;black&quot;, &quot;dashArray&quot;: null, &quot;dashOffset&quot;: null, &quot;fill&quot;: true, &quot;fillColor&quot;: &quot;black&quot;, &quot;fillOpacity&quot;: 0.2, &quot;fillRule&quot;: &quot;evenodd&quot;, &quot;lineCap&quot;: &quot;round&quot;, &quot;lineJoin&quot;: &quot;round&quot;, &quot;opacity&quot;: 1.0, &quot;radius&quot;: 0.7228015053895888, &quot;stroke&quot;: true, &quot;weight&quot;: 3}\n",
       "            ).addTo(map_8be889e5344c14c640c84fd71ab2b34a);\n",
       "        \n",
       "    \n",
       "        var popup_a08fdb0ddc826b0936143643d206ba91 = L.popup({&quot;maxWidth&quot;: &quot;100%&quot;});\n",
       "\n",
       "        \n",
       "            \n",
       "                var html_82e126daa6270cff3744cba7ac91eaae = $(`&lt;div id=&quot;html_82e126daa6270cff3744cba7ac91eaae&quot; style=&quot;width: 100.0%; height: 100.0%;&quot;&gt;Ireland&lt;/div&gt;`)[0];\n",
       "                popup_a08fdb0ddc826b0936143643d206ba91.setContent(html_82e126daa6270cff3744cba7ac91eaae);\n",
       "            \n",
       "        \n",
       "\n",
       "        circle_marker_e9a833de5d99183fe736d2d5964ee5b0.bindPopup(popup_a08fdb0ddc826b0936143643d206ba91)\n",
       "        ;\n",
       "\n",
       "        \n",
       "    \n",
       "    \n",
       "            var circle_marker_f932cc94252bc4ff8c05e72779ee5495 = L.circleMarker(\n",
       "                [32.0, 53.0],\n",
       "                {&quot;bubblingMouseEvents&quot;: true, &quot;color&quot;: &quot;red&quot;, &quot;dashArray&quot;: null, &quot;dashOffset&quot;: null, &quot;fill&quot;: true, &quot;fillColor&quot;: &quot;red&quot;, &quot;fillOpacity&quot;: 0.2, &quot;fillRule&quot;: &quot;evenodd&quot;, &quot;lineCap&quot;: &quot;round&quot;, &quot;lineJoin&quot;: &quot;round&quot;, &quot;opacity&quot;: 1.0, &quot;radius&quot;: 5.977753046502472, &quot;stroke&quot;: true, &quot;weight&quot;: 3}\n",
       "            ).addTo(map_8be889e5344c14c640c84fd71ab2b34a);\n",
       "        \n",
       "    \n",
       "        var popup_f8fe37faa33de7b57ab2cd27b144c4c4 = L.popup({&quot;maxWidth&quot;: &quot;100%&quot;});\n",
       "\n",
       "        \n",
       "            \n",
       "                var html_c849e06c7563116194f82881b5c63b0b = $(`&lt;div id=&quot;html_c849e06c7563116194f82881b5c63b0b&quot; style=&quot;width: 100.0%; height: 100.0%;&quot;&gt;Iran&lt;/div&gt;`)[0];\n",
       "                popup_f8fe37faa33de7b57ab2cd27b144c4c4.setContent(html_c849e06c7563116194f82881b5c63b0b);\n",
       "            \n",
       "        \n",
       "\n",
       "        circle_marker_f932cc94252bc4ff8c05e72779ee5495.bindPopup(popup_f8fe37faa33de7b57ab2cd27b144c4c4)\n",
       "        ;\n",
       "\n",
       "        \n",
       "    \n",
       "    \n",
       "            var circle_marker_1e0013e0a774bf1b01b3f7d83376947d = L.circleMarker(\n",
       "                [33.0, 44.0],\n",
       "                {&quot;bubblingMouseEvents&quot;: true, &quot;color&quot;: &quot;red&quot;, &quot;dashArray&quot;: null, &quot;dashOffset&quot;: null, &quot;fill&quot;: true, &quot;fillColor&quot;: &quot;red&quot;, &quot;fillOpacity&quot;: 0.2, &quot;fillRule&quot;: &quot;evenodd&quot;, &quot;lineCap&quot;: &quot;round&quot;, &quot;lineJoin&quot;: &quot;round&quot;, &quot;opacity&quot;: 1.0, &quot;radius&quot;: 6.216012345398477, &quot;stroke&quot;: true, &quot;weight&quot;: 3}\n",
       "            ).addTo(map_8be889e5344c14c640c84fd71ab2b34a);\n",
       "        \n",
       "    \n",
       "        var popup_f4bf8c8bbf722ade0340f5d679cb1da3 = L.popup({&quot;maxWidth&quot;: &quot;100%&quot;});\n",
       "\n",
       "        \n",
       "            \n",
       "                var html_5059e5b0c104bdbafd0514fbd403adf4 = $(`&lt;div id=&quot;html_5059e5b0c104bdbafd0514fbd403adf4&quot; style=&quot;width: 100.0%; height: 100.0%;&quot;&gt;Iraq&lt;/div&gt;`)[0];\n",
       "                popup_f4bf8c8bbf722ade0340f5d679cb1da3.setContent(html_5059e5b0c104bdbafd0514fbd403adf4);\n",
       "            \n",
       "        \n",
       "\n",
       "        circle_marker_1e0013e0a774bf1b01b3f7d83376947d.bindPopup(popup_f4bf8c8bbf722ade0340f5d679cb1da3)\n",
       "        ;\n",
       "\n",
       "        \n",
       "    \n",
       "    \n",
       "            var circle_marker_54bd6a96e7be7943e2cbfcdab8667f50 = L.circleMarker(\n",
       "                [31.5, 34.75],\n",
       "                {&quot;bubblingMouseEvents&quot;: true, &quot;color&quot;: &quot;red&quot;, &quot;dashArray&quot;: null, &quot;dashOffset&quot;: null, &quot;fill&quot;: true, &quot;fillColor&quot;: &quot;red&quot;, &quot;fillOpacity&quot;: 0.2, &quot;fillRule&quot;: &quot;evenodd&quot;, &quot;lineCap&quot;: &quot;round&quot;, &quot;lineJoin&quot;: &quot;round&quot;, &quot;opacity&quot;: 1.0, &quot;radius&quot;: 0.954347985452728, &quot;stroke&quot;: true, &quot;weight&quot;: 3}\n",
       "            ).addTo(map_8be889e5344c14c640c84fd71ab2b34a);\n",
       "        \n",
       "    \n",
       "        var popup_d8400e88dbf5dc944cfa0a4008fcf21c = L.popup({&quot;maxWidth&quot;: &quot;100%&quot;});\n",
       "\n",
       "        \n",
       "            \n",
       "                var html_e85de28b06965798da1cbf4ceab717e3 = $(`&lt;div id=&quot;html_e85de28b06965798da1cbf4ceab717e3&quot; style=&quot;width: 100.0%; height: 100.0%;&quot;&gt;Israel&lt;/div&gt;`)[0];\n",
       "                popup_d8400e88dbf5dc944cfa0a4008fcf21c.setContent(html_e85de28b06965798da1cbf4ceab717e3);\n",
       "            \n",
       "        \n",
       "\n",
       "        circle_marker_54bd6a96e7be7943e2cbfcdab8667f50.bindPopup(popup_d8400e88dbf5dc944cfa0a4008fcf21c)\n",
       "        ;\n",
       "\n",
       "        \n",
       "    \n",
       "    \n",
       "            var circle_marker_1cf42536551fb58f3c594c1fca4f880c = L.circleMarker(\n",
       "                [42.83333, 12.83333],\n",
       "                {&quot;bubblingMouseEvents&quot;: true, &quot;color&quot;: &quot;black&quot;, &quot;dashArray&quot;: null, &quot;dashOffset&quot;: null, &quot;fill&quot;: true, &quot;fillColor&quot;: &quot;black&quot;, &quot;fillOpacity&quot;: 0.2, &quot;fillRule&quot;: &quot;evenodd&quot;, &quot;lineCap&quot;: &quot;round&quot;, &quot;lineJoin&quot;: &quot;round&quot;, &quot;opacity&quot;: 1.0, &quot;radius&quot;: 5.08465043859005, &quot;stroke&quot;: true, &quot;weight&quot;: 3}\n",
       "            ).addTo(map_8be889e5344c14c640c84fd71ab2b34a);\n",
       "        \n",
       "    \n",
       "        var popup_2aad14dc07d14efd2e565ccedf0d8045 = L.popup({&quot;maxWidth&quot;: &quot;100%&quot;});\n",
       "\n",
       "        \n",
       "            \n",
       "                var html_34483de7f805ca5b0bc9393d0c5f26f0 = $(`&lt;div id=&quot;html_34483de7f805ca5b0bc9393d0c5f26f0&quot; style=&quot;width: 100.0%; height: 100.0%;&quot;&gt;Italy&lt;/div&gt;`)[0];\n",
       "                popup_2aad14dc07d14efd2e565ccedf0d8045.setContent(html_34483de7f805ca5b0bc9393d0c5f26f0);\n",
       "            \n",
       "        \n",
       "\n",
       "        circle_marker_1cf42536551fb58f3c594c1fca4f880c.bindPopup(popup_2aad14dc07d14efd2e565ccedf0d8045)\n",
       "        ;\n",
       "\n",
       "        \n",
       "    \n",
       "    \n",
       "            var circle_marker_52bb8e388005decd80bd0635afbf95b6 = L.circleMarker(\n",
       "                [18.16667, -77.25],\n",
       "                {&quot;bubblingMouseEvents&quot;: true, &quot;color&quot;: &quot;green&quot;, &quot;dashArray&quot;: null, &quot;dashOffset&quot;: null, &quot;fill&quot;: true, &quot;fillColor&quot;: &quot;green&quot;, &quot;fillOpacity&quot;: 0.2, &quot;fillRule&quot;: &quot;evenodd&quot;, &quot;lineCap&quot;: &quot;round&quot;, &quot;lineJoin&quot;: &quot;round&quot;, &quot;opacity&quot;: 1.0, &quot;radius&quot;: 0.45824560217796606, &quot;stroke&quot;: true, &quot;weight&quot;: 3}\n",
       "            ).addTo(map_8be889e5344c14c640c84fd71ab2b34a);\n",
       "        \n",
       "    \n",
       "        var popup_32282ed9a134f4e00e6dd9e9b779918e = L.popup({&quot;maxWidth&quot;: &quot;100%&quot;});\n",
       "\n",
       "        \n",
       "            \n",
       "                var html_985422ebdd26263a2a4d783fe197bc55 = $(`&lt;div id=&quot;html_985422ebdd26263a2a4d783fe197bc55&quot; style=&quot;width: 100.0%; height: 100.0%;&quot;&gt;Jamaica&lt;/div&gt;`)[0];\n",
       "                popup_32282ed9a134f4e00e6dd9e9b779918e.setContent(html_985422ebdd26263a2a4d783fe197bc55);\n",
       "            \n",
       "        \n",
       "\n",
       "        circle_marker_52bb8e388005decd80bd0635afbf95b6.bindPopup(popup_32282ed9a134f4e00e6dd9e9b779918e)\n",
       "        ;\n",
       "\n",
       "        \n",
       "    \n",
       "    \n",
       "            var circle_marker_72dc7239bbeb715df012cdfa00df16cb = L.circleMarker(\n",
       "                [31.0, 36.0],\n",
       "                {&quot;bubblingMouseEvents&quot;: true, &quot;color&quot;: &quot;red&quot;, &quot;dashArray&quot;: null, &quot;dashOffset&quot;: null, &quot;fill&quot;: true, &quot;fillColor&quot;: &quot;red&quot;, &quot;fillOpacity&quot;: 0.2, &quot;fillRule&quot;: &quot;evenodd&quot;, &quot;lineCap&quot;: &quot;round&quot;, &quot;lineJoin&quot;: &quot;round&quot;, &quot;opacity&quot;: 1.0, &quot;radius&quot;: 0.4310792404582909, &quot;stroke&quot;: true, &quot;weight&quot;: 3}\n",
       "            ).addTo(map_8be889e5344c14c640c84fd71ab2b34a);\n",
       "        \n",
       "    \n",
       "        var popup_c6d54956c77ee7d92ed6b0dda1b1f5c7 = L.popup({&quot;maxWidth&quot;: &quot;100%&quot;});\n",
       "\n",
       "        \n",
       "            \n",
       "                var html_b9bedfe1d74235df5a3bd5693cef0488 = $(`&lt;div id=&quot;html_b9bedfe1d74235df5a3bd5693cef0488&quot; style=&quot;width: 100.0%; height: 100.0%;&quot;&gt;Jordan&lt;/div&gt;`)[0];\n",
       "                popup_c6d54956c77ee7d92ed6b0dda1b1f5c7.setContent(html_b9bedfe1d74235df5a3bd5693cef0488);\n",
       "            \n",
       "        \n",
       "\n",
       "        circle_marker_72dc7239bbeb715df012cdfa00df16cb.bindPopup(popup_c6d54956c77ee7d92ed6b0dda1b1f5c7)\n",
       "        ;\n",
       "\n",
       "        \n",
       "    \n",
       "    \n",
       "            var circle_marker_23c967c8cac2d2af59f6e7483b16d67a = L.circleMarker(\n",
       "                [35.68536, 139.75309],\n",
       "                {&quot;bubblingMouseEvents&quot;: true, &quot;color&quot;: &quot;red&quot;, &quot;dashArray&quot;: null, &quot;dashOffset&quot;: null, &quot;fill&quot;: true, &quot;fillColor&quot;: &quot;red&quot;, &quot;fillOpacity&quot;: 0.2, &quot;fillRule&quot;: &quot;evenodd&quot;, &quot;lineCap&quot;: &quot;round&quot;, &quot;lineJoin&quot;: &quot;round&quot;, &quot;opacity&quot;: 1.0, &quot;radius&quot;: 3.7790090475756384, &quot;stroke&quot;: true, &quot;weight&quot;: 3}\n",
       "            ).addTo(map_8be889e5344c14c640c84fd71ab2b34a);\n",
       "        \n",
       "    \n",
       "        var popup_a1370d380d9c60d1f8b32130afc18906 = L.popup({&quot;maxWidth&quot;: &quot;100%&quot;});\n",
       "\n",
       "        \n",
       "            \n",
       "                var html_28264ddd941c66e0c16aa7ceee35afa9 = $(`&lt;div id=&quot;html_28264ddd941c66e0c16aa7ceee35afa9&quot; style=&quot;width: 100.0%; height: 100.0%;&quot;&gt;Japan&lt;/div&gt;`)[0];\n",
       "                popup_a1370d380d9c60d1f8b32130afc18906.setContent(html_28264ddd941c66e0c16aa7ceee35afa9);\n",
       "            \n",
       "        \n",
       "\n",
       "        circle_marker_23c967c8cac2d2af59f6e7483b16d67a.bindPopup(popup_a1370d380d9c60d1f8b32130afc18906)\n",
       "        ;\n",
       "\n",
       "        \n",
       "    \n",
       "    \n",
       "            var circle_marker_4aa38425cadb273056c659191ea9af42 = L.circleMarker(\n",
       "                [48.0, 68.0],\n",
       "                {&quot;bubblingMouseEvents&quot;: true, &quot;color&quot;: &quot;red&quot;, &quot;dashArray&quot;: null, &quot;dashOffset&quot;: null, &quot;fill&quot;: true, &quot;fillColor&quot;: &quot;red&quot;, &quot;fillOpacity&quot;: 0.2, &quot;fillRule&quot;: &quot;evenodd&quot;, &quot;lineCap&quot;: &quot;round&quot;, &quot;lineJoin&quot;: &quot;round&quot;, &quot;opacity&quot;: 1.0, &quot;radius&quot;: 0.5670596503216089, &quot;stroke&quot;: true, &quot;weight&quot;: 3}\n",
       "            ).addTo(map_8be889e5344c14c640c84fd71ab2b34a);\n",
       "        \n",
       "    \n",
       "        var popup_3d8d8c2468b825227dfa3edcac3afbe6 = L.popup({&quot;maxWidth&quot;: &quot;100%&quot;});\n",
       "\n",
       "        \n",
       "            \n",
       "                var html_612bac23ab77f296f67650edefc3a5b6 = $(`&lt;div id=&quot;html_612bac23ab77f296f67650edefc3a5b6&quot; style=&quot;width: 100.0%; height: 100.0%;&quot;&gt;Kazakhstan&lt;/div&gt;`)[0];\n",
       "                popup_3d8d8c2468b825227dfa3edcac3afbe6.setContent(html_612bac23ab77f296f67650edefc3a5b6);\n",
       "            \n",
       "        \n",
       "\n",
       "        circle_marker_4aa38425cadb273056c659191ea9af42.bindPopup(popup_3d8d8c2468b825227dfa3edcac3afbe6)\n",
       "        ;\n",
       "\n",
       "        \n",
       "    \n",
       "    \n",
       "            var circle_marker_6ea46f4c98dd89a47b760bf5f65a47f6 = L.circleMarker(\n",
       "                [1.0, 38.0],\n",
       "                {&quot;bubblingMouseEvents&quot;: true, &quot;color&quot;: &quot;blue&quot;, &quot;dashArray&quot;: null, &quot;dashOffset&quot;: null, &quot;fill&quot;: true, &quot;fillColor&quot;: &quot;blue&quot;, &quot;fillOpacity&quot;: 0.2, &quot;fillRule&quot;: &quot;evenodd&quot;, &quot;lineCap&quot;: &quot;round&quot;, &quot;lineJoin&quot;: &quot;round&quot;, &quot;opacity&quot;: 1.0, &quot;radius&quot;: 23.96398095329267, &quot;stroke&quot;: true, &quot;weight&quot;: 3}\n",
       "            ).addTo(map_8be889e5344c14c640c84fd71ab2b34a);\n",
       "        \n",
       "    \n",
       "        var popup_0903135e1427c46dd2bdd8707db8bf18 = L.popup({&quot;maxWidth&quot;: &quot;100%&quot;});\n",
       "\n",
       "        \n",
       "            \n",
       "                var html_c6008aaf7d763d221d5aefefe7d7af04 = $(`&lt;div id=&quot;html_c6008aaf7d763d221d5aefefe7d7af04&quot; style=&quot;width: 100.0%; height: 100.0%;&quot;&gt;Kenya&lt;/div&gt;`)[0];\n",
       "                popup_0903135e1427c46dd2bdd8707db8bf18.setContent(html_c6008aaf7d763d221d5aefefe7d7af04);\n",
       "            \n",
       "        \n",
       "\n",
       "        circle_marker_6ea46f4c98dd89a47b760bf5f65a47f6.bindPopup(popup_0903135e1427c46dd2bdd8707db8bf18)\n",
       "        ;\n",
       "\n",
       "        \n",
       "    \n",
       "    \n",
       "            var circle_marker_9670bab625d479bacfec26dcbe4fe7aa = L.circleMarker(\n",
       "                [41.5, 75.0],\n",
       "                {&quot;bubblingMouseEvents&quot;: true, &quot;color&quot;: &quot;red&quot;, &quot;dashArray&quot;: null, &quot;dashOffset&quot;: null, &quot;fill&quot;: true, &quot;fillColor&quot;: &quot;red&quot;, &quot;fillOpacity&quot;: 0.2, &quot;fillRule&quot;: &quot;evenodd&quot;, &quot;lineCap&quot;: &quot;round&quot;, &quot;lineJoin&quot;: &quot;round&quot;, &quot;opacity&quot;: 1.0, &quot;radius&quot;: 2.988762035523588, &quot;stroke&quot;: true, &quot;weight&quot;: 3}\n",
       "            ).addTo(map_8be889e5344c14c640c84fd71ab2b34a);\n",
       "        \n",
       "    \n",
       "        var popup_b1f62788d5aa400ba066b318484b5741 = L.popup({&quot;maxWidth&quot;: &quot;100%&quot;});\n",
       "\n",
       "        \n",
       "            \n",
       "                var html_581f793462b3b65ac6083b4283513747 = $(`&lt;div id=&quot;html_581f793462b3b65ac6083b4283513747&quot; style=&quot;width: 100.0%; height: 100.0%;&quot;&gt;Kyrgyz Republic&lt;/div&gt;`)[0];\n",
       "                popup_b1f62788d5aa400ba066b318484b5741.setContent(html_581f793462b3b65ac6083b4283513747);\n",
       "            \n",
       "        \n",
       "\n",
       "        circle_marker_9670bab625d479bacfec26dcbe4fe7aa.bindPopup(popup_b1f62788d5aa400ba066b318484b5741)\n",
       "        ;\n",
       "\n",
       "        \n",
       "    \n",
       "    \n",
       "            var circle_marker_79a44d911f02f87776b051b045139092 = L.circleMarker(\n",
       "                [13.0, 105.0],\n",
       "                {&quot;bubblingMouseEvents&quot;: true, &quot;color&quot;: &quot;red&quot;, &quot;dashArray&quot;: null, &quot;dashOffset&quot;: null, &quot;fill&quot;: true, &quot;fillColor&quot;: &quot;red&quot;, &quot;fillOpacity&quot;: 0.2, &quot;fillRule&quot;: &quot;evenodd&quot;, &quot;lineCap&quot;: &quot;round&quot;, &quot;lineJoin&quot;: &quot;round&quot;, &quot;opacity&quot;: 1.0, &quot;radius&quot;: 6.810875995516438, &quot;stroke&quot;: true, &quot;weight&quot;: 3}\n",
       "            ).addTo(map_8be889e5344c14c640c84fd71ab2b34a);\n",
       "        \n",
       "    \n",
       "        var popup_33c9a626285a7a7f43e6e8cc5d338a27 = L.popup({&quot;maxWidth&quot;: &quot;100%&quot;});\n",
       "\n",
       "        \n",
       "            \n",
       "                var html_59fbfc6aba6247f46614472c70da9a18 = $(`&lt;div id=&quot;html_59fbfc6aba6247f46614472c70da9a18&quot; style=&quot;width: 100.0%; height: 100.0%;&quot;&gt;Cambodia&lt;/div&gt;`)[0];\n",
       "                popup_33c9a626285a7a7f43e6e8cc5d338a27.setContent(html_59fbfc6aba6247f46614472c70da9a18);\n",
       "            \n",
       "        \n",
       "\n",
       "        circle_marker_79a44d911f02f87776b051b045139092.bindPopup(popup_33c9a626285a7a7f43e6e8cc5d338a27)\n",
       "        ;\n",
       "\n",
       "        \n",
       "    \n",
       "    \n",
       "            var circle_marker_87e4b2054549e2d8411d18c9b57941f8 = L.circleMarker(\n",
       "                [18.0, 105.0],\n",
       "                {&quot;bubblingMouseEvents&quot;: true, &quot;color&quot;: &quot;red&quot;, &quot;dashArray&quot;: null, &quot;dashOffset&quot;: null, &quot;fill&quot;: true, &quot;fillColor&quot;: &quot;red&quot;, &quot;fillOpacity&quot;: 0.2, &quot;fillRule&quot;: &quot;evenodd&quot;, &quot;lineCap&quot;: &quot;round&quot;, &quot;lineJoin&quot;: &quot;round&quot;, &quot;opacity&quot;: 1.0, &quot;radius&quot;: 7.810974031549449, &quot;stroke&quot;: true, &quot;weight&quot;: 3}\n",
       "            ).addTo(map_8be889e5344c14c640c84fd71ab2b34a);\n",
       "        \n",
       "    \n",
       "        var popup_a9e2cf92964734741a8c333ae974d82a = L.popup({&quot;maxWidth&quot;: &quot;100%&quot;});\n",
       "\n",
       "        \n",
       "            \n",
       "                var html_6a4bc192a29e803da4c401796dd843c9 = $(`&lt;div id=&quot;html_6a4bc192a29e803da4c401796dd843c9&quot; style=&quot;width: 100.0%; height: 100.0%;&quot;&gt;Lao&lt;/div&gt;`)[0];\n",
       "                popup_a9e2cf92964734741a8c333ae974d82a.setContent(html_6a4bc192a29e803da4c401796dd843c9);\n",
       "            \n",
       "        \n",
       "\n",
       "        circle_marker_87e4b2054549e2d8411d18c9b57941f8.bindPopup(popup_a9e2cf92964734741a8c333ae974d82a)\n",
       "        ;\n",
       "\n",
       "        \n",
       "    \n",
       "    \n",
       "            var circle_marker_52c0141ac7bafd51a98362bcce90d8bb = L.circleMarker(\n",
       "                [6.5, -9.5],\n",
       "                {&quot;bubblingMouseEvents&quot;: true, &quot;color&quot;: &quot;blue&quot;, &quot;dashArray&quot;: null, &quot;dashOffset&quot;: null, &quot;fill&quot;: true, &quot;fillColor&quot;: &quot;blue&quot;, &quot;fillOpacity&quot;: 0.2, &quot;fillRule&quot;: &quot;evenodd&quot;, &quot;lineCap&quot;: &quot;round&quot;, &quot;lineJoin&quot;: &quot;round&quot;, &quot;opacity&quot;: 1.0, &quot;radius&quot;: 10.402722701851058, &quot;stroke&quot;: true, &quot;weight&quot;: 3}\n",
       "            ).addTo(map_8be889e5344c14c640c84fd71ab2b34a);\n",
       "        \n",
       "    \n",
       "        var popup_7a63d971c3545318509ad7e0e4846fc7 = L.popup({&quot;maxWidth&quot;: &quot;100%&quot;});\n",
       "\n",
       "        \n",
       "            \n",
       "                var html_92f3bed3710f6c869ec1a30c412285a8 = $(`&lt;div id=&quot;html_92f3bed3710f6c869ec1a30c412285a8&quot; style=&quot;width: 100.0%; height: 100.0%;&quot;&gt;Liberia&lt;/div&gt;`)[0];\n",
       "                popup_7a63d971c3545318509ad7e0e4846fc7.setContent(html_92f3bed3710f6c869ec1a30c412285a8);\n",
       "            \n",
       "        \n",
       "\n",
       "        circle_marker_52c0141ac7bafd51a98362bcce90d8bb.bindPopup(popup_7a63d971c3545318509ad7e0e4846fc7)\n",
       "        ;\n",
       "\n",
       "        \n",
       "    \n",
       "    \n",
       "            var circle_marker_da7bcd2eab1d0f5e327c185541594ed6 = L.circleMarker(\n",
       "                [13.88333, -60.96667],\n",
       "                {&quot;bubblingMouseEvents&quot;: true, &quot;color&quot;: &quot;green&quot;, &quot;dashArray&quot;: null, &quot;dashOffset&quot;: null, &quot;fill&quot;: true, &quot;fillColor&quot;: &quot;green&quot;, &quot;fillOpacity&quot;: 0.2, &quot;fillRule&quot;: &quot;evenodd&quot;, &quot;lineCap&quot;: &quot;round&quot;, &quot;lineJoin&quot;: &quot;round&quot;, &quot;opacity&quot;: 1.0, &quot;radius&quot;: 1.0678247394996874, &quot;stroke&quot;: true, &quot;weight&quot;: 3}\n",
       "            ).addTo(map_8be889e5344c14c640c84fd71ab2b34a);\n",
       "        \n",
       "    \n",
       "        var popup_002c5fb56af42ce289f1733e8da78b52 = L.popup({&quot;maxWidth&quot;: &quot;100%&quot;});\n",
       "\n",
       "        \n",
       "            \n",
       "                var html_f234a0f99167438fe0b5411f9c142170 = $(`&lt;div id=&quot;html_f234a0f99167438fe0b5411f9c142170&quot; style=&quot;width: 100.0%; height: 100.0%;&quot;&gt;St. Lucia&lt;/div&gt;`)[0];\n",
       "                popup_002c5fb56af42ce289f1733e8da78b52.setContent(html_f234a0f99167438fe0b5411f9c142170);\n",
       "            \n",
       "        \n",
       "\n",
       "        circle_marker_da7bcd2eab1d0f5e327c185541594ed6.bindPopup(popup_002c5fb56af42ce289f1733e8da78b52)\n",
       "        ;\n",
       "\n",
       "        \n",
       "    \n",
       "    \n",
       "            var circle_marker_75f6bc17568f648a286cf19654cdb3e0 = L.circleMarker(\n",
       "                [7.75, 80.75],\n",
       "                {&quot;bubblingMouseEvents&quot;: true, &quot;color&quot;: &quot;red&quot;, &quot;dashArray&quot;: null, &quot;dashOffset&quot;: null, &quot;fill&quot;: true, &quot;fillColor&quot;: &quot;red&quot;, &quot;fillOpacity&quot;: 0.2, &quot;fillRule&quot;: &quot;evenodd&quot;, &quot;lineCap&quot;: &quot;round&quot;, &quot;lineJoin&quot;: &quot;round&quot;, &quot;opacity&quot;: 1.0, &quot;radius&quot;: 5.2263905416719725, &quot;stroke&quot;: true, &quot;weight&quot;: 3}\n",
       "            ).addTo(map_8be889e5344c14c640c84fd71ab2b34a);\n",
       "        \n",
       "    \n",
       "        var popup_b44e0f783aae1169f4c1202e1f130d81 = L.popup({&quot;maxWidth&quot;: &quot;100%&quot;});\n",
       "\n",
       "        \n",
       "            \n",
       "                var html_e5417a089c31a34f5c0d7b9805ae0ae4 = $(`&lt;div id=&quot;html_e5417a089c31a34f5c0d7b9805ae0ae4&quot; style=&quot;width: 100.0%; height: 100.0%;&quot;&gt;Sri Lanka&lt;/div&gt;`)[0];\n",
       "                popup_b44e0f783aae1169f4c1202e1f130d81.setContent(html_e5417a089c31a34f5c0d7b9805ae0ae4);\n",
       "            \n",
       "        \n",
       "\n",
       "        circle_marker_75f6bc17568f648a286cf19654cdb3e0.bindPopup(popup_b44e0f783aae1169f4c1202e1f130d81)\n",
       "        ;\n",
       "\n",
       "        \n",
       "    \n",
       "    \n",
       "            var circle_marker_750d531a73541a68cd2b2062932a9e03 = L.circleMarker(\n",
       "                [-29.5, 28.25],\n",
       "                {&quot;bubblingMouseEvents&quot;: true, &quot;color&quot;: &quot;blue&quot;, &quot;dashArray&quot;: null, &quot;dashOffset&quot;: null, &quot;fill&quot;: true, &quot;fillColor&quot;: &quot;blue&quot;, &quot;fillOpacity&quot;: 0.2, &quot;fillRule&quot;: &quot;evenodd&quot;, &quot;lineCap&quot;: &quot;round&quot;, &quot;lineJoin&quot;: &quot;round&quot;, &quot;opacity&quot;: 1.0, &quot;radius&quot;: 5.9769276286816355, &quot;stroke&quot;: true, &quot;weight&quot;: 3}\n",
       "            ).addTo(map_8be889e5344c14c640c84fd71ab2b34a);\n",
       "        \n",
       "    \n",
       "        var popup_0fba8e34ce6ff0eb8a070230e8ab98b4 = L.popup({&quot;maxWidth&quot;: &quot;100%&quot;});\n",
       "\n",
       "        \n",
       "            \n",
       "                var html_4444f0144ffc95aa97aed89fbe9a1803 = $(`&lt;div id=&quot;html_4444f0144ffc95aa97aed89fbe9a1803&quot; style=&quot;width: 100.0%; height: 100.0%;&quot;&gt;Lesotho&lt;/div&gt;`)[0];\n",
       "                popup_0fba8e34ce6ff0eb8a070230e8ab98b4.setContent(html_4444f0144ffc95aa97aed89fbe9a1803);\n",
       "            \n",
       "        \n",
       "\n",
       "        circle_marker_750d531a73541a68cd2b2062932a9e03.bindPopup(popup_0fba8e34ce6ff0eb8a070230e8ab98b4)\n",
       "        ;\n",
       "\n",
       "        \n",
       "    \n",
       "    \n",
       "            var circle_marker_a0846b115cf9fe838be7d4e2847b9d78 = L.circleMarker(\n",
       "                [55.41667, 24.0],\n",
       "                {&quot;bubblingMouseEvents&quot;: true, &quot;color&quot;: &quot;black&quot;, &quot;dashArray&quot;: null, &quot;dashOffset&quot;: null, &quot;fill&quot;: true, &quot;fillColor&quot;: &quot;black&quot;, &quot;fillOpacity&quot;: 0.2, &quot;fillRule&quot;: &quot;evenodd&quot;, &quot;lineCap&quot;: &quot;round&quot;, &quot;lineJoin&quot;: &quot;round&quot;, &quot;opacity&quot;: 1.0, &quot;radius&quot;: 0.9046582494882497, &quot;stroke&quot;: true, &quot;weight&quot;: 3}\n",
       "            ).addTo(map_8be889e5344c14c640c84fd71ab2b34a);\n",
       "        \n",
       "    \n",
       "        var popup_7c4157c58f011139cc056ec2cfcdbf91 = L.popup({&quot;maxWidth&quot;: &quot;100%&quot;});\n",
       "\n",
       "        \n",
       "            \n",
       "                var html_8c09e3597baaf3590c24106a186ea69e = $(`&lt;div id=&quot;html_8c09e3597baaf3590c24106a186ea69e&quot; style=&quot;width: 100.0%; height: 100.0%;&quot;&gt;Lithuania&lt;/div&gt;`)[0];\n",
       "                popup_7c4157c58f011139cc056ec2cfcdbf91.setContent(html_8c09e3597baaf3590c24106a186ea69e);\n",
       "            \n",
       "        \n",
       "\n",
       "        circle_marker_a0846b115cf9fe838be7d4e2847b9d78.bindPopup(popup_7c4157c58f011139cc056ec2cfcdbf91)\n",
       "        ;\n",
       "\n",
       "        \n",
       "    \n",
       "    \n",
       "            var circle_marker_2251dbb10f91bded9884014a64d14fd6 = L.circleMarker(\n",
       "                [57.0, 25.0],\n",
       "                {&quot;bubblingMouseEvents&quot;: true, &quot;color&quot;: &quot;black&quot;, &quot;dashArray&quot;: null, &quot;dashOffset&quot;: null, &quot;fill&quot;: true, &quot;fillColor&quot;: &quot;black&quot;, &quot;fillOpacity&quot;: 0.2, &quot;fillRule&quot;: &quot;evenodd&quot;, &quot;lineCap&quot;: &quot;round&quot;, &quot;lineJoin&quot;: &quot;round&quot;, &quot;opacity&quot;: 1.0, &quot;radius&quot;: 0.8452870527322389, &quot;stroke&quot;: true, &quot;weight&quot;: 3}\n",
       "            ).addTo(map_8be889e5344c14c640c84fd71ab2b34a);\n",
       "        \n",
       "    \n",
       "        var popup_4914f7f745aef4fb99253188a7e6491a = L.popup({&quot;maxWidth&quot;: &quot;100%&quot;});\n",
       "\n",
       "        \n",
       "            \n",
       "                var html_bf8ce8f7c43b44aee8ecf486086039e6 = $(`&lt;div id=&quot;html_bf8ce8f7c43b44aee8ecf486086039e6&quot; style=&quot;width: 100.0%; height: 100.0%;&quot;&gt;Latvia&lt;/div&gt;`)[0];\n",
       "                popup_4914f7f745aef4fb99253188a7e6491a.setContent(html_bf8ce8f7c43b44aee8ecf486086039e6);\n",
       "            \n",
       "        \n",
       "\n",
       "        circle_marker_2251dbb10f91bded9884014a64d14fd6.bindPopup(popup_4914f7f745aef4fb99253188a7e6491a)\n",
       "        ;\n",
       "\n",
       "        \n",
       "    \n",
       "    \n",
       "            var circle_marker_b2eda2251b875437467da9d5232f52ad = L.circleMarker(\n",
       "                [32.0, -6.0],\n",
       "                {&quot;bubblingMouseEvents&quot;: true, &quot;color&quot;: &quot;blue&quot;, &quot;dashArray&quot;: null, &quot;dashOffset&quot;: null, &quot;fill&quot;: true, &quot;fillColor&quot;: &quot;blue&quot;, &quot;fillOpacity&quot;: 0.2, &quot;fillRule&quot;: &quot;evenodd&quot;, &quot;lineCap&quot;: &quot;round&quot;, &quot;lineJoin&quot;: &quot;round&quot;, &quot;opacity&quot;: 1.0, &quot;radius&quot;: 5.153624022486771, &quot;stroke&quot;: true, &quot;weight&quot;: 3}\n",
       "            ).addTo(map_8be889e5344c14c640c84fd71ab2b34a);\n",
       "        \n",
       "    \n",
       "        var popup_97948cf4a6f1e79fc234fe7c708c079f = L.popup({&quot;maxWidth&quot;: &quot;100%&quot;});\n",
       "\n",
       "        \n",
       "            \n",
       "                var html_809485b20310f88f51e654d2b826d5a1 = $(`&lt;div id=&quot;html_809485b20310f88f51e654d2b826d5a1&quot; style=&quot;width: 100.0%; height: 100.0%;&quot;&gt;Morocco&lt;/div&gt;`)[0];\n",
       "                popup_97948cf4a6f1e79fc234fe7c708c079f.setContent(html_809485b20310f88f51e654d2b826d5a1);\n",
       "            \n",
       "        \n",
       "\n",
       "        circle_marker_b2eda2251b875437467da9d5232f52ad.bindPopup(popup_97948cf4a6f1e79fc234fe7c708c079f)\n",
       "        ;\n",
       "\n",
       "        \n",
       "    \n",
       "    \n",
       "            var circle_marker_eefd9cef3bf386494f8a1da18d78f888 = L.circleMarker(\n",
       "                [47.25, 28.58333],\n",
       "                {&quot;bubblingMouseEvents&quot;: true, &quot;color&quot;: &quot;black&quot;, &quot;dashArray&quot;: null, &quot;dashOffset&quot;: null, &quot;fill&quot;: true, &quot;fillColor&quot;: &quot;black&quot;, &quot;fillOpacity&quot;: 0.2, &quot;fillRule&quot;: &quot;evenodd&quot;, &quot;lineCap&quot;: &quot;round&quot;, &quot;lineJoin&quot;: &quot;round&quot;, &quot;opacity&quot;: 1.0, &quot;radius&quot;: 0.5156705139116825, &quot;stroke&quot;: true, &quot;weight&quot;: 3}\n",
       "            ).addTo(map_8be889e5344c14c640c84fd71ab2b34a);\n",
       "        \n",
       "    \n",
       "        var popup_cf69aa986c2db50f07645606e292fc24 = L.popup({&quot;maxWidth&quot;: &quot;100%&quot;});\n",
       "\n",
       "        \n",
       "            \n",
       "                var html_350875433138620a5239336e0dac71ee = $(`&lt;div id=&quot;html_350875433138620a5239336e0dac71ee&quot; style=&quot;width: 100.0%; height: 100.0%;&quot;&gt;Moldova&lt;/div&gt;`)[0];\n",
       "                popup_cf69aa986c2db50f07645606e292fc24.setContent(html_350875433138620a5239336e0dac71ee);\n",
       "            \n",
       "        \n",
       "\n",
       "        circle_marker_eefd9cef3bf386494f8a1da18d78f888.bindPopup(popup_cf69aa986c2db50f07645606e292fc24)\n",
       "        ;\n",
       "\n",
       "        \n",
       "    \n",
       "    \n",
       "            var circle_marker_729d451ccf33ddf0f56331493aad9b6e = L.circleMarker(\n",
       "                [-20.0, 47.0],\n",
       "                {&quot;bubblingMouseEvents&quot;: true, &quot;color&quot;: &quot;blue&quot;, &quot;dashArray&quot;: null, &quot;dashOffset&quot;: null, &quot;fill&quot;: true, &quot;fillColor&quot;: &quot;blue&quot;, &quot;fillOpacity&quot;: 0.2, &quot;fillRule&quot;: &quot;evenodd&quot;, &quot;lineCap&quot;: &quot;round&quot;, &quot;lineJoin&quot;: &quot;round&quot;, &quot;opacity&quot;: 1.0, &quot;radius&quot;: 24.880782383251354, &quot;stroke&quot;: true, &quot;weight&quot;: 3}\n",
       "            ).addTo(map_8be889e5344c14c640c84fd71ab2b34a);\n",
       "        \n",
       "    \n",
       "        var popup_2bbd85e2168aed383633b8a5c9e21c84 = L.popup({&quot;maxWidth&quot;: &quot;100%&quot;});\n",
       "\n",
       "        \n",
       "            \n",
       "                var html_a823bbef9e95f10899f77080c2428a9c = $(`&lt;div id=&quot;html_a823bbef9e95f10899f77080c2428a9c&quot; style=&quot;width: 100.0%; height: 100.0%;&quot;&gt;Madagascar&lt;/div&gt;`)[0];\n",
       "                popup_2bbd85e2168aed383633b8a5c9e21c84.setContent(html_a823bbef9e95f10899f77080c2428a9c);\n",
       "            \n",
       "        \n",
       "\n",
       "        circle_marker_729d451ccf33ddf0f56331493aad9b6e.bindPopup(popup_2bbd85e2168aed383633b8a5c9e21c84)\n",
       "        ;\n",
       "\n",
       "        \n",
       "    \n",
       "    \n",
       "            var circle_marker_e3169ddc477f3f0c655d6bf7d9504dab = L.circleMarker(\n",
       "                [3.2, 73.0],\n",
       "                {&quot;bubblingMouseEvents&quot;: true, &quot;color&quot;: &quot;red&quot;, &quot;dashArray&quot;: null, &quot;dashOffset&quot;: null, &quot;fill&quot;: true, &quot;fillColor&quot;: &quot;red&quot;, &quot;fillOpacity&quot;: 0.2, &quot;fillRule&quot;: &quot;evenodd&quot;, &quot;lineCap&quot;: &quot;round&quot;, &quot;lineJoin&quot;: &quot;round&quot;, &quot;opacity&quot;: 1.0, &quot;radius&quot;: 0.41228325120254916, &quot;stroke&quot;: true, &quot;weight&quot;: 3}\n",
       "            ).addTo(map_8be889e5344c14c640c84fd71ab2b34a);\n",
       "        \n",
       "    \n",
       "        var popup_f7ce3655fc1b7cdbab7795fd0114e873 = L.popup({&quot;maxWidth&quot;: &quot;100%&quot;});\n",
       "\n",
       "        \n",
       "            \n",
       "                var html_cecfcdbd8df31a5f134bf9c2782cb67d = $(`&lt;div id=&quot;html_cecfcdbd8df31a5f134bf9c2782cb67d&quot; style=&quot;width: 100.0%; height: 100.0%;&quot;&gt;Maldives&lt;/div&gt;`)[0];\n",
       "                popup_f7ce3655fc1b7cdbab7795fd0114e873.setContent(html_cecfcdbd8df31a5f134bf9c2782cb67d);\n",
       "            \n",
       "        \n",
       "\n",
       "        circle_marker_e3169ddc477f3f0c655d6bf7d9504dab.bindPopup(popup_f7ce3655fc1b7cdbab7795fd0114e873)\n",
       "        ;\n",
       "\n",
       "        \n",
       "    \n",
       "    \n",
       "            var circle_marker_0e327f0c89e232b9110c98f6ebcc99e6 = L.circleMarker(\n",
       "                [19.42847, -99.12766],\n",
       "                {&quot;bubblingMouseEvents&quot;: true, &quot;color&quot;: &quot;green&quot;, &quot;dashArray&quot;: null, &quot;dashOffset&quot;: null, &quot;fill&quot;: true, &quot;fillColor&quot;: &quot;green&quot;, &quot;fillOpacity&quot;: 0.2, &quot;fillRule&quot;: &quot;evenodd&quot;, &quot;lineCap&quot;: &quot;round&quot;, &quot;lineJoin&quot;: &quot;round&quot;, &quot;opacity&quot;: 1.0, &quot;radius&quot;: 6.103493555808272, &quot;stroke&quot;: true, &quot;weight&quot;: 3}\n",
       "            ).addTo(map_8be889e5344c14c640c84fd71ab2b34a);\n",
       "        \n",
       "    \n",
       "        var popup_8079f64de90cc36c2049407e1fa0118c = L.popup({&quot;maxWidth&quot;: &quot;100%&quot;});\n",
       "\n",
       "        \n",
       "            \n",
       "                var html_b2513992fcfe2b100b81d5a299c0f236 = $(`&lt;div id=&quot;html_b2513992fcfe2b100b81d5a299c0f236&quot; style=&quot;width: 100.0%; height: 100.0%;&quot;&gt;Mexico&lt;/div&gt;`)[0];\n",
       "                popup_8079f64de90cc36c2049407e1fa0118c.setContent(html_b2513992fcfe2b100b81d5a299c0f236);\n",
       "            \n",
       "        \n",
       "\n",
       "        circle_marker_0e327f0c89e232b9110c98f6ebcc99e6.bindPopup(popup_8079f64de90cc36c2049407e1fa0118c)\n",
       "        ;\n",
       "\n",
       "        \n",
       "    \n",
       "    \n",
       "            var circle_marker_8273e0c697b2c09ca7b28825e1ca8697 = L.circleMarker(\n",
       "                [41.66667, 21.75],\n",
       "                {&quot;bubblingMouseEvents&quot;: true, &quot;color&quot;: &quot;black&quot;, &quot;dashArray&quot;: null, &quot;dashOffset&quot;: null, &quot;fill&quot;: true, &quot;fillColor&quot;: &quot;black&quot;, &quot;fillOpacity&quot;: 0.2, &quot;fillRule&quot;: &quot;evenodd&quot;, &quot;lineCap&quot;: &quot;round&quot;, &quot;lineJoin&quot;: &quot;round&quot;, &quot;opacity&quot;: 1.0, &quot;radius&quot;: 0.4275946662716566, &quot;stroke&quot;: true, &quot;weight&quot;: 3}\n",
       "            ).addTo(map_8be889e5344c14c640c84fd71ab2b34a);\n",
       "        \n",
       "    \n",
       "        var popup_6fb29ab446d931e994a0a80831bd5471 = L.popup({&quot;maxWidth&quot;: &quot;100%&quot;});\n",
       "\n",
       "        \n",
       "            \n",
       "                var html_1c213d59b5a75b3be8d812975c9ad884 = $(`&lt;div id=&quot;html_1c213d59b5a75b3be8d812975c9ad884&quot; style=&quot;width: 100.0%; height: 100.0%;&quot;&gt;North Macedonia&lt;/div&gt;`)[0];\n",
       "                popup_6fb29ab446d931e994a0a80831bd5471.setContent(html_1c213d59b5a75b3be8d812975c9ad884);\n",
       "            \n",
       "        \n",
       "\n",
       "        circle_marker_8273e0c697b2c09ca7b28825e1ca8697.bindPopup(popup_6fb29ab446d931e994a0a80831bd5471)\n",
       "        ;\n",
       "\n",
       "        \n",
       "    \n",
       "    \n",
       "            var circle_marker_b0914fc903673c26330053e185675931 = L.circleMarker(\n",
       "                [18.0, -2.0],\n",
       "                {&quot;bubblingMouseEvents&quot;: true, &quot;color&quot;: &quot;blue&quot;, &quot;dashArray&quot;: null, &quot;dashOffset&quot;: null, &quot;fill&quot;: true, &quot;fillColor&quot;: &quot;blue&quot;, &quot;fillOpacity&quot;: 0.2, &quot;fillRule&quot;: &quot;evenodd&quot;, &quot;lineCap&quot;: &quot;round&quot;, &quot;lineJoin&quot;: &quot;round&quot;, &quot;opacity&quot;: 1.0, &quot;radius&quot;: 16.027220001199698, &quot;stroke&quot;: true, &quot;weight&quot;: 3}\n",
       "            ).addTo(map_8be889e5344c14c640c84fd71ab2b34a);\n",
       "        \n",
       "    \n",
       "        var popup_886fc016a3529f54f8b3fb2e0fe0cdc8 = L.popup({&quot;maxWidth&quot;: &quot;100%&quot;});\n",
       "\n",
       "        \n",
       "            \n",
       "                var html_4e4cd39e93811534229dde1367008101 = $(`&lt;div id=&quot;html_4e4cd39e93811534229dde1367008101&quot; style=&quot;width: 100.0%; height: 100.0%;&quot;&gt;Mali&lt;/div&gt;`)[0];\n",
       "                popup_886fc016a3529f54f8b3fb2e0fe0cdc8.setContent(html_4e4cd39e93811534229dde1367008101);\n",
       "            \n",
       "        \n",
       "\n",
       "        circle_marker_b0914fc903673c26330053e185675931.bindPopup(popup_886fc016a3529f54f8b3fb2e0fe0cdc8)\n",
       "        ;\n",
       "\n",
       "        \n",
       "    \n",
       "    \n",
       "            var circle_marker_19a07c773e2fa0aeb2850e19ead628f5 = L.circleMarker(\n",
       "                [42.75, 19.25],\n",
       "                {&quot;bubblingMouseEvents&quot;: true, &quot;color&quot;: &quot;black&quot;, &quot;dashArray&quot;: null, &quot;dashOffset&quot;: null, &quot;fill&quot;: true, &quot;fillColor&quot;: &quot;black&quot;, &quot;fillOpacity&quot;: 0.2, &quot;fillRule&quot;: &quot;evenodd&quot;, &quot;lineCap&quot;: &quot;round&quot;, &quot;lineJoin&quot;: &quot;round&quot;, &quot;opacity&quot;: 1.0, &quot;radius&quot;: 0.20552304468499152, &quot;stroke&quot;: true, &quot;weight&quot;: 3}\n",
       "            ).addTo(map_8be889e5344c14c640c84fd71ab2b34a);\n",
       "        \n",
       "    \n",
       "        var popup_d01d32b7364b9b6b43605f26c75d774b = L.popup({&quot;maxWidth&quot;: &quot;100%&quot;});\n",
       "\n",
       "        \n",
       "            \n",
       "                var html_5f177696c2ebab9d3fd1a92d515c05c8 = $(`&lt;div id=&quot;html_5f177696c2ebab9d3fd1a92d515c05c8&quot; style=&quot;width: 100.0%; height: 100.0%;&quot;&gt;Montenegro&lt;/div&gt;`)[0];\n",
       "                popup_d01d32b7364b9b6b43605f26c75d774b.setContent(html_5f177696c2ebab9d3fd1a92d515c05c8);\n",
       "            \n",
       "        \n",
       "\n",
       "        circle_marker_19a07c773e2fa0aeb2850e19ead628f5.bindPopup(popup_d01d32b7364b9b6b43605f26c75d774b)\n",
       "        ;\n",
       "\n",
       "        \n",
       "    \n",
       "    \n",
       "            var circle_marker_f8ef5ad58a1d98cf7743e660435c143d = L.circleMarker(\n",
       "                [-18.25, 35.0],\n",
       "                {&quot;bubblingMouseEvents&quot;: true, &quot;color&quot;: &quot;blue&quot;, &quot;dashArray&quot;: null, &quot;dashOffset&quot;: null, &quot;fill&quot;: true, &quot;fillColor&quot;: &quot;blue&quot;, &quot;fillOpacity&quot;: 0.2, &quot;fillRule&quot;: &quot;evenodd&quot;, &quot;lineCap&quot;: &quot;round&quot;, &quot;lineJoin&quot;: &quot;round&quot;, &quot;opacity&quot;: 1.0, &quot;radius&quot;: 21.082003552705647, &quot;stroke&quot;: true, &quot;weight&quot;: 3}\n",
       "            ).addTo(map_8be889e5344c14c640c84fd71ab2b34a);\n",
       "        \n",
       "    \n",
       "        var popup_0155652abb30548e2df57616519884a2 = L.popup({&quot;maxWidth&quot;: &quot;100%&quot;});\n",
       "\n",
       "        \n",
       "            \n",
       "                var html_0ae2dfe7b9948f933a5b713153ca4cf6 = $(`&lt;div id=&quot;html_0ae2dfe7b9948f933a5b713153ca4cf6&quot; style=&quot;width: 100.0%; height: 100.0%;&quot;&gt;Mozambique&lt;/div&gt;`)[0];\n",
       "                popup_0155652abb30548e2df57616519884a2.setContent(html_0ae2dfe7b9948f933a5b713153ca4cf6);\n",
       "            \n",
       "        \n",
       "\n",
       "        circle_marker_f8ef5ad58a1d98cf7743e660435c143d.bindPopup(popup_0155652abb30548e2df57616519884a2)\n",
       "        ;\n",
       "\n",
       "        \n",
       "    \n",
       "    \n",
       "            var circle_marker_136e126d3f7457b9bd195b3d514249df = L.circleMarker(\n",
       "                [20.25, -10.5],\n",
       "                {&quot;bubblingMouseEvents&quot;: true, &quot;color&quot;: &quot;blue&quot;, &quot;dashArray&quot;: null, &quot;dashOffset&quot;: null, &quot;fill&quot;: true, &quot;fillColor&quot;: &quot;blue&quot;, &quot;fillOpacity&quot;: 0.2, &quot;fillRule&quot;: &quot;evenodd&quot;, &quot;lineCap&quot;: &quot;round&quot;, &quot;lineJoin&quot;: &quot;round&quot;, &quot;opacity&quot;: 1.0, &quot;radius&quot;: 5.028898085094589, &quot;stroke&quot;: true, &quot;weight&quot;: 3}\n",
       "            ).addTo(map_8be889e5344c14c640c84fd71ab2b34a);\n",
       "        \n",
       "    \n",
       "        var popup_764d20425806547f093b154d5a255920 = L.popup({&quot;maxWidth&quot;: &quot;100%&quot;});\n",
       "\n",
       "        \n",
       "            \n",
       "                var html_69e1550898f308d27913873536ea3e13 = $(`&lt;div id=&quot;html_69e1550898f308d27913873536ea3e13&quot; style=&quot;width: 100.0%; height: 100.0%;&quot;&gt;Mauritania&lt;/div&gt;`)[0];\n",
       "                popup_764d20425806547f093b154d5a255920.setContent(html_69e1550898f308d27913873536ea3e13);\n",
       "            \n",
       "        \n",
       "\n",
       "        circle_marker_136e126d3f7457b9bd195b3d514249df.bindPopup(popup_764d20425806547f093b154d5a255920)\n",
       "        ;\n",
       "\n",
       "        \n",
       "    \n",
       "    \n",
       "            var circle_marker_c5eda678644cab0e6c4f325e0f3c8d4e = L.circleMarker(\n",
       "                [-13.5, 34.0],\n",
       "                {&quot;bubblingMouseEvents&quot;: true, &quot;color&quot;: &quot;blue&quot;, &quot;dashArray&quot;: null, &quot;dashOffset&quot;: null, &quot;fill&quot;: true, &quot;fillColor&quot;: &quot;blue&quot;, &quot;fillOpacity&quot;: 0.2, &quot;fillRule&quot;: &quot;evenodd&quot;, &quot;lineCap&quot;: &quot;round&quot;, &quot;lineJoin&quot;: &quot;round&quot;, &quot;opacity&quot;: 1.0, &quot;radius&quot;: 18.4540677653082, &quot;stroke&quot;: true, &quot;weight&quot;: 3}\n",
       "            ).addTo(map_8be889e5344c14c640c84fd71ab2b34a);\n",
       "        \n",
       "    \n",
       "        var popup_339fe54ad26f46587fa38e423970ebe0 = L.popup({&quot;maxWidth&quot;: &quot;100%&quot;});\n",
       "\n",
       "        \n",
       "            \n",
       "                var html_62f7e4e25ed251795e234faa0b756f81 = $(`&lt;div id=&quot;html_62f7e4e25ed251795e234faa0b756f81&quot; style=&quot;width: 100.0%; height: 100.0%;&quot;&gt;Malawi&lt;/div&gt;`)[0];\n",
       "                popup_339fe54ad26f46587fa38e423970ebe0.setContent(html_62f7e4e25ed251795e234faa0b756f81);\n",
       "            \n",
       "        \n",
       "\n",
       "        circle_marker_c5eda678644cab0e6c4f325e0f3c8d4e.bindPopup(popup_339fe54ad26f46587fa38e423970ebe0)\n",
       "        ;\n",
       "\n",
       "        \n",
       "    \n",
       "    \n",
       "            var circle_marker_94b804c18b4b65e5c9f1e314b54cfa13 = L.circleMarker(\n",
       "                [2.5, 112.5],\n",
       "                {&quot;bubblingMouseEvents&quot;: true, &quot;color&quot;: &quot;red&quot;, &quot;dashArray&quot;: null, &quot;dashOffset&quot;: null, &quot;fill&quot;: true, &quot;fillColor&quot;: &quot;red&quot;, &quot;fillOpacity&quot;: 0.2, &quot;fillRule&quot;: &quot;evenodd&quot;, &quot;lineCap&quot;: &quot;round&quot;, &quot;lineJoin&quot;: &quot;round&quot;, &quot;opacity&quot;: 1.0, &quot;stroke&quot;: true, &quot;weight&quot;: 3}\n",
       "            ).addTo(map_8be889e5344c14c640c84fd71ab2b34a);\n",
       "        \n",
       "    \n",
       "        var popup_cf7ae56619af777018649dd88f77db30 = L.popup({&quot;maxWidth&quot;: &quot;100%&quot;});\n",
       "\n",
       "        \n",
       "            \n",
       "                var html_d69e4dcebc5da3e7cc7819bf161f24e8 = $(`&lt;div id=&quot;html_d69e4dcebc5da3e7cc7819bf161f24e8&quot; style=&quot;width: 100.0%; height: 100.0%;&quot;&gt;Malaysia&lt;/div&gt;`)[0];\n",
       "                popup_cf7ae56619af777018649dd88f77db30.setContent(html_d69e4dcebc5da3e7cc7819bf161f24e8);\n",
       "            \n",
       "        \n",
       "\n",
       "        circle_marker_94b804c18b4b65e5c9f1e314b54cfa13.bindPopup(popup_cf7ae56619af777018649dd88f77db30)\n",
       "        ;\n",
       "\n",
       "        \n",
       "    \n",
       "    \n",
       "            var circle_marker_b199c3d786ef9f59795c89f4c91a72aa = L.circleMarker(\n",
       "                [-22.0, 17.0],\n",
       "                {&quot;bubblingMouseEvents&quot;: true, &quot;color&quot;: &quot;blue&quot;, &quot;dashArray&quot;: null, &quot;dashOffset&quot;: null, &quot;fill&quot;: true, &quot;fillColor&quot;: &quot;blue&quot;, &quot;fillOpacity&quot;: 0.2, &quot;fillRule&quot;: &quot;evenodd&quot;, &quot;lineCap&quot;: &quot;round&quot;, &quot;lineJoin&quot;: &quot;round&quot;, &quot;opacity&quot;: 1.0, &quot;radius&quot;: 3.976035776664738, &quot;stroke&quot;: true, &quot;weight&quot;: 3}\n",
       "            ).addTo(map_8be889e5344c14c640c84fd71ab2b34a);\n",
       "        \n",
       "    \n",
       "        var popup_9b996bce4a02e523a6e3d52e29559250 = L.popup({&quot;maxWidth&quot;: &quot;100%&quot;});\n",
       "\n",
       "        \n",
       "            \n",
       "                var html_18054ebe8cf4fc666cc1a8a1098f9b15 = $(`&lt;div id=&quot;html_18054ebe8cf4fc666cc1a8a1098f9b15&quot; style=&quot;width: 100.0%; height: 100.0%;&quot;&gt;Namibia&lt;/div&gt;`)[0];\n",
       "                popup_9b996bce4a02e523a6e3d52e29559250.setContent(html_18054ebe8cf4fc666cc1a8a1098f9b15);\n",
       "            \n",
       "        \n",
       "\n",
       "        circle_marker_b199c3d786ef9f59795c89f4c91a72aa.bindPopup(popup_9b996bce4a02e523a6e3d52e29559250)\n",
       "        ;\n",
       "\n",
       "        \n",
       "    \n",
       "    \n",
       "            var circle_marker_8cf2a22d85e7ecc7836db0644b40ec33 = L.circleMarker(\n",
       "                [18.0, 9.0],\n",
       "                {&quot;bubblingMouseEvents&quot;: true, &quot;color&quot;: &quot;blue&quot;, &quot;dashArray&quot;: null, &quot;dashOffset&quot;: null, &quot;fill&quot;: true, &quot;fillColor&quot;: &quot;blue&quot;, &quot;fillOpacity&quot;: 0.2, &quot;fillRule&quot;: &quot;evenodd&quot;, &quot;lineCap&quot;: &quot;round&quot;, &quot;lineJoin&quot;: &quot;round&quot;, &quot;opacity&quot;: 1.0, &quot;radius&quot;: 14.661961946251004, &quot;stroke&quot;: true, &quot;weight&quot;: 3}\n",
       "            ).addTo(map_8be889e5344c14c640c84fd71ab2b34a);\n",
       "        \n",
       "    \n",
       "        var popup_bdbd4dfaf274735e6079f636cee6176c = L.popup({&quot;maxWidth&quot;: &quot;100%&quot;});\n",
       "\n",
       "        \n",
       "            \n",
       "                var html_dd49359ccf808fe87cac2d9b5b505422 = $(`&lt;div id=&quot;html_dd49359ccf808fe87cac2d9b5b505422&quot; style=&quot;width: 100.0%; height: 100.0%;&quot;&gt;Niger&lt;/div&gt;`)[0];\n",
       "                popup_bdbd4dfaf274735e6079f636cee6176c.setContent(html_dd49359ccf808fe87cac2d9b5b505422);\n",
       "            \n",
       "        \n",
       "\n",
       "        circle_marker_8cf2a22d85e7ecc7836db0644b40ec33.bindPopup(popup_bdbd4dfaf274735e6079f636cee6176c)\n",
       "        ;\n",
       "\n",
       "        \n",
       "    \n",
       "    \n",
       "            var circle_marker_c6517bd266364e212997042d6821fae2 = L.circleMarker(\n",
       "                [10.0, 8.0],\n",
       "                {&quot;bubblingMouseEvents&quot;: true, &quot;color&quot;: &quot;blue&quot;, &quot;dashArray&quot;: null, &quot;dashOffset&quot;: null, &quot;fill&quot;: true, &quot;fillColor&quot;: &quot;blue&quot;, &quot;fillOpacity&quot;: 0.2, &quot;fillRule&quot;: &quot;evenodd&quot;, &quot;lineCap&quot;: &quot;round&quot;, &quot;lineJoin&quot;: &quot;round&quot;, &quot;opacity&quot;: 1.0, &quot;radius&quot;: 57.36134723958271, &quot;stroke&quot;: true, &quot;weight&quot;: 3}\n",
       "            ).addTo(map_8be889e5344c14c640c84fd71ab2b34a);\n",
       "        \n",
       "    \n",
       "        var popup_cd3bc17f86a2916d7133c8e579a5d514 = L.popup({&quot;maxWidth&quot;: &quot;100%&quot;});\n",
       "\n",
       "        \n",
       "            \n",
       "                var html_7da647bb06c3eea9a4646408cd193b59 = $(`&lt;div id=&quot;html_7da647bb06c3eea9a4646408cd193b59&quot; style=&quot;width: 100.0%; height: 100.0%;&quot;&gt;Nigeria&lt;/div&gt;`)[0];\n",
       "                popup_cd3bc17f86a2916d7133c8e579a5d514.setContent(html_7da647bb06c3eea9a4646408cd193b59);\n",
       "            \n",
       "        \n",
       "\n",
       "        circle_marker_c6517bd266364e212997042d6821fae2.bindPopup(popup_cd3bc17f86a2916d7133c8e579a5d514)\n",
       "        ;\n",
       "\n",
       "        \n",
       "    \n",
       "    \n",
       "            var circle_marker_48d1bd12ec1aea61b1df3c83a9428c77 = L.circleMarker(\n",
       "                [13.0, -85.0],\n",
       "                {&quot;bubblingMouseEvents&quot;: true, &quot;color&quot;: &quot;green&quot;, &quot;dashArray&quot;: null, &quot;dashOffset&quot;: null, &quot;fill&quot;: true, &quot;fillColor&quot;: &quot;green&quot;, &quot;fillOpacity&quot;: 0.2, &quot;fillRule&quot;: &quot;evenodd&quot;, &quot;lineCap&quot;: &quot;round&quot;, &quot;lineJoin&quot;: &quot;round&quot;, &quot;opacity&quot;: 1.0, &quot;radius&quot;: 3.9492384254759982, &quot;stroke&quot;: true, &quot;weight&quot;: 3}\n",
       "            ).addTo(map_8be889e5344c14c640c84fd71ab2b34a);\n",
       "        \n",
       "    \n",
       "        var popup_26ce84fc7964a17bcc159cc137869327 = L.popup({&quot;maxWidth&quot;: &quot;100%&quot;});\n",
       "\n",
       "        \n",
       "            \n",
       "                var html_7e4514ae7a9c8835240ebdb5ab19d660 = $(`&lt;div id=&quot;html_7e4514ae7a9c8835240ebdb5ab19d660&quot; style=&quot;width: 100.0%; height: 100.0%;&quot;&gt;Nicaragua&lt;/div&gt;`)[0];\n",
       "                popup_26ce84fc7964a17bcc159cc137869327.setContent(html_7e4514ae7a9c8835240ebdb5ab19d660);\n",
       "            \n",
       "        \n",
       "\n",
       "        circle_marker_48d1bd12ec1aea61b1df3c83a9428c77.bindPopup(popup_26ce84fc7964a17bcc159cc137869327)\n",
       "        ;\n",
       "\n",
       "        \n",
       "    \n",
       "    \n",
       "            var circle_marker_f03086e0ba85c5a1d7dc083115eaa8a4 = L.circleMarker(\n",
       "                [52.25, 5.75],\n",
       "                {&quot;bubblingMouseEvents&quot;: true, &quot;color&quot;: &quot;black&quot;, &quot;dashArray&quot;: null, &quot;dashOffset&quot;: null, &quot;fill&quot;: true, &quot;fillColor&quot;: &quot;black&quot;, &quot;fillOpacity&quot;: 0.2, &quot;fillRule&quot;: &quot;evenodd&quot;, &quot;lineCap&quot;: &quot;round&quot;, &quot;lineJoin&quot;: &quot;round&quot;, &quot;opacity&quot;: 1.0, &quot;radius&quot;: 1.3669115556283198, &quot;stroke&quot;: true, &quot;weight&quot;: 3}\n",
       "            ).addTo(map_8be889e5344c14c640c84fd71ab2b34a);\n",
       "        \n",
       "    \n",
       "        var popup_ac2fd5e581bcbc5aedfb9246b657bb59 = L.popup({&quot;maxWidth&quot;: &quot;100%&quot;});\n",
       "\n",
       "        \n",
       "            \n",
       "                var html_09b4203d48cda7c5ca5fcf19285c4ba7 = $(`&lt;div id=&quot;html_09b4203d48cda7c5ca5fcf19285c4ba7&quot; style=&quot;width: 100.0%; height: 100.0%;&quot;&gt;Netherlands&lt;/div&gt;`)[0];\n",
       "                popup_ac2fd5e581bcbc5aedfb9246b657bb59.setContent(html_09b4203d48cda7c5ca5fcf19285c4ba7);\n",
       "            \n",
       "        \n",
       "\n",
       "        circle_marker_f03086e0ba85c5a1d7dc083115eaa8a4.bindPopup(popup_ac2fd5e581bcbc5aedfb9246b657bb59)\n",
       "        ;\n",
       "\n",
       "        \n",
       "    \n",
       "    \n",
       "            var circle_marker_3468e3e583f21cb732a2e248d94a4e91 = L.circleMarker(\n",
       "                [62.0, 10.0],\n",
       "                {&quot;bubblingMouseEvents&quot;: true, &quot;color&quot;: &quot;black&quot;, &quot;dashArray&quot;: null, &quot;dashOffset&quot;: null, &quot;fill&quot;: true, &quot;fillColor&quot;: &quot;black&quot;, &quot;fillOpacity&quot;: 0.2, &quot;fillRule&quot;: &quot;evenodd&quot;, &quot;lineCap&quot;: &quot;round&quot;, &quot;lineJoin&quot;: &quot;round&quot;, &quot;opacity&quot;: 1.0, &quot;radius&quot;: 1.0211208029279608, &quot;stroke&quot;: true, &quot;weight&quot;: 3}\n",
       "            ).addTo(map_8be889e5344c14c640c84fd71ab2b34a);\n",
       "        \n",
       "    \n",
       "        var popup_ef2214b51a847c73402a632cd124bbcf = L.popup({&quot;maxWidth&quot;: &quot;100%&quot;});\n",
       "\n",
       "        \n",
       "            \n",
       "                var html_715aaa5969513f69a971ccb1d74cda23 = $(`&lt;div id=&quot;html_715aaa5969513f69a971ccb1d74cda23&quot; style=&quot;width: 100.0%; height: 100.0%;&quot;&gt;Norway&lt;/div&gt;`)[0];\n",
       "                popup_ef2214b51a847c73402a632cd124bbcf.setContent(html_715aaa5969513f69a971ccb1d74cda23);\n",
       "            \n",
       "        \n",
       "\n",
       "        circle_marker_3468e3e583f21cb732a2e248d94a4e91.bindPopup(popup_ef2214b51a847c73402a632cd124bbcf)\n",
       "        ;\n",
       "\n",
       "        \n",
       "    \n",
       "    \n",
       "            var circle_marker_ff37ffcd156cce5cef12252d4c6306b4 = L.circleMarker(\n",
       "                [28.0, 84.0],\n",
       "                {&quot;bubblingMouseEvents&quot;: true, &quot;color&quot;: &quot;red&quot;, &quot;dashArray&quot;: null, &quot;dashOffset&quot;: null, &quot;fill&quot;: true, &quot;fillColor&quot;: &quot;red&quot;, &quot;fillOpacity&quot;: 0.2, &quot;fillRule&quot;: &quot;evenodd&quot;, &quot;lineCap&quot;: &quot;round&quot;, &quot;lineJoin&quot;: &quot;round&quot;, &quot;opacity&quot;: 1.0, &quot;radius&quot;: 14.374083576741077, &quot;stroke&quot;: true, &quot;weight&quot;: 3}\n",
       "            ).addTo(map_8be889e5344c14c640c84fd71ab2b34a);\n",
       "        \n",
       "    \n",
       "        var popup_8fd19df74509608757f7fecdb67085da = L.popup({&quot;maxWidth&quot;: &quot;100%&quot;});\n",
       "\n",
       "        \n",
       "            \n",
       "                var html_a1d8843187bff9d49c82592192585a26 = $(`&lt;div id=&quot;html_a1d8843187bff9d49c82592192585a26&quot; style=&quot;width: 100.0%; height: 100.0%;&quot;&gt;Nepal&lt;/div&gt;`)[0];\n",
       "                popup_8fd19df74509608757f7fecdb67085da.setContent(html_a1d8843187bff9d49c82592192585a26);\n",
       "            \n",
       "        \n",
       "\n",
       "        circle_marker_ff37ffcd156cce5cef12252d4c6306b4.bindPopup(popup_8fd19df74509608757f7fecdb67085da)\n",
       "        ;\n",
       "\n",
       "        \n",
       "    \n",
       "    \n",
       "            var circle_marker_88de4275e90186e7a4733f980e6a95b4 = L.circleMarker(\n",
       "                [30.0, 70.0],\n",
       "                {&quot;bubblingMouseEvents&quot;: true, &quot;color&quot;: &quot;red&quot;, &quot;dashArray&quot;: null, &quot;dashOffset&quot;: null, &quot;fill&quot;: true, &quot;fillColor&quot;: &quot;red&quot;, &quot;fillOpacity&quot;: 0.2, &quot;fillRule&quot;: &quot;evenodd&quot;, &quot;lineCap&quot;: &quot;round&quot;, &quot;lineJoin&quot;: &quot;round&quot;, &quot;opacity&quot;: 1.0, &quot;radius&quot;: 28.424773258632865, &quot;stroke&quot;: true, &quot;weight&quot;: 3}\n",
       "            ).addTo(map_8be889e5344c14c640c84fd71ab2b34a);\n",
       "        \n",
       "    \n",
       "        var popup_a6fec0edd8c99530c4e13f4ffbe1e9d9 = L.popup({&quot;maxWidth&quot;: &quot;100%&quot;});\n",
       "\n",
       "        \n",
       "            \n",
       "                var html_4b90cfe57dd0e5e497e8934a033a3771 = $(`&lt;div id=&quot;html_4b90cfe57dd0e5e497e8934a033a3771&quot; style=&quot;width: 100.0%; height: 100.0%;&quot;&gt;Pakistan&lt;/div&gt;`)[0];\n",
       "                popup_a6fec0edd8c99530c4e13f4ffbe1e9d9.setContent(html_4b90cfe57dd0e5e497e8934a033a3771);\n",
       "            \n",
       "        \n",
       "\n",
       "        circle_marker_88de4275e90186e7a4733f980e6a95b4.bindPopup(popup_a6fec0edd8c99530c4e13f4ffbe1e9d9)\n",
       "        ;\n",
       "\n",
       "        \n",
       "    \n",
       "    \n",
       "            var circle_marker_856a09ace9bb71d23dec9c9a789b3232 = L.circleMarker(\n",
       "                [8.9936, -79.51973],\n",
       "                {&quot;bubblingMouseEvents&quot;: true, &quot;color&quot;: &quot;green&quot;, &quot;dashArray&quot;: null, &quot;dashOffset&quot;: null, &quot;fill&quot;: true, &quot;fillColor&quot;: &quot;green&quot;, &quot;fillOpacity&quot;: 0.2, &quot;fillRule&quot;: &quot;evenodd&quot;, &quot;lineCap&quot;: &quot;round&quot;, &quot;lineJoin&quot;: &quot;round&quot;, &quot;opacity&quot;: 1.0, &quot;radius&quot;: 2.146732098139007, &quot;stroke&quot;: true, &quot;weight&quot;: 3}\n",
       "            ).addTo(map_8be889e5344c14c640c84fd71ab2b34a);\n",
       "        \n",
       "    \n",
       "        var popup_9470ac0f0e161c7fb08918310e3d877f = L.popup({&quot;maxWidth&quot;: &quot;100%&quot;});\n",
       "\n",
       "        \n",
       "            \n",
       "                var html_b8e08705fe67637a6ad37d8a33e66851 = $(`&lt;div id=&quot;html_b8e08705fe67637a6ad37d8a33e66851&quot; style=&quot;width: 100.0%; height: 100.0%;&quot;&gt;Panama&lt;/div&gt;`)[0];\n",
       "                popup_9470ac0f0e161c7fb08918310e3d877f.setContent(html_b8e08705fe67637a6ad37d8a33e66851);\n",
       "            \n",
       "        \n",
       "\n",
       "        circle_marker_856a09ace9bb71d23dec9c9a789b3232.bindPopup(popup_9470ac0f0e161c7fb08918310e3d877f)\n",
       "        ;\n",
       "\n",
       "        \n",
       "    \n",
       "    \n",
       "            var circle_marker_3236837ca0d5e7ab440f1f95ddd4c704 = L.circleMarker(\n",
       "                [-10.0, -75.25],\n",
       "                {&quot;bubblingMouseEvents&quot;: true, &quot;color&quot;: &quot;green&quot;, &quot;dashArray&quot;: null, &quot;dashOffset&quot;: null, &quot;fill&quot;: true, &quot;fillColor&quot;: &quot;green&quot;, &quot;fillOpacity&quot;: 0.2, &quot;fillRule&quot;: &quot;evenodd&quot;, &quot;lineCap&quot;: &quot;round&quot;, &quot;lineJoin&quot;: &quot;round&quot;, &quot;opacity&quot;: 1.0, &quot;radius&quot;: 5.1726862845883845, &quot;stroke&quot;: true, &quot;weight&quot;: 3}\n",
       "            ).addTo(map_8be889e5344c14c640c84fd71ab2b34a);\n",
       "        \n",
       "    \n",
       "        var popup_de2d3d7214a3b1ff831f512019579fd0 = L.popup({&quot;maxWidth&quot;: &quot;100%&quot;});\n",
       "\n",
       "        \n",
       "            \n",
       "                var html_d3a27f385b1a510c0a1b7ba15b63e6bf = $(`&lt;div id=&quot;html_d3a27f385b1a510c0a1b7ba15b63e6bf&quot; style=&quot;width: 100.0%; height: 100.0%;&quot;&gt;Peru&lt;/div&gt;`)[0];\n",
       "                popup_de2d3d7214a3b1ff831f512019579fd0.setContent(html_d3a27f385b1a510c0a1b7ba15b63e6bf);\n",
       "            \n",
       "        \n",
       "\n",
       "        circle_marker_3236837ca0d5e7ab440f1f95ddd4c704.bindPopup(popup_de2d3d7214a3b1ff831f512019579fd0)\n",
       "        ;\n",
       "\n",
       "        \n",
       "    \n",
       "    \n",
       "            var circle_marker_b7b87be714e022c511d4b9c076b43ef4 = L.circleMarker(\n",
       "                [13.0, 122.0],\n",
       "                {&quot;bubblingMouseEvents&quot;: true, &quot;color&quot;: &quot;red&quot;, &quot;dashArray&quot;: null, &quot;dashOffset&quot;: null, &quot;fill&quot;: true, &quot;fillColor&quot;: &quot;red&quot;, &quot;fillOpacity&quot;: 0.2, &quot;fillRule&quot;: &quot;evenodd&quot;, &quot;lineCap&quot;: &quot;round&quot;, &quot;lineJoin&quot;: &quot;round&quot;, &quot;opacity&quot;: 1.0, &quot;radius&quot;: 24.11243511961798, &quot;stroke&quot;: true, &quot;weight&quot;: 3}\n",
       "            ).addTo(map_8be889e5344c14c640c84fd71ab2b34a);\n",
       "        \n",
       "    \n",
       "        var popup_30b19a8f07ea53f57af28593ffbebd56 = L.popup({&quot;maxWidth&quot;: &quot;100%&quot;});\n",
       "\n",
       "        \n",
       "            \n",
       "                var html_732f0b761729558e4a60332bcae8416a = $(`&lt;div id=&quot;html_732f0b761729558e4a60332bcae8416a&quot; style=&quot;width: 100.0%; height: 100.0%;&quot;&gt;Philippines&lt;/div&gt;`)[0];\n",
       "                popup_30b19a8f07ea53f57af28593ffbebd56.setContent(html_732f0b761729558e4a60332bcae8416a);\n",
       "            \n",
       "        \n",
       "\n",
       "        circle_marker_b7b87be714e022c511d4b9c076b43ef4.bindPopup(popup_30b19a8f07ea53f57af28593ffbebd56)\n",
       "        ;\n",
       "\n",
       "        \n",
       "    \n",
       "    \n",
       "            var circle_marker_f7468eb18120cef1dbb87796c9dc120a = L.circleMarker(\n",
       "                [-6.0, 147.0],\n",
       "                {&quot;bubblingMouseEvents&quot;: true, &quot;color&quot;: &quot;red&quot;, &quot;dashArray&quot;: null, &quot;dashOffset&quot;: null, &quot;fill&quot;: true, &quot;fillColor&quot;: &quot;red&quot;, &quot;fillOpacity&quot;: 0.2, &quot;fillRule&quot;: &quot;evenodd&quot;, &quot;lineCap&quot;: &quot;round&quot;, &quot;lineJoin&quot;: &quot;round&quot;, &quot;opacity&quot;: 1.0, &quot;radius&quot;: 9.325420659840452, &quot;stroke&quot;: true, &quot;weight&quot;: 3}\n",
       "            ).addTo(map_8be889e5344c14c640c84fd71ab2b34a);\n",
       "        \n",
       "    \n",
       "        var popup_a1a85aa55510bd8c0a93078296425ebc = L.popup({&quot;maxWidth&quot;: &quot;100%&quot;});\n",
       "\n",
       "        \n",
       "            \n",
       "                var html_59d85ed604b8054f801d7ae5309518e1 = $(`&lt;div id=&quot;html_59d85ed604b8054f801d7ae5309518e1&quot; style=&quot;width: 100.0%; height: 100.0%;&quot;&gt;Papua New Guinea&lt;/div&gt;`)[0];\n",
       "                popup_a1a85aa55510bd8c0a93078296425ebc.setContent(html_59d85ed604b8054f801d7ae5309518e1);\n",
       "            \n",
       "        \n",
       "\n",
       "        circle_marker_f7468eb18120cef1dbb87796c9dc120a.bindPopup(popup_a1a85aa55510bd8c0a93078296425ebc)\n",
       "        ;\n",
       "\n",
       "        \n",
       "    \n",
       "    \n",
       "            var circle_marker_700cacc0104bb9cde0af99fce20489a0 = L.circleMarker(\n",
       "                [52.0, 20.0],\n",
       "                {&quot;bubblingMouseEvents&quot;: true, &quot;color&quot;: &quot;black&quot;, &quot;dashArray&quot;: null, &quot;dashOffset&quot;: null, &quot;fill&quot;: true, &quot;fillColor&quot;: &quot;black&quot;, &quot;fillOpacity&quot;: 0.2, &quot;fillRule&quot;: &quot;evenodd&quot;, &quot;lineCap&quot;: &quot;round&quot;, &quot;lineJoin&quot;: &quot;round&quot;, &quot;opacity&quot;: 1.0, &quot;stroke&quot;: true, &quot;weight&quot;: 3}\n",
       "            ).addTo(map_8be889e5344c14c640c84fd71ab2b34a);\n",
       "        \n",
       "    \n",
       "        var popup_4bbeed31e33a8ec466c83351ccb72622 = L.popup({&quot;maxWidth&quot;: &quot;100%&quot;});\n",
       "\n",
       "        \n",
       "            \n",
       "                var html_5bada58c5849d933977c7b773e987708 = $(`&lt;div id=&quot;html_5bada58c5849d933977c7b773e987708&quot; style=&quot;width: 100.0%; height: 100.0%;&quot;&gt;Poland&lt;/div&gt;`)[0];\n",
       "                popup_4bbeed31e33a8ec466c83351ccb72622.setContent(html_5bada58c5849d933977c7b773e987708);\n",
       "            \n",
       "        \n",
       "\n",
       "        circle_marker_700cacc0104bb9cde0af99fce20489a0.bindPopup(popup_4bbeed31e33a8ec466c83351ccb72622)\n",
       "        ;\n",
       "\n",
       "        \n",
       "    \n",
       "    \n",
       "            var circle_marker_931b971d61c444bce31ae67a3fcfd88a = L.circleMarker(\n",
       "                [-23.33333, -58.0],\n",
       "                {&quot;bubblingMouseEvents&quot;: true, &quot;color&quot;: &quot;green&quot;, &quot;dashArray&quot;: null, &quot;dashOffset&quot;: null, &quot;fill&quot;: true, &quot;fillColor&quot;: &quot;green&quot;, &quot;fillOpacity&quot;: 0.2, &quot;fillRule&quot;: &quot;evenodd&quot;, &quot;lineCap&quot;: &quot;round&quot;, &quot;lineJoin&quot;: &quot;round&quot;, &quot;opacity&quot;: 1.0, &quot;radius&quot;: 2.3524811396013368, &quot;stroke&quot;: true, &quot;weight&quot;: 3}\n",
       "            ).addTo(map_8be889e5344c14c640c84fd71ab2b34a);\n",
       "        \n",
       "    \n",
       "        var popup_65b0741f0b9c5d0969df976e517241a4 = L.popup({&quot;maxWidth&quot;: &quot;100%&quot;});\n",
       "\n",
       "        \n",
       "            \n",
       "                var html_32acf153bf85d383536326e43cbd9bfc = $(`&lt;div id=&quot;html_32acf153bf85d383536326e43cbd9bfc&quot; style=&quot;width: 100.0%; height: 100.0%;&quot;&gt;Paraguay&lt;/div&gt;`)[0];\n",
       "                popup_65b0741f0b9c5d0969df976e517241a4.setContent(html_32acf153bf85d383536326e43cbd9bfc);\n",
       "            \n",
       "        \n",
       "\n",
       "        circle_marker_931b971d61c444bce31ae67a3fcfd88a.bindPopup(popup_65b0741f0b9c5d0969df976e517241a4)\n",
       "        ;\n",
       "\n",
       "        \n",
       "    \n",
       "    \n",
       "            var circle_marker_73faa057afaf6d9c6198987b8a95d591 = L.circleMarker(\n",
       "                [31.92157, 35.20329],\n",
       "                {&quot;bubblingMouseEvents&quot;: true, &quot;color&quot;: &quot;red&quot;, &quot;dashArray&quot;: null, &quot;dashOffset&quot;: null, &quot;fill&quot;: true, &quot;fillColor&quot;: &quot;red&quot;, &quot;fillOpacity&quot;: 0.2, &quot;fillRule&quot;: &quot;evenodd&quot;, &quot;lineCap&quot;: &quot;round&quot;, &quot;lineJoin&quot;: &quot;round&quot;, &quot;opacity&quot;: 1.0, &quot;radius&quot;: 0.3198512113772126, &quot;stroke&quot;: true, &quot;weight&quot;: 3}\n",
       "            ).addTo(map_8be889e5344c14c640c84fd71ab2b34a);\n",
       "        \n",
       "    \n",
       "        var popup_149b8379e80af803457d0c889087d5bb = L.popup({&quot;maxWidth&quot;: &quot;100%&quot;});\n",
       "\n",
       "        \n",
       "            \n",
       "                var html_2c5f649b34df4755a156df2e331c5122 = $(`&lt;div id=&quot;html_2c5f649b34df4755a156df2e331c5122&quot; style=&quot;width: 100.0%; height: 100.0%;&quot;&gt;Palestine&lt;/div&gt;`)[0];\n",
       "                popup_149b8379e80af803457d0c889087d5bb.setContent(html_2c5f649b34df4755a156df2e331c5122);\n",
       "            \n",
       "        \n",
       "\n",
       "        circle_marker_73faa057afaf6d9c6198987b8a95d591.bindPopup(popup_149b8379e80af803457d0c889087d5bb)\n",
       "        ;\n",
       "\n",
       "        \n",
       "    \n",
       "    \n",
       "            var circle_marker_cd798d3dd6bb8f89a391ecbb9c125131 = L.circleMarker(\n",
       "                [46.0, 25.0],\n",
       "                {&quot;bubblingMouseEvents&quot;: true, &quot;color&quot;: &quot;black&quot;, &quot;dashArray&quot;: null, &quot;dashOffset&quot;: null, &quot;fill&quot;: true, &quot;fillColor&quot;: &quot;black&quot;, &quot;fillOpacity&quot;: 0.2, &quot;fillRule&quot;: &quot;evenodd&quot;, &quot;lineCap&quot;: &quot;round&quot;, &quot;lineJoin&quot;: &quot;round&quot;, &quot;opacity&quot;: 1.0, &quot;stroke&quot;: true, &quot;weight&quot;: 3}\n",
       "            ).addTo(map_8be889e5344c14c640c84fd71ab2b34a);\n",
       "        \n",
       "    \n",
       "        var popup_dda346da5390d46ff498a36adc7d21a3 = L.popup({&quot;maxWidth&quot;: &quot;100%&quot;});\n",
       "\n",
       "        \n",
       "            \n",
       "                var html_5499458cc648c1d595e3cfa77ab87d47 = $(`&lt;div id=&quot;html_5499458cc648c1d595e3cfa77ab87d47&quot; style=&quot;width: 100.0%; height: 100.0%;&quot;&gt;Romania&lt;/div&gt;`)[0];\n",
       "                popup_dda346da5390d46ff498a36adc7d21a3.setContent(html_5499458cc648c1d595e3cfa77ab87d47);\n",
       "            \n",
       "        \n",
       "\n",
       "        circle_marker_cd798d3dd6bb8f89a391ecbb9c125131.bindPopup(popup_dda346da5390d46ff498a36adc7d21a3)\n",
       "        ;\n",
       "\n",
       "        \n",
       "    \n",
       "    \n",
       "            var circle_marker_aa5d7c469f63df78943a833263cd8996 = L.circleMarker(\n",
       "                [60.0, 100.0],\n",
       "                {&quot;bubblingMouseEvents&quot;: true, &quot;color&quot;: &quot;black&quot;, &quot;dashArray&quot;: null, &quot;dashOffset&quot;: null, &quot;fill&quot;: true, &quot;fillColor&quot;: &quot;black&quot;, &quot;fillOpacity&quot;: 0.2, &quot;fillRule&quot;: &quot;evenodd&quot;, &quot;lineCap&quot;: &quot;round&quot;, &quot;lineJoin&quot;: &quot;round&quot;, &quot;opacity&quot;: 1.0, &quot;radius&quot;: 1.1723745513024446, &quot;stroke&quot;: true, &quot;weight&quot;: 3}\n",
       "            ).addTo(map_8be889e5344c14c640c84fd71ab2b34a);\n",
       "        \n",
       "    \n",
       "        var popup_599141ca3fd2165d7f878f0a5e7b9d07 = L.popup({&quot;maxWidth&quot;: &quot;100%&quot;});\n",
       "\n",
       "        \n",
       "            \n",
       "                var html_0898a1b2083394d5bdf2cc70a1de4881 = $(`&lt;div id=&quot;html_0898a1b2083394d5bdf2cc70a1de4881&quot; style=&quot;width: 100.0%; height: 100.0%;&quot;&gt;Russia&lt;/div&gt;`)[0];\n",
       "                popup_599141ca3fd2165d7f878f0a5e7b9d07.setContent(html_0898a1b2083394d5bdf2cc70a1de4881);\n",
       "            \n",
       "        \n",
       "\n",
       "        circle_marker_aa5d7c469f63df78943a833263cd8996.bindPopup(popup_599141ca3fd2165d7f878f0a5e7b9d07)\n",
       "        ;\n",
       "\n",
       "        \n",
       "    \n",
       "    \n",
       "            var circle_marker_e2722d3b0ac93db5d8842ae19d961b8a = L.circleMarker(\n",
       "                [-2.0, 30.0],\n",
       "                {&quot;bubblingMouseEvents&quot;: true, &quot;color&quot;: &quot;blue&quot;, &quot;dashArray&quot;: null, &quot;dashOffset&quot;: null, &quot;fill&quot;: true, &quot;fillColor&quot;: &quot;blue&quot;, &quot;fillOpacity&quot;: 0.2, &quot;fillRule&quot;: &quot;evenodd&quot;, &quot;lineCap&quot;: &quot;round&quot;, &quot;lineJoin&quot;: &quot;round&quot;, &quot;opacity&quot;: 1.0, &quot;radius&quot;: 14.386416210346209, &quot;stroke&quot;: true, &quot;weight&quot;: 3}\n",
       "            ).addTo(map_8be889e5344c14c640c84fd71ab2b34a);\n",
       "        \n",
       "    \n",
       "        var popup_42cbcfe35ffed27a94b7350731e03b0b = L.popup({&quot;maxWidth&quot;: &quot;100%&quot;});\n",
       "\n",
       "        \n",
       "            \n",
       "                var html_00670fe90cfbcb305af2935e33f23526 = $(`&lt;div id=&quot;html_00670fe90cfbcb305af2935e33f23526&quot; style=&quot;width: 100.0%; height: 100.0%;&quot;&gt;Rwanda&lt;/div&gt;`)[0];\n",
       "                popup_42cbcfe35ffed27a94b7350731e03b0b.setContent(html_00670fe90cfbcb305af2935e33f23526);\n",
       "            \n",
       "        \n",
       "\n",
       "        circle_marker_e2722d3b0ac93db5d8842ae19d961b8a.bindPopup(popup_42cbcfe35ffed27a94b7350731e03b0b)\n",
       "        ;\n",
       "\n",
       "        \n",
       "    \n",
       "    \n",
       "            var circle_marker_81b70e8488f50527a17295888b6be9c9 = L.circleMarker(\n",
       "                [16.0, 30.0],\n",
       "                {&quot;bubblingMouseEvents&quot;: true, &quot;color&quot;: &quot;blue&quot;, &quot;dashArray&quot;: null, &quot;dashOffset&quot;: null, &quot;fill&quot;: true, &quot;fillColor&quot;: &quot;blue&quot;, &quot;fillOpacity&quot;: 0.2, &quot;fillRule&quot;: &quot;evenodd&quot;, &quot;lineCap&quot;: &quot;round&quot;, &quot;lineJoin&quot;: &quot;round&quot;, &quot;opacity&quot;: 1.0, &quot;radius&quot;: 14.939896772484527, &quot;stroke&quot;: true, &quot;weight&quot;: 3}\n",
       "            ).addTo(map_8be889e5344c14c640c84fd71ab2b34a);\n",
       "        \n",
       "    \n",
       "        var popup_04480aba652a1ebfefb6acf588af11cb = L.popup({&quot;maxWidth&quot;: &quot;100%&quot;});\n",
       "\n",
       "        \n",
       "            \n",
       "                var html_850e688bacd67665756a61dc9dbd900a = $(`&lt;div id=&quot;html_850e688bacd67665756a61dc9dbd900a&quot; style=&quot;width: 100.0%; height: 100.0%;&quot;&gt;Sudan&lt;/div&gt;`)[0];\n",
       "                popup_04480aba652a1ebfefb6acf588af11cb.setContent(html_850e688bacd67665756a61dc9dbd900a);\n",
       "            \n",
       "        \n",
       "\n",
       "        circle_marker_81b70e8488f50527a17295888b6be9c9.bindPopup(popup_04480aba652a1ebfefb6acf588af11cb)\n",
       "        ;\n",
       "\n",
       "        \n",
       "    \n",
       "    \n",
       "            var circle_marker_f6174eb9d00e1ef4c31476038df40607 = L.circleMarker(\n",
       "                [14.5, -14.25],\n",
       "                {&quot;bubblingMouseEvents&quot;: true, &quot;color&quot;: &quot;blue&quot;, &quot;dashArray&quot;: null, &quot;dashOffset&quot;: null, &quot;fill&quot;: true, &quot;fillColor&quot;: &quot;blue&quot;, &quot;fillOpacity&quot;: 0.2, &quot;fillRule&quot;: &quot;evenodd&quot;, &quot;lineCap&quot;: &quot;round&quot;, &quot;lineJoin&quot;: &quot;round&quot;, &quot;opacity&quot;: 1.0, &quot;radius&quot;: 11.704210477422464, &quot;stroke&quot;: true, &quot;weight&quot;: 3}\n",
       "            ).addTo(map_8be889e5344c14c640c84fd71ab2b34a);\n",
       "        \n",
       "    \n",
       "        var popup_5b3e0b696931b450ba825a2f4d3ab3b7 = L.popup({&quot;maxWidth&quot;: &quot;100%&quot;});\n",
       "\n",
       "        \n",
       "            \n",
       "                var html_7db9ce36704589b6244f1767709535d3 = $(`&lt;div id=&quot;html_7db9ce36704589b6244f1767709535d3&quot; style=&quot;width: 100.0%; height: 100.0%;&quot;&gt;Senegal&lt;/div&gt;`)[0];\n",
       "                popup_5b3e0b696931b450ba825a2f4d3ab3b7.setContent(html_7db9ce36704589b6244f1767709535d3);\n",
       "            \n",
       "        \n",
       "\n",
       "        circle_marker_f6174eb9d00e1ef4c31476038df40607.bindPopup(popup_5b3e0b696931b450ba825a2f4d3ab3b7)\n",
       "        ;\n",
       "\n",
       "        \n",
       "    \n",
       "    \n",
       "            var circle_marker_490ac20a9b4f0aa6b9b496dc7b9898de = L.circleMarker(\n",
       "                [8.5, -11.5],\n",
       "                {&quot;bubblingMouseEvents&quot;: true, &quot;color&quot;: &quot;blue&quot;, &quot;dashArray&quot;: null, &quot;dashOffset&quot;: null, &quot;fill&quot;: true, &quot;fillColor&quot;: &quot;blue&quot;, &quot;fillOpacity&quot;: 0.2, &quot;fillRule&quot;: &quot;evenodd&quot;, &quot;lineCap&quot;: &quot;round&quot;, &quot;lineJoin&quot;: &quot;round&quot;, &quot;opacity&quot;: 1.0, &quot;radius&quot;: 10.591031720519217, &quot;stroke&quot;: true, &quot;weight&quot;: 3}\n",
       "            ).addTo(map_8be889e5344c14c640c84fd71ab2b34a);\n",
       "        \n",
       "    \n",
       "        var popup_5e69ccb380027523b86be49979689d95 = L.popup({&quot;maxWidth&quot;: &quot;100%&quot;});\n",
       "\n",
       "        \n",
       "            \n",
       "                var html_fbf873de43b8aaf6f6a59d404bda8e21 = $(`&lt;div id=&quot;html_fbf873de43b8aaf6f6a59d404bda8e21&quot; style=&quot;width: 100.0%; height: 100.0%;&quot;&gt;Sierra Leone&lt;/div&gt;`)[0];\n",
       "                popup_5e69ccb380027523b86be49979689d95.setContent(html_fbf873de43b8aaf6f6a59d404bda8e21);\n",
       "            \n",
       "        \n",
       "\n",
       "        circle_marker_490ac20a9b4f0aa6b9b496dc7b9898de.bindPopup(popup_5e69ccb380027523b86be49979689d95)\n",
       "        ;\n",
       "\n",
       "        \n",
       "    \n",
       "    \n",
       "            var circle_marker_7fc101358d6780481f19051eb53b3160 = L.circleMarker(\n",
       "                [13.83333, -88.91667],\n",
       "                {&quot;bubblingMouseEvents&quot;: true, &quot;color&quot;: &quot;green&quot;, &quot;dashArray&quot;: null, &quot;dashOffset&quot;: null, &quot;fill&quot;: true, &quot;fillColor&quot;: &quot;green&quot;, &quot;fillOpacity&quot;: 0.2, &quot;fillRule&quot;: &quot;evenodd&quot;, &quot;lineCap&quot;: &quot;round&quot;, &quot;lineJoin&quot;: &quot;round&quot;, &quot;opacity&quot;: 1.0, &quot;radius&quot;: 2.210637055152628, &quot;stroke&quot;: true, &quot;weight&quot;: 3}\n",
       "            ).addTo(map_8be889e5344c14c640c84fd71ab2b34a);\n",
       "        \n",
       "    \n",
       "        var popup_2d17f579b1a051a54898176414c781f4 = L.popup({&quot;maxWidth&quot;: &quot;100%&quot;});\n",
       "\n",
       "        \n",
       "            \n",
       "                var html_072ba1cd6347887b49dc39f4a2d64a1a = $(`&lt;div id=&quot;html_072ba1cd6347887b49dc39f4a2d64a1a&quot; style=&quot;width: 100.0%; height: 100.0%;&quot;&gt;El Salvador&lt;/div&gt;`)[0];\n",
       "                popup_2d17f579b1a051a54898176414c781f4.setContent(html_072ba1cd6347887b49dc39f4a2d64a1a);\n",
       "            \n",
       "        \n",
       "\n",
       "        circle_marker_7fc101358d6780481f19051eb53b3160.bindPopup(popup_2d17f579b1a051a54898176414c781f4)\n",
       "        ;\n",
       "\n",
       "        \n",
       "    \n",
       "    \n",
       "            var circle_marker_e6a322f264bc4eb50685a166cea6b6fa = L.circleMarker(\n",
       "                [44.81892, 20.45998],\n",
       "                {&quot;bubblingMouseEvents&quot;: true, &quot;color&quot;: &quot;black&quot;, &quot;dashArray&quot;: null, &quot;dashOffset&quot;: null, &quot;fill&quot;: true, &quot;fillColor&quot;: &quot;black&quot;, &quot;fillOpacity&quot;: 0.2, &quot;fillRule&quot;: &quot;evenodd&quot;, &quot;lineCap&quot;: &quot;round&quot;, &quot;lineJoin&quot;: &quot;round&quot;, &quot;opacity&quot;: 1.0, &quot;radius&quot;: 0.3430903611452321, &quot;stroke&quot;: true, &quot;weight&quot;: 3}\n",
       "            ).addTo(map_8be889e5344c14c640c84fd71ab2b34a);\n",
       "        \n",
       "    \n",
       "        var popup_c0fb4783019378c39646c3a631b92ef4 = L.popup({&quot;maxWidth&quot;: &quot;100%&quot;});\n",
       "\n",
       "        \n",
       "            \n",
       "                var html_c312488955be0bdb5d51bf5fc3fe3586 = $(`&lt;div id=&quot;html_c312488955be0bdb5d51bf5fc3fe3586&quot; style=&quot;width: 100.0%; height: 100.0%;&quot;&gt;Serbia&lt;/div&gt;`)[0];\n",
       "                popup_c0fb4783019378c39646c3a631b92ef4.setContent(html_c312488955be0bdb5d51bf5fc3fe3586);\n",
       "            \n",
       "        \n",
       "\n",
       "        circle_marker_e6a322f264bc4eb50685a166cea6b6fa.bindPopup(popup_c0fb4783019378c39646c3a631b92ef4)\n",
       "        ;\n",
       "\n",
       "        \n",
       "    \n",
       "    \n",
       "            var circle_marker_4f01102c9f2b0c4a4959d0ad46e33e64 = L.circleMarker(\n",
       "                [1.0, 7.0],\n",
       "                {&quot;bubblingMouseEvents&quot;: true, &quot;color&quot;: &quot;blue&quot;, &quot;dashArray&quot;: null, &quot;dashOffset&quot;: null, &quot;fill&quot;: true, &quot;fillColor&quot;: &quot;blue&quot;, &quot;fillOpacity&quot;: 0.2, &quot;fillRule&quot;: &quot;evenodd&quot;, &quot;lineCap&quot;: &quot;round&quot;, &quot;lineJoin&quot;: &quot;round&quot;, &quot;opacity&quot;: 1.0, &quot;radius&quot;: 1.5871486311247862, &quot;stroke&quot;: true, &quot;weight&quot;: 3}\n",
       "            ).addTo(map_8be889e5344c14c640c84fd71ab2b34a);\n",
       "        \n",
       "    \n",
       "        var popup_7f41988b857392f94d458c6865a817bd = L.popup({&quot;maxWidth&quot;: &quot;100%&quot;});\n",
       "\n",
       "        \n",
       "            \n",
       "                var html_cff1f270bdaec7d3c7531d94945a67a1 = $(`&lt;div id=&quot;html_cff1f270bdaec7d3c7531d94945a67a1&quot; style=&quot;width: 100.0%; height: 100.0%;&quot;&gt;Sao Tome and Principe&lt;/div&gt;`)[0];\n",
       "                popup_7f41988b857392f94d458c6865a817bd.setContent(html_cff1f270bdaec7d3c7531d94945a67a1);\n",
       "            \n",
       "        \n",
       "\n",
       "        circle_marker_4f01102c9f2b0c4a4959d0ad46e33e64.bindPopup(popup_7f41988b857392f94d458c6865a817bd)\n",
       "        ;\n",
       "\n",
       "        \n",
       "    \n",
       "    \n",
       "            var circle_marker_aeda36520bfebe98c8a9c80166f43ab2 = L.circleMarker(\n",
       "                [4.0, -56.0],\n",
       "                {&quot;bubblingMouseEvents&quot;: true, &quot;color&quot;: &quot;green&quot;, &quot;dashArray&quot;: null, &quot;dashOffset&quot;: null, &quot;fill&quot;: true, &quot;fillColor&quot;: &quot;green&quot;, &quot;fillOpacity&quot;: 0.2, &quot;fillRule&quot;: &quot;evenodd&quot;, &quot;lineCap&quot;: &quot;round&quot;, &quot;lineJoin&quot;: &quot;round&quot;, &quot;opacity&quot;: 1.0, &quot;radius&quot;: 1.6493067105148873, &quot;stroke&quot;: true, &quot;weight&quot;: 3}\n",
       "            ).addTo(map_8be889e5344c14c640c84fd71ab2b34a);\n",
       "        \n",
       "    \n",
       "        var popup_706be2d696824b85a69e220de629e0d5 = L.popup({&quot;maxWidth&quot;: &quot;100%&quot;});\n",
       "\n",
       "        \n",
       "            \n",
       "                var html_37b36ae7a86d6b93f0e336037c6632dc = $(`&lt;div id=&quot;html_37b36ae7a86d6b93f0e336037c6632dc&quot; style=&quot;width: 100.0%; height: 100.0%;&quot;&gt;Suriname&lt;/div&gt;`)[0];\n",
       "                popup_706be2d696824b85a69e220de629e0d5.setContent(html_37b36ae7a86d6b93f0e336037c6632dc);\n",
       "            \n",
       "        \n",
       "\n",
       "        circle_marker_aeda36520bfebe98c8a9c80166f43ab2.bindPopup(popup_706be2d696824b85a69e220de629e0d5)\n",
       "        ;\n",
       "\n",
       "        \n",
       "    \n",
       "    \n",
       "            var circle_marker_440712cffc2f9370ae88d140cd897d27 = L.circleMarker(\n",
       "                [48.66667, 19.5],\n",
       "                {&quot;bubblingMouseEvents&quot;: true, &quot;color&quot;: &quot;black&quot;, &quot;dashArray&quot;: null, &quot;dashOffset&quot;: null, &quot;fill&quot;: true, &quot;fillColor&quot;: &quot;black&quot;, &quot;fillOpacity&quot;: 0.2, &quot;fillRule&quot;: &quot;evenodd&quot;, &quot;lineCap&quot;: &quot;round&quot;, &quot;lineJoin&quot;: &quot;round&quot;, &quot;opacity&quot;: 1.0, &quot;radius&quot;: 0.7175639845274426, &quot;stroke&quot;: true, &quot;weight&quot;: 3}\n",
       "            ).addTo(map_8be889e5344c14c640c84fd71ab2b34a);\n",
       "        \n",
       "    \n",
       "        var popup_5a65ec8388faf33e0205bd9ba76ff10f = L.popup({&quot;maxWidth&quot;: &quot;100%&quot;});\n",
       "\n",
       "        \n",
       "            \n",
       "                var html_5afd1a564b4eef2a1fba7ca5c4bd14b5 = $(`&lt;div id=&quot;html_5afd1a564b4eef2a1fba7ca5c4bd14b5&quot; style=&quot;width: 100.0%; height: 100.0%;&quot;&gt;Slovak Republic&lt;/div&gt;`)[0];\n",
       "                popup_5a65ec8388faf33e0205bd9ba76ff10f.setContent(html_5afd1a564b4eef2a1fba7ca5c4bd14b5);\n",
       "            \n",
       "        \n",
       "\n",
       "        circle_marker_440712cffc2f9370ae88d140cd897d27.bindPopup(popup_5a65ec8388faf33e0205bd9ba76ff10f)\n",
       "        ;\n",
       "\n",
       "        \n",
       "    \n",
       "    \n",
       "            var circle_marker_948ca8c52f701822b4a6dfb9420a2bd5 = L.circleMarker(\n",
       "                [46.08333, 15.0],\n",
       "                {&quot;bubblingMouseEvents&quot;: true, &quot;color&quot;: &quot;black&quot;, &quot;dashArray&quot;: null, &quot;dashOffset&quot;: null, &quot;fill&quot;: true, &quot;fillColor&quot;: &quot;black&quot;, &quot;fillOpacity&quot;: 0.2, &quot;fillRule&quot;: &quot;evenodd&quot;, &quot;lineCap&quot;: &quot;round&quot;, &quot;lineJoin&quot;: &quot;round&quot;, &quot;opacity&quot;: 1.0, &quot;stroke&quot;: true, &quot;weight&quot;: 3}\n",
       "            ).addTo(map_8be889e5344c14c640c84fd71ab2b34a);\n",
       "        \n",
       "    \n",
       "        var popup_62a302de61b8f73d78760a5530b6d312 = L.popup({&quot;maxWidth&quot;: &quot;100%&quot;});\n",
       "\n",
       "        \n",
       "            \n",
       "                var html_77151ff710061727b4486b3aeb6adf89 = $(`&lt;div id=&quot;html_77151ff710061727b4486b3aeb6adf89&quot; style=&quot;width: 100.0%; height: 100.0%;&quot;&gt;Slovenia&lt;/div&gt;`)[0];\n",
       "                popup_62a302de61b8f73d78760a5530b6d312.setContent(html_77151ff710061727b4486b3aeb6adf89);\n",
       "            \n",
       "        \n",
       "\n",
       "        circle_marker_948ca8c52f701822b4a6dfb9420a2bd5.bindPopup(popup_62a302de61b8f73d78760a5530b6d312)\n",
       "        ;\n",
       "\n",
       "        \n",
       "    \n",
       "    \n",
       "            var circle_marker_9bf7f839e0747f6cdacd5327f31b571e = L.circleMarker(\n",
       "                [62.0, 15.0],\n",
       "                {&quot;bubblingMouseEvents&quot;: true, &quot;color&quot;: &quot;black&quot;, &quot;dashArray&quot;: null, &quot;dashOffset&quot;: null, &quot;fill&quot;: true, &quot;fillColor&quot;: &quot;black&quot;, &quot;fillOpacity&quot;: 0.2, &quot;fillRule&quot;: &quot;evenodd&quot;, &quot;lineCap&quot;: &quot;round&quot;, &quot;lineJoin&quot;: &quot;round&quot;, &quot;opacity&quot;: 1.0, &quot;radius&quot;: 1.0221645515325184, &quot;stroke&quot;: true, &quot;weight&quot;: 3}\n",
       "            ).addTo(map_8be889e5344c14c640c84fd71ab2b34a);\n",
       "        \n",
       "    \n",
       "        var popup_b625c4656443afce088f326361929044 = L.popup({&quot;maxWidth&quot;: &quot;100%&quot;});\n",
       "\n",
       "        \n",
       "            \n",
       "                var html_797eac11693ba9cfab44175281265b36 = $(`&lt;div id=&quot;html_797eac11693ba9cfab44175281265b36&quot; style=&quot;width: 100.0%; height: 100.0%;&quot;&gt;Sweden&lt;/div&gt;`)[0];\n",
       "                popup_b625c4656443afce088f326361929044.setContent(html_797eac11693ba9cfab44175281265b36);\n",
       "            \n",
       "        \n",
       "\n",
       "        circle_marker_9bf7f839e0747f6cdacd5327f31b571e.bindPopup(popup_b625c4656443afce088f326361929044)\n",
       "        ;\n",
       "\n",
       "        \n",
       "    \n",
       "    \n",
       "            var circle_marker_8e171e9b285f001d5df6b7a7fd75b2c4 = L.circleMarker(\n",
       "                [-26.5, 31.5],\n",
       "                {&quot;bubblingMouseEvents&quot;: true, &quot;color&quot;: &quot;blue&quot;, &quot;dashArray&quot;: null, &quot;dashOffset&quot;: null, &quot;fill&quot;: true, &quot;fillColor&quot;: &quot;blue&quot;, &quot;fillOpacity&quot;: 0.2, &quot;fillRule&quot;: &quot;evenodd&quot;, &quot;lineCap&quot;: &quot;round&quot;, &quot;lineJoin&quot;: &quot;round&quot;, &quot;opacity&quot;: 1.0, &quot;radius&quot;: 3.7291096317512857, &quot;stroke&quot;: true, &quot;weight&quot;: 3}\n",
       "            ).addTo(map_8be889e5344c14c640c84fd71ab2b34a);\n",
       "        \n",
       "    \n",
       "        var popup_2437d6b13b16f1bec5cdb65c19fa695e = L.popup({&quot;maxWidth&quot;: &quot;100%&quot;});\n",
       "\n",
       "        \n",
       "            \n",
       "                var html_1a2c5d1f5850faa04247940f1583105b = $(`&lt;div id=&quot;html_1a2c5d1f5850faa04247940f1583105b&quot; style=&quot;width: 100.0%; height: 100.0%;&quot;&gt;Swaziland&lt;/div&gt;`)[0];\n",
       "                popup_2437d6b13b16f1bec5cdb65c19fa695e.setContent(html_1a2c5d1f5850faa04247940f1583105b);\n",
       "            \n",
       "        \n",
       "\n",
       "        circle_marker_8e171e9b285f001d5df6b7a7fd75b2c4.bindPopup(popup_2437d6b13b16f1bec5cdb65c19fa695e)\n",
       "        ;\n",
       "\n",
       "        \n",
       "    \n",
       "    \n",
       "            var circle_marker_c2b64af719b584d56e6023d3b5b1a7a3 = L.circleMarker(\n",
       "                [-4.58333, 55.66667],\n",
       "                {&quot;bubblingMouseEvents&quot;: true, &quot;color&quot;: &quot;blue&quot;, &quot;dashArray&quot;: null, &quot;dashOffset&quot;: null, &quot;fill&quot;: true, &quot;fillColor&quot;: &quot;blue&quot;, &quot;fillOpacity&quot;: 0.2, &quot;fillRule&quot;: &quot;evenodd&quot;, &quot;lineCap&quot;: &quot;round&quot;, &quot;lineJoin&quot;: &quot;round&quot;, &quot;opacity&quot;: 1.0, &quot;radius&quot;: 0.08685588237163813, &quot;stroke&quot;: true, &quot;weight&quot;: 3}\n",
       "            ).addTo(map_8be889e5344c14c640c84fd71ab2b34a);\n",
       "        \n",
       "    \n",
       "        var popup_1ba3e4843aef07825dc9c16fa0d5d47a = L.popup({&quot;maxWidth&quot;: &quot;100%&quot;});\n",
       "\n",
       "        \n",
       "            \n",
       "                var html_235d1c33b73601d5fc07baca41fcb6bf = $(`&lt;div id=&quot;html_235d1c33b73601d5fc07baca41fcb6bf&quot; style=&quot;width: 100.0%; height: 100.0%;&quot;&gt;Seychelles&lt;/div&gt;`)[0];\n",
       "                popup_1ba3e4843aef07825dc9c16fa0d5d47a.setContent(html_235d1c33b73601d5fc07baca41fcb6bf);\n",
       "            \n",
       "        \n",
       "\n",
       "        circle_marker_c2b64af719b584d56e6023d3b5b1a7a3.bindPopup(popup_1ba3e4843aef07825dc9c16fa0d5d47a)\n",
       "        ;\n",
       "\n",
       "        \n",
       "    \n",
       "    \n",
       "            var circle_marker_bc5e735574261e9da63797e7086804c3 = L.circleMarker(\n",
       "                [35.0, 38.0],\n",
       "                {&quot;bubblingMouseEvents&quot;: true, &quot;color&quot;: &quot;red&quot;, &quot;dashArray&quot;: null, &quot;dashOffset&quot;: null, &quot;fill&quot;: true, &quot;fillColor&quot;: &quot;red&quot;, &quot;fillOpacity&quot;: 0.2, &quot;fillRule&quot;: &quot;evenodd&quot;, &quot;lineCap&quot;: &quot;round&quot;, &quot;lineJoin&quot;: &quot;round&quot;, &quot;opacity&quot;: 1.0, &quot;radius&quot;: 3.4981983567755583, &quot;stroke&quot;: true, &quot;weight&quot;: 3}\n",
       "            ).addTo(map_8be889e5344c14c640c84fd71ab2b34a);\n",
       "        \n",
       "    \n",
       "        var popup_6df841109a30619d968241b47fcee768 = L.popup({&quot;maxWidth&quot;: &quot;100%&quot;});\n",
       "\n",
       "        \n",
       "            \n",
       "                var html_4fc269743691d4ac2a45f9c4d06bb4e3 = $(`&lt;div id=&quot;html_4fc269743691d4ac2a45f9c4d06bb4e3&quot; style=&quot;width: 100.0%; height: 100.0%;&quot;&gt;Syria&lt;/div&gt;`)[0];\n",
       "                popup_6df841109a30619d968241b47fcee768.setContent(html_4fc269743691d4ac2a45f9c4d06bb4e3);\n",
       "            \n",
       "        \n",
       "\n",
       "        circle_marker_bc5e735574261e9da63797e7086804c3.bindPopup(popup_6df841109a30619d968241b47fcee768)\n",
       "        ;\n",
       "\n",
       "        \n",
       "    \n",
       "    \n",
       "            var circle_marker_af9052c37a54a270ee43b370548de2bf = L.circleMarker(\n",
       "                [15.0, 19.0],\n",
       "                {&quot;bubblingMouseEvents&quot;: true, &quot;color&quot;: &quot;blue&quot;, &quot;dashArray&quot;: null, &quot;dashOffset&quot;: null, &quot;fill&quot;: true, &quot;fillColor&quot;: &quot;blue&quot;, &quot;fillOpacity&quot;: 0.2, &quot;fillRule&quot;: &quot;evenodd&quot;, &quot;lineCap&quot;: &quot;round&quot;, &quot;lineJoin&quot;: &quot;round&quot;, &quot;opacity&quot;: 1.0, &quot;radius&quot;: 11.963682356780861, &quot;stroke&quot;: true, &quot;weight&quot;: 3}\n",
       "            ).addTo(map_8be889e5344c14c640c84fd71ab2b34a);\n",
       "        \n",
       "    \n",
       "        var popup_8d352ba43a2658caff7d6533fa2a84e6 = L.popup({&quot;maxWidth&quot;: &quot;100%&quot;});\n",
       "\n",
       "        \n",
       "            \n",
       "                var html_ff85debf018e1de561e843e68406d855 = $(`&lt;div id=&quot;html_ff85debf018e1de561e843e68406d855&quot; style=&quot;width: 100.0%; height: 100.0%;&quot;&gt;Chad&lt;/div&gt;`)[0];\n",
       "                popup_8d352ba43a2658caff7d6533fa2a84e6.setContent(html_ff85debf018e1de561e843e68406d855);\n",
       "            \n",
       "        \n",
       "\n",
       "        circle_marker_af9052c37a54a270ee43b370548de2bf.bindPopup(popup_8d352ba43a2658caff7d6533fa2a84e6)\n",
       "        ;\n",
       "\n",
       "        \n",
       "    \n",
       "    \n",
       "            var circle_marker_fad7741aee893a146f73ee3c50704f18 = L.circleMarker(\n",
       "                [8.66667, 1.08333],\n",
       "                {&quot;bubblingMouseEvents&quot;: true, &quot;color&quot;: &quot;blue&quot;, &quot;dashArray&quot;: null, &quot;dashOffset&quot;: null, &quot;fill&quot;: true, &quot;fillColor&quot;: &quot;blue&quot;, &quot;fillOpacity&quot;: 0.2, &quot;fillRule&quot;: &quot;evenodd&quot;, &quot;lineCap&quot;: &quot;round&quot;, &quot;lineJoin&quot;: &quot;round&quot;, &quot;opacity&quot;: 1.0, &quot;radius&quot;: 10.603037764153232, &quot;stroke&quot;: true, &quot;weight&quot;: 3}\n",
       "            ).addTo(map_8be889e5344c14c640c84fd71ab2b34a);\n",
       "        \n",
       "    \n",
       "        var popup_efc45f44931649267535fce2b19487af = L.popup({&quot;maxWidth&quot;: &quot;100%&quot;});\n",
       "\n",
       "        \n",
       "            \n",
       "                var html_572c1168e7c4054df0389eda1282641e = $(`&lt;div id=&quot;html_572c1168e7c4054df0389eda1282641e&quot; style=&quot;width: 100.0%; height: 100.0%;&quot;&gt;Togo&lt;/div&gt;`)[0];\n",
       "                popup_efc45f44931649267535fce2b19487af.setContent(html_572c1168e7c4054df0389eda1282641e);\n",
       "            \n",
       "        \n",
       "\n",
       "        circle_marker_fad7741aee893a146f73ee3c50704f18.bindPopup(popup_efc45f44931649267535fce2b19487af)\n",
       "        ;\n",
       "\n",
       "        \n",
       "    \n",
       "    \n",
       "            var circle_marker_8fb726699740dfba6152e0ae1062738c = L.circleMarker(\n",
       "                [15.5, 101.0],\n",
       "                {&quot;bubblingMouseEvents&quot;: true, &quot;color&quot;: &quot;red&quot;, &quot;dashArray&quot;: null, &quot;dashOffset&quot;: null, &quot;fill&quot;: true, &quot;fillColor&quot;: &quot;red&quot;, &quot;fillOpacity&quot;: 0.2, &quot;fillRule&quot;: &quot;evenodd&quot;, &quot;lineCap&quot;: &quot;round&quot;, &quot;lineJoin&quot;: &quot;round&quot;, &quot;opacity&quot;: 1.0, &quot;radius&quot;: 2.601372879137652, &quot;stroke&quot;: true, &quot;weight&quot;: 3}\n",
       "            ).addTo(map_8be889e5344c14c640c84fd71ab2b34a);\n",
       "        \n",
       "    \n",
       "        var popup_7667cf56c6bab75d5e8a9fee230d5793 = L.popup({&quot;maxWidth&quot;: &quot;100%&quot;});\n",
       "\n",
       "        \n",
       "            \n",
       "                var html_ba9fefdcff61b61f40c5326bb472355d = $(`&lt;div id=&quot;html_ba9fefdcff61b61f40c5326bb472355d&quot; style=&quot;width: 100.0%; height: 100.0%;&quot;&gt;Thailand&lt;/div&gt;`)[0];\n",
       "                popup_7667cf56c6bab75d5e8a9fee230d5793.setContent(html_ba9fefdcff61b61f40c5326bb472355d);\n",
       "            \n",
       "        \n",
       "\n",
       "        circle_marker_8fb726699740dfba6152e0ae1062738c.bindPopup(popup_7667cf56c6bab75d5e8a9fee230d5793)\n",
       "        ;\n",
       "\n",
       "        \n",
       "    \n",
       "    \n",
       "            var circle_marker_77a83413c5e3e8e9c74baac477f39e2a = L.circleMarker(\n",
       "                [39.0, 71.0],\n",
       "                {&quot;bubblingMouseEvents&quot;: true, &quot;color&quot;: &quot;red&quot;, &quot;dashArray&quot;: null, &quot;dashOffset&quot;: null, &quot;fill&quot;: true, &quot;fillColor&quot;: &quot;red&quot;, &quot;fillOpacity&quot;: 0.2, &quot;fillRule&quot;: &quot;evenodd&quot;, &quot;lineCap&quot;: &quot;round&quot;, &quot;lineJoin&quot;: &quot;round&quot;, &quot;opacity&quot;: 1.0, &quot;radius&quot;: 3.969802448362861, &quot;stroke&quot;: true, &quot;weight&quot;: 3}\n",
       "            ).addTo(map_8be889e5344c14c640c84fd71ab2b34a);\n",
       "        \n",
       "    \n",
       "        var popup_754f962f63f236544b62b85261038597 = L.popup({&quot;maxWidth&quot;: &quot;100%&quot;});\n",
       "\n",
       "        \n",
       "            \n",
       "                var html_3c65bd119c4ffc8568943344f4b74b26 = $(`&lt;div id=&quot;html_3c65bd119c4ffc8568943344f4b74b26&quot; style=&quot;width: 100.0%; height: 100.0%;&quot;&gt;Tajikistan&lt;/div&gt;`)[0];\n",
       "                popup_754f962f63f236544b62b85261038597.setContent(html_3c65bd119c4ffc8568943344f4b74b26);\n",
       "            \n",
       "        \n",
       "\n",
       "        circle_marker_77a83413c5e3e8e9c74baac477f39e2a.bindPopup(popup_754f962f63f236544b62b85261038597)\n",
       "        ;\n",
       "\n",
       "        \n",
       "    \n",
       "    \n",
       "            var circle_marker_ea5318d4fac9adb634be182cf0264696 = L.circleMarker(\n",
       "                [39.75, 59.66667],\n",
       "                {&quot;bubblingMouseEvents&quot;: true, &quot;color&quot;: &quot;red&quot;, &quot;dashArray&quot;: null, &quot;dashOffset&quot;: null, &quot;fill&quot;: true, &quot;fillColor&quot;: &quot;red&quot;, &quot;fillOpacity&quot;: 0.2, &quot;fillRule&quot;: &quot;evenodd&quot;, &quot;lineCap&quot;: &quot;round&quot;, &quot;lineJoin&quot;: &quot;round&quot;, &quot;opacity&quot;: 1.0, &quot;radius&quot;: 6.630303080866714, &quot;stroke&quot;: true, &quot;weight&quot;: 3}\n",
       "            ).addTo(map_8be889e5344c14c640c84fd71ab2b34a);\n",
       "        \n",
       "    \n",
       "        var popup_10df93bd05208d7c1c6252ac86f4fa76 = L.popup({&quot;maxWidth&quot;: &quot;100%&quot;});\n",
       "\n",
       "        \n",
       "            \n",
       "                var html_c84f81d7fb39e772aa03678aa17b0a03 = $(`&lt;div id=&quot;html_c84f81d7fb39e772aa03678aa17b0a03&quot; style=&quot;width: 100.0%; height: 100.0%;&quot;&gt;Turkmenistan&lt;/div&gt;`)[0];\n",
       "                popup_10df93bd05208d7c1c6252ac86f4fa76.setContent(html_c84f81d7fb39e772aa03678aa17b0a03);\n",
       "            \n",
       "        \n",
       "\n",
       "        circle_marker_ea5318d4fac9adb634be182cf0264696.bindPopup(popup_10df93bd05208d7c1c6252ac86f4fa76)\n",
       "        ;\n",
       "\n",
       "        \n",
       "    \n",
       "    \n",
       "            var circle_marker_c0eb883984610e53f50461723a2de8d7 = L.circleMarker(\n",
       "                [-8.83333, 125.75],\n",
       "                {&quot;bubblingMouseEvents&quot;: true, &quot;color&quot;: &quot;red&quot;, &quot;dashArray&quot;: null, &quot;dashOffset&quot;: null, &quot;fill&quot;: true, &quot;fillColor&quot;: &quot;red&quot;, &quot;fillOpacity&quot;: 0.2, &quot;fillRule&quot;: &quot;evenodd&quot;, &quot;lineCap&quot;: &quot;round&quot;, &quot;lineJoin&quot;: &quot;round&quot;, &quot;opacity&quot;: 1.0, &quot;radius&quot;: 3.4697796995129644, &quot;stroke&quot;: true, &quot;weight&quot;: 3}\n",
       "            ).addTo(map_8be889e5344c14c640c84fd71ab2b34a);\n",
       "        \n",
       "    \n",
       "        var popup_2c0ec0768590573c53d099a1b0e68d4a = L.popup({&quot;maxWidth&quot;: &quot;100%&quot;});\n",
       "\n",
       "        \n",
       "            \n",
       "                var html_aa80d974a579e46388e868b036b39fdc = $(`&lt;div id=&quot;html_aa80d974a579e46388e868b036b39fdc&quot; style=&quot;width: 100.0%; height: 100.0%;&quot;&gt;Timor-Leste&lt;/div&gt;`)[0];\n",
       "                popup_2c0ec0768590573c53d099a1b0e68d4a.setContent(html_aa80d974a579e46388e868b036b39fdc);\n",
       "            \n",
       "        \n",
       "\n",
       "        circle_marker_c0eb883984610e53f50461723a2de8d7.bindPopup(popup_2c0ec0768590573c53d099a1b0e68d4a)\n",
       "        ;\n",
       "\n",
       "        \n",
       "    \n",
       "    \n",
       "            var circle_marker_6446429c66608bcbc3ec76f0eba49a8d = L.circleMarker(\n",
       "                [11.0, -61.0],\n",
       "                {&quot;bubblingMouseEvents&quot;: true, &quot;color&quot;: &quot;green&quot;, &quot;dashArray&quot;: null, &quot;dashOffset&quot;: null, &quot;fill&quot;: true, &quot;fillColor&quot;: &quot;green&quot;, &quot;fillOpacity&quot;: 0.2, &quot;fillRule&quot;: &quot;evenodd&quot;, &quot;lineCap&quot;: &quot;round&quot;, &quot;lineJoin&quot;: &quot;round&quot;, &quot;opacity&quot;: 1.0, &quot;radius&quot;: 1.3550537179208788, &quot;stroke&quot;: true, &quot;weight&quot;: 3}\n",
       "            ).addTo(map_8be889e5344c14c640c84fd71ab2b34a);\n",
       "        \n",
       "    \n",
       "        var popup_8451da9f18a80a558d507928c8b980f5 = L.popup({&quot;maxWidth&quot;: &quot;100%&quot;});\n",
       "\n",
       "        \n",
       "            \n",
       "                var html_3086fd4b5cf04f9ea4c6f383de521e2d = $(`&lt;div id=&quot;html_3086fd4b5cf04f9ea4c6f383de521e2d&quot; style=&quot;width: 100.0%; height: 100.0%;&quot;&gt;Trinidad and Tobago&lt;/div&gt;`)[0];\n",
       "                popup_8451da9f18a80a558d507928c8b980f5.setContent(html_3086fd4b5cf04f9ea4c6f383de521e2d);\n",
       "            \n",
       "        \n",
       "\n",
       "        circle_marker_6446429c66608bcbc3ec76f0eba49a8d.bindPopup(popup_8451da9f18a80a558d507928c8b980f5)\n",
       "        ;\n",
       "\n",
       "        \n",
       "    \n",
       "    \n",
       "            var circle_marker_b41fd41dfa0fadf9275e81738f5008b9 = L.circleMarker(\n",
       "                [34.0, 9.0],\n",
       "                {&quot;bubblingMouseEvents&quot;: true, &quot;color&quot;: &quot;blue&quot;, &quot;dashArray&quot;: null, &quot;dashOffset&quot;: null, &quot;fill&quot;: true, &quot;fillColor&quot;: &quot;blue&quot;, &quot;fillOpacity&quot;: 0.2, &quot;fillRule&quot;: &quot;evenodd&quot;, &quot;lineCap&quot;: &quot;round&quot;, &quot;lineJoin&quot;: &quot;round&quot;, &quot;opacity&quot;: 1.0, &quot;radius&quot;: 1.5924544581397058, &quot;stroke&quot;: true, &quot;weight&quot;: 3}\n",
       "            ).addTo(map_8be889e5344c14c640c84fd71ab2b34a);\n",
       "        \n",
       "    \n",
       "        var popup_94fe80e51ab31503ea82be81ee70157f = L.popup({&quot;maxWidth&quot;: &quot;100%&quot;});\n",
       "\n",
       "        \n",
       "            \n",
       "                var html_a8de9767c4a954ffc25f7d8e6b28ce85 = $(`&lt;div id=&quot;html_a8de9767c4a954ffc25f7d8e6b28ce85&quot; style=&quot;width: 100.0%; height: 100.0%;&quot;&gt;Tunisia&lt;/div&gt;`)[0];\n",
       "                popup_94fe80e51ab31503ea82be81ee70157f.setContent(html_a8de9767c4a954ffc25f7d8e6b28ce85);\n",
       "            \n",
       "        \n",
       "\n",
       "        circle_marker_b41fd41dfa0fadf9275e81738f5008b9.bindPopup(popup_94fe80e51ab31503ea82be81ee70157f)\n",
       "        ;\n",
       "\n",
       "        \n",
       "    \n",
       "    \n",
       "            var circle_marker_449674310dd01f8b68b0d3bba7ec0e7e = L.circleMarker(\n",
       "                [39.0, 35.0],\n",
       "                {&quot;bubblingMouseEvents&quot;: true, &quot;color&quot;: &quot;black&quot;, &quot;dashArray&quot;: null, &quot;dashOffset&quot;: null, &quot;fill&quot;: true, &quot;fillColor&quot;: &quot;black&quot;, &quot;fillOpacity&quot;: 0.2, &quot;fillRule&quot;: &quot;evenodd&quot;, &quot;lineCap&quot;: &quot;round&quot;, &quot;lineJoin&quot;: &quot;round&quot;, &quot;opacity&quot;: 1.0, &quot;radius&quot;: 1.3666553768820537, &quot;stroke&quot;: true, &quot;weight&quot;: 3}\n",
       "            ).addTo(map_8be889e5344c14c640c84fd71ab2b34a);\n",
       "        \n",
       "    \n",
       "        var popup_c750732854b1b2893a4bf8cbe1c343f7 = L.popup({&quot;maxWidth&quot;: &quot;100%&quot;});\n",
       "\n",
       "        \n",
       "            \n",
       "                var html_2d306439cb9dfb7614f586c88a0f150f = $(`&lt;div id=&quot;html_2d306439cb9dfb7614f586c88a0f150f&quot; style=&quot;width: 100.0%; height: 100.0%;&quot;&gt;Turkey&lt;/div&gt;`)[0];\n",
       "                popup_c750732854b1b2893a4bf8cbe1c343f7.setContent(html_2d306439cb9dfb7614f586c88a0f150f);\n",
       "            \n",
       "        \n",
       "\n",
       "        circle_marker_449674310dd01f8b68b0d3bba7ec0e7e.bindPopup(popup_c750732854b1b2893a4bf8cbe1c343f7)\n",
       "        ;\n",
       "\n",
       "        \n",
       "    \n",
       "    \n",
       "            var circle_marker_2a90ea2273872c5160d52fcfce5ba4f9 = L.circleMarker(\n",
       "                [-6.0, 35.0],\n",
       "                {&quot;bubblingMouseEvents&quot;: true, &quot;color&quot;: &quot;blue&quot;, &quot;dashArray&quot;: null, &quot;dashOffset&quot;: null, &quot;fill&quot;: true, &quot;fillColor&quot;: &quot;blue&quot;, &quot;fillOpacity&quot;: 0.2, &quot;fillRule&quot;: &quot;evenodd&quot;, &quot;lineCap&quot;: &quot;round&quot;, &quot;lineJoin&quot;: &quot;round&quot;, &quot;opacity&quot;: 1.0, &quot;radius&quot;: 24.88900526383844, &quot;stroke&quot;: true, &quot;weight&quot;: 3}\n",
       "            ).addTo(map_8be889e5344c14c640c84fd71ab2b34a);\n",
       "        \n",
       "    \n",
       "        var popup_31cbe94e4f30d1ddbe6c5cbe2d7c4118 = L.popup({&quot;maxWidth&quot;: &quot;100%&quot;});\n",
       "\n",
       "        \n",
       "            \n",
       "                var html_d2d0ddcef1cda192b38fbcd030bd0765 = $(`&lt;div id=&quot;html_d2d0ddcef1cda192b38fbcd030bd0765&quot; style=&quot;width: 100.0%; height: 100.0%;&quot;&gt;Tanzania&lt;/div&gt;`)[0];\n",
       "                popup_31cbe94e4f30d1ddbe6c5cbe2d7c4118.setContent(html_d2d0ddcef1cda192b38fbcd030bd0765);\n",
       "            \n",
       "        \n",
       "\n",
       "        circle_marker_2a90ea2273872c5160d52fcfce5ba4f9.bindPopup(popup_31cbe94e4f30d1ddbe6c5cbe2d7c4118)\n",
       "        ;\n",
       "\n",
       "        \n",
       "    \n",
       "    \n",
       "            var circle_marker_d2c7e62753cc367ea999f41d6dfbba68 = L.circleMarker(\n",
       "                [1.25, 32.5],\n",
       "                {&quot;bubblingMouseEvents&quot;: true, &quot;color&quot;: &quot;blue&quot;, &quot;dashArray&quot;: null, &quot;dashOffset&quot;: null, &quot;fill&quot;: true, &quot;fillColor&quot;: &quot;blue&quot;, &quot;fillOpacity&quot;: 0.2, &quot;fillRule&quot;: &quot;evenodd&quot;, &quot;lineCap&quot;: &quot;round&quot;, &quot;lineJoin&quot;: &quot;round&quot;, &quot;opacity&quot;: 1.0, &quot;radius&quot;: 19.736352406544533, &quot;stroke&quot;: true, &quot;weight&quot;: 3}\n",
       "            ).addTo(map_8be889e5344c14c640c84fd71ab2b34a);\n",
       "        \n",
       "    \n",
       "        var popup_219e3a978efdb8ad2d32d0a2c6923b83 = L.popup({&quot;maxWidth&quot;: &quot;100%&quot;});\n",
       "\n",
       "        \n",
       "            \n",
       "                var html_186a58b5ba96b06f1ca0ad1614823b04 = $(`&lt;div id=&quot;html_186a58b5ba96b06f1ca0ad1614823b04&quot; style=&quot;width: 100.0%; height: 100.0%;&quot;&gt;Uganda&lt;/div&gt;`)[0];\n",
       "                popup_219e3a978efdb8ad2d32d0a2c6923b83.setContent(html_186a58b5ba96b06f1ca0ad1614823b04);\n",
       "            \n",
       "        \n",
       "\n",
       "        circle_marker_d2c7e62753cc367ea999f41d6dfbba68.bindPopup(popup_219e3a978efdb8ad2d32d0a2c6923b83)\n",
       "        ;\n",
       "\n",
       "        \n",
       "    \n",
       "    \n",
       "            var circle_marker_e099cb96827539cc860b17ca45fcc5ed = L.circleMarker(\n",
       "                [49.0, 32.0],\n",
       "                {&quot;bubblingMouseEvents&quot;: true, &quot;color&quot;: &quot;black&quot;, &quot;dashArray&quot;: null, &quot;dashOffset&quot;: null, &quot;fill&quot;: true, &quot;fillColor&quot;: &quot;black&quot;, &quot;fillOpacity&quot;: 0.2, &quot;fillRule&quot;: &quot;evenodd&quot;, &quot;lineCap&quot;: &quot;round&quot;, &quot;lineJoin&quot;: &quot;round&quot;, &quot;opacity&quot;: 1.0, &quot;stroke&quot;: true, &quot;weight&quot;: 3}\n",
       "            ).addTo(map_8be889e5344c14c640c84fd71ab2b34a);\n",
       "        \n",
       "    \n",
       "        var popup_2f3232886de440bac8bebd3567f76e2c = L.popup({&quot;maxWidth&quot;: &quot;100%&quot;});\n",
       "\n",
       "        \n",
       "            \n",
       "                var html_c6b7b348529cb77ea4f669f6ba13993c = $(`&lt;div id=&quot;html_c6b7b348529cb77ea4f669f6ba13993c&quot; style=&quot;width: 100.0%; height: 100.0%;&quot;&gt;Ukraine&lt;/div&gt;`)[0];\n",
       "                popup_2f3232886de440bac8bebd3567f76e2c.setContent(html_c6b7b348529cb77ea4f669f6ba13993c);\n",
       "            \n",
       "        \n",
       "\n",
       "        circle_marker_e099cb96827539cc860b17ca45fcc5ed.bindPopup(popup_2f3232886de440bac8bebd3567f76e2c)\n",
       "        ;\n",
       "\n",
       "        \n",
       "    \n",
       "    \n",
       "            var circle_marker_93c67c94ddadc39f451c8bd4399a390d = L.circleMarker(\n",
       "                [-33.0, -56.0],\n",
       "                {&quot;bubblingMouseEvents&quot;: true, &quot;color&quot;: &quot;green&quot;, &quot;dashArray&quot;: null, &quot;dashOffset&quot;: null, &quot;fill&quot;: true, &quot;fillColor&quot;: &quot;green&quot;, &quot;fillOpacity&quot;: 0.2, &quot;fillRule&quot;: &quot;evenodd&quot;, &quot;lineCap&quot;: &quot;round&quot;, &quot;lineJoin&quot;: &quot;round&quot;, &quot;opacity&quot;: 1.0, &quot;radius&quot;: 0.5722562458426154, &quot;stroke&quot;: true, &quot;weight&quot;: 3}\n",
       "            ).addTo(map_8be889e5344c14c640c84fd71ab2b34a);\n",
       "        \n",
       "    \n",
       "        var popup_b9aef552b5b1470d6f8120436c5c2daf = L.popup({&quot;maxWidth&quot;: &quot;100%&quot;});\n",
       "\n",
       "        \n",
       "            \n",
       "                var html_6cd33da81dd731016269c76f9ef58719 = $(`&lt;div id=&quot;html_6cd33da81dd731016269c76f9ef58719&quot; style=&quot;width: 100.0%; height: 100.0%;&quot;&gt;Uruguay&lt;/div&gt;`)[0];\n",
       "                popup_b9aef552b5b1470d6f8120436c5c2daf.setContent(html_6cd33da81dd731016269c76f9ef58719);\n",
       "            \n",
       "        \n",
       "\n",
       "        circle_marker_93c67c94ddadc39f451c8bd4399a390d.bindPopup(popup_b9aef552b5b1470d6f8120436c5c2daf)\n",
       "        ;\n",
       "\n",
       "        \n",
       "    \n",
       "    \n",
       "            var circle_marker_55a8ba77cbfa9735ae6671fb1ae8ecd3 = L.circleMarker(\n",
       "                [39.76, -98.5],\n",
       "                {&quot;bubblingMouseEvents&quot;: true, &quot;color&quot;: &quot;green&quot;, &quot;dashArray&quot;: null, &quot;dashOffset&quot;: null, &quot;fill&quot;: true, &quot;fillColor&quot;: &quot;green&quot;, &quot;fillOpacity&quot;: 0.2, &quot;fillRule&quot;: &quot;evenodd&quot;, &quot;lineCap&quot;: &quot;round&quot;, &quot;lineJoin&quot;: &quot;round&quot;, &quot;opacity&quot;: 1.0, &quot;radius&quot;: 12.859004483020296, &quot;stroke&quot;: true, &quot;weight&quot;: 3}\n",
       "            ).addTo(map_8be889e5344c14c640c84fd71ab2b34a);\n",
       "        \n",
       "    \n",
       "        var popup_5874bb38a5cdf12846c46d3da03740d3 = L.popup({&quot;maxWidth&quot;: &quot;100%&quot;});\n",
       "\n",
       "        \n",
       "            \n",
       "                var html_a61128a962074619519fee6cecf863fe = $(`&lt;div id=&quot;html_a61128a962074619519fee6cecf863fe&quot; style=&quot;width: 100.0%; height: 100.0%;&quot;&gt;United States&lt;/div&gt;`)[0];\n",
       "                popup_5874bb38a5cdf12846c46d3da03740d3.setContent(html_a61128a962074619519fee6cecf863fe);\n",
       "            \n",
       "        \n",
       "\n",
       "        circle_marker_55a8ba77cbfa9735ae6671fb1ae8ecd3.bindPopup(popup_5874bb38a5cdf12846c46d3da03740d3)\n",
       "        ;\n",
       "\n",
       "        \n",
       "    \n",
       "    \n",
       "            var circle_marker_4e671ebd4b4a2fe38b9635bc39779e86 = L.circleMarker(\n",
       "                [8.0, -66.0],\n",
       "                {&quot;bubblingMouseEvents&quot;: true, &quot;color&quot;: &quot;green&quot;, &quot;dashArray&quot;: null, &quot;dashOffset&quot;: null, &quot;fill&quot;: true, &quot;fillColor&quot;: &quot;green&quot;, &quot;fillOpacity&quot;: 0.2, &quot;fillRule&quot;: &quot;evenodd&quot;, &quot;lineCap&quot;: &quot;round&quot;, &quot;lineJoin&quot;: &quot;round&quot;, &quot;opacity&quot;: 1.0, &quot;radius&quot;: 7.797885869682058, &quot;stroke&quot;: true, &quot;weight&quot;: 3}\n",
       "            ).addTo(map_8be889e5344c14c640c84fd71ab2b34a);\n",
       "        \n",
       "    \n",
       "        var popup_1009210be01f5696c54b6cdc3046a82e = L.popup({&quot;maxWidth&quot;: &quot;100%&quot;});\n",
       "\n",
       "        \n",
       "            \n",
       "                var html_3c9a6ab9d5a0570d4108d97aeaf2fe2a = $(`&lt;div id=&quot;html_3c9a6ab9d5a0570d4108d97aeaf2fe2a&quot; style=&quot;width: 100.0%; height: 100.0%;&quot;&gt;Venezuela&lt;/div&gt;`)[0];\n",
       "                popup_1009210be01f5696c54b6cdc3046a82e.setContent(html_3c9a6ab9d5a0570d4108d97aeaf2fe2a);\n",
       "            \n",
       "        \n",
       "\n",
       "        circle_marker_4e671ebd4b4a2fe38b9635bc39779e86.bindPopup(popup_1009210be01f5696c54b6cdc3046a82e)\n",
       "        ;\n",
       "\n",
       "        \n",
       "    \n",
       "    \n",
       "            var circle_marker_113876fc5de46f2c53fc533e15bbd90b = L.circleMarker(\n",
       "                [16.16667, 107.83333],\n",
       "                {&quot;bubblingMouseEvents&quot;: true, &quot;color&quot;: &quot;red&quot;, &quot;dashArray&quot;: null, &quot;dashOffset&quot;: null, &quot;fill&quot;: true, &quot;fillColor&quot;: &quot;red&quot;, &quot;fillOpacity&quot;: 0.2, &quot;fillRule&quot;: &quot;evenodd&quot;, &quot;lineCap&quot;: &quot;round&quot;, &quot;lineJoin&quot;: &quot;round&quot;, &quot;opacity&quot;: 1.0, &quot;radius&quot;: 8.241622267411362, &quot;stroke&quot;: true, &quot;weight&quot;: 3}\n",
       "            ).addTo(map_8be889e5344c14c640c84fd71ab2b34a);\n",
       "        \n",
       "    \n",
       "        var popup_40debb02ced1ac8cf684307bc3207e5a = L.popup({&quot;maxWidth&quot;: &quot;100%&quot;});\n",
       "\n",
       "        \n",
       "            \n",
       "                var html_605e6eea700d4cd6d3bf34306a699529 = $(`&lt;div id=&quot;html_605e6eea700d4cd6d3bf34306a699529&quot; style=&quot;width: 100.0%; height: 100.0%;&quot;&gt;Vietnam&lt;/div&gt;`)[0];\n",
       "                popup_40debb02ced1ac8cf684307bc3207e5a.setContent(html_605e6eea700d4cd6d3bf34306a699529);\n",
       "            \n",
       "        \n",
       "\n",
       "        circle_marker_113876fc5de46f2c53fc533e15bbd90b.bindPopup(popup_40debb02ced1ac8cf684307bc3207e5a)\n",
       "        ;\n",
       "\n",
       "        \n",
       "    \n",
       "    \n",
       "            var circle_marker_031c7de45a007ad84144a68ed87a79e0 = L.circleMarker(\n",
       "                [15.5, 47.5],\n",
       "                {&quot;bubblingMouseEvents&quot;: true, &quot;color&quot;: &quot;red&quot;, &quot;dashArray&quot;: null, &quot;dashOffset&quot;: null, &quot;fill&quot;: true, &quot;fillColor&quot;: &quot;red&quot;, &quot;fillOpacity&quot;: 0.2, &quot;fillRule&quot;: &quot;evenodd&quot;, &quot;lineCap&quot;: &quot;round&quot;, &quot;lineJoin&quot;: &quot;round&quot;, &quot;opacity&quot;: 1.0, &quot;radius&quot;: 9.126242182195787, &quot;stroke&quot;: true, &quot;weight&quot;: 3}\n",
       "            ).addTo(map_8be889e5344c14c640c84fd71ab2b34a);\n",
       "        \n",
       "    \n",
       "        var popup_a7c8c78c26b6b92078f55a6fc9100433 = L.popup({&quot;maxWidth&quot;: &quot;100%&quot;});\n",
       "\n",
       "        \n",
       "            \n",
       "                var html_1d537c2df6b1aa7e55ee15422ccc4bfc = $(`&lt;div id=&quot;html_1d537c2df6b1aa7e55ee15422ccc4bfc&quot; style=&quot;width: 100.0%; height: 100.0%;&quot;&gt;Yemen&lt;/div&gt;`)[0];\n",
       "                popup_a7c8c78c26b6b92078f55a6fc9100433.setContent(html_1d537c2df6b1aa7e55ee15422ccc4bfc);\n",
       "            \n",
       "        \n",
       "\n",
       "        circle_marker_031c7de45a007ad84144a68ed87a79e0.bindPopup(popup_a7c8c78c26b6b92078f55a6fc9100433)\n",
       "        ;\n",
       "\n",
       "        \n",
       "    \n",
       "    \n",
       "            var circle_marker_7aa74e3c07f236c55b4030dd7e24f9db = L.circleMarker(\n",
       "                [-29.0, 24.0],\n",
       "                {&quot;bubblingMouseEvents&quot;: true, &quot;color&quot;: &quot;blue&quot;, &quot;dashArray&quot;: null, &quot;dashOffset&quot;: null, &quot;fill&quot;: true, &quot;fillColor&quot;: &quot;blue&quot;, &quot;fillOpacity&quot;: 0.2, &quot;fillRule&quot;: &quot;evenodd&quot;, &quot;lineCap&quot;: &quot;round&quot;, &quot;lineJoin&quot;: &quot;round&quot;, &quot;opacity&quot;: 1.0, &quot;radius&quot;: 12.528070760870953, &quot;stroke&quot;: true, &quot;weight&quot;: 3}\n",
       "            ).addTo(map_8be889e5344c14c640c84fd71ab2b34a);\n",
       "        \n",
       "    \n",
       "        var popup_44410b19860a969a64677bed4a49b56c = L.popup({&quot;maxWidth&quot;: &quot;100%&quot;});\n",
       "\n",
       "        \n",
       "            \n",
       "                var html_86ae31faeb6fc150b119964bba54a491 = $(`&lt;div id=&quot;html_86ae31faeb6fc150b119964bba54a491&quot; style=&quot;width: 100.0%; height: 100.0%;&quot;&gt;South Africa&lt;/div&gt;`)[0];\n",
       "                popup_44410b19860a969a64677bed4a49b56c.setContent(html_86ae31faeb6fc150b119964bba54a491);\n",
       "            \n",
       "        \n",
       "\n",
       "        circle_marker_7aa74e3c07f236c55b4030dd7e24f9db.bindPopup(popup_44410b19860a969a64677bed4a49b56c)\n",
       "        ;\n",
       "\n",
       "        \n",
       "    \n",
       "    \n",
       "            var circle_marker_6579d2c4597f7e6c18fd9a545d9156d4 = L.circleMarker(\n",
       "                [-14.33333, 28.5],\n",
       "                {&quot;bubblingMouseEvents&quot;: true, &quot;color&quot;: &quot;blue&quot;, &quot;dashArray&quot;: null, &quot;dashOffset&quot;: null, &quot;fill&quot;: true, &quot;fillColor&quot;: &quot;blue&quot;, &quot;fillOpacity&quot;: 0.2, &quot;fillRule&quot;: &quot;evenodd&quot;, &quot;lineCap&quot;: &quot;round&quot;, &quot;lineJoin&quot;: &quot;round&quot;, &quot;opacity&quot;: 1.0, &quot;radius&quot;: 18.176389084924157, &quot;stroke&quot;: true, &quot;weight&quot;: 3}\n",
       "            ).addTo(map_8be889e5344c14c640c84fd71ab2b34a);\n",
       "        \n",
       "    \n",
       "        var popup_c1229d7c7c4b34ed2e7d26c0201d3622 = L.popup({&quot;maxWidth&quot;: &quot;100%&quot;});\n",
       "\n",
       "        \n",
       "            \n",
       "                var html_2bc3f83d1388ab15a393fc81c2009260 = $(`&lt;div id=&quot;html_2bc3f83d1388ab15a393fc81c2009260&quot; style=&quot;width: 100.0%; height: 100.0%;&quot;&gt;Zambia&lt;/div&gt;`)[0];\n",
       "                popup_c1229d7c7c4b34ed2e7d26c0201d3622.setContent(html_2bc3f83d1388ab15a393fc81c2009260);\n",
       "            \n",
       "        \n",
       "\n",
       "        circle_marker_6579d2c4597f7e6c18fd9a545d9156d4.bindPopup(popup_c1229d7c7c4b34ed2e7d26c0201d3622)\n",
       "        ;\n",
       "\n",
       "        \n",
       "    \n",
       "&lt;/script&gt;\n",
       "&lt;/html&gt;\" style=\"position:absolute;width:100%;height:100%;left:0;top:0;border:none !important;\" allowfullscreen webkitallowfullscreen mozallowfullscreen></iframe></div></div>"
      ],
      "text/plain": [
       "<datascience.maps.Map at 0x7ac5e0d67310>"
      ]
     },
     "execution_count": 158,
     "metadata": {},
     "output_type": "execute_result"
    }
   ],
   "source": [
    "# It may take a few seconds to generate this map.\n",
    "colors = {'africa': 'blue', 'europe': 'black', 'asia': 'red', 'americas': 'green'}\n",
    "scaled = poverty_map.with_columns(\n",
    "    'labels', poverty_map.column('name'),\n",
    "    'colors', poverty_map.apply(colors.get, 'region'),\n",
    "    'areas', 1e-4 * poverty_map.column('poverty_total')\n",
    ").drop('name', 'region', 'poverty_total')\n",
    "\n",
    "Circle.map_table(scaled)"
   ]
  },
  {
   "cell_type": "markdown",
   "id": "7c0eb19b",
   "metadata": {
    "deletable": false,
    "editable": false
   },
   "source": [
    "Although people lived in extreme poverty throughout the world in 2010 (with more than 5 million in the United States), the largest numbers were in Asia and Africa."
   ]
  },
  {
   "cell_type": "markdown",
   "id": "815f2f71",
   "metadata": {},
   "source": [
    "---\n",
    "\n",
    "**Question 5.** Assign `largest` to a two-column table with the `name` (not the 3-letter code) and `poverty_total` of the 10 countries with the largest number of people living in extreme poverty.\n",
    "\n",
    "*Hint*: How can we use `take` and `np.arange` in conjunction with each other?\n"
   ]
  },
  {
   "cell_type": "code",
   "execution_count": 159,
   "id": "ca1983a5",
   "metadata": {
    "deletable": false,
    "tags": []
   },
   "outputs": [
    {
     "data": {
      "text/html": [
       "<table border=\"1\" class=\"dataframe\">\n",
       "    <thead>\n",
       "        <tr>\n",
       "            <th>name</th> <th>poverty_total</th>\n",
       "        </tr>\n",
       "    </thead>\n",
       "    <tbody>\n",
       "        <tr>\n",
       "            <td>India           </td> <td>293,834,694.00</td>\n",
       "        </tr>\n",
       "        <tr>\n",
       "            <td>Nigeria         </td> <td>103,368,582.00</td>\n",
       "        </tr>\n",
       "        <tr>\n",
       "            <td>China           </td> <td>84,607,751.00 </td>\n",
       "        </tr>\n",
       "        <tr>\n",
       "            <td>Bangladesh      </td> <td>65,827,357.00 </td>\n",
       "        </tr>\n",
       "        <tr>\n",
       "            <td>Congo, Dem. Rep.</td> <td>60,143,497.00 </td>\n",
       "        </tr>\n",
       "        <tr>\n",
       "            <td>Indonesia       </td> <td>39,901,462.00 </td>\n",
       "        </tr>\n",
       "        <tr>\n",
       "            <td>Ethiopia        </td> <td>33,309,119.00 </td>\n",
       "        </tr>\n",
       "        <tr>\n",
       "            <td>Pakistan        </td> <td>25,383,055.00 </td>\n",
       "        </tr>\n",
       "        <tr>\n",
       "            <td>Tanzania        </td> <td>19,460,991.00 </td>\n",
       "        </tr>\n",
       "        <tr>\n",
       "            <td>Madagascar      </td> <td>19,448,134.00 </td>\n",
       "        </tr>\n",
       "    </tbody>\n",
       "</table>"
      ],
      "text/plain": [
       "name             | poverty_total\n",
       "India            | 293,834,694.00\n",
       "Nigeria          | 103,368,582.00\n",
       "China            | 84,607,751.00\n",
       "Bangladesh       | 65,827,357.00\n",
       "Congo, Dem. Rep. | 60,143,497.00\n",
       "Indonesia        | 39,901,462.00\n",
       "Ethiopia         | 33,309,119.00\n",
       "Pakistan         | 25,383,055.00\n",
       "Tanzania         | 19,460,991.00\n",
       "Madagascar       | 19,448,134.00"
      ]
     },
     "execution_count": 159,
     "metadata": {},
     "output_type": "execute_result"
    }
   ],
   "source": [
    "largest = poverty_map.sort(\"poverty_total\", descending=True).select(\"name\", \"poverty_total\").take(np.arange(10))\n",
    "largest.set_format('poverty_total', NumberFormatter)"
   ]
  },
  {
   "cell_type": "code",
   "execution_count": 160,
   "id": "358c302c",
   "metadata": {
    "deletable": false,
    "editable": false
   },
   "outputs": [
    {
     "data": {
      "text/html": [
       "<p><strong><pre style='display: inline;'>q2_5</pre></strong> passed! 🙌</p>"
      ],
      "text/plain": [
       "q2_5 results: All test cases passed!"
      ]
     },
     "execution_count": 160,
     "metadata": {},
     "output_type": "execute_result"
    }
   ],
   "source": [
    "grader.check(\"q2_5\")"
   ]
  },
  {
   "cell_type": "markdown",
   "id": "217d988e",
   "metadata": {},
   "source": [
    "<!-- BEGIN QUESTION -->\n",
    "\n",
    "---\n",
    "\n",
    "**Question 6.** It is important to study the absolute number of people living in poverty, not just the percent. The absolute number is an important factor in determining the amount of resources needed to support people living in poverty. In the next two questions you will explore this.\n",
    "\n",
    "In Question 7, you will be asked to write a function called `poverty_timeline` that takes **the name of a country** as its argument (not the Alpha-3 country code). It should draw a line plot of the number of people living in poverty in that country with time on the horizontal axis. The line plot should have a point for each row in the poverty table for that country. To compute the population living in poverty from a poverty percentage, multiply by the population of the country **in that year**.\n",
    "\n",
    "For this question, write out a generalized process for Question 7. Make sure to answer/include the following: \n",
    "- What should this function output? \n",
    "- Additionally, **make a numbered list** of the steps you take within the function body. If you added/edited, say, 5 lines in the function body, then it would be good to see the numbers 1 through 5 describing what you did (i.e. what functions/methods you used) in each line and why.\n",
    "\n",
    "As a tip, after finishing question 7, we recommend polishing up your description of the steps for this question. This question will be graded for correctness."
   ]
  },
  {
   "cell_type": "markdown",
   "id": "3d446497",
   "metadata": {},
   "source": [
    "_This function should return a line plot of a country's total number of impoverished people in each year of the `poverty` table. Firstly, I will use the `country` table to extract the Alpha-3 country code as a string with the corresponding `country` argument in `poverty_timeline`. Secondly, I will filter the `poverty` table to where the `geo` column only contains the string from the first step. Thirdly, I will perform the same filter for the `population` table, and I will add another filter that will only show years that are contained in the `time` column of the `poverty` table. Then, I will join the filtered `poverty` and `population` tables together by `time` and perform any necessary table editing, namely relabeling and dropping columns. Lastly, I will create the final table by adding a column that outputs a country's total number of impoverished people in each year, then I will create a line plot of the final table with the `x_column` as time and the `y_column` as the total number of people impoverished._"
   ]
  },
  {
   "cell_type": "markdown",
   "id": "2f2ca62e",
   "metadata": {
    "deletable": false
   },
   "source": [
    "<!-- END QUESTION -->\n",
    "\n",
    "<!-- BEGIN QUESTION -->\n",
    "\n",
    "---\n",
    "\n",
    "**Question 7.** Now, we'll actually write the function called `poverty_timeline`. Recall that `poverty_timeline` takes **the name of a country** as its argument (not the Alpha-3 country code). It should draw a line plot of the number of people living in poverty in that country with time on the horizontal axis. The line plot should have a point for each row in the `poverty` table for that country. To compute the population living in poverty from a poverty percentage, multiply by the population of the country **in that year**.\n",
    "\n",
    "**Note:** You **should <u>not</u>** return anything from your function. Simply call `plots.show()` at the end of your function body.\n",
    "\n",
    "*Hint 1:* This question is long. Feel free to create cells and experiment. You can create cells by going to the toolbar and hitting the `+` button.\n",
    "\n",
    "*Hint 2:* Consider using `join` in your code.\n",
    "\n",
    "Feel free to use the markdown cell below to plan out your answer, but you needn't fill it in."
   ]
  },
  {
   "cell_type": "markdown",
   "id": "df6430cf",
   "metadata": {},
   "source": [
    "_Type your answer here, replacing this text._"
   ]
  },
  {
   "cell_type": "code",
   "execution_count": 161,
   "id": "7446e1f1",
   "metadata": {
    "tags": []
   },
   "outputs": [],
   "source": [
    "def poverty_timeline(country):\n",
    "    '''Draw a timeline of people living in extreme poverty in a country.'''\n",
    "    geo = countries.where(\"name\", are.equal_to(country)).column(\"country\").item(0)\n",
    "    # This solution will take multiple lines of code. Use as many as you need\n",
    "    poverty_filter = poverty.where(\"geo\", are.equal_to(geo))\n",
    "    population_filter = population.where(\"geo\", are.equal_to(geo)).where(\"time\", are.contained_in(poverty_filter.column(\"time\")))\n",
    "    pov_pop_join = poverty_filter.join(\"time\", population_filter)\n",
    "    pp_join_adjusted = pov_pop_join.relabeled(\"extreme_poverty_percent_people_below_125_a_day\", \"poverty_percentage\").drop(\"geo_2\")\n",
    "    pov_timeline_table = pp_join_adjusted.with_columns(\n",
    "        \"impoverished_total\", pp_join_adjusted.column(\"poverty_percentage\") * pp_join_adjusted.column(\"population_total\"))\n",
    "    pov_timeline_table.plot(\"time\", \"impoverished_total\")\n",
    "    # Don't change anything below this line. \n",
    "    plots.title(country)\n",
    "    plots.ylim(bottom=0)\n",
    "    plots.show() # This should be the last line of your function. "
   ]
  },
  {
   "cell_type": "code",
   "execution_count": 162,
   "id": "13ffcce5",
   "metadata": {
    "deletable": false,
    "tags": []
   },
   "outputs": [
    {
     "data": {
      "image/png": "[encoded data removed]",
      "text/plain": [
       "<Figure size 600x600 with 1 Axes>"
      ]
     },
     "metadata": {},
     "output_type": "display_data"
    },
    {
     "data": {
      "image/png": "[encoded data removed]",
      "text/plain": [
       "<Figure size 600x600 with 1 Axes>"
      ]
     },
     "metadata": {},
     "output_type": "display_data"
    },
    {
     "data": {
      "image/png": "[encoded data removed]",
      "text/plain": [
       "<Figure size 600x600 with 1 Axes>"
      ]
     },
     "metadata": {},
     "output_type": "display_data"
    },
    {
     "data": {
      "image/png": "[encoded data removed]",
      "text/plain": [
       "<Figure size 600x600 with 1 Axes>"
      ]
     },
     "metadata": {},
     "output_type": "display_data"
    },
    {
     "data": {
      "image/png": "[encoded data removed]",
      "text/plain": [
       "<Figure size 600x600 with 1 Axes>"
      ]
     },
     "metadata": {},
     "output_type": "display_data"
    },
    {
     "data": {
      "image/png": "[encoded data removed]",
      "text/plain": [
       "<Figure size 600x600 with 1 Axes>"
      ]
     },
     "metadata": {},
     "output_type": "display_data"
    }
   ],
   "source": [
    "poverty_timeline('Poland')\n",
    "poverty_timeline('India')\n",
    "poverty_timeline('Nigeria')\n",
    "poverty_timeline('China')\n",
    "poverty_timeline('Colombia')\n",
    "poverty_timeline('United States')"
   ]
  },
  {
   "cell_type": "markdown",
   "id": "8d9b0a45",
   "metadata": {
    "deletable": false
   },
   "source": [
    "<!-- END QUESTION -->\n",
    "\n",
    "Although the number of people living in extreme poverty increased in some countries including Nigeria and the United States, the decreases in other countries, most notably the massive decreases in China and India, have shaped the overall trend that extreme poverty is decreasing worldwide, both in percentage and in absolute number. \n",
    "\n",
    "To learn more, watch [Hans Rosling in a 2015 film](https://www.gapminder.org/videos/dont-panic-end-poverty/) about the UN goal of eradicating extreme poverty from the world. \n",
    "\n",
    "Below, we've also added an interactive dropdown menu for you to visualize `poverty_timeline` graphs for other countries. Note that each dropdown menu selection may take a few seconds to run."
   ]
  },
  {
   "cell_type": "code",
   "execution_count": 163,
   "id": "b958e1b5",
   "metadata": {
    "deletable": false,
    "editable": false
   },
   "outputs": [
    {
     "data": {
      "application/vnd.jupyter.widget-view+json": {
       "model_id": "b972ae1bfd4540469edece70482e7f5a",
       "version_major": 2,
       "version_minor": 0
      },
      "text/plain": [
       "interactive(children=(Dropdown(description='country', options=('Angola', 'Albania', 'Argentina', 'Armenia', 'A…"
      ]
     },
     "metadata": {},
     "output_type": "display_data"
    }
   ],
   "source": [
    "# Just run this cell\n",
    "\n",
    "all_countries = poverty_map.column('name')\n",
    "_ = widgets.interact(poverty_timeline, country=list(all_countries))"
   ]
  },
  {
   "cell_type": "markdown",
   "id": "549eb541",
   "metadata": {
    "deletable": false
   },
   "source": [
    "\n",
    "\n",
    "<img src=\"panda.jpg\" alt=\"drawing\" width=\"300\"/>\n",
    "\n",
    "**Panda wants to tell you, you're finished!** Congratulations on discovering many important facts about global poverty and demonstrating your mastery of table manipulation and data visualization. Time to submit.\n",
    "\n",
    "**<span style=\"color: #BC412B\">Remember to add your project partner to your submission on Gradescope!</span>** <u>Only one partner should submit to Gradescope.</u>"
   ]
  },
  {
   "cell_type": "markdown",
   "id": "468956bd",
   "metadata": {},
   "source": [
    "## Submission\n",
    "\n",
    "Below, you will see two cells. Running the first cell will automatically generate a PDF of all questions that need to be manually graded, and running the second cell will automatically generate a zip with your autograded answers. You are responsible for submitting both the coding portion (the zip) and the written portion (the PDF) to their respective Gradescope portals. **Please save before exporting!**\n",
    "\n",
    "> **Important: You must correctly assign the pages of your PDF after you submit to the correct gradescope assignment. If your pages are not correctly assigned and/or not in the correct PDF format by the deadline, we reserve the right to award no points for your written work.**\n",
    "\n",
    "If there are issues with automatically generating the PDF in the first cell, you can try downloading the notebook as a PDF by colicking on `File -> Save and Export Notebook As... -> PDF`. If that doesn't work either, you can manually take screenshots of your answers to the manually graded questions and submit those. Either way, **you are responsible for ensuring your submision follows our requirements, we will NOT be granting regrade requests for submissions that don't follow instructions.**\n",
    "\n",
    "**You must submit the PDF generated via one of these methods, we will not accept screenshots or Word documents.**"
   ]
  },
  {
   "cell_type": "code",
   "execution_count": 164,
   "id": "7f5fd1a6",
   "metadata": {},
   "outputs": [
    {
     "data": {
      "text/html": [
       "Download your PDF <a href='project1.pdf' download>here</a>."
      ],
      "text/plain": [
       "<IPython.core.display.HTML object>"
      ]
     },
     "metadata": {},
     "output_type": "display_data"
    }
   ],
   "source": [
    "from otter.export import export_notebook\n",
    "from os import path\n",
    "from IPython.display import display, HTML\n",
    "name = 'project1'\n",
    "export_notebook(f\"{name}.ipynb\", filtering=True, pagebreaks=True)\n",
    "if(path.exists(f'{name}.pdf')):\n",
    "    display(HTML(f\"Download your PDF <a href='{name}.pdf' download>here</a>.\"))\n",
    "else:\n",
    "    print(\"\\n Pdf generation failed, please try the other methods described above\")"
   ]
  },
  {
   "cell_type": "markdown",
   "id": "556195ad",
   "metadata": {
    "deletable": false,
    "editable": false
   },
   "source": [
    "## Submission\n",
    "\n",
    "Make sure you have run all cells in your notebook in order before running the cell below, so that all images/graphs appear in the output. The cell below will generate a zip file for you to submit. **Please save before exporting!**"
   ]
  },
  {
   "cell_type": "code",
   "execution_count": 165,
   "id": "51b0bc79",
   "metadata": {
    "deletable": false,
    "editable": false
   },
   "outputs": [
    {
     "name": "stdout",
     "output_type": "stream",
     "text": [
      "Running your submission against local test cases...\n",
      "\n",
      "\n",
      "\n",
      "Your submission received the following results when run against available test cases:\n",
      "\n",
      "    q0 results: All test cases passed!\n",
      "\n",
      "    q1_1 results: All test cases passed!\n",
      "\n",
      "    q1_2 results: All test cases passed!\n",
      "\n",
      "    q1_5 results: All test cases passed!\n",
      "\n",
      "    q1_7 results: All test cases passed!\n",
      "\n",
      "    q1_9 results: All test cases passed!\n",
      "\n",
      "    q1_11 results: All test cases passed!\n",
      "\n",
      "    q1_12_0 results: All test cases passed!\n",
      "\n",
      "    q1_12 results: All test cases passed!\n",
      "\n",
      "    q1_13 results: All test cases passed!\n",
      "\n",
      "    q1_14 results: All test cases passed!\n",
      "\n",
      "    q2_1 results: All test cases passed!\n",
      "\n",
      "    q2_2 results: All test cases passed!\n",
      "\n",
      "    q2_3 results: All test cases passed!\n",
      "\n",
      "    q2_4 results: All test cases passed!\n",
      "\n",
      "    q2_5 results: All test cases passed!\n"
     ]
    },
    {
     "data": {
      "text/html": [
       "\n",
       "            <p>Your submission has been exported. Click <a href=\"project1_2024_09_27T02_19_30_889873.zip\" download=\"project1_2024_09_27T02_19_30_889873.zip\" target=\"_blank\">here</a>\n",
       "            to download the zip file.</p>\n",
       "            "
      ],
      "text/plain": [
       "<IPython.core.display.HTML object>"
      ]
     },
     "metadata": {},
     "output_type": "display_data"
    }
   ],
   "source": [
    "# Save your notebook first, then run this cell to export your submission.\n",
    "grader.export(pdf=False, run_tests=True)"
   ]
  },
  {
   "cell_type": "markdown",
   "id": "bc5f93fd",
   "metadata": {},
   "source": [
    " "
   ]
  }
 ],
 "metadata": {
  "kernelspec": {
   "display_name": "Python 3 (ipykernel)",
   "language": "python",
   "name": "python3"
  },
  "language_info": {
   "codemirror_mode": {
    "name": "ipython",
    "version": 3
   },
   "file_extension": ".py",
   "mimetype": "text/x-python",
   "name": "python",
   "nbconvert_exporter": "python",
   "pygments_lexer": "ipython3",
   "version": "3.11.10"
  },
  "otter": {
   "OK_FORMAT": true,
   "tests": {
    "q0": {
     "name": "q0",
     "points": [
      0
     ],
     "suites": [
      {
       "cases": [
        {
         "code": ">>> i_wont_use_show_without_an_argument == True\nTrue",
         "hidden": false,
         "locked": false
        }
       ],
       "scored": true,
       "setup": "",
       "teardown": "",
       "type": "doctest"
      }
     ]
    },
    "q1_1": {
     "name": "q1_1",
     "points": [
      0,
      0
     ],
     "suites": [
      {
       "cases": [
        {
         "code": ">>> # Check your column labels and spelling\n>>> p_pop.labels == ('time', 'population_total')\nTrue",
         "hidden": false,
         "locked": false
        },
        {
         "code": ">>> # Times should range from 1900 through 2024\n>>> all(p_pop.sort(\"time\").column(\"time\") == np.arange(1900, 2025))\nTrue",
         "hidden": false,
         "locked": false
        }
       ],
       "scored": true,
       "setup": "",
       "teardown": "",
       "type": "doctest"
      }
     ]
    },
    "q1_11": {
     "name": "q1_11",
     "points": [
      0,
      0,
      0,
      4
     ],
     "suites": [
      {
       "cases": [
        {
         "code": ">>> # Incorrect labels for columns\n>>> t = stats_for_year(1990)\n>>> t.labels == ('geo', 'population_total', 'children_per_woman_total_fertility', 'child_mortality_under_5_per_1000_born')\nTrue",
         "hidden": false,
         "locked": false
        },
        {
         "code": ">>> # Incorrect number of rows\n>>> t = stats_for_year(1990)\n>>> t.num_rows\n50",
         "hidden": false,
         "locked": false
        },
        {
         "code": ">>> print(stats_for_year(1960).sort('geo').take(np.arange(5, 50, 5)))\ngeo  | population_total | children_per_woman_total_fertility | child_mortality_under_5_per_1000_born\ncan  | 17898790         | 3.84                               | 32.6\ndeu  | 72811640         | 2.39                               | 40.47\nfra  | 46428134         | 2.74                               | 28.5\nirn  | 21470434         | 7.37                               | 326.94\nkor  | 26115379         | 5.99                               | 112.18\nmoz  | 6713695          | 6.38                               | 277.4\nphl  | 27891897         | 7.03                               | 103.65\ntha  | 26851747         | 6.28                               | 146.46\nusa  | 180274555        | 3.72                               | 30.05\n",
         "hidden": false,
         "locked": false
        },
        {
         "code": ">>> print(stats_for_year(2010).sort('geo').take(np.arange(3, 50, 5)))\ngeo  | population_total | children_per_woman_total_fertility | child_mortality_under_5_per_1000_born\nbgd  | 152201981        | 2.38                               | 49.1\ncod  | 68563038         | 6.59                               | 115.29\nesp  | 46840471         | 1.37                               | 3.85\nidn  | 246305322        | 2.46                               | 34.12\njpn  | 128185275        | 1.36                               | 3.2\nmex  | 113623895        | 2.34                               | 17.36\npak  | 199239047        | 4.4                                | 87.51\nsau  | 25157128         | 2.81                               | 12.08\nuga  | 32390802         | 6.02                               | 77.39\nyem  | 26754387         | 4.81                               | 55.96\n",
         "hidden": false,
         "locked": false
        }
       ],
       "scored": true,
       "setup": "",
       "teardown": "",
       "type": "doctest"
      }
     ]
    },
    "q1_12": {
     "name": "q1_12",
     "points": [
      0,
      0
     ],
     "suites": [
      {
       "cases": [
        {
         "code": ">>> # Check your column labels and spelling\n>>> pop_by_decade.labels == ('decade', 'population')\nTrue",
         "hidden": false,
         "locked": false
        },
        {
         "code": ">>> # The first year of the 1960's is 1960.\n>>> pop_by_decade.column(0).item(0) == 1960\nTrue",
         "hidden": false,
         "locked": false
        }
       ],
       "scored": true,
       "setup": "",
       "teardown": "",
       "type": "doctest"
      }
     ]
    },
    "q1_12_0": {
     "name": "q1_12_0",
     "points": [
      0,
      0,
      0
     ],
     "suites": [
      {
       "cases": [
        {
         "code": ">>> pop_for_year(1972) == 3334568709\nTrue",
         "hidden": false,
         "locked": false
        },
        {
         "code": ">>> pop_for_year(2020) == 6840687359\nTrue",
         "hidden": false,
         "locked": false
        },
        {
         "code": ">>> pop_for_year(1989) == 4556698997\nTrue",
         "hidden": false,
         "locked": false
        }
       ],
       "scored": true,
       "setup": "",
       "teardown": "",
       "type": "doctest"
      }
     ]
    },
    "q1_13": {
     "name": "q1_13",
     "points": [
      0,
      0
     ],
     "suites": [
      {
       "cases": [
        {
         "code": ">>> # Check your column labels and spelling\n>>> region_counts.labels == ('region', 'count')\nTrue",
         "hidden": false,
         "locked": false
        },
        {
         "code": ">>> # Counts must sum to 50\n>>> sum(region_counts.column('count')) == 50\nTrue",
         "hidden": false,
         "locked": false
        }
       ],
       "scored": true,
       "setup": "",
       "teardown": "",
       "type": "doctest"
      }
     ]
    },
    "q1_14": {
     "name": "q1_14",
     "points": [
      0
     ],
     "suites": [
      {
       "cases": [
        {
         "code": ">>> # Please use a list of integers from 1 to 5\n>>> all(x in range(1, 6) for x in set(scatter_statements))\nTrue",
         "hidden": false,
         "locked": false
        }
       ],
       "scored": true,
       "setup": "",
       "teardown": "",
       "type": "doctest"
      }
     ]
    },
    "q1_2": {
     "name": "q1_2",
     "points": [
      0,
      0
     ],
     "suites": [
      {
       "cases": [
        {
         "code": ">>> first = round(p_five_growth.sort(0).column(2).item(0), 8)\n>>> 0.005 <= first <= 0.5\nTrue",
         "hidden": false,
         "locked": false
        },
        {
         "code": ">>> # Compute the annual exponential growth rate\n>>> max(p_five_growth.column(2)) < 0.03\nTrue",
         "hidden": false,
         "locked": false
        }
       ],
       "scored": true,
       "setup": "",
       "teardown": "",
       "type": "doctest"
      }
     ]
    },
    "q1_5": {
     "name": "q1_5",
     "points": [
      0,
      0,
      0
     ],
     "suites": [
      {
       "cases": [
        {
         "code": ">>> # Check your column labels and spelling\n>>> fertility_over_time('usa', 2010).labels == ('Year', 'Children per woman')\nTrue",
         "hidden": false,
         "locked": false
        },
        {
         "code": ">>> # Check that you use the start year to determine the data range.\n>>> all(fertility_over_time('usa', 2010).column('Year') == np.arange(2010, 2025))\nTrue",
         "hidden": false,
         "locked": false
        },
        {
         "code": ">>> # Check that you use the start year to determine the data range.\n>>> all(fertility_over_time('usa', 2005).column('Year') == np.arange(2005, 2025))\nTrue",
         "hidden": false,
         "locked": false
        }
       ],
       "scored": true,
       "setup": "",
       "teardown": "",
       "type": "doctest"
      }
     ]
    },
    "q1_7": {
     "name": "q1_7",
     "points": [
      0,
      0
     ],
     "suites": [
      {
       "cases": [
        {
         "code": ">>> # Make sure you are using the date range 1950-2024\n>>> poland_since_1950.num_rows\n75",
         "hidden": false,
         "locked": false
        },
        {
         "code": ">>> # Check your column labels and spelling\n>>> all([label in poland_since_1950.labels for label in ['Children per woman', 'Child deaths per 1000 born']])\nTrue",
         "hidden": false,
         "locked": false
        }
       ],
       "scored": true,
       "setup": "",
       "teardown": "",
       "type": "doctest"
      }
     ]
    },
    "q1_9": {
     "name": "q1_9",
     "points": [
      0
     ],
     "suites": [
      {
       "cases": [
        {
         "code": ">>> # Please use a list of integers from 1 to 6\n>>> all(x in range(1, 7) for x in set(fertility_statements))\nTrue",
         "hidden": false,
         "locked": false
        }
       ],
       "scored": true,
       "setup": "",
       "teardown": "",
       "type": "doctest"
      }
     ]
    },
    "q2_1": {
     "name": "q2_1",
     "points": [
      0,
      0
     ],
     "suites": [
      {
       "cases": [
        {
         "code": ">>> # Please don't edit the last line.\n>>> latest_poverty.labels == ('geo', 'time', 'poverty_percent')\nTrue",
         "hidden": false,
         "locked": false
        },
        {
         "code": ">>> # The result should have one row per country.\n>>> latest_poverty.num_rows\n145",
         "hidden": false,
         "locked": false
        }
       ],
       "scored": true,
       "setup": "",
       "teardown": "",
       "type": "doctest"
      }
     ]
    },
    "q2_2": {
     "name": "q2_2",
     "points": [
      0,
      0,
      0
     ],
     "suites": [
      {
       "cases": [
        {
         "code": ">>> # Check your column labels and spelling\n>>> recent_poverty_total.labels == ('geo', 'poverty_percent', 'population_total', 'poverty_total')\nTrue",
         "hidden": false,
         "locked": false
        },
        {
         "code": ">>> # Careful, the population of Australia in 2010 was 22,141,581\n>>> float(recent_poverty_total.where('geo', 'aus').column(2).item(0)) == 22141581\nTrue",
         "hidden": false,
         "locked": false
        },
        {
         "code": ">>> # The number of people estimated to be living in extreme poverty\n>>> # in Australia should be 301,126. That's 22,141,581 * 0.0136\n>>> # rounded to the nearest integer.\n>>> float(recent_poverty_total.where('geo', 'aus').column(3).item(0)) == 301126\nTrue",
         "hidden": false,
         "locked": false
        }
       ],
       "scored": true,
       "setup": "",
       "teardown": "",
       "type": "doctest"
      }
     ]
    },
    "q2_3": {
     "name": "q2_3",
     "points": [
      0
     ],
     "suites": [
      {
       "cases": [
        {
         "code": ">>> 10 <= poverty_percent <= 20\nTrue",
         "hidden": false,
         "locked": false
        }
       ],
       "scored": true,
       "setup": "",
       "teardown": "",
       "type": "doctest"
      }
     ]
    },
    "q2_4": {
     "name": "q2_4",
     "points": [
      0,
      0
     ],
     "suites": [
      {
       "cases": [
        {
         "code": ">>> # Check your column labels and spelling\n>>> poverty_map.labels == ('latitude', 'longitude', 'name', 'region', 'poverty_total')\nTrue",
         "hidden": false,
         "locked": false
        },
        {
         "code": ">>> # Something is wrong with your region column.\n>>> list(np.sort(np.unique(poverty_map.column('region'))))\n['africa', 'americas', 'asia', 'europe']",
         "hidden": false,
         "locked": false
        }
       ],
       "scored": true,
       "setup": "",
       "teardown": "",
       "type": "doctest"
      }
     ]
    },
    "q2_5": {
     "name": "q2_5",
     "points": [
      0,
      0,
      0
     ],
     "suites": [
      {
       "cases": [
        {
         "code": ">>> # Check your column labels and spelling\n>>> largest.labels == ('name', 'poverty_total')\nTrue",
         "hidden": false,
         "locked": false
        },
        {
         "code": ">>> # India is the country with the largest number of people living\n>>> # in extreme poverty.\n>>> largest.column(0).item(0)\n'India'",
         "hidden": false,
         "locked": false
        },
        {
         "code": ">>> # The table should contain exactly 10 rows.\n>>> largest.num_rows\n10",
         "hidden": false,
         "locked": false
        }
       ],
       "scored": true,
       "setup": "",
       "teardown": "",
       "type": "doctest"
      }
     ]
    }
   }
  }
 },
 "nbformat": 4,
 "nbformat_minor": 5
}
